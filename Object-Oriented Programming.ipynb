{
 "cells": [
  {
   "cell_type": "markdown",
   "metadata": {},
   "source": [
    "# 1: Defining Custom Classes"
   ]
  },
  {
   "cell_type": "code",
   "execution_count": 2,
   "metadata": {
    "collapsed": false
   },
   "outputs": [
    {
     "name": "stdout",
     "output_type": "stream",
     "text": [
      "['player', 'pos', 'age', 'team']\n"
     ]
    }
   ],
   "source": [
    "header = ['player', 'pos', 'age', 'team']\n",
    "print(header)"
   ]
  },
  {
   "cell_type": "code",
   "execution_count": null,
   "metadata": {
    "collapsed": false
   },
   "outputs": [],
   "source": [
    "import pandas as pd\n",
    "nba = pd.read_csv('nba_2013.csv')\n",
    "\n",
    "class Player():\n",
    "    def __init__(self, data_row):\n",
    "        self.player_name = data_row[0]\n",
    "        self.position = data_row[1]\n",
    "        self.age = data_row[2]\n",
    "        self.team = data_row[3]\n",
    "        \n",
    "first_player = Player(nba[0])\n",
    "\n",
    "class Team():\n",
    "    def __init__(self, team_name):\n",
    "        self.team_name = team_name\n",
    "        \n",
    "spurs = Team(\"San Antonio Spurs\")"
   ]
  },
  {
   "cell_type": "markdown",
   "metadata": {},
   "source": [
    "# 2: More Interesting Instance Properties"
   ]
  },
  {
   "cell_type": "markdown",
   "metadata": {},
   "source": [
    "# Instructions\n",
    "Modify the __init__ method of the Team class to loop through our data set and add a player to the roster every time the row's team name matches the instance's team_name.\n",
    "You can add an item to a list using .append(item).\n",
    "Store the \"San Antonio Spurs\" team in spurs.\n",
    "Hint\n",
    "for row in nba: will loop through the rows in our nba data set.\n",
    "Be sure to append members of the Player class to the roster."
   ]
  },
  {
   "cell_type": "code",
   "execution_count": null,
   "metadata": {
    "collapsed": false
   },
   "outputs": [],
   "source": [
    "class Player():\n",
    "    def __init__(self, data_row):\n",
    "        self.player_name = data_row[0]\n",
    "        self.position = data_row[1]\n",
    "        self.age = int(data_row[2])\n",
    "        self.team = data_row[3]\n",
    "        \n",
    "first_player = Player(nba[0])\n",
    "\n",
    "class Team():\n",
    "    def __init__(self, team_name):\n",
    "        self.roster = []\n",
    "        for row in nba:\n",
    "            if row[3] == self.team_name:\n",
    "                self.roster.append(Player(row))\n",
    "\n",
    "spurs = team_name(\"San Antonio Spurs\")    "
   ]
  },
  {
   "cell_type": "markdown",
   "metadata": {},
   "source": [
    "# 3: Instance Methods"
   ]
  },
  {
   "cell_type": "markdown",
   "metadata": {},
   "source": [
    "# Instructions\n",
    "Write an average_age() method for the Team class that computes the average age of the Team instance.\n",
    "We've provided a method, num_players, that returns the total number of players on a Team instance.\n",
    "Store the result of calling average_age() on the \"San Antonio Spurs\" team in spurs_avg_age.\n",
    "Hint\n",
    "Loop through our roster, and use the Player class definition to help you sum the ages of a team's players.\n",
    "Remember that we're calculating the average age, so you'll need to divide afterwards."
   ]
  },
  {
   "cell_type": "code",
   "execution_count": null,
   "metadata": {
    "collapsed": false
   },
   "outputs": [],
   "source": [
    "class Player():\n",
    "    def __init__(self, data_row):\n",
    "        self.player_name = data_row[0]\n",
    "        self.position = data_row[1]\n",
    "        self.age = int(data_row[2])\n",
    "        self.team = data_row[3]\n",
    "        \n",
    "class Team():\n",
    "    def __init__(self, team_name):\n",
    "        self.team_name = team_name\n",
    "        self.roster = []\n",
    "        for row in nba:\n",
    "            if row[3] == self.team_name:\n",
    "                self.roster.append(Player(row))\n",
    "    \n",
    "    def num_players(self):\n",
    "        count = 0\n",
    "        for player in self.roster:\n",
    "            count += 1\n",
    "        return count\n",
    "    \n",
    "    def average_age(self):\n",
    "        totat_age = 0\n",
    "        for player in self.roster:\n",
    "            total_age += player.age\n",
    "        return total_age / self.num_players()\n",
    "                \n",
    "spurs = Team(\"San Antonio Spurs\")\n",
    "spurs_num_players = spurs.num_players() \n",
    "spurs_avg_age = spurs.average_age()"
   ]
  },
  {
   "cell_type": "markdown",
   "metadata": {},
   "source": [
    "# 4: Class Methods"
   ]
  },
  {
   "cell_type": "markdown",
   "metadata": {},
   "source": [
    "# Instructions\n",
    "Modify the older_team method to return the team with the greatest average age.\n",
    "Store the result of calling older_team on the \"New York Knicks\" team and the \"Miami Heat\" team in old_team.\n",
    "Read through all of the code we've written so far for our Team class. It's full of advanced Python concepts that will be very useful to you.\n",
    "Hint\n",
    "Use an if statement and comparisons such as less than (>) to determine which team has the greatest average age."
   ]
  },
  {
   "cell_type": "code",
   "execution_count": null,
   "metadata": {
    "collapsed": true
   },
   "outputs": [],
   "source": [
    "import math\n",
    "\n",
    "class Player():\n",
    "    def __init__(self, data_row):\n",
    "        self.player_name = data_row[0]\n",
    "        self.position = data_row[1]\n",
    "        self.age = int(data_row[2])\n",
    "        self.team = data_row[3]\n",
    "        \n",
    "class Team():\n",
    "    def __init__(self, team_name):\n",
    "        self.team_name = team_name\n",
    "        self.roster = []\n",
    "        for row in nba:\n",
    "            if row[3] == self.team_name:\n",
    "                self.roster.append(Player(row))\n",
    "                \n",
    "    def num_players(self):\n",
    "        count = 0\n",
    "        for player in self.roster:\n",
    "            count += 1\n",
    "        return count\n",
    "    \n",
    "    def average_age(self):\n",
    "        return math.fsum([player.age for player in self.roster]) / self.num_players()\n",
    "    \n",
    "    @classmethod\n",
    "    def older_team(self, team1, team2):\n",
    "        if team1.average_age() > team2.average_age():\n",
    "            return team1\n",
    "        else:\n",
    "            return team2\n",
    "        \n",
    "old_team = Team.older_team = (Team(\"New York Nicks\"), Team(\"Miami Heat\")   "
   ]
  },
  {
   "cell_type": "markdown",
   "metadata": {},
   "source": [
    "# 5: Overloading Inherited Behavior"
   ]
  },
  {
   "cell_type": "markdown",
   "metadata": {},
   "source": [
    "# Instructions\n",
    "Read the implementation of the __lt__ (less than, or <) method of our Player class. In this exercise, we'll use comparisons to compare players by age.\n",
    "Implement __gt__ (greater than, or >), __le__ (<=), __ge__ (>=), __eq__ (==), and __ne__ (!=).\n",
    "Store the result of evaluating carmelo != kobe in result.\n",
    "Hint\n",
    "Define the methods in the same fashion as __lt__. Use the appropriate comparison operator for each method."
   ]
  },
  {
   "cell_type": "code",
   "execution_count": null,
   "metadata": {
    "collapsed": true
   },
   "outputs": [],
   "source": [
    "class Player(object):\n",
    "    \n",
    "    def __init__(self, data_row):\n",
    "        self.player_name = data_row[0]\n",
    "        self.position = data_row[1]\n",
    "        self.age = int(data_row[2])\n",
    "        self.team = data_row[3]\n",
    "        \n",
    "    def __lt(self, other):\n",
    "        return self.age < other.age\n",
    "    \n",
    "    def __gt__(self, other):\n",
    "        return self.age > other.age\n",
    "    \n",
    "    def __le__(self, other):\n",
    "        return self.age <= other.age\n",
    "    \n",
    "    def __ge__(self, other):\n",
    "        return self.age >= other.age\n",
    "    \n",
    "    def __eq__(self, other):\n",
    "        return self.age == other.age\n",
    "    \n",
    "    def __ne__(self, other):\n",
    "        return self.age != other.age\n",
    "    \n",
    "carmelo = Player(nba[17])\n",
    "kobe = Player(nba[68])\n",
    "result = carmelo != kobe"
   ]
  },
  {
   "cell_type": "markdown",
   "metadata": {},
   "source": [
    "# 6: Comparing Average Ages"
   ]
  },
  {
   "cell_type": "markdown",
   "metadata": {},
   "source": [
    "# Instructions\n",
    "Overload the same six methods we wrote for the Player class on the Team class, this time comparing average ages for teams.\n",
    "The methods are __lt__ (<), __gt__ (>), __le__ (<=), __ge__ (>=), __eq__ (==), and __ne__ (!=).\n",
    "Each should take a self parameter and an other parameter.\n",
    "self and other are two instances of the Team class, whose average ages we want to compare.\n",
    "Compare the \"Utah Jazz\" and \"Detroit Pistons\". Store the older team in older_team.\n",
    "Now that we've implemented comparison operators, we can take advantage of a few useful functions. One of these is the max function, which takes a list of values and returns the maximum value, according to the comparisons we define.\n",
    "Hint\n",
    "For these comparisons, you should be comparing the results of calling average_age() on self and other."
   ]
  },
  {
   "cell_type": "code",
   "execution_count": null,
   "metadata": {
    "collapsed": true
   },
   "outputs": [],
   "source": [
    "import math\n",
    "\n",
    "class Team(object):\n",
    "    def __init__(self, team_name):\n",
    "        self.team_name = name_team\n",
    "        self.roster = []\n",
    "        for row in nba:\n",
    "            if row[3] == self.team_name:\n",
    "                self.roster.append(Player(row))\n",
    "            \n",
    "    def num_players(self):\n",
    "        count = 0\n",
    "        for player in self.roster:\n",
    "            count += 1\n",
    "        return count\n",
    "    \n",
    "    def average_age(self):\n",
    "        return math.fsum([player.age for player in self.roster]) / self.num_players()\n",
    "    \n",
    "    def __lt__(self, other):\n",
    "        return self.average_age() < self.average_age()\n",
    "    \n",
    "    def __gt__(self, other):\n",
    "        return self.average_age() > self.average_age()\n",
    "    \n",
    "    def __le__(self, other):\n",
    "        return self.average_age() <= self.average_age()\n",
    "    \n",
    "    def __ge__(self, other):\n",
    "        return self.average_age() >= self.average_age()\n",
    "    \n",
    "    def __eq__(self, other):\n",
    "        return self.average_age() == self.average_age()\n",
    "    \n",
    "    def __ne__(self, other):\n",
    "        return self.average_age() != self.average_age()\n",
    "    \n",
    "jazz = Team(\"Utah Jazz\")\n",
    "pistons = Team(\"Detroit Pistons\")\n",
    "older_team = max(jazz, pistons)    "
   ]
  },
  {
   "cell_type": "markdown",
   "metadata": {},
   "source": [
    "# 7: Oldest NBA Team"
   ]
  },
  {
   "cell_type": "markdown",
   "metadata": {},
   "source": [
    "# Instructions\n",
    "Alter the list comprehension we've indicated below so that the teams variable contains a list of all the teams in team_names.\n",
    "Use max to store the oldest team in oldest_team.\n",
    "Use min to store the youngest team in youngest_team.\n",
    "Use sorted to store a list of teams (ordered from youngest to oldest) in sorted_teams.\n",
    "Hint\n",
    "For the list comprehension, consider how we should use the name of each team to generate a Team instance.\n",
    "Now we can call max, min, and sorted on our list of teams."
   ]
  },
  {
   "cell_type": "code",
   "execution_count": null,
   "metadata": {
    "collapsed": true
   },
   "outputs": [],
   "source": [
    "import math\n",
    "\n",
    "class Team(object):\n",
    "    def __init__(self, team_name):\n",
    "        self.team_name = team_name\n",
    "        self.roster = []\n",
    "        for row in nba:\n",
    "            if row[3] == self.team_name:\n",
    "                self.roster.append(Player(row))\n",
    "                \n",
    "    def num_platers(self):\n",
    "        count = 0\n",
    "        for player in self.roster:\n",
    "            count += 1\n",
    "        return count\n",
    "\n",
    "    def average_age(self):\n",
    "        return math.fsum([player.age for player in self.roster]) /self.num_players()\n",
    "    \n",
    "    def __lt__(self, other):\n",
    "        return self.average_age() < other.average_age()\n",
    "    \n",
    "    def __gt__(self, other):\n",
    "        return self.average_age() > other.average_age()\n",
    "    \n",
    "    def __le__(self, other):\n",
    "        return self.average_age() <= other.average_age()\n",
    "    \n",
    "    def __ge__(self, other):\n",
    "        return self.average_age() >= other.average_age()\n",
    "    \n",
    "    def __eq__(self, other):\n",
    "        return self.average_age() == other.average_age()\n",
    "    \n",
    "    def __ne__(self, other):\n",
    "        return self.average_age() != other.average_age()\n",
    "    \n",
    "team_names = ['Boston Celtics','Brooklyn Nets','New York Knicks','Philadelphia 76ers','Toronto Raptors',\n",
    " 'Chicago Bulls','Cleveland Cavaliers','Detroit Pistons','Indiana Pacers','Milwaukee Bucks','Atlanta Hawks',\n",
    " 'Charlotte Hornets','Miami Heat','Orlando Magic','Washington Wizards','Dallas Mavericks','Houston Rockets',\n",
    " 'Memphis Grizzlies','New Orleans Pelicans','San Antonio Spurs','Denver Nuggets','Minnesota Timberwolves',\n",
    " 'Oklahoma City Thunder','Portland Trail Blazers','Utah Jazz','Golden State Warriors','Los Angeles Clippers',\n",
    " 'Los Angeles Lakers','Phoenix Suns','Sacramento Kings']    \n",
    "\n",
    "teams = [Team(name) for name in team_names]\n",
    "oldest_team = max(teams)\n",
    "youngest_team = min(teams)\n",
    "sorted_teams = sorted(teams)"
   ]
  }
 ],
 "metadata": {
  "kernelspec": {
   "display_name": "Python 3",
   "language": "python",
   "name": "python3"
  },
  "language_info": {
   "codemirror_mode": {
    "name": "ipython",
    "version": 3
   },
   "file_extension": ".py",
   "mimetype": "text/x-python",
   "name": "python",
   "nbconvert_exporter": "python",
   "pygments_lexer": "ipython3",
   "version": "3.5.1"
  }
 },
 "nbformat": 4,
 "nbformat_minor": 0
}
