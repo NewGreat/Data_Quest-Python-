{
 "cells": [
  {
   "cell_type": "markdown",
   "metadata": {},
   "source": [
    "# 1: Assigning A Value To A Variable"
   ]
  },
  {
   "cell_type": "markdown",
   "metadata": {},
   "source": [
    "# Instructions\n",
    "Assign the value 10 to the variable dogAwesomeness.\n",
    "Assign the value 9.5 to the variable catAwesomeness.\n",
    "Hint\n",
    "You can assign values to variables with <-.\n",
    "\n"
   ]
  },
  {
   "cell_type": "code",
   "execution_count": 2,
   "metadata": {
    "collapsed": true
   },
   "outputs": [],
   "source": [
    "# Comments start with #\n",
    "\n",
    "bearAwesomeness <- 10\n",
    "guineaPigAwesomness <- 1.5\n",
    "dogAwesomeness <- 10\n",
    "catAwesomeness <- 9.5"
   ]
  },
  {
   "cell_type": "markdown",
   "metadata": {},
   "source": [
    "# 2: Displaying Results With The Print Function\n",
    "\n",
    "\n"
   ]
  },
  {
   "cell_type": "markdown",
   "metadata": {},
   "source": [
    "# Instructions\n",
    "Let's upgrade our lifeSavings.\n",
    "Assign the value 9999 to the variable lifeSavings, and then print lifeSavings.\n",
    "Hint\n",
    "Write lifeSavings <- 9999 to assign the value, then call the print function."
   ]
  },
  {
   "cell_type": "code",
   "execution_count": 3,
   "metadata": {},
   "outputs": [
    {
     "name": "stdout",
     "output_type": "stream",
     "text": [
      "[1] 10\n"
     ]
    }
   ],
   "source": [
    "print(10)"
   ]
  },
  {
   "cell_type": "code",
   "execution_count": 5,
   "metadata": {},
   "outputs": [
    {
     "name": "stdout",
     "output_type": "stream",
     "text": [
      "[1] 5.5\n"
     ]
    }
   ],
   "source": [
    "lifeSavings <- 5.5\n",
    "print(lifeSavings)"
   ]
  },
  {
   "cell_type": "code",
   "execution_count": 6,
   "metadata": {},
   "outputs": [
    {
     "name": "stdout",
     "output_type": "stream",
     "text": [
      "[1] 9999\n"
     ]
    }
   ],
   "source": [
    "lifeSavings <- 9999\n",
    "print(lifeSavings)"
   ]
  },
  {
   "cell_type": "markdown",
   "metadata": {},
   "source": [
    "# 3: Numeric Vs. Character Variables"
   ]
  },
  {
   "cell_type": "markdown",
   "metadata": {},
   "source": [
    "# Instructions\n",
    "Assign the type of biggestDog to biggestDogType.\n",
    "Assign the type of mastiffCount to mastiffCountType.\n",
    "Hint\n",
    "You can assign the result of a function to a variable by writing biggestDogType <- class(biggestDog)."
   ]
  },
  {
   "cell_type": "code",
   "execution_count": 13,
   "metadata": {},
   "outputs": [],
   "source": [
    "RunDistance <- 800"
   ]
  },
  {
   "cell_type": "code",
   "execution_count": 14,
   "metadata": {},
   "outputs": [
    {
     "data": {
      "text/html": [
       "800"
      ],
      "text/latex": [
       "800"
      ],
      "text/markdown": [
       "800"
      ],
      "text/plain": [
       "[1] 800"
      ]
     },
     "metadata": {},
     "output_type": "display_data"
    }
   ],
   "source": [
    "runDistance"
   ]
  },
  {
   "cell_type": "code",
   "execution_count": 15,
   "metadata": {},
   "outputs": [
    {
     "name": "stdout",
     "output_type": "stream",
     "text": [
      "[1] \"numeric\"\n"
     ]
    }
   ],
   "source": [
    "print(class(runDistance))"
   ]
  },
  {
   "cell_type": "code",
   "execution_count": 16,
   "metadata": {
    "collapsed": true
   },
   "outputs": [],
   "source": [
    "favoriteDessert <- \"Peanut Butter Cup\""
   ]
  },
  {
   "cell_type": "code",
   "execution_count": 17,
   "metadata": {},
   "outputs": [
    {
     "data": {
      "text/html": [
       "'Peanut Butter Cup'"
      ],
      "text/latex": [
       "'Peanut Butter Cup'"
      ],
      "text/markdown": [
       "'Peanut Butter Cup'"
      ],
      "text/plain": [
       "[1] \"Peanut Butter Cup\""
      ]
     },
     "metadata": {},
     "output_type": "display_data"
    }
   ],
   "source": [
    "favoriteDessert"
   ]
  },
  {
   "cell_type": "code",
   "execution_count": 18,
   "metadata": {},
   "outputs": [
    {
     "name": "stdout",
     "output_type": "stream",
     "text": [
      "[1] \"character\"\n"
     ]
    }
   ],
   "source": [
    "print(class(favoriteDessert))"
   ]
  },
  {
   "cell_type": "code",
   "execution_count": 19,
   "metadata": {
    "collapsed": true
   },
   "outputs": [],
   "source": [
    "biggestDog <- \"Mastiff\""
   ]
  },
  {
   "cell_type": "code",
   "execution_count": 20,
   "metadata": {},
   "outputs": [
    {
     "data": {
      "text/html": [
       "'Mastiff'"
      ],
      "text/latex": [
       "'Mastiff'"
      ],
      "text/markdown": [
       "'Mastiff'"
      ],
      "text/plain": [
       "[1] \"Mastiff\""
      ]
     },
     "metadata": {},
     "output_type": "display_data"
    }
   ],
   "source": [
    "biggestDog"
   ]
  },
  {
   "cell_type": "code",
   "execution_count": 23,
   "metadata": {},
   "outputs": [],
   "source": [
    "biggestDogType <- class(biggestDog)"
   ]
  },
  {
   "cell_type": "code",
   "execution_count": 24,
   "metadata": {},
   "outputs": [
    {
     "data": {
      "text/html": [
       "'character'"
      ],
      "text/latex": [
       "'character'"
      ],
      "text/markdown": [
       "'character'"
      ],
      "text/plain": [
       "[1] \"character\""
      ]
     },
     "metadata": {},
     "output_type": "display_data"
    }
   ],
   "source": [
    "biggestDogType"
   ]
  },
  {
   "cell_type": "code",
   "execution_count": 25,
   "metadata": {
    "collapsed": true
   },
   "outputs": [],
   "source": [
    "mastiffCount <- 50"
   ]
  },
  {
   "cell_type": "code",
   "execution_count": 26,
   "metadata": {
    "collapsed": true
   },
   "outputs": [],
   "source": [
    "mastiffCountType <- class(mastiffCount)"
   ]
  },
  {
   "cell_type": "code",
   "execution_count": 27,
   "metadata": {},
   "outputs": [
    {
     "data": {
      "text/html": [
       "'numeric'"
      ],
      "text/latex": [
       "'numeric'"
      ],
      "text/markdown": [
       "'numeric'"
      ],
      "text/plain": [
       "[1] \"numeric\""
      ]
     },
     "metadata": {},
     "output_type": "display_data"
    }
   ],
   "source": [
    "mastiffCountType"
   ]
  },
  {
   "cell_type": "markdown",
   "metadata": {},
   "source": [
    "# 4: Storing Values As Vectors"
   ]
  },
  {
   "cell_type": "markdown",
   "metadata": {},
   "source": [
    "# Instructions\n",
    "Create a vector with the elements 0, 1, 1, and 2, and assign it to the variable fibonacci.\n",
    "Hint\n",
    "Remember that you can create a vector with c(0,1).\n",
    "\n"
   ]
  },
  {
   "cell_type": "code",
   "execution_count": 29,
   "metadata": {},
   "outputs": [
    {
     "data": {
      "text/html": [
       "<ol class=list-inline>\n",
       "\t<li>'Mikhail Gorbachev'</li>\n",
       "\t<li>'Boris Yeltsin'</li>\n",
       "\t<li>'Vladimir Putin'</li>\n",
       "</ol>\n"
      ],
      "text/latex": [
       "\\begin{enumerate*}\n",
       "\\item 'Mikhail Gorbachev'\n",
       "\\item 'Boris Yeltsin'\n",
       "\\item 'Vladimir Putin'\n",
       "\\end{enumerate*}\n"
      ],
      "text/markdown": [
       "1. 'Mikhail Gorbachev'\n",
       "2. 'Boris Yeltsin'\n",
       "3. 'Vladimir Putin'\n",
       "\n",
       "\n"
      ],
      "text/plain": [
       "[1] \"Mikhail Gorbachev\" \"Boris Yeltsin\"     \"Vladimir Putin\"   "
      ]
     },
     "metadata": {},
     "output_type": "display_data"
    }
   ],
   "source": [
    "russianPresidents <- c(\"Mikhail Gorbachev\", \"Boris Yeltsin\", \"Vladimir Putin\")\n",
    "russianPresidents"
   ]
  },
  {
   "cell_type": "code",
   "execution_count": 30,
   "metadata": {},
   "outputs": [
    {
     "data": {
      "text/html": [
       "<ol class=list-inline>\n",
       "\t<li>113</li>\n",
       "\t<li>114</li>\n",
       "\t<li>115</li>\n",
       "</ol>\n"
      ],
      "text/latex": [
       "\\begin{enumerate*}\n",
       "\\item 113\n",
       "\\item 114\n",
       "\\item 115\n",
       "\\end{enumerate*}\n"
      ],
      "text/markdown": [
       "1. 113\n",
       "2. 114\n",
       "3. 115\n",
       "\n",
       "\n"
      ],
      "text/plain": [
       "[1] 113 114 115"
      ]
     },
     "metadata": {},
     "output_type": "display_data"
    }
   ],
   "source": [
    "applePrices <- c(113, 114, 115)\n",
    "applePrices"
   ]
  },
  {
   "cell_type": "code",
   "execution_count": 32,
   "metadata": {},
   "outputs": [
    {
     "data": {
      "text/html": [
       "<ol class=list-inline>\n",
       "\t<li>0</li>\n",
       "\t<li>1</li>\n",
       "\t<li>1</li>\n",
       "\t<li>2</li>\n",
       "</ol>\n"
      ],
      "text/latex": [
       "\\begin{enumerate*}\n",
       "\\item 0\n",
       "\\item 1\n",
       "\\item 1\n",
       "\\item 2\n",
       "\\end{enumerate*}\n"
      ],
      "text/markdown": [
       "1. 0\n",
       "2. 1\n",
       "3. 1\n",
       "4. 2\n",
       "\n",
       "\n"
      ],
      "text/plain": [
       "[1] 0 1 1 2"
      ]
     },
     "metadata": {},
     "output_type": "display_data"
    }
   ],
   "source": [
    "fibonacci = c(0, 1, 1, 2)\n",
    "fibonacci"
   ]
  },
  {
   "cell_type": "markdown",
   "metadata": {},
   "source": [
    "# 5: Storing Single Values As Vectors"
   ]
  },
  {
   "cell_type": "code",
   "execution_count": 33,
   "metadata": {
    "collapsed": true
   },
   "outputs": [],
   "source": [
    "dogCount <- 1"
   ]
  },
  {
   "cell_type": "code",
   "execution_count": 34,
   "metadata": {},
   "outputs": [
    {
     "data": {
      "text/html": [
       "1"
      ],
      "text/latex": [
       "1"
      ],
      "text/markdown": [
       "1"
      ],
      "text/plain": [
       "[1] 1"
      ]
     },
     "metadata": {},
     "output_type": "display_data"
    }
   ],
   "source": [
    "dogCount"
   ]
  },
  {
   "cell_type": "code",
   "execution_count": 36,
   "metadata": {
    "collapsed": true
   },
   "outputs": [],
   "source": [
    "catCount <- c(1)"
   ]
  },
  {
   "cell_type": "code",
   "execution_count": 37,
   "metadata": {},
   "outputs": [
    {
     "data": {
      "text/html": [
       "1"
      ],
      "text/latex": [
       "1"
      ],
      "text/markdown": [
       "1"
      ],
      "text/plain": [
       "[1] 1"
      ]
     },
     "metadata": {},
     "output_type": "display_data"
    }
   ],
   "source": [
    "catCount"
   ]
  },
  {
   "cell_type": "code",
   "execution_count": 39,
   "metadata": {},
   "outputs": [
    {
     "name": "stdout",
     "output_type": "stream",
     "text": [
      "[1] TRUE\n"
     ]
    }
   ],
   "source": [
    "print(identical(dogCount, catCount))"
   ]
  },
  {
   "cell_type": "markdown",
   "metadata": {},
   "source": [
    "# 6: Looking Up The Data In A Vector With Indexes"
   ]
  },
  {
   "cell_type": "markdown",
   "metadata": {},
   "source": [
    "# Instructions\n",
    "Assign the tenth element in the vector salaries to a new variable salary10.\n",
    "Hint\n",
    "Remember to use square brackets to index. Use the carrot syntax (<-) to assign a value to a variable.\n",
    "\n"
   ]
  },
  {
   "cell_type": "code",
   "execution_count": 66,
   "metadata": {
    "collapsed": true
   },
   "outputs": [],
   "source": [
    "salaries <- read.csv('2015_white_house.csv')"
   ]
  },
  {
   "cell_type": "code",
   "execution_count": 68,
   "metadata": {},
   "outputs": [
    {
     "data": {
      "text/html": [
       "<table>\n",
       "<thead><tr><th scope=col>Name</th><th scope=col>Status</th><th scope=col>Salary</th><th scope=col>Pay.Basis</th><th scope=col>Position.Title</th></tr></thead>\n",
       "<tbody>\n",
       "\t<tr><td>Abdullah, Hasan A.                                                                                                     </td><td>Detailee                                                                                                               </td><td>105960                                                                                                                 </td><td>Per Annum                                                                                                              </td><td>POLICY ADVISOR                                                                                                         </td></tr>\n",
       "\t<tr><td>Abraham, Sabey M.                                                                                                      </td><td>Employee                                                                                                               </td><td> 55000                                                                                                                 </td><td>Per Annum                                                                                                              </td><td>ENERGY AND ENVIRONMENT DIRECTOR FOR PRESIDENTIAL PERSONNEL                                                             </td></tr>\n",
       "\t<tr><td>Abraham, Yohannes A.                                                                                                   </td><td>Employee                                                                                                               </td><td>121200                                                                                                                 </td><td>Per Annum                                                                                                              </td><td>SPECIAL ASSISTANT TO THE PRESIDENT AND CHIEF OF STAFF FOR THE OFFICE OF PUBLIC ENGAGEMENT AND INTERGOVERNMENTAL AFFAIRS</td></tr>\n",
       "\t<tr><td>Abramson, Jerry E.                                                                                                     </td><td>Employee                                                                                                               </td><td>155035                                                                                                                 </td><td>Per Annum                                                                                                              </td><td>DEPUTY ASSISTANT TO THE PRESIDENT AND DIRECTOR OF INTERGOVERNMENTAL AFFAIRS                                            </td></tr>\n",
       "\t<tr><td>Adler, Caroline E.                                                                                                     </td><td>Employee                                                                                                               </td><td>114000                                                                                                                 </td><td>Per Annum                                                                                                              </td><td>SPECIAL ASSISTANT TO THE PRESIDENT AND DIRECTOR OF COMMUNICATIONS FOR THE FIRST LADY                                   </td></tr>\n",
       "\t<tr><td>Aiyer, Vikrum D.                                                                                                       </td><td>Detailee                                                                                                               </td><td>134662                                                                                                                 </td><td>Per Annum                                                                                                              </td><td>SENIOR POLICY ADVISOR                                                                                                  </td></tr>\n",
       "\t<tr><td>Alcantara, Elias                                                                                                       </td><td>Employee                                                                                                               </td><td> 65650                                                                                                                 </td><td>Per Annum                                                                                                              </td><td>ASSOCIATE DIRECTOR OF INTERGOVERNMENTAL AFFAIRS                                                                        </td></tr>\n",
       "\t<tr><td>Ali, Mohammed I.                                                                                                       </td><td>Employee                                                                                                               </td><td> 42000                                                                                                                 </td><td>Per Annum                                                                                                              </td><td>STAFF ASSISTANT                                                                                                        </td></tr>\n",
       "\t<tr><td>Allen, Angelica P.                                                                                                     </td><td>Employee                                                                                                               </td><td> 50000                                                                                                                 </td><td>Per Annum                                                                                                              </td><td>SPECIAL ASSISTANT TO THE DIRECTOR OF THE OFFICE OF POLITICAL STRATEGY AND OUTREACH                                     </td></tr>\n",
       "\t<tr><td>Allen, Elizabeth M.                                                                                                    </td><td>Employee                                                                                                               </td><td>103000                                                                                                                 </td><td>Per Annum                                                                                                              </td><td>SPECIAL ASSISTANT TO THE PRESIDENT FOR MESSAGE PLANNING                                                                </td></tr>\n",
       "\t<tr><td>Allen, Jessica L.                                                                                                      </td><td>Employee                                                                                                               </td><td> 42844                                                                                                                 </td><td>Per Annum                                                                                                              </td><td>PRESS ASSISTANT                                                                                                        </td></tr>\n",
       "\t<tr><td>Allison, Ashley R.                                                                                                     </td><td>Employee                                                                                                               </td><td> 97000                                                                                                                 </td><td>Per Annum                                                                                                              </td><td>DEPUTY DIRECTOR OF PUBLIC ENGAGEMENT                                                                                   </td></tr>\n",
       "\t<tr><td>Amendolare, Vincent C.                                                                                                 </td><td>Employee                                                                                                               </td><td> 42420                                                                                                                 </td><td>Per Annum                                                                                                              </td><td>ANALYST                                                                                                                </td></tr>\n",
       "\t<tr><td>Amuluru, Uma M.                                                                                                        </td><td>Detailee                                                                                                               </td><td>116804                                                                                                                 </td><td>Per Annum                                                                                                              </td><td>ASSOCIATE COUNSEL                                                                                                      </td></tr>\n",
       "\t<tr><td>Anderson, Amanda D.                                                                                                    </td><td>Employee                                                                                                               </td><td>126250                                                                                                                 </td><td>Per Annum                                                                                                              </td><td>SPECIAL ASSISTANT TO THE PRESIDENT AND HOUSE LEGISLATIVE AFFAIRS LIAISON                                               </td></tr>\n",
       "\t<tr><td>Anderson, Charles D.                                                                                                   </td><td>Employee                                                                                                               </td><td>101000                                                                                                                 </td><td>Per Annum                                                                                                              </td><td>SENIOR ADVISOR FOR THE NATIONAL ECONOMIC COUNCIL                                                                       </td></tr>\n",
       "\t<tr><td>Aniskoff, Paulette L.                                                                                                  </td><td>Employee                                                                                                               </td><td>155035                                                                                                                 </td><td>Per Annum                                                                                                              </td><td>DEPUTY ASSISTANT TO THE PRESIDENT AND DIRECTOR OF THE OFFICE OF PUBLIC ENGAGEMENT                                      </td></tr>\n",
       "\t<tr><td>Ashton, Nathaniel R.                                                                                                   </td><td>Employee                                                                                                               </td><td> 42000                                                                                                                 </td><td>Per Annum                                                                                                              </td><td>STAFF ASSISTANT                                                                                                        </td></tr>\n",
       "\t<tr><td>Austin, Jr., Roy L.                                                                                                    </td><td>Employee                                                                                                               </td><td>160085                                                                                                                 </td><td>Per Annum                                                                                                              </td><td>DEPUTY ASSISTANT TO THE PRESIDENT FOR THE OFFICE OF URBAN AFFAIRS, JUSTICE, AND OPPORTUNITY                            </td></tr>\n",
       "\t<tr><td>Axios, Ashleigh T.                                                                                                     </td><td>Employee                                                                                                               </td><td> 73225                                                                                                                 </td><td>Per Annum                                                                                                              </td><td>DIGITAL CREATIVE DIRECTOR                                                                                              </td></tr>\n",
       "\t<tr><td>Babajide, Ayotunde T.                                                                                                  </td><td>Detailee                                                                                                               </td><td>114480                                                                                                                 </td><td>Per Annum                                                                                                              </td><td>SENIOR POLICY ADVISOR                                                                                                  </td></tr>\n",
       "\t<tr><td>Bae, Yena                                                                                                              </td><td>Employee                                                                                                               </td><td> 44000                                                                                                                 </td><td>Per Annum                                                                                                              </td><td>SENIOR ANALYST AND PROJECT MANAGER                                                                                     </td></tr>\n",
       "\t<tr><td>Baker, Sarah E.                                                                                                        </td><td>Employee                                                                                                               </td><td>131805                                                                                                                 </td><td>Per Annum                                                                                                              </td><td>SPECIAL ASSISTANT TO THE PRESIDENT AND ASSOCIATE COUNSEL TO THE PRESIDENT                                              </td></tr>\n",
       "\t<tr><td>Bansal, Gaurab                                                                                                         </td><td>Employee                                                                                                               </td><td>120000                                                                                                                 </td><td>Per Annum                                                                                                              </td><td>DEPUTY ASSISTANT TO THE PRESIDENT AND DEPUTY CABINET SECRETARY                                                         </td></tr>\n",
       "\t<tr><td>Barnes, Desiree N.                                                                                                     </td><td>Employee                                                                                                               </td><td> 42844                                                                                                                 </td><td>Per Annum                                                                                                              </td><td>PRESS ASSISTANT                                                                                                        </td></tr>\n",
       "\t<tr><td>Bartoloni, Kristen A.                                                                                                  </td><td>Employee                                                                                                               </td><td> 70000                                                                                                                 </td><td>Per Annum                                                                                                              </td><td>DEPUTY DIRECTOR OF RESEARCH                                                                                            </td></tr>\n",
       "\t<tr><td>Beckford, Kevin F.                                                                                                     </td><td>Employee                                                                                                               </td><td> 42000                                                                                                                 </td><td>Per Annum                                                                                                              </td><td>ANALYST                                                                                                                </td></tr>\n",
       "\t<tr><td>Beliveau, Emmett S.                                                                                                    </td><td>Employee                                                                                                               </td><td>160085                                                                                                                 </td><td>Per Annum                                                                                                              </td><td>ASSISTANT TO THE PRESIDENT AND DIRECTOR OF THE WHITE HOUSE MILITARY OFFICE                                             </td></tr>\n",
       "\t<tr><td>Benenati, Frank J.                                                                                                     </td><td>Employee                                                                                                               </td><td> 84840                                                                                                                 </td><td>Per Annum                                                                                                              </td><td>ASSISTANT PRESS SECRETARY                                                                                              </td></tr>\n",
       "\t<tr><td>Bennett, Tabitha R.                                                                                                    </td><td>Employee                                                                                                               </td><td> 50000                                                                                                                 </td><td>Per Annum                                                                                                              </td><td>PRESS LEAD                                                                                                             </td></tr>\n",
       "\t<tr><td>⋮</td><td>⋮</td><td>⋮</td><td>⋮</td><td>⋮</td></tr>\n",
       "\t<tr><td>Vignarajah, Krishanti                                                                       </td><td>Employee                                                                                    </td><td> 90000                                                                                      </td><td>Per Annum                                                                                   </td><td>DIRECTOR OF INTERNATIONAL AFFAIRS AND SENIOR POLICY ADVISOR                                 </td></tr>\n",
       "\t<tr><td>Vilfer, Ryan E.                                                                             </td><td>Employee                                                                                    </td><td> 42420                                                                                      </td><td>Per Annum                                                                                   </td><td>STAFF ASSISTANT                                                                             </td></tr>\n",
       "\t<tr><td>Vorhaus, David A.                                                                           </td><td>Employee                                                                                    </td><td>111100                                                                                      </td><td>Per Annum                                                                                   </td><td>SPECIAL ASSISTANT TO THE PRESIDENT AND ADVISOR TO THE OFFICE OF THE CHIEF OF STAFF          </td></tr>\n",
       "\t<tr><td>Vrazilek, Lauren S.                                                                         </td><td>Employee                                                                                    </td><td> 55000                                                                                      </td><td>Per Annum                                                                                   </td><td>DEPUTY PRESS SECRETARY FOR THE FIRST LADY                                                   </td></tr>\n",
       "\t<tr><td>Wagstaff, Jesica E.                                                                         </td><td>Employee                                                                                    </td><td> 45905                                                                                      </td><td>Per Annum                                                                                   </td><td>LEGISLATIVE ASSISTANT AND ASSISTANT TO THE SENATE LIAISON                                   </td></tr>\n",
       "\t<tr><td>Waheed, Manar                                                                               </td><td>Employee                                                                                    </td><td> 80800                                                                                      </td><td>Per Annum                                                                                   </td><td>DEPUTY POLICY DIRECTOR FOR IMMIGRATION                                                      </td></tr>\n",
       "\t<tr><td>Wainscott, Kip F.                                                                           </td><td>Detailee                                                                                    </td><td>134662                                                                                      </td><td>Per Annum                                                                                   </td><td>SENIOR DIRECTOR OF CABINET AFFAIRS                                                          </td></tr>\n",
       "\t<tr><td>Waldo, Katherine A.                                                                         </td><td>Employee                                                                                    </td><td> 47470                                                                                      </td><td>Per Annum                                                                                   </td><td>TRIP COORDINATOR                                                                            </td></tr>\n",
       "\t<tr><td>Wall, Alexander B.                                                                          </td><td>Employee                                                                                    </td><td> 63125                                                                                      </td><td>Per Annum                                                                                   </td><td>DEPUTY DIRECTOR OF ONLINE ENGAGEMENT                                                        </td></tr>\n",
       "\t<tr><td>Walsh, James D.                                                                             </td><td>Detailee                                                                                    </td><td>171871                                                                                      </td><td>Per Annum                                                                                   </td><td>ASSOCIATE COUNSEL                                                                           </td></tr>\n",
       "\t<tr><td>Walsh, Joan L.                                                                              </td><td>Employee                                                                                    </td><td>160085                                                                                      </td><td>Per Annum                                                                                   </td><td>DEPUTY ASSISTANT TO THE PRESIDENT AND STAFF SECRETARY                                       </td></tr>\n",
       "\t<tr><td>Wang, Ya W.                                                                                 </td><td>Employee                                                                                    </td><td> 85000                                                                                      </td><td>Per Annum                                                                                   </td><td>SPECIAL ASSISTANT AND ADVISOR TO THE CHIEF OF STAFF                                         </td></tr>\n",
       "\t<tr><td>Whisenant, Addie M.                                                                         </td><td>Employee                                                                                    </td><td> 78780                                                                                      </td><td>Per Annum                                                                                   </td><td>DIRECTOR OF AFRICAN-AMERICAN MEDIA                                                          </td></tr>\n",
       "\t<tr><td>Wild, Clayton S.                                                                            </td><td>Employee                                                                                    </td><td> 44000                                                                                      </td><td>Per Annum                                                                                   </td><td>PRESIDENTIAL WRITER                                                                         </td></tr>\n",
       "\t<tr><td>Wilkinson, Jr., David E.                                                                    </td><td>Employee                                                                                    </td><td>100000                                                                                      </td><td>Per Annum                                                                                   </td><td>DIRECTOR, OFFICE OF SOCIAL INNOVATION AND CIVIC PARTICIPATION                               </td></tr>\n",
       "\t<tr><td>Williams, Sherman A.                                                                        </td><td>Employee                                                                                    </td><td> 80716                                                                                      </td><td>Per Annum                                                                                   </td><td>ASSISTANT TO THE EXECUTIVE CLERK                                                            </td></tr>\n",
       "\t<tr><td>Winter, Melissa E.                                                                          </td><td>Employee                                                                                    </td><td>133320                                                                                      </td><td>Per Annum                                                                                   </td><td>DEPUTY ASSISTANT TO THE PRESIDENT AND SENIOR ADVISOR TO THE FIRST LADY                      </td></tr>\n",
       "\t<tr><td>Wong, Jacqueline                                                                            </td><td>Employee                                                                                    </td><td> 58075                                                                                      </td><td>Per Annum                                                                                   </td><td>SENIOR POLICY ANALYST                                                                       </td></tr>\n",
       "\t<tr><td>Wright, Frank B.                                                                            </td><td>Employee                                                                                    </td><td> 65000                                                                                      </td><td>Per Annum                                                                                   </td><td>DEPUTY DIRECTOR FOR FINANCE                                                                 </td></tr>\n",
       "\t<tr><td>Wu, Alexander P.                                                                            </td><td>Employee                                                                                    </td><td> 52520                                                                                      </td><td>Per Annum                                                                                   </td><td>ASSOCIATE DIRECTOR FOR THE MANAGEMENT AND ADMINISTRATION FRONT OFFICE                       </td></tr>\n",
       "\t<tr><td>Xharda, Klevis                                                                              </td><td>Employee                                                                                    </td><td> 42420                                                                                      </td><td>Per Annum                                                                                   </td><td>EXECUTIVE ASSISTANT                                                                         </td></tr>\n",
       "\t<tr><td>Yaros, Stephen G.                                                                           </td><td>Employee                                                                                    </td><td> 42000                                                                                      </td><td>Per Annum                                                                                   </td><td>STAFF ASSISTANT                                                                             </td></tr>\n",
       "\t<tr><td>Young, Caitlin E.                                                                           </td><td>Employee                                                                                    </td><td> 63630                                                                                      </td><td>Per Annum                                                                                   </td><td>STENOGRAPHER                                                                                </td></tr>\n",
       "\t<tr><td>Young, Jr., Reginald D.                                                                     </td><td>Employee                                                                                    </td><td> 69597                                                                                      </td><td>Per Annum                                                                                   </td><td>SENIOR MANAGEMENT ANALYST                                                                   </td></tr>\n",
       "\t<tr><td>Young, Kimberly E.                                                                          </td><td>Employee                                                                                    </td><td> 45000                                                                                      </td><td>Per Annum                                                                                   </td><td>LEGISLATIVE ASSISTANT                                                                       </td></tr>\n",
       "\t<tr><td>Young, Stephanie L.                                                                         </td><td>Employee                                                                                    </td><td> 87870                                                                                      </td><td>Per Annum                                                                                   </td><td>ASSOCIATE COMMUNICATIONS DIRECTOR                                                           </td></tr>\n",
       "\t<tr><td>Young, Valerie A.                                                                           </td><td>Employee                                                                                    </td><td> 52667                                                                                      </td><td>Per Annum                                                                                   </td><td>RECORDS MANAGEMENT ANALYST                                                                  </td></tr>\n",
       "\t<tr><td>Yudelson, Alex R.                                                                           </td><td>Employee                                                                                    </td><td> 42000                                                                                      </td><td>Per Annum                                                                                   </td><td>STAFF ASSISTANT                                                                             </td></tr>\n",
       "\t<tr><td>Zaid, Zaid A.                                                                               </td><td>Detailee                                                                                    </td><td>158700                                                                                      </td><td>Per Annum                                                                                   </td><td>ASSOCIATE COUNSEL                                                                           </td></tr>\n",
       "\t<tr><td>Zients, Jeffrey D.                                                                          </td><td>Employee                                                                                    </td><td>173922                                                                                      </td><td>Per Annum                                                                                   </td><td>ASSISTANT TO THE PRESIDENT FOR ECONOMIC POLICY AND DIRECTOR OF THE NATIONAL ECONOMIC COUNCIL</td></tr>\n",
       "</tbody>\n",
       "</table>\n"
      ],
      "text/latex": [
       "\\begin{tabular}{r|lllll}\n",
       " Name & Status & Salary & Pay.Basis & Position.Title\\\\\n",
       "\\hline\n",
       "\t Abdullah, Hasan A.                                                                                                      & Detailee                                                                                                                & 105960                                                                                                                  & Per Annum                                                                                                               & POLICY ADVISOR                                                                                                         \\\\\n",
       "\t Abraham, Sabey M.                                                                                                       & Employee                                                                                                                &  55000                                                                                                                  & Per Annum                                                                                                               & ENERGY AND ENVIRONMENT DIRECTOR FOR PRESIDENTIAL PERSONNEL                                                             \\\\\n",
       "\t Abraham, Yohannes A.                                                                                                    & Employee                                                                                                                & 121200                                                                                                                  & Per Annum                                                                                                               & SPECIAL ASSISTANT TO THE PRESIDENT AND CHIEF OF STAFF FOR THE OFFICE OF PUBLIC ENGAGEMENT AND INTERGOVERNMENTAL AFFAIRS\\\\\n",
       "\t Abramson, Jerry E.                                                                                                      & Employee                                                                                                                & 155035                                                                                                                  & Per Annum                                                                                                               & DEPUTY ASSISTANT TO THE PRESIDENT AND DIRECTOR OF INTERGOVERNMENTAL AFFAIRS                                            \\\\\n",
       "\t Adler, Caroline E.                                                                                                      & Employee                                                                                                                & 114000                                                                                                                  & Per Annum                                                                                                               & SPECIAL ASSISTANT TO THE PRESIDENT AND DIRECTOR OF COMMUNICATIONS FOR THE FIRST LADY                                   \\\\\n",
       "\t Aiyer, Vikrum D.                                                                                                        & Detailee                                                                                                                & 134662                                                                                                                  & Per Annum                                                                                                               & SENIOR POLICY ADVISOR                                                                                                  \\\\\n",
       "\t Alcantara, Elias                                                                                                        & Employee                                                                                                                &  65650                                                                                                                  & Per Annum                                                                                                               & ASSOCIATE DIRECTOR OF INTERGOVERNMENTAL AFFAIRS                                                                        \\\\\n",
       "\t Ali, Mohammed I.                                                                                                        & Employee                                                                                                                &  42000                                                                                                                  & Per Annum                                                                                                               & STAFF ASSISTANT                                                                                                        \\\\\n",
       "\t Allen, Angelica P.                                                                                                      & Employee                                                                                                                &  50000                                                                                                                  & Per Annum                                                                                                               & SPECIAL ASSISTANT TO THE DIRECTOR OF THE OFFICE OF POLITICAL STRATEGY AND OUTREACH                                     \\\\\n",
       "\t Allen, Elizabeth M.                                                                                                     & Employee                                                                                                                & 103000                                                                                                                  & Per Annum                                                                                                               & SPECIAL ASSISTANT TO THE PRESIDENT FOR MESSAGE PLANNING                                                                \\\\\n",
       "\t Allen, Jessica L.                                                                                                       & Employee                                                                                                                &  42844                                                                                                                  & Per Annum                                                                                                               & PRESS ASSISTANT                                                                                                        \\\\\n",
       "\t Allison, Ashley R.                                                                                                      & Employee                                                                                                                &  97000                                                                                                                  & Per Annum                                                                                                               & DEPUTY DIRECTOR OF PUBLIC ENGAGEMENT                                                                                   \\\\\n",
       "\t Amendolare, Vincent C.                                                                                                  & Employee                                                                                                                &  42420                                                                                                                  & Per Annum                                                                                                               & ANALYST                                                                                                                \\\\\n",
       "\t Amuluru, Uma M.                                                                                                         & Detailee                                                                                                                & 116804                                                                                                                  & Per Annum                                                                                                               & ASSOCIATE COUNSEL                                                                                                      \\\\\n",
       "\t Anderson, Amanda D.                                                                                                     & Employee                                                                                                                & 126250                                                                                                                  & Per Annum                                                                                                               & SPECIAL ASSISTANT TO THE PRESIDENT AND HOUSE LEGISLATIVE AFFAIRS LIAISON                                               \\\\\n",
       "\t Anderson, Charles D.                                                                                                    & Employee                                                                                                                & 101000                                                                                                                  & Per Annum                                                                                                               & SENIOR ADVISOR FOR THE NATIONAL ECONOMIC COUNCIL                                                                       \\\\\n",
       "\t Aniskoff, Paulette L.                                                                                                   & Employee                                                                                                                & 155035                                                                                                                  & Per Annum                                                                                                               & DEPUTY ASSISTANT TO THE PRESIDENT AND DIRECTOR OF THE OFFICE OF PUBLIC ENGAGEMENT                                      \\\\\n",
       "\t Ashton, Nathaniel R.                                                                                                    & Employee                                                                                                                &  42000                                                                                                                  & Per Annum                                                                                                               & STAFF ASSISTANT                                                                                                        \\\\\n",
       "\t Austin, Jr., Roy L.                                                                                                     & Employee                                                                                                                & 160085                                                                                                                  & Per Annum                                                                                                               & DEPUTY ASSISTANT TO THE PRESIDENT FOR THE OFFICE OF URBAN AFFAIRS, JUSTICE, AND OPPORTUNITY                            \\\\\n",
       "\t Axios, Ashleigh T.                                                                                                      & Employee                                                                                                                &  73225                                                                                                                  & Per Annum                                                                                                               & DIGITAL CREATIVE DIRECTOR                                                                                              \\\\\n",
       "\t Babajide, Ayotunde T.                                                                                                   & Detailee                                                                                                                & 114480                                                                                                                  & Per Annum                                                                                                               & SENIOR POLICY ADVISOR                                                                                                  \\\\\n",
       "\t Bae, Yena                                                                                                               & Employee                                                                                                                &  44000                                                                                                                  & Per Annum                                                                                                               & SENIOR ANALYST AND PROJECT MANAGER                                                                                     \\\\\n",
       "\t Baker, Sarah E.                                                                                                         & Employee                                                                                                                & 131805                                                                                                                  & Per Annum                                                                                                               & SPECIAL ASSISTANT TO THE PRESIDENT AND ASSOCIATE COUNSEL TO THE PRESIDENT                                              \\\\\n",
       "\t Bansal, Gaurab                                                                                                          & Employee                                                                                                                & 120000                                                                                                                  & Per Annum                                                                                                               & DEPUTY ASSISTANT TO THE PRESIDENT AND DEPUTY CABINET SECRETARY                                                         \\\\\n",
       "\t Barnes, Desiree N.                                                                                                      & Employee                                                                                                                &  42844                                                                                                                  & Per Annum                                                                                                               & PRESS ASSISTANT                                                                                                        \\\\\n",
       "\t Bartoloni, Kristen A.                                                                                                   & Employee                                                                                                                &  70000                                                                                                                  & Per Annum                                                                                                               & DEPUTY DIRECTOR OF RESEARCH                                                                                            \\\\\n",
       "\t Beckford, Kevin F.                                                                                                      & Employee                                                                                                                &  42000                                                                                                                  & Per Annum                                                                                                               & ANALYST                                                                                                                \\\\\n",
       "\t Beliveau, Emmett S.                                                                                                     & Employee                                                                                                                & 160085                                                                                                                  & Per Annum                                                                                                               & ASSISTANT TO THE PRESIDENT AND DIRECTOR OF THE WHITE HOUSE MILITARY OFFICE                                             \\\\\n",
       "\t Benenati, Frank J.                                                                                                      & Employee                                                                                                                &  84840                                                                                                                  & Per Annum                                                                                                               & ASSISTANT PRESS SECRETARY                                                                                              \\\\\n",
       "\t Bennett, Tabitha R.                                                                                                     & Employee                                                                                                                &  50000                                                                                                                  & Per Annum                                                                                                               & PRESS LEAD                                                                                                             \\\\\n",
       "\t ⋮ & ⋮ & ⋮ & ⋮ & ⋮\\\\\n",
       "\t Vignarajah, Krishanti                                                                        & Employee                                                                                     &  90000                                                                                       & Per Annum                                                                                    & DIRECTOR OF INTERNATIONAL AFFAIRS AND SENIOR POLICY ADVISOR                                 \\\\\n",
       "\t Vilfer, Ryan E.                                                                              & Employee                                                                                     &  42420                                                                                       & Per Annum                                                                                    & STAFF ASSISTANT                                                                             \\\\\n",
       "\t Vorhaus, David A.                                                                            & Employee                                                                                     & 111100                                                                                       & Per Annum                                                                                    & SPECIAL ASSISTANT TO THE PRESIDENT AND ADVISOR TO THE OFFICE OF THE CHIEF OF STAFF          \\\\\n",
       "\t Vrazilek, Lauren S.                                                                          & Employee                                                                                     &  55000                                                                                       & Per Annum                                                                                    & DEPUTY PRESS SECRETARY FOR THE FIRST LADY                                                   \\\\\n",
       "\t Wagstaff, Jesica E.                                                                          & Employee                                                                                     &  45905                                                                                       & Per Annum                                                                                    & LEGISLATIVE ASSISTANT AND ASSISTANT TO THE SENATE LIAISON                                   \\\\\n",
       "\t Waheed, Manar                                                                                & Employee                                                                                     &  80800                                                                                       & Per Annum                                                                                    & DEPUTY POLICY DIRECTOR FOR IMMIGRATION                                                      \\\\\n",
       "\t Wainscott, Kip F.                                                                            & Detailee                                                                                     & 134662                                                                                       & Per Annum                                                                                    & SENIOR DIRECTOR OF CABINET AFFAIRS                                                          \\\\\n",
       "\t Waldo, Katherine A.                                                                          & Employee                                                                                     &  47470                                                                                       & Per Annum                                                                                    & TRIP COORDINATOR                                                                            \\\\\n",
       "\t Wall, Alexander B.                                                                           & Employee                                                                                     &  63125                                                                                       & Per Annum                                                                                    & DEPUTY DIRECTOR OF ONLINE ENGAGEMENT                                                        \\\\\n",
       "\t Walsh, James D.                                                                              & Detailee                                                                                     & 171871                                                                                       & Per Annum                                                                                    & ASSOCIATE COUNSEL                                                                           \\\\\n",
       "\t Walsh, Joan L.                                                                               & Employee                                                                                     & 160085                                                                                       & Per Annum                                                                                    & DEPUTY ASSISTANT TO THE PRESIDENT AND STAFF SECRETARY                                       \\\\\n",
       "\t Wang, Ya W.                                                                                  & Employee                                                                                     &  85000                                                                                       & Per Annum                                                                                    & SPECIAL ASSISTANT AND ADVISOR TO THE CHIEF OF STAFF                                         \\\\\n",
       "\t Whisenant, Addie M.                                                                          & Employee                                                                                     &  78780                                                                                       & Per Annum                                                                                    & DIRECTOR OF AFRICAN-AMERICAN MEDIA                                                          \\\\\n",
       "\t Wild, Clayton S.                                                                             & Employee                                                                                     &  44000                                                                                       & Per Annum                                                                                    & PRESIDENTIAL WRITER                                                                         \\\\\n",
       "\t Wilkinson, Jr., David E.                                                                     & Employee                                                                                     & 100000                                                                                       & Per Annum                                                                                    & DIRECTOR, OFFICE OF SOCIAL INNOVATION AND CIVIC PARTICIPATION                               \\\\\n",
       "\t Williams, Sherman A.                                                                         & Employee                                                                                     &  80716                                                                                       & Per Annum                                                                                    & ASSISTANT TO THE EXECUTIVE CLERK                                                            \\\\\n",
       "\t Winter, Melissa E.                                                                           & Employee                                                                                     & 133320                                                                                       & Per Annum                                                                                    & DEPUTY ASSISTANT TO THE PRESIDENT AND SENIOR ADVISOR TO THE FIRST LADY                      \\\\\n",
       "\t Wong, Jacqueline                                                                             & Employee                                                                                     &  58075                                                                                       & Per Annum                                                                                    & SENIOR POLICY ANALYST                                                                       \\\\\n",
       "\t Wright, Frank B.                                                                             & Employee                                                                                     &  65000                                                                                       & Per Annum                                                                                    & DEPUTY DIRECTOR FOR FINANCE                                                                 \\\\\n",
       "\t Wu, Alexander P.                                                                             & Employee                                                                                     &  52520                                                                                       & Per Annum                                                                                    & ASSOCIATE DIRECTOR FOR THE MANAGEMENT AND ADMINISTRATION FRONT OFFICE                       \\\\\n",
       "\t Xharda, Klevis                                                                               & Employee                                                                                     &  42420                                                                                       & Per Annum                                                                                    & EXECUTIVE ASSISTANT                                                                         \\\\\n",
       "\t Yaros, Stephen G.                                                                            & Employee                                                                                     &  42000                                                                                       & Per Annum                                                                                    & STAFF ASSISTANT                                                                             \\\\\n",
       "\t Young, Caitlin E.                                                                            & Employee                                                                                     &  63630                                                                                       & Per Annum                                                                                    & STENOGRAPHER                                                                                \\\\\n",
       "\t Young, Jr., Reginald D.                                                                      & Employee                                                                                     &  69597                                                                                       & Per Annum                                                                                    & SENIOR MANAGEMENT ANALYST                                                                   \\\\\n",
       "\t Young, Kimberly E.                                                                           & Employee                                                                                     &  45000                                                                                       & Per Annum                                                                                    & LEGISLATIVE ASSISTANT                                                                       \\\\\n",
       "\t Young, Stephanie L.                                                                          & Employee                                                                                     &  87870                                                                                       & Per Annum                                                                                    & ASSOCIATE COMMUNICATIONS DIRECTOR                                                           \\\\\n",
       "\t Young, Valerie A.                                                                            & Employee                                                                                     &  52667                                                                                       & Per Annum                                                                                    & RECORDS MANAGEMENT ANALYST                                                                  \\\\\n",
       "\t Yudelson, Alex R.                                                                            & Employee                                                                                     &  42000                                                                                       & Per Annum                                                                                    & STAFF ASSISTANT                                                                             \\\\\n",
       "\t Zaid, Zaid A.                                                                                & Detailee                                                                                     & 158700                                                                                       & Per Annum                                                                                    & ASSOCIATE COUNSEL                                                                           \\\\\n",
       "\t Zients, Jeffrey D.                                                                           & Employee                                                                                     & 173922                                                                                       & Per Annum                                                                                    & ASSISTANT TO THE PRESIDENT FOR ECONOMIC POLICY AND DIRECTOR OF THE NATIONAL ECONOMIC COUNCIL\\\\\n",
       "\\end{tabular}\n"
      ],
      "text/markdown": [
       "\n",
       "Name | Status | Salary | Pay.Basis | Position.Title | \n",
       "|---|---|---|---|---|---|---|---|---|---|---|---|---|---|---|---|---|---|---|---|---|---|---|---|---|---|---|---|---|---|---|---|---|---|---|---|---|---|---|---|---|---|---|---|---|---|---|---|---|---|---|---|---|---|---|---|---|---|---|---|---|\n",
       "| Abdullah, Hasan A.                                                                                                      | Detailee                                                                                                                | 105960                                                                                                                  | Per Annum                                                                                                               | POLICY ADVISOR                                                                                                          | \n",
       "| Abraham, Sabey M.                                                                                                       | Employee                                                                                                                |  55000                                                                                                                  | Per Annum                                                                                                               | ENERGY AND ENVIRONMENT DIRECTOR FOR PRESIDENTIAL PERSONNEL                                                              | \n",
       "| Abraham, Yohannes A.                                                                                                    | Employee                                                                                                                | 121200                                                                                                                  | Per Annum                                                                                                               | SPECIAL ASSISTANT TO THE PRESIDENT AND CHIEF OF STAFF FOR THE OFFICE OF PUBLIC ENGAGEMENT AND INTERGOVERNMENTAL AFFAIRS | \n",
       "| Abramson, Jerry E.                                                                                                      | Employee                                                                                                                | 155035                                                                                                                  | Per Annum                                                                                                               | DEPUTY ASSISTANT TO THE PRESIDENT AND DIRECTOR OF INTERGOVERNMENTAL AFFAIRS                                             | \n",
       "| Adler, Caroline E.                                                                                                      | Employee                                                                                                                | 114000                                                                                                                  | Per Annum                                                                                                               | SPECIAL ASSISTANT TO THE PRESIDENT AND DIRECTOR OF COMMUNICATIONS FOR THE FIRST LADY                                    | \n",
       "| Aiyer, Vikrum D.                                                                                                        | Detailee                                                                                                                | 134662                                                                                                                  | Per Annum                                                                                                               | SENIOR POLICY ADVISOR                                                                                                   | \n",
       "| Alcantara, Elias                                                                                                        | Employee                                                                                                                |  65650                                                                                                                  | Per Annum                                                                                                               | ASSOCIATE DIRECTOR OF INTERGOVERNMENTAL AFFAIRS                                                                         | \n",
       "| Ali, Mohammed I.                                                                                                        | Employee                                                                                                                |  42000                                                                                                                  | Per Annum                                                                                                               | STAFF ASSISTANT                                                                                                         | \n",
       "| Allen, Angelica P.                                                                                                      | Employee                                                                                                                |  50000                                                                                                                  | Per Annum                                                                                                               | SPECIAL ASSISTANT TO THE DIRECTOR OF THE OFFICE OF POLITICAL STRATEGY AND OUTREACH                                      | \n",
       "| Allen, Elizabeth M.                                                                                                     | Employee                                                                                                                | 103000                                                                                                                  | Per Annum                                                                                                               | SPECIAL ASSISTANT TO THE PRESIDENT FOR MESSAGE PLANNING                                                                 | \n",
       "| Allen, Jessica L.                                                                                                       | Employee                                                                                                                |  42844                                                                                                                  | Per Annum                                                                                                               | PRESS ASSISTANT                                                                                                         | \n",
       "| Allison, Ashley R.                                                                                                      | Employee                                                                                                                |  97000                                                                                                                  | Per Annum                                                                                                               | DEPUTY DIRECTOR OF PUBLIC ENGAGEMENT                                                                                    | \n",
       "| Amendolare, Vincent C.                                                                                                  | Employee                                                                                                                |  42420                                                                                                                  | Per Annum                                                                                                               | ANALYST                                                                                                                 | \n",
       "| Amuluru, Uma M.                                                                                                         | Detailee                                                                                                                | 116804                                                                                                                  | Per Annum                                                                                                               | ASSOCIATE COUNSEL                                                                                                       | \n",
       "| Anderson, Amanda D.                                                                                                     | Employee                                                                                                                | 126250                                                                                                                  | Per Annum                                                                                                               | SPECIAL ASSISTANT TO THE PRESIDENT AND HOUSE LEGISLATIVE AFFAIRS LIAISON                                                | \n",
       "| Anderson, Charles D.                                                                                                    | Employee                                                                                                                | 101000                                                                                                                  | Per Annum                                                                                                               | SENIOR ADVISOR FOR THE NATIONAL ECONOMIC COUNCIL                                                                        | \n",
       "| Aniskoff, Paulette L.                                                                                                   | Employee                                                                                                                | 155035                                                                                                                  | Per Annum                                                                                                               | DEPUTY ASSISTANT TO THE PRESIDENT AND DIRECTOR OF THE OFFICE OF PUBLIC ENGAGEMENT                                       | \n",
       "| Ashton, Nathaniel R.                                                                                                    | Employee                                                                                                                |  42000                                                                                                                  | Per Annum                                                                                                               | STAFF ASSISTANT                                                                                                         | \n",
       "| Austin, Jr., Roy L.                                                                                                     | Employee                                                                                                                | 160085                                                                                                                  | Per Annum                                                                                                               | DEPUTY ASSISTANT TO THE PRESIDENT FOR THE OFFICE OF URBAN AFFAIRS, JUSTICE, AND OPPORTUNITY                             | \n",
       "| Axios, Ashleigh T.                                                                                                      | Employee                                                                                                                |  73225                                                                                                                  | Per Annum                                                                                                               | DIGITAL CREATIVE DIRECTOR                                                                                               | \n",
       "| Babajide, Ayotunde T.                                                                                                   | Detailee                                                                                                                | 114480                                                                                                                  | Per Annum                                                                                                               | SENIOR POLICY ADVISOR                                                                                                   | \n",
       "| Bae, Yena                                                                                                               | Employee                                                                                                                |  44000                                                                                                                  | Per Annum                                                                                                               | SENIOR ANALYST AND PROJECT MANAGER                                                                                      | \n",
       "| Baker, Sarah E.                                                                                                         | Employee                                                                                                                | 131805                                                                                                                  | Per Annum                                                                                                               | SPECIAL ASSISTANT TO THE PRESIDENT AND ASSOCIATE COUNSEL TO THE PRESIDENT                                               | \n",
       "| Bansal, Gaurab                                                                                                          | Employee                                                                                                                | 120000                                                                                                                  | Per Annum                                                                                                               | DEPUTY ASSISTANT TO THE PRESIDENT AND DEPUTY CABINET SECRETARY                                                          | \n",
       "| Barnes, Desiree N.                                                                                                      | Employee                                                                                                                |  42844                                                                                                                  | Per Annum                                                                                                               | PRESS ASSISTANT                                                                                                         | \n",
       "| Bartoloni, Kristen A.                                                                                                   | Employee                                                                                                                |  70000                                                                                                                  | Per Annum                                                                                                               | DEPUTY DIRECTOR OF RESEARCH                                                                                             | \n",
       "| Beckford, Kevin F.                                                                                                      | Employee                                                                                                                |  42000                                                                                                                  | Per Annum                                                                                                               | ANALYST                                                                                                                 | \n",
       "| Beliveau, Emmett S.                                                                                                     | Employee                                                                                                                | 160085                                                                                                                  | Per Annum                                                                                                               | ASSISTANT TO THE PRESIDENT AND DIRECTOR OF THE WHITE HOUSE MILITARY OFFICE                                              | \n",
       "| Benenati, Frank J.                                                                                                      | Employee                                                                                                                |  84840                                                                                                                  | Per Annum                                                                                                               | ASSISTANT PRESS SECRETARY                                                                                               | \n",
       "| Bennett, Tabitha R.                                                                                                     | Employee                                                                                                                |  50000                                                                                                                  | Per Annum                                                                                                               | PRESS LEAD                                                                                                              | \n",
       "| ⋮ | ⋮ | ⋮ | ⋮ | ⋮ | \n",
       "| Vignarajah, Krishanti                                                                        | Employee                                                                                     |  90000                                                                                       | Per Annum                                                                                    | DIRECTOR OF INTERNATIONAL AFFAIRS AND SENIOR POLICY ADVISOR                                  | \n",
       "| Vilfer, Ryan E.                                                                              | Employee                                                                                     |  42420                                                                                       | Per Annum                                                                                    | STAFF ASSISTANT                                                                              | \n",
       "| Vorhaus, David A.                                                                            | Employee                                                                                     | 111100                                                                                       | Per Annum                                                                                    | SPECIAL ASSISTANT TO THE PRESIDENT AND ADVISOR TO THE OFFICE OF THE CHIEF OF STAFF           | \n",
       "| Vrazilek, Lauren S.                                                                          | Employee                                                                                     |  55000                                                                                       | Per Annum                                                                                    | DEPUTY PRESS SECRETARY FOR THE FIRST LADY                                                    | \n",
       "| Wagstaff, Jesica E.                                                                          | Employee                                                                                     |  45905                                                                                       | Per Annum                                                                                    | LEGISLATIVE ASSISTANT AND ASSISTANT TO THE SENATE LIAISON                                    | \n",
       "| Waheed, Manar                                                                                | Employee                                                                                     |  80800                                                                                       | Per Annum                                                                                    | DEPUTY POLICY DIRECTOR FOR IMMIGRATION                                                       | \n",
       "| Wainscott, Kip F.                                                                            | Detailee                                                                                     | 134662                                                                                       | Per Annum                                                                                    | SENIOR DIRECTOR OF CABINET AFFAIRS                                                           | \n",
       "| Waldo, Katherine A.                                                                          | Employee                                                                                     |  47470                                                                                       | Per Annum                                                                                    | TRIP COORDINATOR                                                                             | \n",
       "| Wall, Alexander B.                                                                           | Employee                                                                                     |  63125                                                                                       | Per Annum                                                                                    | DEPUTY DIRECTOR OF ONLINE ENGAGEMENT                                                         | \n",
       "| Walsh, James D.                                                                              | Detailee                                                                                     | 171871                                                                                       | Per Annum                                                                                    | ASSOCIATE COUNSEL                                                                            | \n",
       "| Walsh, Joan L.                                                                               | Employee                                                                                     | 160085                                                                                       | Per Annum                                                                                    | DEPUTY ASSISTANT TO THE PRESIDENT AND STAFF SECRETARY                                        | \n",
       "| Wang, Ya W.                                                                                  | Employee                                                                                     |  85000                                                                                       | Per Annum                                                                                    | SPECIAL ASSISTANT AND ADVISOR TO THE CHIEF OF STAFF                                          | \n",
       "| Whisenant, Addie M.                                                                          | Employee                                                                                     |  78780                                                                                       | Per Annum                                                                                    | DIRECTOR OF AFRICAN-AMERICAN MEDIA                                                           | \n",
       "| Wild, Clayton S.                                                                             | Employee                                                                                     |  44000                                                                                       | Per Annum                                                                                    | PRESIDENTIAL WRITER                                                                          | \n",
       "| Wilkinson, Jr., David E.                                                                     | Employee                                                                                     | 100000                                                                                       | Per Annum                                                                                    | DIRECTOR, OFFICE OF SOCIAL INNOVATION AND CIVIC PARTICIPATION                                | \n",
       "| Williams, Sherman A.                                                                         | Employee                                                                                     |  80716                                                                                       | Per Annum                                                                                    | ASSISTANT TO THE EXECUTIVE CLERK                                                             | \n",
       "| Winter, Melissa E.                                                                           | Employee                                                                                     | 133320                                                                                       | Per Annum                                                                                    | DEPUTY ASSISTANT TO THE PRESIDENT AND SENIOR ADVISOR TO THE FIRST LADY                       | \n",
       "| Wong, Jacqueline                                                                             | Employee                                                                                     |  58075                                                                                       | Per Annum                                                                                    | SENIOR POLICY ANALYST                                                                        | \n",
       "| Wright, Frank B.                                                                             | Employee                                                                                     |  65000                                                                                       | Per Annum                                                                                    | DEPUTY DIRECTOR FOR FINANCE                                                                  | \n",
       "| Wu, Alexander P.                                                                             | Employee                                                                                     |  52520                                                                                       | Per Annum                                                                                    | ASSOCIATE DIRECTOR FOR THE MANAGEMENT AND ADMINISTRATION FRONT OFFICE                        | \n",
       "| Xharda, Klevis                                                                               | Employee                                                                                     |  42420                                                                                       | Per Annum                                                                                    | EXECUTIVE ASSISTANT                                                                          | \n",
       "| Yaros, Stephen G.                                                                            | Employee                                                                                     |  42000                                                                                       | Per Annum                                                                                    | STAFF ASSISTANT                                                                              | \n",
       "| Young, Caitlin E.                                                                            | Employee                                                                                     |  63630                                                                                       | Per Annum                                                                                    | STENOGRAPHER                                                                                 | \n",
       "| Young, Jr., Reginald D.                                                                      | Employee                                                                                     |  69597                                                                                       | Per Annum                                                                                    | SENIOR MANAGEMENT ANALYST                                                                    | \n",
       "| Young, Kimberly E.                                                                           | Employee                                                                                     |  45000                                                                                       | Per Annum                                                                                    | LEGISLATIVE ASSISTANT                                                                        | \n",
       "| Young, Stephanie L.                                                                          | Employee                                                                                     |  87870                                                                                       | Per Annum                                                                                    | ASSOCIATE COMMUNICATIONS DIRECTOR                                                            | \n",
       "| Young, Valerie A.                                                                            | Employee                                                                                     |  52667                                                                                       | Per Annum                                                                                    | RECORDS MANAGEMENT ANALYST                                                                   | \n",
       "| Yudelson, Alex R.                                                                            | Employee                                                                                     |  42000                                                                                       | Per Annum                                                                                    | STAFF ASSISTANT                                                                              | \n",
       "| Zaid, Zaid A.                                                                                | Detailee                                                                                     | 158700                                                                                       | Per Annum                                                                                    | ASSOCIATE COUNSEL                                                                            | \n",
       "| Zients, Jeffrey D.                                                                           | Employee                                                                                     | 173922                                                                                       | Per Annum                                                                                    | ASSISTANT TO THE PRESIDENT FOR ECONOMIC POLICY AND DIRECTOR OF THE NATIONAL ECONOMIC COUNCIL | \n",
       "\n",
       "\n"
      ],
      "text/plain": [
       "    Name                     Status   Salary Pay.Basis\n",
       "1   Abdullah, Hasan A.       Detailee 105960 Per Annum\n",
       "2   Abraham, Sabey M.        Employee  55000 Per Annum\n",
       "3   Abraham, Yohannes A.     Employee 121200 Per Annum\n",
       "4   Abramson, Jerry E.       Employee 155035 Per Annum\n",
       "5   Adler, Caroline E.       Employee 114000 Per Annum\n",
       "6   Aiyer, Vikrum D.         Detailee 134662 Per Annum\n",
       "7   Alcantara, Elias         Employee  65650 Per Annum\n",
       "8   Ali, Mohammed I.         Employee  42000 Per Annum\n",
       "9   Allen, Angelica P.       Employee  50000 Per Annum\n",
       "10  Allen, Elizabeth M.      Employee 103000 Per Annum\n",
       "11  Allen, Jessica L.        Employee  42844 Per Annum\n",
       "12  Allison, Ashley R.       Employee  97000 Per Annum\n",
       "13  Amendolare, Vincent C.   Employee  42420 Per Annum\n",
       "14  Amuluru, Uma M.          Detailee 116804 Per Annum\n",
       "15  Anderson, Amanda D.      Employee 126250 Per Annum\n",
       "16  Anderson, Charles D.     Employee 101000 Per Annum\n",
       "17  Aniskoff, Paulette L.    Employee 155035 Per Annum\n",
       "18  Ashton, Nathaniel R.     Employee  42000 Per Annum\n",
       "19  Austin, Jr., Roy L.      Employee 160085 Per Annum\n",
       "20  Axios, Ashleigh T.       Employee  73225 Per Annum\n",
       "21  Babajide, Ayotunde T.    Detailee 114480 Per Annum\n",
       "22  Bae, Yena                Employee  44000 Per Annum\n",
       "23  Baker, Sarah E.          Employee 131805 Per Annum\n",
       "24  Bansal, Gaurab           Employee 120000 Per Annum\n",
       "25  Barnes, Desiree N.       Employee  42844 Per Annum\n",
       "26  Bartoloni, Kristen A.    Employee  70000 Per Annum\n",
       "27  Beckford, Kevin F.       Employee  42000 Per Annum\n",
       "28  Beliveau, Emmett S.      Employee 160085 Per Annum\n",
       "29  Benenati, Frank J.       Employee  84840 Per Annum\n",
       "30  Bennett, Tabitha R.      Employee  50000 Per Annum\n",
       "⋮   ⋮                        ⋮        ⋮      ⋮        \n",
       "445 Vignarajah, Krishanti    Employee  90000 Per Annum\n",
       "446 Vilfer, Ryan E.          Employee  42420 Per Annum\n",
       "447 Vorhaus, David A.        Employee 111100 Per Annum\n",
       "448 Vrazilek, Lauren S.      Employee  55000 Per Annum\n",
       "449 Wagstaff, Jesica E.      Employee  45905 Per Annum\n",
       "450 Waheed, Manar            Employee  80800 Per Annum\n",
       "451 Wainscott, Kip F.        Detailee 134662 Per Annum\n",
       "452 Waldo, Katherine A.      Employee  47470 Per Annum\n",
       "453 Wall, Alexander B.       Employee  63125 Per Annum\n",
       "454 Walsh, James D.          Detailee 171871 Per Annum\n",
       "455 Walsh, Joan L.           Employee 160085 Per Annum\n",
       "456 Wang, Ya W.              Employee  85000 Per Annum\n",
       "457 Whisenant, Addie M.      Employee  78780 Per Annum\n",
       "458 Wild, Clayton S.         Employee  44000 Per Annum\n",
       "459 Wilkinson, Jr., David E. Employee 100000 Per Annum\n",
       "460 Williams, Sherman A.     Employee  80716 Per Annum\n",
       "461 Winter, Melissa E.       Employee 133320 Per Annum\n",
       "462 Wong, Jacqueline         Employee  58075 Per Annum\n",
       "463 Wright, Frank B.         Employee  65000 Per Annum\n",
       "464 Wu, Alexander P.         Employee  52520 Per Annum\n",
       "465 Xharda, Klevis           Employee  42420 Per Annum\n",
       "466 Yaros, Stephen G.        Employee  42000 Per Annum\n",
       "467 Young, Caitlin E.        Employee  63630 Per Annum\n",
       "468 Young, Jr., Reginald D.  Employee  69597 Per Annum\n",
       "469 Young, Kimberly E.       Employee  45000 Per Annum\n",
       "470 Young, Stephanie L.      Employee  87870 Per Annum\n",
       "471 Young, Valerie A.        Employee  52667 Per Annum\n",
       "472 Yudelson, Alex R.        Employee  42000 Per Annum\n",
       "473 Zaid, Zaid A.            Detailee 158700 Per Annum\n",
       "474 Zients, Jeffrey D.       Employee 173922 Per Annum\n",
       "    Position.Title                                                                                                         \n",
       "1   POLICY ADVISOR                                                                                                         \n",
       "2   ENERGY AND ENVIRONMENT DIRECTOR FOR PRESIDENTIAL PERSONNEL                                                             \n",
       "3   SPECIAL ASSISTANT TO THE PRESIDENT AND CHIEF OF STAFF FOR THE OFFICE OF PUBLIC ENGAGEMENT AND INTERGOVERNMENTAL AFFAIRS\n",
       "4   DEPUTY ASSISTANT TO THE PRESIDENT AND DIRECTOR OF INTERGOVERNMENTAL AFFAIRS                                            \n",
       "5   SPECIAL ASSISTANT TO THE PRESIDENT AND DIRECTOR OF COMMUNICATIONS FOR THE FIRST LADY                                   \n",
       "6   SENIOR POLICY ADVISOR                                                                                                  \n",
       "7   ASSOCIATE DIRECTOR OF INTERGOVERNMENTAL AFFAIRS                                                                        \n",
       "8   STAFF ASSISTANT                                                                                                        \n",
       "9   SPECIAL ASSISTANT TO THE DIRECTOR OF THE OFFICE OF POLITICAL STRATEGY AND OUTREACH                                     \n",
       "10  SPECIAL ASSISTANT TO THE PRESIDENT FOR MESSAGE PLANNING                                                                \n",
       "11  PRESS ASSISTANT                                                                                                        \n",
       "12  DEPUTY DIRECTOR OF PUBLIC ENGAGEMENT                                                                                   \n",
       "13  ANALYST                                                                                                                \n",
       "14  ASSOCIATE COUNSEL                                                                                                      \n",
       "15  SPECIAL ASSISTANT TO THE PRESIDENT AND HOUSE LEGISLATIVE AFFAIRS LIAISON                                               \n",
       "16  SENIOR ADVISOR FOR THE NATIONAL ECONOMIC COUNCIL                                                                       \n",
       "17  DEPUTY ASSISTANT TO THE PRESIDENT AND DIRECTOR OF THE OFFICE OF PUBLIC ENGAGEMENT                                      \n",
       "18  STAFF ASSISTANT                                                                                                        \n",
       "19  DEPUTY ASSISTANT TO THE PRESIDENT FOR THE OFFICE OF URBAN AFFAIRS, JUSTICE, AND OPPORTUNITY                            \n",
       "20  DIGITAL CREATIVE DIRECTOR                                                                                              \n",
       "21  SENIOR POLICY ADVISOR                                                                                                  \n",
       "22  SENIOR ANALYST AND PROJECT MANAGER                                                                                     \n",
       "23  SPECIAL ASSISTANT TO THE PRESIDENT AND ASSOCIATE COUNSEL TO THE PRESIDENT                                              \n",
       "24  DEPUTY ASSISTANT TO THE PRESIDENT AND DEPUTY CABINET SECRETARY                                                         \n",
       "25  PRESS ASSISTANT                                                                                                        \n",
       "26  DEPUTY DIRECTOR OF RESEARCH                                                                                            \n",
       "27  ANALYST                                                                                                                \n",
       "28  ASSISTANT TO THE PRESIDENT AND DIRECTOR OF THE WHITE HOUSE MILITARY OFFICE                                             \n",
       "29  ASSISTANT PRESS SECRETARY                                                                                              \n",
       "30  PRESS LEAD                                                                                                             \n",
       "⋮   ⋮                                                                                                                      \n",
       "445 DIRECTOR OF INTERNATIONAL AFFAIRS AND SENIOR POLICY ADVISOR                                                            \n",
       "446 STAFF ASSISTANT                                                                                                        \n",
       "447 SPECIAL ASSISTANT TO THE PRESIDENT AND ADVISOR TO THE OFFICE OF THE CHIEF OF STAFF                                     \n",
       "448 DEPUTY PRESS SECRETARY FOR THE FIRST LADY                                                                              \n",
       "449 LEGISLATIVE ASSISTANT AND ASSISTANT TO THE SENATE LIAISON                                                              \n",
       "450 DEPUTY POLICY DIRECTOR FOR IMMIGRATION                                                                                 \n",
       "451 SENIOR DIRECTOR OF CABINET AFFAIRS                                                                                     \n",
       "452 TRIP COORDINATOR                                                                                                       \n",
       "453 DEPUTY DIRECTOR OF ONLINE ENGAGEMENT                                                                                   \n",
       "454 ASSOCIATE COUNSEL                                                                                                      \n",
       "455 DEPUTY ASSISTANT TO THE PRESIDENT AND STAFF SECRETARY                                                                  \n",
       "456 SPECIAL ASSISTANT AND ADVISOR TO THE CHIEF OF STAFF                                                                    \n",
       "457 DIRECTOR OF AFRICAN-AMERICAN MEDIA                                                                                     \n",
       "458 PRESIDENTIAL WRITER                                                                                                    \n",
       "459 DIRECTOR, OFFICE OF SOCIAL INNOVATION AND CIVIC PARTICIPATION                                                          \n",
       "460 ASSISTANT TO THE EXECUTIVE CLERK                                                                                       \n",
       "461 DEPUTY ASSISTANT TO THE PRESIDENT AND SENIOR ADVISOR TO THE FIRST LADY                                                 \n",
       "462 SENIOR POLICY ANALYST                                                                                                  \n",
       "463 DEPUTY DIRECTOR FOR FINANCE                                                                                            \n",
       "464 ASSOCIATE DIRECTOR FOR THE MANAGEMENT AND ADMINISTRATION FRONT OFFICE                                                  \n",
       "465 EXECUTIVE ASSISTANT                                                                                                    \n",
       "466 STAFF ASSISTANT                                                                                                        \n",
       "467 STENOGRAPHER                                                                                                           \n",
       "468 SENIOR MANAGEMENT ANALYST                                                                                              \n",
       "469 LEGISLATIVE ASSISTANT                                                                                                  \n",
       "470 ASSOCIATE COMMUNICATIONS DIRECTOR                                                                                      \n",
       "471 RECORDS MANAGEMENT ANALYST                                                                                             \n",
       "472 STAFF ASSISTANT                                                                                                        \n",
       "473 ASSOCIATE COUNSEL                                                                                                      \n",
       "474 ASSISTANT TO THE PRESIDENT FOR ECONOMIC POLICY AND DIRECTOR OF THE NATIONAL ECONOMIC COUNCIL                           "
      ]
     },
     "metadata": {},
     "output_type": "display_data"
    }
   ],
   "source": [
    "salaries "
   ]
  },
  {
   "cell_type": "code",
   "execution_count": 70,
   "metadata": {
    "collapsed": true
   },
   "outputs": [
    {
     "name": "stdout",
     "output_type": "stream",
     "text": [
      "                         Name\n",
      "1          Abdullah, Hasan A.\n",
      "2           Abraham, Sabey M.\n",
      "3        Abraham, Yohannes A.\n",
      "4          Abramson, Jerry E.\n",
      "5          Adler, Caroline E.\n",
      "6            Aiyer, Vikrum D.\n",
      "7           Alcantara, Elias \n",
      "8            Ali, Mohammed I.\n",
      "9          Allen, Angelica P.\n",
      "10        Allen, Elizabeth M.\n",
      "11          Allen, Jessica L.\n",
      "12         Allison, Ashley R.\n",
      "13     Amendolare, Vincent C.\n",
      "14            Amuluru, Uma M.\n",
      "15        Anderson, Amanda D.\n",
      "16       Anderson, Charles D.\n",
      "17      Aniskoff, Paulette L.\n",
      "18       Ashton, Nathaniel R.\n",
      "19        Austin, Jr., Roy L.\n",
      "20         Axios, Ashleigh T.\n",
      "21      Babajide, Ayotunde T.\n",
      "22                 Bae, Yena \n",
      "23            Baker, Sarah E.\n",
      "24            Bansal, Gaurab \n",
      "25         Barnes, Desiree N.\n",
      "26      Bartoloni, Kristen A.\n",
      "27         Beckford, Kevin F.\n",
      "28        Beliveau, Emmett S.\n",
      "29         Benenati, Frank J.\n",
      "30        Bennett, Tabitha R.\n",
      "31         Bentley, Lauren G.\n",
      "32           Berg, Kristen E.\n",
      "33          Berger, Samuel K.\n",
      "34      Bernstein, Cynthia R.\n",
      "35     Bertagnoll, Brendan P.\n",
      "36       Billingsley, Tara L.\n",
      "37         Bisognano, John P.\n",
      "38         Blair, Patricia A.\n",
      "39        Blakemore, Emily D.\n",
      "40     Bleiweis, Alexander A.\n",
      "41           Block, Sharon I.\n",
      "42        Blount, Patricia H.\n",
      "43           Blume, Kolbie A.\n",
      "44      Bollinger, Chelsea M.\n",
      "45       Bosworth, Michael S.\n",
      "46         Bowerman, Heidi L.\n",
      "47            Boyd, Blaine A.\n",
      "48            Boyle, Emily M.\n",
      "49       Branch, Katherine Y.\n",
      "50     Brandenburg, Hilary R.\n",
      "51              Bray, Alan R.\n",
      "52          Brayton, Jenna C.\n",
      "53     Breckenridge, Anita J.\n",
      "54      Breitenbeck, Casey L.\n",
      "55          Brinker, Sonja C.\n",
      "56       Briscoe, Rochelle B.\n",
      "57       Broadie, Kristina T.\n",
      "58            Brooke, Mary J.\n",
      "59         Brooks, Douglas M.\n",
      "60          Brooks, Jordan A.\n",
      "61           Brosius, Rory M.\n",
      "62           Brown, Debra S. \n",
      "63         Brown, Tramaine D.\n",
      "64           Brundage, Amy J.\n",
      "65          Brush, Michael P.\n",
      "66         Burger, Jillian M.\n",
      "67        Burglass, Summer A.\n",
      "68        Burke, Katherine R.\n",
      "69           Burns, Annina C.\n",
      "70       Campbell, Frances L.\n",
      "71      Canegallo, Kristie A.\n",
      "72          Cardona, Mario R.\n",
      "73            Carmen, Evan S.\n",
      "74         Carson, Crystal M.\n",
      "75         Ceronsky, Megan M.\n",
      "76          Chan, Emmanuel M.\n",
      "77           Chiza, Glorie B.\n",
      "78           Claude, Lilia H.\n",
      "79             Click, John S.\n",
      "80          Coates, Kelsey A.\n",
      "81          Cobbina, Kwesi A.\n",
      "82            Cohen, Ilona R.\n",
      "83         Cohen, Mitchell R.\n",
      "84             Cohen, Nora E.\n",
      "85         Coleman, Pamela D.\n",
      "86      Conn-Powers, Alyse C.\n",
      "87         Contreras, Nita N.\n",
      "88            Cooper, Anna M.\n",
      "89         Costa, Kristina L.\n",
      "90        Cunnane, Patrick J.\n",
      "91          Cushman, Chase M.\n",
      "92         Cutillo, Andrew D.\n",
      "93  Dansky Bari, Dominique A.\n",
      "94     D'Arcangelo, Nicole M.\n",
      "95       Dautzenberg, John P.\n",
      "96              Dechter, Gadi\n",
      "97            Deese, Brian C.\n",
      "98          Degen, Gregory R.\n",
      "99         DeGuzman, Brian K.\n",
      "100    DeGuzman, Jr., Danilo \n",
      "101      Dessources, Kalisha \n",
      "102        DeValk, Randall J.\n",
      "103     Devaney, Stephanie A.\n",
      "104        Diamond, Robert I.\n",
      "105           Dietz, David R.\n",
      "106          Dillon, Molly D.\n",
      "107       Dinneen, Jacklyn D.\n",
      "108      Dominguez, Daniel J.\n",
      "109        Donohue, Kelsey A.\n",
      "110       Donovan, Michael W.\n",
      "111   Dorey-Stein, Rebecca C.\n",
      "112      Dorsainvil, Monique \n",
      "113          Doukas, Diana L.\n",
      "114         Droege, Philip C.\n",
      "115            Dumas, Clay A.\n",
      "116        Durheim, Joseph T.\n",
      "117           Dyer, Deesha A.\n",
      "118        Earnest, Joshua R.\n",
      "119          Edelman, Ross D.\n",
      "120         Edmonds, Anita J.\n",
      "121            Egan, Brian J.\n",
      "122      Eggleston, Warren N.\n",
      "123        Eisenberg, Lynn D.\n",
      "124            Elias, John W.\n",
      "125       Eschmeyer, Debra L.\n",
      "126       Escobar, Felicia A.\n",
      "127        Etienne, Ashley D.\n",
      "128       Evans, Elisabeth W.\n",
      "129           Evans, Karen M.\n",
      "130             Faed, Pantea \n",
      "131     Fallon, Katherine B. \n",
      "132          Fatemi, Mandana \n",
      "133          Fay, Jennifer M.\n",
      "134       Federico, Carina C.\n",
      "135    Ferguson, Katharine W.\n",
      "136          Fiddler, Leah C.\n",
      "137       Figures, Shomari C.\n",
      "138      Fistonich, George M.\n",
      "139      Fitzgerald, Quinn S.\n",
      "140       Fleming, Camylle J.\n",
      "141   Fonzone, Christopher C.\n",
      "142         Ford, Harrison A.\n",
      "143        Foster, Heather J.\n",
      "144          Freeman, Myra B.\n",
      "145     Friedman, Jennifer B.\n",
      "146       Friedman, Joshua N.\n",
      "147   Frohlichstein, Richard \n",
      "148    Gabriel, Jr., Brian A.\n",
      "149        Gainedi, Sriramya \n",
      "150    Gallogly, Katharine S.\n",
      "151         Galloway, John M.\n",
      "152           Garber, Adam W.\n",
      "153      Gaughran, Kaitlin D.\n",
      "154      George, Elizabeth L.\n",
      "155       Gianotti, Claire L.\n",
      "156           Gillum, Bria L.\n",
      "157         Goldman, Jason B.\n",
      "158         Gonzalez, Ximena \n",
      "159      Gordon, Gabriella J.\n",
      "160        Govashiri, Ferial \n",
      "161              Gray, Ian Q.\n",
      "162         Green, Valerie E.\n",
      "163       Grigonis, Alison M.\n",
      "164        Grimes, Stephen H.\n",
      "165          Gurman, Jesse A.\n",
      "166     Gustavson, Matthew J.\n",
      "167     Gwynn, II, Artemus R.\n",
      "168          Haines, Avril D.\n",
      "169             Hakim, Neema \n",
      "170        Hankins, Hannah R.\n",
      "171           Hanlon, Seth D.\n",
      "172        Hardikar, Aditi S.\n",
      "173       Harris, Adrienne A.\n",
      "174     Harris, Jacqueline B.\n",
      "175         Hartz, Timothy S.\n",
      "176    Harwood, Maria-Zena A.\n",
      "177           Hassan, Zaid B.\n",
      "178          Hegde, Shilpa S.\n",
      "179       Heinzelman, Kate E.\n",
      "180      Herczeg, Jonathan A.\n",
      "181         Herman, Daniel J.\n",
      "182  Hicks Delgado, Tequia M.\n",
      "183          Higley, Lacey E.\n",
      "184              Hoang, Vy T.\n",
      "185           Hobbs, James R.\n",
      "186        Hoffine, Brandi S.\n",
      "187         Holst, Lindsay L.\n",
      "188         Hoover, Zealan T.\n",
      "189        Hornung, Daniel Z.\n",
      "190      Houshower, Samuel B.\n",
      "191               Hsu, Irene \n",
      "192     Hudson, Jr., David L.\n",
      "193           Hunt, Thomas F.\n",
      "194         Hurwitz, Sarah K.\n",
      "195           Ismail, Lori J.\n",
      "196      Jackson, Bartlett W.\n",
      "197         Jackson, Jamie L.\n",
      "198       Jackson, Theresa R.\n",
      "199          Jacob, Susannah \n",
      "200       Jacobson, Daniel F.\n",
      "201       Jarrett, Valerie B.\n",
      "202     Johnson, Broderick D.\n",
      "203         Johnson, Linda M.\n",
      "204         Jones, Crystal B.\n",
      "205         Jones, Kristin T.\n",
      "206          Jones, Sidney L.\n",
      "207         Jones, Stefani A.\n",
      "208         Jones, Takesha R.\n",
      "209         Kader, Gabriel D.\n",
      "210        Kalbaugh, David E.\n",
      "211             Kale, Katy A.\n",
      "212           Kane, Amanda J.\n",
      "213      Kang, Christopher D.\n",
      "214   Katz-Hernandez, Leah B.\n",
      "215        Kawahata, Molly M.\n",
      "216         Keenan, Ashley E.\n",
      "217           Keenan, Cody S.\n",
      "218         Keeney, Andrew J.\n",
      "219       Kelly, Elizabeth A.\n",
      "220          Kelly, Lauren M.\n",
      "221           Kelly, Nijah C.\n",
      "222         Kilaru, Rakesh N.\n",
      "223               Kim, Julia \n",
      "224       King, Taeshonnda C.\n",
      "225       Kissinger, Alexa M.\n",
      "226            Kline, Lacy R.\n",
      "227             Ko, Alissa L.\n",
      "228     Kochman, Katherine H.\n",
      "229             Koo, Stacy J.\n",
      "230      Kreikemeier, Chad R.\n",
      "231      Krueger, Benjamin S.\n",
      "232            Kupe, Laura J.\n",
      "233           Kvaal, James R.\n",
      "234        Lacko, Michelle V.\n",
      "235        Lambrew, Jeanne M.\n",
      "236          Lamm, Garrett C.\n",
      "237         Langner, Emily R.\n",
      "238         Larimer, Becky S.\n",
      "239         Larkin, Kellie N.\n",
      "240     Larrimore, Zachary T.\n",
      "241        Lartey, Solomon D.\n",
      "242        Layden, William J.\n",
      "243    Le Mon, Christopher J.\n",
      "244       Leary, Kimberlyn R.\n",
      "245     Lechtenberg, Tyler A.\n",
      "246                Lee, Gi H.\n",
      "247             Lee, Jesse C.\n",
      "248          Lee, Jonathan S.\n",
      "249          Lee, Victoria J.\n",
      "250      Leibenluft, Jacob D.\n",
      "251        Lessne, Allison B.\n",
      "252          Levine, Sarah L.\n",
      "253         Lezotte, Darin R.\n",
      "254          Lierman, Kyle J.\n",
      "255        Lillard, Brooke M.\n",
      "256         Lillie, Jordan N.\n",
      "257            Lin, Austin Y.\n",
      "258            Litt, David M.\n",
      "259            Loeb, Emily M.\n",
      "260 Loewentheil, Nathaniel F.\n",
      "261           Lopez, David J.\n",
      "262        Lorjuste, Gregory \n",
      "263         Lustig, Taylor J.\n",
      "264        MacDonald, John J.\n",
      "265        MacFarquhar, Rory \n",
      "266         Magana, Genevieve\n",
      "267       Mahoney, Caitria L.\n",
      "268            Main, Galen E.\n",
      "269    Malachowski, Nicole M.\n",
      "270           Maley, Keith R.\n",
      "271       Malik, Quratul-Ann \n",
      "272        Mann, Dominique J.\n",
      "273         Marcus, Robert N.\n",
      "274         Martin, Darren D.\n",
      "275       Martz, Stephanie A.\n",
      "276        Mattson, Philip C.\n",
      "277     McCathran, William W.\n",
      "278        McCombs, Claire E.\n",
      "279     McCormick, Michael J.\n",
      "280        McDermott, Hugh C.\n",
      "281       McDonough, Denis R.\n",
      "282        McKay, Caroline M.\n",
      "283   McLaughlin, Margaret T.\n",
      "284        McPhail, Taylor M.\n",
      "285      McQuaid, Nicholas R.\n",
      "286      Mellody, Kathleen L.\n",
      "287           Menon, Ajita T.\n",
      "288        Merrick, Kelsey R.\n",
      "289     Mesiwala, Alefiyah K.\n",
      "290         Mevis, Kathryn E.\n",
      "291         Meyer, Kenneth A.\n",
      "292          Miller, Jason S.\n",
      "293         Millison, Chad L.\n",
      "294     Millones, Danielle V.\n",
      "295      Miraaj-Raza, Sidrah \n",
      "296         Miterko, Kelly C.\n",
      "297         Mokros, Andrea K.\n",
      "298           Monaco, Lisa O.\n",
      "299           Moore, Jesse D.\n",
      "300    Moore, Jr., Michael P.\n",
      "301          Moose, Amanda D.\n",
      "302       Mosteller, Brian D.\n",
      "303          Mulhall, Erin C.\n",
      "304    Mulholland, Melissa C.\n",
      "305           Muñoz, Cecilia \n",
      "306           Munro, Marea L.\n",
      "307        Murphy, Allison F.\n",
      "308       Murray, Shailagh J.\n",
      "309          Neiman, Wanda M.\n",
      "310        Nelson, Gregory S.\n",
      "311      Nerurkar, Neelesh L.\n",
      "312          Newman, David A.\n",
      "313           Nguyen, Eric S.\n",
      "314 Nicholson, Jr., Marvin D.\n",
      "315           Noble, David L.\n",
      "316           Noor, Fatima M.\n",
      "317         Norris, Amanda J.\n",
      "318      Nosanchuk, Mathew S.\n",
      "319       Oakar, Catherine R.\n",
      "320     O'Connor, Jennifer M.\n",
      "321      O'Leary, Kathleen M.\n",
      "322      Olinsky, Benjamin C.\n",
      "323      Olorunnipa, Funmi E.\n",
      "324         Owens, Rodrick T.\n",
      "325         Pan, Elizabeth H.\n",
      "326          Paone, Martin P.\n",
      "327             Park, Todd Y.\n",
      "328           Pate, Brian  E.\n",
      "329             Patel, Rohan \n",
      "330      Patterson, Edward D.\n",
      "331       Paulsen, Joseph  B.\n",
      "332            Payne, John H.\n",
      "333         Pèrez, Alejandro \n",
      "334           Peri, Sarada K.\n",
      "335     Perkins, Nathaniel M.\n",
      "336          Peterson, Ann R.\n",
      "337          Phan, Jessica H.\n",
      "338  Pielemeier, Katherine L.\n",
      "339     Platkin, Alexandra R.\n",
      "340       Platt, Katherine A.\n",
      "341        Poese, Caroline S.\n",
      "342        Pollack, Joshua D.\n",
      "343        Presser, Jeremy S.\n",
      "344       Preve, Alexander W.\n",
      "345            Price, Ryan L.\n",
      "346             Pruski, Jacek\n",
      "347        Psaki, Jennifer R.\n",
      "348          Purse, Andrea E.\n",
      "349      Quillian, Natalie H.\n",
      "350        Racusen, Rachel J.\n",
      "351             Rafi, Hina A.\n",
      "352            Raizk, Paul S.\n",
      "353           Rana, Yasmin S.\n",
      "354     Rangel, Antoinette N.\n",
      "355          Rapp, Jeffrey J.\n",
      "356        Raynor, Jessica J.\n",
      "357        Recordon, David B.\n",
      "358          Reeves, Fiona O.\n",
      "359       Rhodes, Benjamin J.\n",
      "360            Rice, Susan E.\n",
      "361       Richards, Kaelan E.\n",
      "362       Richardson, Erin E.\n",
      "363         Roach, Cynthia L.\n",
      "364         Roberts, Brian D.\n",
      "365         Robinson, Ryan S.\n",
      "366      Roddick, Gertrude A.\n",
      "367       Rodriguez, Julie C.\n",
      "368     Rodriguez, Roberto J.\n",
      "369          Rogers, Melissa \n",
      "370          Rooney, Megan E.\n",
      "371             Rosa, Luke B.\n",
      "372         Rosenbaum, Amy D.\n",
      "373        Rosholm, Joanna S.\n",
      "374     Rothblum, Michelle L.\n",
      "375          Rothman, Mika L.\n",
      "376            Rouse, Hana N.\n",
      "377         Rowe, Courtney M.\n",
      "378           Rowe, Zawadi J.\n",
      "379        Rusche, William M.\n",
      "380         Ruskin, Rachel M.\n",
      "381          Ruvin, Hallie M.\n",
      "382            Saenz, Adrian \n",
      "383  Samuels, Jr., Wendell A.\n",
      "384      Sandoval, Kenneth A.\n",
      "385      Sarkesian, Lauren A.\n",
      "386          Sarsour, Nora N.\n",
      "387             Sass, Joan C.\n",
      "388       Satkowiak, Karly M.\n",
      "389         Schafer, Ellie S.\n",
      "390         Schinazi, Yann D.\n",
      "391        Schmuck, Robert E.\n",
      "392     Schneider, Michael P.\n",
      "393        Schneir, Hallie R.\n",
      "394      Schousen, Matthew R.\n",
      "395         Schulman, Kori S.\n",
      "396          Schultz, Eric H.\n",
      "397           Scott, Karen M.\n",
      "398         Seidman, David L.\n",
      "399        Sendroff, Jesse L.\n",
      "400              Sgro, Max C.\n",
      "401         Shevlin, Paige L.\n",
      "402         Showers, Wendy W.\n",
      "403       Siegler, Matthew A.\n",
      "404           Simas, David M.\n",
      "405     Singletary, Barvetta \n",
      "406         Sisson, Donald C.\n",
      "407           Slabey, Jill D.\n",
      "408     Smart, Christopher W.\n",
      "409     Smith, II, Michael D.\n",
      "410           Smith, Jason J.\n",
      "411       Smith, Mackenzie R.\n",
      "412       Somanader, Tanya I.\n",
      "413       Sopko, Alexandra L.\n",
      "414            Sponzo, Jem C.\n",
      "415         Spooner, Sarah C.\n",
      "416       Stegman, Michael A.\n",
      "417      Stephens, Jeffrey M.\n",
      "418             Stock, Ann N.\n",
      "419          Stone, Amanda E.\n",
      "420          Strome, Grace W.\n",
      "421        Sunshine, James R.\n",
      "422       Suntum, Margaret M.\n",
      "423        Tabor, Nicholas K.\n",
      "424     Taggart, Jr., Hugh T.\n",
      "425            Tate, Lucas L.\n",
      "426   Tate-Gilmore, Ashley R.\n",
      "427       Tchen, Christina M.\n",
      "428          Teater, Louis D.\n",
      "429           Tedmon, Dirk A.\n",
      "430      Temaat, Stephanie M.\n",
      "431            Then, Corey M.\n",
      "432          Thiele, Raina D.\n",
      "433         Thomas, Debbie A.\n",
      "434     Thomas, III, Edwin R.\n",
      "435        Tiller, Jeffrey D.\n",
      "436            Town, Maria M.\n",
      "437       Trainor, Gregory T.\n",
      "438        Tucker, Phyllis J.\n",
      "439             Utech, Dan G.\n",
      "440      Vahlsing, Candace M.\n",
      "441      Vargas, Katherine A.\n",
      "442    Varghese, Elizabeth J.\n",
      "443         Varghese, Maju S.\n",
      "444            Velz, Peter T.\n",
      "445    Vignarajah, Krishanti \n",
      "446           Vilfer, Ryan E.\n",
      "447         Vorhaus, David A.\n",
      "448       Vrazilek, Lauren S.\n",
      "449       Wagstaff, Jesica E.\n",
      "450            Waheed, Manar \n",
      "451         Wainscott, Kip F.\n",
      "452       Waldo, Katherine A.\n",
      "453        Wall, Alexander B.\n",
      "454           Walsh, James D.\n",
      "455            Walsh, Joan L.\n",
      "456               Wang, Ya W.\n",
      "457       Whisenant, Addie M.\n",
      "458          Wild, Clayton S.\n",
      "459  Wilkinson, Jr., David E.\n",
      "460      Williams, Sherman A.\n",
      "461        Winter, Melissa E.\n",
      "462         Wong, Jacqueline \n",
      "463          Wright, Frank B.\n",
      "464          Wu, Alexander P.\n",
      "465           Xharda, Klevis \n",
      "466         Yaros, Stephen G.\n",
      "467         Young, Caitlin E.\n",
      "468   Young, Jr., Reginald D.\n",
      "469        Young, Kimberly E.\n",
      "470       Young, Stephanie L.\n",
      "471         Young, Valerie A.\n",
      "472         Yudelson, Alex R.\n",
      "473             Zaid, Zaid A.\n",
      "474        Zients, Jeffrey D.\n"
     ]
    }
   ],
   "source": [
    "print(salaries[1])"
   ]
  },
  {
   "cell_type": "markdown",
   "metadata": {},
   "source": [
    "# 7: Finding A Vector's Length"
   ]
  },
  {
   "cell_type": "markdown",
   "metadata": {},
   "source": [
    "# Instructions\n",
    "Find the length of the salaries vector and assign the result to salariesLength.\n",
    "Hint\n",
    "Remember to use the length function."
   ]
  },
  {
   "cell_type": "code",
   "execution_count": 73,
   "metadata": {},
   "outputs": [
    {
     "name": "stdout",
     "output_type": "stream",
     "text": [
      "[1] 3\n",
      "[1] 5\n"
     ]
    }
   ],
   "source": [
    "runDistances <- c(20, 10.5, 30)\n",
    "\n",
    "print(length(runDistances))\n",
    "\n",
    "salariesLength = print(length(salaries))"
   ]
  },
  {
   "cell_type": "markdown",
   "metadata": {},
   "source": [
    "# 8: Performing Math On Vectors"
   ]
  },
  {
   "cell_type": "code",
   "execution_count": 74,
   "metadata": {
    "collapsed": true
   },
   "outputs": [],
   "source": [
    "stockPrices <- c(10, 9, 11, 15)"
   ]
  },
  {
   "cell_type": "code",
   "execution_count": 75,
   "metadata": {},
   "outputs": [
    {
     "data": {
      "text/html": [
       "<ol class=list-inline>\n",
       "\t<li>10</li>\n",
       "\t<li>9</li>\n",
       "\t<li>11</li>\n",
       "\t<li>15</li>\n",
       "</ol>\n"
      ],
      "text/latex": [
       "\\begin{enumerate*}\n",
       "\\item 10\n",
       "\\item 9\n",
       "\\item 11\n",
       "\\item 15\n",
       "\\end{enumerate*}\n"
      ],
      "text/markdown": [
       "1. 10\n",
       "2. 9\n",
       "3. 11\n",
       "4. 15\n",
       "\n",
       "\n"
      ],
      "text/plain": [
       "[1] 10  9 11 15"
      ]
     },
     "metadata": {},
     "output_type": "display_data"
    }
   ],
   "source": [
    "stockPrices"
   ]
  },
  {
   "cell_type": "code",
   "execution_count": 76,
   "metadata": {},
   "outputs": [
    {
     "name": "stdout",
     "output_type": "stream",
     "text": [
      "[1] 12 11 13 17\n"
     ]
    }
   ],
   "source": [
    "print(stockPrices + 2)"
   ]
  },
  {
   "cell_type": "code",
   "execution_count": 77,
   "metadata": {},
   "outputs": [
    {
     "name": "stdout",
     "output_type": "stream",
     "text": [
      "[1] 10  9 11 15\n"
     ]
    }
   ],
   "source": [
    "print(stockPrices)"
   ]
  },
  {
   "cell_type": "code",
   "execution_count": 81,
   "metadata": {
    "collapsed": true
   },
   "outputs": [
    {
     "name": "stderr",
     "output_type": "stream",
     "text": [
      "Warning message in Ops.factor(left, right):\n",
      "“‘/’ not meaningful for factors”Warning message in Ops.factor(left, right):\n",
      "“‘/’ not meaningful for factors”Warning message in Ops.factor(left, right):\n",
      "“‘/’ not meaningful for factors”Warning message in Ops.factor(left, right):\n",
      "“‘/’ not meaningful for factors”"
     ]
    }
   ],
   "source": [
    "lowerSalaries <- salaries / 3"
   ]
  },
  {
   "cell_type": "markdown",
   "metadata": {},
   "source": [
    "# 9: Using The Carrot To Overwrite Variables"
   ]
  },
  {
   "cell_type": "code",
   "execution_count": 82,
   "metadata": {
    "collapsed": true
   },
   "outputs": [],
   "source": [
    "stockPrices <- c(10, 9, 11, 15)"
   ]
  },
  {
   "cell_type": "code",
   "execution_count": 83,
   "metadata": {
    "collapsed": true
   },
   "outputs": [],
   "source": [
    "stockPrices <- stockPrices * 2"
   ]
  },
  {
   "cell_type": "code",
   "execution_count": 84,
   "metadata": {},
   "outputs": [
    {
     "name": "stdout",
     "output_type": "stream",
     "text": [
      "[1] 20 18 22 30\n"
     ]
    }
   ],
   "source": [
    "print(stockPrices)"
   ]
  },
  {
   "cell_type": "code",
   "execution_count": 87,
   "metadata": {
    "collapsed": true
   },
   "outputs": [],
   "source": [
    "salaries <- salaries - 5000"
   ]
  },
  {
   "cell_type": "markdown",
   "metadata": {},
   "source": [
    "# 10: Using The Help Function To Get Help With R"
   ]
  },
  {
   "cell_type": "code",
   "execution_count": 88,
   "metadata": {
    "collapsed": true
   },
   "outputs": [],
   "source": [
    "help(class)"
   ]
  },
  {
   "cell_type": "code",
   "execution_count": 89,
   "metadata": {
    "collapsed": true
   },
   "outputs": [],
   "source": [
    "?class"
   ]
  }
 ],
 "metadata": {
  "kernelspec": {
   "display_name": "R",
   "language": "R",
   "name": "ir"
  },
  "language_info": {
   "codemirror_mode": "r",
   "file_extension": ".r",
   "mimetype": "text/x-r-source",
   "name": "R",
   "pygments_lexer": "r",
   "version": "3.3.2"
  }
 },
 "nbformat": 4,
 "nbformat_minor": 2
}
