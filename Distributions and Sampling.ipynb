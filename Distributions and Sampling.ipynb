{
 "cells": [
  {
   "cell_type": "markdown",
   "metadata": {},
   "source": [
    "# 1. Exploring The Data\n",
    "Instructions Find the county with the lowest median income in the US (median_income). Assign the name of the county (county) to lowest_income_county.\n",
    "Find the county that has more than 500000 residents with the lowest median income. Assign the name of the county to lowest_income_high_pop_county.\n",
    "Hint\n",
    "The .idxmin() function will find the index of the minimum value in a column. income[\"median_income\"].idxmin() will find the index of the row with the lowest median income."
   ]
  },
  {
   "cell_type": "code",
   "execution_count": 4,
   "metadata": {
    "collapsed": false
   },
   "outputs": [],
   "source": [
    "import pandas as pd\n",
    "import numpy as np\n",
    "import matplotlib.pyplot as plt\n",
    "\n",
    "income = pd.read_csv(\"ACS_15_1YR_S2601C_metadata.csv\")\n",
    "\n",
    "print(income.head(3))\n",
    "\n",
    "lowest_income_county = income[\"county\"][income[\"median_income\"].idxmin()]\n",
    "high_pop = income[\"pop_over_25\"] > 500000\n",
    "lowest_income_high_pop_county = high_pop[\"county\"][high_pop[\"median_income\"].idxmin()]"
   ]
  },
  {
   "cell_type": "markdown",
   "metadata": {},
   "source": [
    "# 2. Random Numbers\n",
    "Instructions Set a random seed of 20 and generate a list of 10 random numbers between the values 0 and 10.\n",
    "Assign the list to new_sequence.\n",
    "Hint\n",
    "Remember to use random.seed() to set a random seed."
   ]
  },
  {
   "cell_type": "code",
   "execution_count": 4,
   "metadata": {
    "collapsed": false
   },
   "outputs": [
    {
     "name": "stdout",
     "output_type": "stream",
     "text": [
      "[9, 0, 6, 7, 9]\n",
      "[9, 0, 6, 7, 9]\n",
      "[7, 8, 7, 7, 8]\n",
      "[10, 2, 4, 10, 10, 1, 5, 9, 2, 0]\n"
     ]
    }
   ],
   "source": [
    "import random\n",
    "\n",
    "# Returns a random integer between the numbers 0 and 10, inclusive.\n",
    "num = random.randint(0, 10)\n",
    "\n",
    "# Generate a sequence of 10 random numbers between the values of 0 and 10.\n",
    "random_sequence = [random.randint(0, 10) for _ in range(10)]\n",
    "\n",
    "# Sometimes, when we generate a random sequence, we want it to be the same sequence whenever the program is run.\n",
    "# An example is when you use random numbers to select a subset of the data, and you want other people\n",
    "# looking at the same data to get the same subset.\n",
    "# We can ensure this by setting a random seed.\n",
    "# A random seed is an integer that is used to \"seed\" a random number generator.\n",
    "# After a random seed is set, the numbers generated after will follow the same sequence.\n",
    "random.seed(10)\n",
    "print([random.randint(0,10) for _ in range(5)])\n",
    "random.seed(10)\n",
    "# Same sequence as above.\n",
    "print([random.randint(0,10) for _ in range(5)])\n",
    "random.seed(11)\n",
    "# Different seed means different sequence.\n",
    "print([random.randint(0,10) for _ in range(5)])\n",
    "\n",
    "random.seed(20)\n",
    "new_sequence = [random.randint(0,10) for _ in range(10)]\n",
    "print(new_sequence)"
   ]
  },
  {
   "cell_type": "markdown",
   "metadata": {},
   "source": [
    "# 3. Selecting Items From A List(demo)"
   ]
  },
  {
   "cell_type": "code",
   "execution_count": 5,
   "metadata": {
    "collapsed": false
   },
   "outputs": [
    {
     "name": "stdout",
     "output_type": "stream",
     "text": [
      "['300', '100', '500', '300']\n"
     ]
    }
   ],
   "source": [
    "shopping = [\"100\",\"300\",\"200\",\"300\",\"500\"]\n",
    "\n",
    "random.seed(1)\n",
    "shopping_sample = random.sample(shopping, 4)\n",
    "\n",
    "print(shopping_sample)"
   ]
  },
  {
   "cell_type": "markdown",
   "metadata": {},
   "source": [
    "# 4. Population Vs Sample\n",
    "Instructions Set the random seed to 1, then generate a medium sample of 100 die rolls. Plot the result using a histogram with 6 bins.\n",
    "Set the random seed to 1, then generate a large sample of 10000 die rolls. Plot the result using a histogram with 6 bins.\n",
    "Hint\n",
    "Use [roll() for _ in range(x)] to generate the rolls, with x being the number of rolls. Use plt.hist(sample, 6) to generate the plot. Make sure to set the seed before generating each sequence of rolls."
   ]
  },
  {
   "cell_type": "code",
   "execution_count": null,
   "metadata": {
    "collapsed": false
   },
   "outputs": [],
   "source": [
    "import matplotlib.pyplot as plt\n",
    "import random\n",
    "\n",
    "def roll():\n",
    "    return random.randint(1, 6)\n",
    "\n",
    "random.seed(1)\n",
    "small_sample = [roll() for _ in range(10)]\n",
    "\n",
    "plt.hist(small_sample, 6)\n",
    "plt.show()\n",
    "\n",
    "random.seed(1)\n",
    "medium_sample = [roll() for _ in range(10)]\n",
    "\n",
    "plt.hist(medium_sample, 6)\n",
    "plt.show()\n",
    "\n",
    "random.seed(1)\n",
    "large_sample = [roll() for _ in range(10)]\n",
    "\n",
    "plt.hist(large_sample, 6)\n",
    "plt.show()"
   ]
  },
  {
   "cell_type": "markdown",
   "metadata": {},
   "source": [
    "# 5. Finding The Right Sample Size\n",
    "Instructions Set the random seed to 1, then generate probabilities for 300 trials of 100 die rolls each. Make a histogram with 20 bins.\n",
    "Set the random seed to 1, then generate probabilities for 300 trials of 1000 die rolls each. Make a histogram with 20 bins.\n",
    "Hint\n",
    "Use probability_of_one(x, y) to generate the rolls, with x being the number of trials, and y being the number of rolls per trial. Use plt.hist(sample, 20) to generate the plot. Make sure to set the seed before generating each set of trials."
   ]
  },
  {
   "cell_type": "code",
   "execution_count": null,
   "metadata": {
    "collapsed": true
   },
   "outputs": [],
   "source": [
    "def probability_of_one(num_trials, num_rolls):\n",
    "    probabilities = []\n",
    "    for i in range(num_trials):\n",
    "        die_rolls = [roll() for _ in range(num_rolls)]\n",
    "        one_prob = len([d for d in die_rolls if d == 1]) / num_rolls\n",
    "        probabilities.append(one_prob)\n",
    "    return probabilities\n",
    "\n",
    "random.seed(1)\n",
    "small_sample = probability_of_one(300, 50)\n",
    "plt.hist(small_sample, 20)\n",
    "plt.show()\n",
    "\n",
    "random.seed(1)\n",
    "medium_sample = probability_of_one(300, 100)\n",
    "plt.hist(medium_sample, 20)\n",
    "plt.show()\n",
    "    \n",
    "random.seed(1)\n",
    "large_sample = probability_of_one(300, 1000)\n",
    "plt.hist(large_sample, 20)\n",
    "plt.show()"
   ]
  },
  {
   "cell_type": "markdown",
   "metadata": {},
   "source": [
    "# 6. What Are The Odds?\n",
    "Instructions Find how many standard deviations away from the mean of large_sample .18 is. Assign the result to deviations_from_mean.\n",
    "Find how many probabilities in large sample are greater than or equal to .18. Assign the result to over_18_count.\n",
    "Hint\n",
    "You can calculate how many standard deviations a value is from the mean by doing abs(value - mean) / standard_deviation."
   ]
  },
  {
   "cell_type": "code",
   "execution_count": null,
   "metadata": {
    "collapsed": true
   },
   "outputs": [],
   "source": [
    "import numpy \n",
    "large_sample_std = numpy.std(large_sample)\n",
    "avg = numpy.mean(large_sample)\n",
    "deviations_from_mean = (.18-avg) / large_sample_std\n",
    "\n",
    "over_18_count = len([p for p in large_sample if p >= .18])"
   ]
  },
  {
   "cell_type": "markdown",
   "metadata": {},
   "source": [
    "# 7. Sampling Counties\n",
    "Instructions Use the select_random_sample function to pick 1000 random samples of 100 counties each from the income data. Find the mean of the median_income column for each sample.\n",
    "Plot a histogram with 20 bins of all the mean median incomes.\n",
    "Hint\n",
    "You can use list comprehensions and the select_random_sample function to to create a list of all the means."
   ]
  },
  {
   "cell_type": "code",
   "execution_count": null,
   "metadata": {
    "collapsed": false
   },
   "outputs": [],
   "source": [
    "# This is the mean median income in any US county.\n",
    "mean_median_income = income[\"median_income\"].mean()\n",
    "print(mean_median_income)\n",
    "\n",
    "def get_sample_mean(start, end):\n",
    "    return income[\"median_income\"][start:end].mean()\n",
    "\n",
    "def find_mean_incomes(row_step):\n",
    "    mean_median_sample_incomes = []\n",
    "    # Iterate over the indices of the income rows\n",
    "    # Starting at 0, and counting in blocks of row_step (0, row_step, row_step * 2, etc).\n",
    "    for i in range(0, income.shape[0], row_step):\n",
    "        # Find the mean median for the row_step counties from i to i+row_step.\n",
    "        mean_median_sample_incomes.append(get_sample_mean(i, i+row_step))\n",
    "    return mean_median_sample_incomes\n",
    "\n",
    "nonrandom_sample = find_mean_incomes(100)\n",
    "plt.hist(nonrandom_sample, 20)\n",
    "plt.show()\n",
    "\n",
    "# What you're seeing above is the result of biased sampling.\n",
    "# Instead of selecting randomly, we selected counties that were next to each other in the data.\n",
    "# This picked counties in the same state more often that not, and created means that didn't represent the whole country.\n",
    "# This is the danger of not using random sampling -- you end up with samples that don't reflect the entire population.\n",
    "# This gives you a distribution that isn't normal.\n",
    "\n",
    "import random\n",
    "def select_random_sample(count):\n",
    "    random_indices = random.sample(range(0, income.shape[0]), count)\n",
    "    return income.iloc[random_indices]\n",
    "\n",
    "random.seed(1)"
   ]
  },
  {
   "cell_type": "markdown",
   "metadata": {},
   "source": [
    "# 8. An Experiment\n",
    "Instructions Select 1000 random samples of 100 counties each from the income data using the select_random_sample method.\n",
    "For each sample:\n",
    "Divide the median_income_hs column by median_income_college to get ratios.\n",
    "Then, find the mean of all the ratios in the sample.\n",
    "Add it to the list, mean_ratios.\n",
    "Plot a histogram containing 20 bins of the mean_ratios list.\n",
    "Hint\n",
    "To select a sample of 100 counties, pass in 100 to select_random_sample. Wrap this code within a for loop that repeats the action 1000 time. For each sample, divide the median_income_hs column of the sample by the median_income_college column of the sample. Then take the mean of these ratios and store it.\n",
    "plt.hist(mean_ratios,20) plots a histogram with 20 bins."
   ]
  },
  {
   "cell_type": "code",
   "execution_count": null,
   "metadata": {
    "collapsed": false
   },
   "outputs": [],
   "source": [
    "import random\n",
    "\n",
    "def select_random_sample(count):\n",
    "    random_indices = random.sample(range(0, income.shape[0]), count)\n",
    "    return income.iloc[random_indices]\n",
    "\n",
    "random.seed(1)\n",
    "mean_ratios = []\n",
    "for i in range(1000):\n",
    "    sample = select_random_sample(100)\n",
    "    ratios = sample[\"median_income_hs\"] / sample[\"median_income_college\"]\n",
    "    mean_ratios.append(ratios.mean())\n",
    "\n",
    "plt.hist(mean_ratios, 20)\n",
    "plt.show()"
   ]
  },
  {
   "cell_type": "markdown",
   "metadata": {},
   "source": [
    "# 9. Statistical Significance\n",
    "Instructions\n",
    "Determine how many values in mean_ratios are greater than or equal to .675.\n",
    "Divide by the total number of items in mean_ratios to get the significance level.\n",
    "Assign the result to significance_value.\n",
    "Hint\n",
    "Use len([m for m in mean_ratios if m >= .675]) to find the number of ratios in mean_ratios greater than or equal to .675. Then divide by len(mean_ratios)."
   ]
  },
  {
   "cell_type": "code",
   "execution_count": null,
   "metadata": {
    "collapsed": false
   },
   "outputs": [],
   "source": [
    "significance_value = None\n",
    "\n",
    "mean_sum = len([m for m in mean_ratios if m >= .675])\n",
    "significance_value = mean_sum / len(mean_ratios)"
   ]
  },
  {
   "cell_type": "markdown",
   "metadata": {},
   "source": [
    "# 10. Final Result(Demo)"
   ]
  },
  {
   "cell_type": "code",
   "execution_count": null,
   "metadata": {
    "collapsed": true
   },
   "outputs": [],
   "source": [
    "# This is \"steeper\" than the graph from before, because it has\n",
    "# 500 items in each sample.\n",
    "\n",
    "random.seeds(1)\n",
    "mean_ratios = []\n",
    "for i in range(1000):\n",
    "    sample = select_random_sample(500)\n",
    "    ratios = sample[\"median_income_hs\"] / sample[\"median_income_college\"]\n",
    "    mean_ratios.append(ratios_mean())\n",
    "\n",
    "plt.hist(mean_ratios, 20)\n",
    "plt.show()"
   ]
  }
 ],
 "metadata": {
  "kernelspec": {
   "display_name": "Python 3",
   "language": "python",
   "name": "python3"
  },
  "language_info": {
   "codemirror_mode": {
    "name": "ipython",
    "version": 3
   },
   "file_extension": ".py",
   "mimetype": "text/x-python",
   "name": "python",
   "nbconvert_exporter": "python",
   "pygments_lexer": "ipython3",
   "version": "3.5.1"
  }
 },
 "nbformat": 4,
 "nbformat_minor": 0
}
