{
 "cells": [
  {
   "cell_type": "markdown",
   "metadata": {
    "collapsed": true
   },
   "source": [
    "# 1. Introduction To The Data\n",
    "Instructions\n",
    "Create a scatter plot with year on the x-axis and lean on the y-axis.\n",
    "Hint\n",
    "plt.scatter(x,y) will create a scatter plot."
   ]
  },
  {
   "cell_type": "code",
   "execution_count": 1,
   "metadata": {
    "collapsed": false
   },
   "outputs": [
    {
     "name": "stdout",
     "output_type": "stream",
     "text": [
      "      lean  year\n",
      "0   2.9642  1975\n",
      "1   2.9644  1976\n",
      "2   2.9656  1977\n",
      "3   2.9667  1978\n",
      "4   2.9673  1979\n",
      "5   2.9688  1980\n",
      "6   2.9696  1981\n",
      "7   2.9698  1982\n",
      "8   2.9713  1983\n",
      "9   2.9717  1984\n",
      "10  2.9725  1985\n",
      "11  2.9742  1986\n",
      "12  2.9757  1987\n"
     ]
    },
    {
     "data": {
      "text/plain": [
       "<matplotlib.collections.PathCollection at 0x11460be10>"
      ]
     },
     "execution_count": 1,
     "metadata": {},
     "output_type": "execute_result"
    },
    {
     "data": {
      "image/png": "[encoded data removed]",
      "text/plain": [
       "<matplotlib.figure.Figure at 0x1121e6dd8>"
      ]
     },
     "metadata": {},
     "output_type": "display_data"
    }
   ],
   "source": [
    "import pandas as pd\n",
    "%matplotlib inline\n",
    "import matplotlib.pyplot as plt\n",
    "\n",
    "pisa = pd.DataFrame({\"year\":range(1975, 1988),\n",
    "                    \"lean\":[2.9642, 2.9644, 2.9656, 2.9667, 2.9673, 2.9688, 2.9696,\n",
    "                           2.9698, 2.9713, 2.9717, 2.9725, 2.9742, 2.9757]})\n",
    "\n",
    "print(pisa)\n",
    "\n",
    "plt.scatter(pisa[\"year\"], pisa[\"lean\"])"
   ]
  },
  {
   "cell_type": "markdown",
   "metadata": {},
   "source": [
    "# 2. Fit The Linear Model\n",
    "Instructions\n",
    "linearfit contains the fitted linear model to our data. Print the summary of the model by using the method .summary().\n",
    "Don't worry about understanding all of the summary, we will cover many of the statistics in the following screens.\n",
    "Hint\n",
    "Wrap the .summary() in a print statement."
   ]
  },
  {
   "cell_type": "code",
   "execution_count": 2,
   "metadata": {
    "collapsed": false
   },
   "outputs": [
    {
     "name": "stdout",
     "output_type": "stream",
     "text": [
      "                            OLS Regression Results                            \n",
      "==============================================================================\n",
      "Dep. Variable:                   lean   R-squared:                       0.988\n",
      "Model:                            OLS   Adj. R-squared:                  0.987\n",
      "Method:                 Least Squares   F-statistic:                     904.1\n",
      "Date:                Sun, 02 Apr 2017   Prob (F-statistic):           6.50e-12\n",
      "Time:                        19:58:03   Log-Likelihood:                 83.777\n",
      "No. Observations:                  13   AIC:                            -163.6\n",
      "Df Residuals:                      11   BIC:                            -162.4\n",
      "Df Model:                           1                                         \n",
      "Covariance Type:            nonrobust                                         \n",
      "==============================================================================\n",
      "                 coef    std err          t      P>|t|      [95.0% Conf. Int.]\n",
      "------------------------------------------------------------------------------\n",
      "const          1.1233      0.061     18.297      0.000         0.988     1.258\n",
      "year           0.0009    3.1e-05     30.069      0.000         0.001     0.001\n",
      "==============================================================================\n",
      "Omnibus:                        0.310   Durbin-Watson:                   1.642\n",
      "Prob(Omnibus):                  0.856   Jarque-Bera (JB):                0.450\n",
      "Skew:                           0.094   Prob(JB):                        0.799\n",
      "Kurtosis:                       2.108   Cond. No.                     1.05e+06\n",
      "==============================================================================\n",
      "\n",
      "Warnings:\n",
      "[1] Standard Errors assume that the covariance matrix of the errors is correctly specified.\n",
      "[2] The condition number is large, 1.05e+06. This might indicate that there are\n",
      "strong multicollinearity or other numerical problems.\n"
     ]
    },
    {
     "name": "stderr",
     "output_type": "stream",
     "text": [
      "//anaconda/envs/py35/lib/python3.5/site-packages/scipy/stats/stats.py:1557: UserWarning: kurtosistest only valid for n>=20 ... continuing anyway, n=13\n",
      "  \"anyway, n=%i\" % int(n))\n"
     ]
    }
   ],
   "source": [
    "import statsmodels.api as sm\n",
    "\n",
    "y = pisa.lean # target\n",
    "X = pisa.year # features\n",
    "X = sm.add_constant(X)\n",
    "\n",
    "linear = sm.OLS(y, X)\n",
    "linearfit = linear.fit()\n",
    "\n",
    "print(linearfit.summary())"
   ]
  },
  {
   "cell_type": "markdown",
   "metadata": {
    "collapsed": true
   },
   "source": [
    "# 3. Define A Basic Linear Model\n",
    "Instructions Using linearfit with data X and y predict the residuals.\n",
    "Residuals are computed by subtracting the observed values from the predicted values.\n",
    "Assign the residuals to variable residuals.\n",
    "Hint\n",
    "Residuals are found by subtracting the prediction by the observed value."
   ]
  },
  {
   "cell_type": "code",
   "execution_count": 3,
   "metadata": {
    "collapsed": false
   },
   "outputs": [
    {
     "name": "stdout",
     "output_type": "stream",
     "text": [
      "[ 2.96377802  2.96470989  2.96564176  2.96657363  2.96750549  2.96843736\n",
      "  2.96936923  2.9703011   2.97123297  2.97216484  2.9730967   2.97402857\n",
      "  2.97496044]\n"
     ]
    }
   ],
   "source": [
    "yhat = linearfit.predict(X)\n",
    "print(yhat)"
   ]
  },
  {
   "cell_type": "code",
   "execution_count": 4,
   "metadata": {
    "collapsed": false
   },
   "outputs": [
    {
     "name": "stdout",
     "output_type": "stream",
     "text": [
      "0     0.000422\n",
      "1    -0.000310\n",
      "2    -0.000042\n",
      "3     0.000126\n",
      "4    -0.000205\n",
      "5     0.000363\n",
      "6     0.000231\n",
      "7    -0.000501\n",
      "8     0.000067\n",
      "9    -0.000465\n",
      "10   -0.000597\n",
      "11    0.000171\n",
      "12    0.000740\n",
      "Name: lean, dtype: float64\n"
     ]
    }
   ],
   "source": [
    "residuals = y - yhat\n",
    "print(residuals)"
   ]
  },
  {
   "cell_type": "markdown",
   "metadata": {},
   "source": [
    "# 4. Histogram Of Residuals\n",
    "Instructions Create a histogram with 5 bins of the residuals using matplotlib's hist() function.\n",
    "The bins parameter allows us to specify the number of bins.\n",
    "Hint\n",
    "plt.hist(x) plots a histogram."
   ]
  },
  {
   "cell_type": "code",
   "execution_count": 5,
   "metadata": {
    "collapsed": false
   },
   "outputs": [
    {
     "data": {
      "text/plain": [
       "(array([ 3.,  2.,  4.,  3.,  1.]),\n",
       " array([ -5.96703297e-04,  -3.29450549e-04,  -6.21978022e-05,\n",
       "          2.05054945e-04,   4.72307692e-04,   7.39560440e-04]),\n",
       " <a list of 5 Patch objects>)"
      ]
     },
     "execution_count": 5,
     "metadata": {},
     "output_type": "execute_result"
    },
    {
     "data": {
      "image/png": "[encoded data removed]",
      "text/plain": [
       "<matplotlib.figure.Figure at 0x116da2748>"
      ]
     },
     "metadata": {},
     "output_type": "display_data"
    }
   ],
   "source": [
    "plt.hist(residuals, bins=5)"
   ]
  },
  {
   "cell_type": "markdown",
   "metadata": {},
   "source": [
    "# 5. Sum Of Squares\n",
    "Instructions Compute the RSS and TSS for our model, linearfit, using the formulas above.\n",
    "Assign the RSS to variable RSS and the TSS to variable TSS.\n",
    "Hint\n",
    "Use formulas above and follow the example shown."
   ]
  },
  {
   "cell_type": "code",
   "execution_count": 6,
   "metadata": {
    "collapsed": false
   },
   "outputs": [
    {
     "name": "stdout",
     "output_type": "stream",
     "text": [
      "1.92285714286e-06\n",
      "0.000158044835165\n",
      "0.000159967692308\n"
     ]
    }
   ],
   "source": [
    "import numpy as np\n",
    "\n",
    "ybar = np.mean(y.values)\n",
    "\n",
    "SSE = np.sum((y.values-yhat)**2)\n",
    "SSR = np.sum((ybar-yhat)**2)\n",
    "SST = np.sum((ybar-y.values)**2)\n",
    "\n",
    "print(SSE)\n",
    "print(SSR)\n",
    "print(SST)"
   ]
  },
  {
   "cell_type": "markdown",
   "metadata": {},
   "source": [
    "# 7. R-Squared\n",
    "Instructions Compute the R-Squared for our model, linearfit. Assign the R-squared to variable R2.\n",
    "Hint\n",
    "Use RSS and TSS that we calculated in the previous screen."
   ]
  },
  {
   "cell_type": "code",
   "execution_count": 7,
   "metadata": {
    "collapsed": false
   },
   "outputs": [
    {
     "name": "stdout",
     "output_type": "stream",
     "text": [
      "0.987979715684\n"
     ]
    }
   ],
   "source": [
    "R2 = SSR/SST\n",
    "print(R2)"
   ]
  },
  {
   "cell_type": "code",
   "execution_count": 8,
   "metadata": {
    "collapsed": false
   },
   "outputs": [
    {
     "name": "stdout",
     "output_type": "stream",
     "text": [
      "0.987979715684\n"
     ]
    }
   ],
   "source": [
    "R2 = 1- (SSE/SST)\n",
    "print(R2)"
   ]
  },
  {
   "cell_type": "code",
   "execution_count": 9,
   "metadata": {
    "collapsed": false
   },
   "outputs": [
    {
     "name": "stdout",
     "output_type": "stream",
     "text": [
      "                            OLS Regression Results                            \n",
      "==============================================================================\n",
      "Dep. Variable:                   lean   R-squared:                       0.988\n",
      "Model:                            OLS   Adj. R-squared:                  0.987\n",
      "Method:                 Least Squares   F-statistic:                     904.1\n",
      "Date:                Sun, 02 Apr 2017   Prob (F-statistic):           6.50e-12\n",
      "Time:                        19:58:03   Log-Likelihood:                 83.777\n",
      "No. Observations:                  13   AIC:                            -163.6\n",
      "Df Residuals:                      11   BIC:                            -162.4\n",
      "Df Model:                           1                                         \n",
      "Covariance Type:            nonrobust                                         \n",
      "==============================================================================\n",
      "                 coef    std err          t      P>|t|      [95.0% Conf. Int.]\n",
      "------------------------------------------------------------------------------\n",
      "const          1.1233      0.061     18.297      0.000         0.988     1.258\n",
      "year           0.0009    3.1e-05     30.069      0.000         0.001     0.001\n",
      "==============================================================================\n",
      "Omnibus:                        0.310   Durbin-Watson:                   1.642\n",
      "Prob(Omnibus):                  0.856   Jarque-Bera (JB):                0.450\n",
      "Skew:                           0.094   Prob(JB):                        0.799\n",
      "Kurtosis:                       2.108   Cond. No.                     1.05e+06\n",
      "==============================================================================\n",
      "\n",
      "Warnings:\n",
      "[1] Standard Errors assume that the covariance matrix of the errors is correctly specified.\n",
      "[2] The condition number is large, 1.05e+06. This might indicate that there are\n",
      "strong multicollinearity or other numerical problems.\n"
     ]
    },
    {
     "name": "stderr",
     "output_type": "stream",
     "text": [
      "//anaconda/envs/py35/lib/python3.5/site-packages/scipy/stats/stats.py:1557: UserWarning: kurtosistest only valid for n>=20 ... continuing anyway, n=13\n",
      "  \"anyway, n=%i\" % int(n))\n"
     ]
    }
   ],
   "source": [
    "print(linearfit.summary())"
   ]
  },
  {
   "cell_type": "code",
   "execution_count": 10,
   "metadata": {
    "collapsed": false
   },
   "outputs": [
    {
     "name": "stdout",
     "output_type": "stream",
     "text": [
      "\n",
      " const    1.123338\n",
      "year     0.000932\n",
      "dtype: float64\n"
     ]
    }
   ],
   "source": [
    "print(\"\\n\",linearfit.params)"
   ]
  },
  {
   "cell_type": "code",
   "execution_count": 11,
   "metadata": {
    "collapsed": false
   },
   "outputs": [
    {
     "name": "stdout",
     "output_type": "stream",
     "text": [
      "const    16.850077\n",
      "year      0.013978\n",
      "dtype: float64\n"
     ]
    }
   ],
   "source": [
    "delta = linearfit.params*15\n",
    "print(delta)"
   ]
  },
  {
   "cell_type": "markdown",
   "metadata": {
    "collapsed": true
   },
   "source": [
    "# 8. Variance Of Coefficients\n",
    "Instructions\n",
    "Compute s2(β1^)\n",
    "s\n",
    "2\n",
    "(\n",
    "β\n",
    "1\n",
    "^\n",
    ")\n",
    " for linearfit.\n",
    "Assign this variance to variable s2b1.\n",
    "Hint\n",
    "The mean year can be found by using .mean() on column year."
   ]
  },
  {
   "cell_type": "code",
   "execution_count": 12,
   "metadata": {
    "collapsed": false
   },
   "outputs": [
    {
     "name": "stdout",
     "output_type": "stream",
     "text": [
      "[  8.89437817e-11   4.79679721e-11   8.71004372e-13   7.97716956e-12\n",
      "   2.10929030e-11   6.56872412e-11   2.66006183e-11   1.25424630e-10\n",
      "   2.24446487e-12   1.07927937e-10   1.77849563e-10   1.46791984e-11\n",
      "   2.73201620e-10]\n"
     ]
    }
   ],
   "source": [
    "SSE = ((y.values - yhat)**2)\n",
    "xvar = np.sum((pisa.year - pisa.year.mean())**2)\n",
    "s2b1 = SSE / ((y.shape[0] - 2) * xvar)\n",
    "print(s2b1)"
   ]
  },
  {
   "cell_type": "markdown",
   "metadata": {},
   "source": [
    "# 9. T-Distribution\n",
    "Instructions Make a plot comparing 2 pdfs of the t-distribution with different degrees of freedom.\n",
    "With the x variable given, compute the pdf with 3 degrees of freedom and assign it to variable tdist3.\n",
    "Then compute a similar pdf with 30 degrees of freedom and assign it to variable tdist30.\n",
    "On a single plot, plot x on the x-axis for both tdist3 and tdist30 on the y-axis.\n",
    "Hint\n",
    "First plot x and tdist3 then plot x and tdist30 using plt.plot()."
   ]
  },
  {
   "cell_type": "code",
   "execution_count": 17,
   "metadata": {
    "collapsed": false
   },
   "outputs": [
    {
     "name": "stdout",
     "output_type": "stream",
     "text": [
      "[ 0.02297204  0.02441481  0.02596406  0.02762847  0.0294174   0.031341\n",
      "  0.03341025  0.03563701  0.03803403  0.04061509  0.04339497  0.04638952\n",
      "  0.04961567  0.05309149  0.05683617  0.06086996  0.0652142   0.06989116\n",
      "  0.07492395  0.08033633  0.08615245  0.09239652  0.0990924   0.10626304\n",
      "  0.11392986  0.12211193  0.13082504  0.14008063  0.14988449  0.16023537\n",
      "  0.17112343  0.18252859  0.1944188   0.20674834  0.21945618  0.23246464\n",
      "  0.2456783   0.2589835   0.27224841  0.28532401  0.29804594  0.31023748\n",
      "  0.32171351  0.33228555  0.34176766  0.34998293  0.35677032  0.36199128\n",
      "  0.36553585  0.36732769  0.36732769  0.36553585  0.36199128  0.35677032\n",
      "  0.34998293  0.34176766  0.33228555  0.32171351  0.31023748  0.29804594\n",
      "  0.28532401  0.27224841  0.2589835   0.2456783   0.23246464  0.21945618\n",
      "  0.20674834  0.1944188   0.18252859  0.17112343  0.16023537  0.14988449\n",
      "  0.14008063  0.13082504  0.12211193  0.11392986  0.10626304  0.0990924\n",
      "  0.09239652  0.08615245  0.08033633  0.07492395  0.06989116  0.0652142\n",
      "  0.06086996  0.05683617  0.05309149  0.04961567  0.04638952  0.04339497\n",
      "  0.04061509  0.03803403  0.03563701  0.03341025  0.031341    0.0294174\n",
      "  0.02762847  0.02596406  0.02441481  0.02297204]\n"
     ]
    }
   ],
   "source": [
    "from scipy.stats import t\n",
    "\n",
    "x = np.linspace(-3,3,100)\n",
    "\n",
    "print(t.pdf(x=x, df=3))"
   ]
  },
  {
   "cell_type": "code",
   "execution_count": 23,
   "metadata": {
    "collapsed": false
   },
   "outputs": [],
   "source": [
    "tdist3 = t.pdf(x=x, df=3)"
   ]
  },
  {
   "cell_type": "code",
   "execution_count": 22,
   "metadata": {
    "collapsed": true
   },
   "outputs": [],
   "source": [
    "tdist30 = t.pdf(x=x, df=30)"
   ]
  },
  {
   "cell_type": "code",
   "execution_count": 31,
   "metadata": {
    "collapsed": false
   },
   "outputs": [
    {
     "data": {
      "text/plain": [
       "[<matplotlib.lines.Line2D at 0x118337160>]"
      ]
     },
     "execution_count": 31,
     "metadata": {},
     "output_type": "execute_result"
    },
    {
     "data": {
      "image/png": "[encoded data removed]",
      "text/plain": [
       "<matplotlib.figure.Figure at 0x117d82dd8>"
      ]
     },
     "metadata": {},
     "output_type": "display_data"
    }
   ],
   "source": [
    "plt.plot(x, tdist3)"
   ]
  },
  {
   "cell_type": "code",
   "execution_count": 27,
   "metadata": {
    "collapsed": false
   },
   "outputs": [
    {
     "data": {
      "text/plain": [
       "[<matplotlib.lines.Line2D at 0x117d4fac8>]"
      ]
     },
     "execution_count": 27,
     "metadata": {},
     "output_type": "execute_result"
    },
    {
     "data": {
      "image/png": "[encoded data removed]",
      "text/plain": [
       "<matplotlib.figure.Figure at 0x117ceb470>"
      ]
     },
     "metadata": {},
     "output_type": "display_data"
    }
   ],
   "source": [
    "plt.plot(x, tdist30, color='r')"
   ]
  },
  {
   "cell_type": "markdown",
   "metadata": {},
   "source": [
    "# 10. Statistical Significance Of Coefficients\n",
    "Instructions Using the formula above, compute the t-statistic of β1\n",
    ".\n",
    "Assign the t-statistic to variable tstat.\n",
    "Hint\n",
    "Divide \\hat{\\beta_1} by \\sqrt{s^2(\\hat{\\beta_1})}.\n"
   ]
  },
  {
   "cell_type": "code",
   "execution_count": 35,
   "metadata": {
    "collapsed": false
   },
   "outputs": [
    {
     "name": "stdout",
     "output_type": "stream",
     "text": [
      "[  98.8090365   134.54847525  998.49131685  329.93626095  202.90197872\n",
      "  114.97778792  180.67938101   83.20760969  622.01098364   89.6989835\n",
      "   69.87600372  243.22224366   56.37841013]\n"
     ]
    }
   ],
   "source": [
    "tstat = linearfit.params[\"year\"] / np.sqrt(s2b1)\n",
    "print(tstat)"
   ]
  },
  {
   "cell_type": "markdown",
   "metadata": {},
   "source": [
    "# 13. The P-Value\n",
    "Instructions Do we accept β1>0?\n",
    "Assign the boolean value, True or False, to variable beta1_test.\n",
    "Hint\n",
    "Is pval less than p?\n",
    "    "
   ]
  },
  {
   "cell_type": "code",
   "execution_count": 37,
   "metadata": {
    "collapsed": true
   },
   "outputs": [],
   "source": [
    "pval = 0.975\n",
    "df = pisa.shape[0] - 2\n",
    "p = t.cdf(tstat, df=df)"
   ]
  },
  {
   "cell_type": "code",
   "execution_count": 43,
   "metadata": {
    "collapsed": false
   },
   "outputs": [
    {
     "name": "stdout",
     "output_type": "stream",
     "text": [
      "[ True  True  True  True  True  True  True  True  True  True  True  True\n",
      "  True]\n"
     ]
    }
   ],
   "source": [
    "beta1_test = p > pval\n",
    "print(beta1_test)    "
   ]
  }
 ],
 "metadata": {
  "kernelspec": {
   "display_name": "Python 3",
   "language": "python",
   "name": "python3"
  },
  "language_info": {
   "codemirror_mode": {
    "name": "ipython",
    "version": 3
   },
   "file_extension": ".py",
   "mimetype": "text/x-python",
   "name": "python",
   "nbconvert_exporter": "python",
   "pygments_lexer": "ipython3",
   "version": "3.5.1"
  }
 },
 "nbformat": 4,
 "nbformat_minor": 0
}
