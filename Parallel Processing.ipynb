{
 "cells": [
  {
   "cell_type": "markdown",
   "metadata": {},
   "source": [
    "# 1: Using Mutable Values For Changing Information"
   ]
  },
  {
   "cell_type": "markdown",
   "metadata": {},
   "source": [
    "# Instructions\n",
    "Create an instance of the Counter class called counter.\n",
    "Call counter.get_count() to get the initial value of the counter, and store it in initial_count.\n",
    "Call count_up_100000 with counter as its argument.\n",
    "Call counter.get_count() to get the final value of the counter, and store it in final_count.\n",
    "Hint\n",
    "counter = Counter() will create an instance of the Counter class."
   ]
  },
  {
   "cell_type": "code",
   "execution_count": 3,
   "metadata": {
    "collapsed": false
   },
   "outputs": [
    {
     "name": "stdout",
     "output_type": "stream",
     "text": [
      "0\n",
      "<function count_up_100000 at 0x10414e6a8>\n",
      "100000\n"
     ]
    }
   ],
   "source": [
    "class Counter():\n",
    "    def __init__(self):\n",
    "        self.count = 0\n",
    "    def increment(self):\n",
    "        self.count += 1\n",
    "    def get_count(self):\n",
    "        return self.count\n",
    "    def counter(self):\n",
    "        return self.counter\n",
    "    \n",
    "def count_up_100000(counter):\n",
    "    for i in range(100000):\n",
    "        counter.increment()\n",
    "        \n",
    "counter = Counter()\n",
    "initial_count = counter.get_count()\n",
    "count_up_100000(counter)\n",
    "final_count = counter.get_count()\n",
    "print(initial_count)\n",
    "print(count_up_100000)\n",
    "print(final_count)"
   ]
  },
  {
   "cell_type": "markdown",
   "metadata": {},
   "source": [
    "# 2: Multithreading Multiple Processes"
   ]
  },
  {
   "cell_type": "markdown",
   "metadata": {},
   "source": [
    "# Instructions\n",
    "Assign the value of counter.get_count() after the counting thread is joined to after_join.\n",
    "Print after_join.\n",
    "Hint\n",
    "You should be calling counter.get_count() twice -- once right after count_thread.start(), and once right after count_thread.join().\n"
   ]
  },
  {
   "cell_type": "code",
   "execution_count": 4,
   "metadata": {
    "collapsed": false
   },
   "outputs": [
    {
     "name": "stdout",
     "output_type": "stream",
     "text": [
      "100000\n"
     ]
    }
   ],
   "source": [
    "import threading\n",
    "\n",
    "counter = Counter()\n",
    "count_thread = threading.Thread(target=count_up_100000, args=[counter])\n",
    "count_thread.start()\n",
    "after_start = counter.get_count()\n",
    "count_thread.join()\n",
    "after_join = counter.get_count()\n",
    "print(after_join)"
   ]
  },
  {
   "cell_type": "markdown",
   "metadata": {},
   "source": [
    "# 3: Determinism Of Program Results"
   ]
  },
  {
   "cell_type": "markdown",
   "metadata": {},
   "source": [
    "# Instructions\n",
    "Modify the conduct_trial() function to call counter.get_count() after the counter thread has started, but hasn't joined yet. Store the result, and return it at the end of the function.\n",
    "Conduct three trials by calling conduct_trial() three separate times. Assign the results to trial1, trial2, and trial3, and print those values to observe the results of the experiment.\n",
    "Hint\n",
    "trial1 = conduct_trial() will conduct our first trial. Repeat this for trial2 and trial3."
   ]
  },
  {
   "cell_type": "code",
   "execution_count": 5,
   "metadata": {
    "collapsed": false
   },
   "outputs": [
    {
     "name": "stdout",
     "output_type": "stream",
     "text": [
      "15347\n",
      "11108\n",
      "14294\n"
     ]
    }
   ],
   "source": [
    "import threading\n",
    "\n",
    "def conduct_trial():\n",
    "    counter = Counter()\n",
    "    count_thread = threading.Thread(target= count_up_100000, args=[counter])\n",
    "    count_thread.start()\n",
    "    count = counter.get_count()\n",
    "    count_thread.join()\n",
    "    return count\n",
    "\n",
    "trial1 = conduct_trial()\n",
    "print(trial1)\n",
    "trial2 = conduct_trial()\n",
    "print(trial2)\n",
    "trial3 = conduct_trial()\n",
    "print(trial3)"
   ]
  },
  {
   "cell_type": "markdown",
   "metadata": {},
   "source": [
    "# 4: Using Locks To Enforce Determinism In Multithreading"
   ]
  },
  {
   "cell_type": "markdown",
   "metadata": {},
   "source": [
    "# Instructions\n",
    "Wrap the inner for loop in count_up_100000 inside lock.acquire() and lock.release() so that nobody can acquire the lock unless the counter value is a multiple of 10.\n",
    "In conduct_trial(), wrap the call to counter.get_count() inside lock.acquire() and lock.release() so that the main thread can only read the counter value at multiples of 10.\n",
    "Hint\n",
    "Put lock.acquire() before for i in range(100): and before intermediate_value = counter.get_count().\n",
    "Put lock.release() after for i in range(100): and after intermediate_value = counter.get_count()."
   ]
  },
  {
   "cell_type": "code",
   "execution_count": null,
   "metadata": {
    "collapsed": false
   },
   "outputs": [],
   "source": [
    "import threading \n",
    "\n",
    "def count_up_100000(counter, lock):\n",
    "    for i in range(10000):\n",
    "        lock.acquire()\n",
    "        for i in range(10):\n",
    "            counter.increment()\n",
    "        lock.release()\n",
    "        \n",
    "def conduct_trial():\n",
    "    counter = Counter()\n",
    "    lock = threading.lock()\n",
    "    count_thread = threading.Thread(target=count_up_100000,args= [counter, lock])\n",
    "    count_thread.start()\n",
    "    lock.acquire()\n",
    "    intermediate_value = counter.get_count()\n",
    "    lock.release()\n",
    "    count_thread.join()\n",
    "    return intermediate_value\n",
    "\n",
    "trial1 = conduct_trial()\n",
    "print(trial1)\n",
    "trial2 = conduct_trial()\n",
    "print(trial2)\n",
    "trial3 = conduct_trial()\n",
    "print(trial3)   "
   ]
  },
  {
   "cell_type": "markdown",
   "metadata": {},
   "source": [
    "# 5: Counting In Two Steps"
   ]
  },
  {
   "cell_type": "markdown",
   "metadata": {},
   "source": [
    "# Instructions\n",
    "Call count_up_100000() twice, using counter as an argument each time.\n",
    "Use counter.get_count() to assign the value of our counter after the two function calls to final_count.\n",
    "Print final_count.\n",
    "Hint\n",
    "Call count_up_100000(counter) twice, then write final_count = counter.get_count()"
   ]
  },
  {
   "cell_type": "code",
   "execution_count": 14,
   "metadata": {
    "collapsed": false
   },
   "outputs": [
    {
     "name": "stdout",
     "output_type": "stream",
     "text": [
      "200000\n"
     ]
    }
   ],
   "source": [
    "def count_up_100000(counter):\n",
    "    for i in range(100000):\n",
    "        counter.increment()\n",
    "        \n",
    "counter = Counter()\n",
    "\n",
    "count_up_100000(counter)\n",
    "count_up_100000(counter)\n",
    "\n",
    "final_count = counter.get_count()\n",
    "print(final_count)"
   ]
  },
  {
   "cell_type": "markdown",
   "metadata": {},
   "source": [
    "# 6: Counting Once On Two Different Threads"
   ]
  },
  {
   "cell_type": "markdown",
   "metadata": {},
   "source": [
    "# Instructions\n",
    "Call .join() on each of the counting threads in the conduct_trial() function. It's critical that both join calls occur after both threads have already started.\n",
    "Conduct three trials by calling conduct_trial() three separate times. Assign the results to trial1, trial2, and trial3, and print those values to observe the results of the experiment.\n",
    "Hint\n",
    "There shouldn't be any code between the calls to count_thread1.start() and count_thread2.start()"
   ]
  },
  {
   "cell_type": "code",
   "execution_count": 18,
   "metadata": {
    "collapsed": false
   },
   "outputs": [
    {
     "name": "stdout",
     "output_type": "stream",
     "text": [
      "165530\n",
      "200000\n",
      "200000\n"
     ]
    }
   ],
   "source": [
    "import threading\n",
    "\n",
    "def count_up_100000(counter):\n",
    "    for i in range(100000):\n",
    "        counter.increment()\n",
    "        \n",
    "def conduct_trial():\n",
    "    counter = Counter()\n",
    "    count_thread1 = threading.Thread(target=count_up_100000, args=[counter])\n",
    "    count_thread2 = threading.Thread(target=count_up_100000, args=[counter])\n",
    "    \n",
    "    count_thread1.start()\n",
    "    count_thread2.start()\n",
    "    \n",
    "    count_thread1.join()\n",
    "    count_thread2.join()\n",
    "    \n",
    "    final_count = counter.get_count()\n",
    "    return final_count\n",
    "\n",
    "trial1 = conduct_trial()\n",
    "print(trial1)\n",
    "trial2 = conduct_trial()\n",
    "print(trial2)\n",
    "trial3 = conduct_trial()\n",
    "print(trial3)"
   ]
  },
  {
   "cell_type": "markdown",
   "metadata": {},
   "source": [
    "# 7: Imitating Atomicity With Locks"
   ]
  },
  {
   "cell_type": "markdown",
   "metadata": {},
   "source": [
    "# Instructions\n",
    "In the __init__ method of the Counter class, add a lock property.\n",
    "Before the first line of the counter.increment() method, acquire the lock.\n",
    "After the last line of the counter.increment() method, release the lock.\n",
    "Conduct three trials by calling conduct_trial() three separate times. Assign the results to trial1, trial2, and trial3, and print those values to observe the results of the experiment.\n",
    "Hint\n",
    "self.lock = threading.Lock() will create a lock property.\n",
    "self.lock.acquire() and self.lock.release() will acquire and release the lock."
   ]
  },
  {
   "cell_type": "code",
   "execution_count": null,
   "metadata": {
    "collapsed": true
   },
   "outputs": [],
   "source": [
    "import threading\n",
    "\n",
    "class Counter():\n",
    "    def __init__(self):\n",
    "        self.count = 0 \n",
    "        self.lock = threading.Lock()\n",
    "    def increment(self):\n",
    "        self.lock.acquire()\n",
    "        old_count = self.count\n",
    "        self.count = old_count + 1\n",
    "        self.lock.release()\n",
    "    def get_count(self):\n",
    "        return self.count\n",
    "    \n",
    "def count_up_100000(counter):\n",
    "    for i in range(100000):\n",
    "        counter.increment()\n",
    "        \n",
    "def conduct_trial():\n",
    "    counter = Counter()\n",
    "    count_thread1 = threading.Thread(target=count_up_100000, args=[counter])\n",
    "    count_thread2 = threading.Thread(target=count_up_100000, args=[counter])\n",
    "    \n",
    "    count_thread1.start()\n",
    "    count_thread2.start()\n",
    "    count_thread1.join()\n",
    "    count_thread2.join()\n",
    "    \n",
    "    final_count = counter.get_count()\n",
    "    return final_count\n",
    "\n",
    "trial1 = conduct_trial()\n",
    "print(trial1)\n",
    "trial2 = conduct_trial()\n",
    "print(trial2)\n",
    "trial3 = conduct_trial()\n",
    "print(trial3)"
   ]
  }
 ],
 "metadata": {
  "kernelspec": {
   "display_name": "Python 3",
   "language": "python",
   "name": "python3"
  },
  "language_info": {
   "codemirror_mode": {
    "name": "ipython",
    "version": 3
   },
   "file_extension": ".py",
   "mimetype": "text/x-python",
   "name": "python",
   "nbconvert_exporter": "python",
   "pygments_lexer": "ipython3",
   "version": "3.5.1"
  }
 },
 "nbformat": 4,
 "nbformat_minor": 0
}
