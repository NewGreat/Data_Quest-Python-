{
 "cells": [
  {
   "cell_type": "markdown",
   "metadata": {},
   "source": [
    "# 1: Opening Files\n",
    "Instructions\n",
    "Use the open() function to create a File object.\n",
    "The name of the file to open is \"crime_rates.csv\". Access the file in read mode (\"r\").\n",
    "Assign this File object to the variable f.\n",
    "Hint\n",
    "Use the open() function with the following parameters: \"crime_rates.csv\" and \"r\"."
   ]
  },
  {
   "cell_type": "code",
   "execution_count": 32,
   "metadata": {
    "collapsed": false
   },
   "outputs": [
    {
     "name": "stdout",
     "output_type": "stream",
     "text": [
      "<_io.TextIOWrapper name='pokemon copy.csv' mode='r' encoding='UTF-8'>\n"
     ]
    }
   ],
   "source": [
    "a = open(\"pokemon copy.csv\", \"r\")\n",
    "print(a)\n",
    "f = open(\"pokemon copy.csv\", \"r\")"
   ]
  },
  {
   "cell_type": "markdown",
   "metadata": {},
   "source": [
    "# 2: Reading In Files\n",
    "Instructions\n",
    "Run the read() method on the File object f to return the string representation of crime_rates.csv.\n",
    "Assign the resulting string to a new variable named data.\n",
    "Hint\n",
    "Use f.read() to read the file object."
   ]
  },
  {
   "cell_type": "code",
   "execution_count": 6,
   "metadata": {
    "collapsed": false
   },
   "outputs": [],
   "source": [
    "#f = open(\"crime_rates.csv\", \"r\")\n",
    "#data = f.read()"
   ]
  },
  {
   "cell_type": "markdown",
   "metadata": {},
   "source": [
    "# 3: Splitting\n",
    "Instructions\n",
    "Split the string object data on the new-line character \"\\n\", and store the result in a variable named rows. - Then, use the print() function to display the first five elements in rows.\n",
    "Hint\n",
    "Call the split() method on the data object and pass \"\\n\" into the method.\n",
    "To display the first five elements, use the print() function and list slicing."
   ]
  },
  {
   "cell_type": "code",
   "execution_count": 7,
   "metadata": {
    "collapsed": false
   },
   "outputs": [
    {
     "name": "stdout",
     "output_type": "stream",
     "text": [
      "['john', ' plasic', ' joe']\n"
     ]
    }
   ],
   "source": [
    "sample = \"john, plasic, joe\"\n",
    "split_list = sample.split(\",\")\n",
    "print(split_list)"
   ]
  },
  {
   "cell_type": "code",
   "execution_count": 8,
   "metadata": {
    "collapsed": false
   },
   "outputs": [
    {
     "name": "stdout",
     "output_type": "stream",
     "text": [
      "['How much wood', 'can a woodchuck chuck', 'if a woodchuck', 'could chuck wood?']\n"
     ]
    }
   ],
   "source": [
    "string_two = \"How much wood\\ncan a woodchuck chuck\\nif a woodchuck\\ncould chuck wood?\"\n",
    "split_string_two = string_two.split('\\n')\n",
    "print(split_string_two)"
   ]
  },
  {
   "cell_type": "code",
   "execution_count": 31,
   "metadata": {
    "collapsed": false
   },
   "outputs": [
    {
     "name": "stdout",
     "output_type": "stream",
     "text": [
      "['Film,Year,Actor,Director,Box Office,Budget,Bond Actor Salary', 'Dr. No,1962,Sean Connery,Terence Young,448.8,7,0.6', 'From Russia with Love,1963,Sean Connery,Terence Young,543.8,12.6,1.6', 'Goldfinger,1964,Sean Connery,Guy Hamilton,820.4,18.6,3.2', 'Thunderball,1965,Sean Connery,Terence Young,848.1,41.9,4.7']\n"
     ]
    }
   ],
   "source": [
    "f = open(\"jamesbond copy.csv\", \"r\")\n",
    "data = f.read()\n",
    "rows = data.split(\"\\n\")\n",
    "print(rows[0:5])"
   ]
  },
  {
   "cell_type": "markdown",
   "metadata": {},
   "source": [
    "# 4: Loops\n",
    "Instructions\n",
    "The variable ten_rows contains the first 10 elements in rows.\n",
    "Write a for loop that:\n",
    "iterates over each element in ten_rows\n",
    "uses the print() function to display each element\n",
    "Hint\n",
    "Use this for loop syntax - for row in ten_rows:\n",
    "Include this in the loop body - print(row)"
   ]
  },
  {
   "cell_type": "code",
   "execution_count": 29,
   "metadata": {
    "collapsed": false
   },
   "outputs": [
    {
     "name": "stdout",
     "output_type": "stream",
     "text": [
      "['a,1', 'b,2', 'c', 'd,4', 'e,5']\n",
      "['a,1', 'b,2', 'c', 'd,4', 'e,5']\n",
      "['a,1', 'b,2', 'c', 'd,4', 'e,5']\n",
      "['a,1', 'b,2', 'c', 'd,4', 'e,5']\n",
      "['a,1', 'b,2', 'c', 'd,4', 'e,5']\n",
      "['a,1', 'b,2', 'c', 'd,4', 'e,5']\n"
     ]
    }
   ],
   "source": [
    "rows = [\"a,1\", \"b,2\", \"c\", \"d,4\", \"e,5\"]\n",
    "five_rows = rows[0:5]\n",
    "for row in five_rows:\n",
    "    print(five_rows)\n",
    "print(five_rows)"
   ]
  },
  {
   "cell_type": "markdown",
   "metadata": {},
   "source": [
    "# 5: List Of Lists(demo)"
   ]
  },
  {
   "cell_type": "code",
   "execution_count": 21,
   "metadata": {
    "collapsed": false
   },
   "outputs": [
    {
     "name": "stdout",
     "output_type": "stream",
     "text": [
      "[['Albuquerque', '749'], ['Anaheim', '371'], ['Anchorage', '828']]\n",
      "['Albuquerque', '749']\n",
      "['Anaheim', '371']\n",
      "['Anchorage', '828']\n"
     ]
    }
   ],
   "source": [
    "three_rows = [\"Albuquerque,749\", \"Anaheim,371\", \"Anchorage,828\"]\n",
    "final_list = []\n",
    "for row in three_rows:\n",
    "    split_list = row.split(',')\n",
    "    final_list.append(split_list)\n",
    "print(final_list)\n",
    "print(final_list[0])\n",
    "print(final_list[1])\n",
    "print(final_list[2])"
   ]
  },
  {
   "cell_type": "markdown",
   "metadata": {},
   "source": [
    "# 7: Practice - Splitting Elements In A List\n",
    "Instructions\n",
    "Write a for loop that splits each element in rows on the comma delimiter, and appends the resulting list to a new list named final_data.\n",
    "Then, use the print() function and list slicing to display the first five elements in final_data.\n",
    "Hint\n",
    "Create an empty list before the loop and assign to a new variable final_data.\n",
    "The code to retrieve the first five elements in final_data is final_data[0:5]."
   ]
  },
  {
   "cell_type": "code",
   "execution_count": 34,
   "metadata": {
    "collapsed": false
   },
   "outputs": [
    {
     "name": "stdout",
     "output_type": "stream",
     "text": [
      "['Film,Year,Actor,Director,Box Office,Budget,Bond Actor Salary', 'Dr. No,1962,Sean Connery,Terence Young,448.8,7,0.6', 'From Russia with Love,1963,Sean Connery,Terence Young,543.8,12.6,1.6', 'Goldfinger,1964,Sean Connery,Guy Hamilton,820.4,18.6,3.2', 'Thunderball,1965,Sean Connery,Terence Young,848.1,41.9,4.7']\n",
      "[['Film', 'Year', 'Actor', 'Director', 'Box Office', 'Budget', 'Bond Actor Salary'], ['Dr. No', '1962', 'Sean Connery', 'Terence Young', '448.8', '7', '0.6'], ['From Russia with Love', '1963', 'Sean Connery', 'Terence Young', '543.8', '12.6', '1.6'], ['Goldfinger', '1964', 'Sean Connery', 'Guy Hamilton', '820.4', '18.6', '3.2'], ['Thunderball', '1965', 'Sean Connery', 'Terence Young', '848.1', '41.9', '4.7']]\n"
     ]
    }
   ],
   "source": [
    "f = open('jamesbond copy.csv', 'r')\n",
    "data = f.read()\n",
    "rows = data.split('\\n')\n",
    "print(rows[0:5])\n",
    "final_data = []\n",
    "for row in rows:\n",
    "    split_list = row.split(',')\n",
    "    final_data.append(split_list)\n",
    "print(final_data[0:5])"
   ]
  },
  {
   "cell_type": "markdown",
   "metadata": {},
   "source": [
    "# 8: Accessing Elements In A List Of Lists: The Manual Way\n",
    "Instructions\n",
    "five_elements contains the first five elements from final_data.\n",
    "Create a list of strings named cities_list that contains the city names from each list in five_elements.\n",
    "Hint\n",
    "Assign an empty list to a new variable cities_list. Then use the append() method five times to add the city name from each element in five_elements to cities_list. Remember that you need to call the append() method on the list you want to add to (cities_list).        \n",
    "        "
   ]
  },
  {
   "cell_type": "code",
   "execution_count": 46,
   "metadata": {
    "collapsed": true
   },
   "outputs": [],
   "source": [
    "#print(five_elements)\n",
    "#cities_list = []\n",
    "#cities_list.append(five_elements[0][0])\n",
    "#cities_list.append(five_elements[1][0])\n",
    "#cities_list.append(five_elements[2][0])\n",
    "#cities_list.append(five_elements[3][0])\n",
    "#cities_list.append(five_elements[4][0])\n",
    "#print(cities_list)"
   ]
  },
  {
   "cell_type": "code",
   "execution_count": 47,
   "metadata": {
    "collapsed": false
   },
   "outputs": [
    {
     "name": "stdout",
     "output_type": "stream",
     "text": [
      "['Dr. No,1962,Sean Connery,Terence Young,448.8,7,0.6', 'From Russia with Love,1963,Sean Connery,Terence Young,543.8,12.6,1.6', 'Goldfinger,1964,Sean Connery,Guy Hamilton,820.4,18.6,3.2']\n"
     ]
    }
   ],
   "source": [
    "three_elements = [['Dr. No,1962,Sean Connery,Terence Young,448.8,7,0.6', \n",
    "                  'From Russia with Love,1963,Sean Connery,Terence Young,543.8,12.6,1.6', \n",
    "                  'Goldfinger,1964,Sean Connery,Guy Hamilton,820.4,18.6,3.2',]]\n",
    "films_list = []\n",
    "films_list.append(three_elements[0][0])\n",
    "films_list.append(three_elements[0][1])\n",
    "films_list.append(three_elements[0][2])\n",
    "print(films_list)"
   ]
  },
  {
   "cell_type": "markdown",
   "metadata": {},
   "source": [
    "# 9: Looping Through A List Of Lists\n",
    "Instructions\n",
    "Create a list of strings named cities_list that contains just the city names from final_data.\n",
    "Recall that the city name is located at index 0 for each list in final_data.\n",
    "Hint\n",
    "Retrieve the element at index 0, then use the append() method on cities_list to add each element in final_data."
   ]
  },
  {
   "cell_type": "code",
   "execution_count": 48,
   "metadata": {
    "collapsed": true
   },
   "outputs": [],
   "source": [
    "#crime_rates = []\n",
    "\n",
    "#for row in five_elements:\n",
    "    #crime_rate = row[1]\n",
    "    #crime_rates.append(crime_rate)\n",
    "#cities_list = []\n",
    "#for outer_list in final_data:\n",
    "    #city = outer_list[0]\n",
    "    #cities_list.append(city)"
   ]
  },
  {
   "cell_type": "markdown",
   "metadata": {},
   "source": [
    "# 10: Challenge\n",
    "Instructions\n",
    "Create a list of integers named int_crime_rates that contains just the crime rates - as integers - from the list rows.\n",
    "First create an empty list and assign it to a new variable int_crime_rates.\n",
    "Then, write a for loop that iterates over rows and does the following:\n",
    "uses the split() method to convert each string in rows into a list, based on the comma delimiter\n",
    "converts the value at index 1 from that list to an integer using the int() function\n",
    "uses the append() method to add each integer to int_crime_rates\n",
    "Hint\n",
    "int() is a function that takes a single input (such as a string) and returns an integer."
   ]
  },
  {
   "cell_type": "code",
   "execution_count": 51,
   "metadata": {
    "collapsed": false
   },
   "outputs": [],
   "source": [
    "#f = open('crime_rates', 'r')\n",
    "#data = f.read()\n",
    "#rows = data.split('\\n')\n",
    "#print(rows[0:5])\n",
    "#int_crime_rates = []\n",
    "#for row in rows:\n",
    "    #values = row.split(',')\n",
    "    #crime_rate = int(values[1])\n",
    "    #int_crime_rates.append(crime_rate)"
   ]
  }
 ],
 "metadata": {
  "kernelspec": {
   "display_name": "Python 3",
   "language": "python",
   "name": "python3"
  },
  "language_info": {
   "codemirror_mode": {
    "name": "ipython",
    "version": 3
   },
   "file_extension": ".py",
   "mimetype": "text/x-python",
   "name": "python",
   "nbconvert_exporter": "python",
   "pygments_lexer": "ipython3",
   "version": "3.5.1"
  }
 },
 "nbformat": 4,
 "nbformat_minor": 0
}
