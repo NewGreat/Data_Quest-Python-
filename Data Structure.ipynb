{
 "cells": [
  {
   "cell_type": "markdown",
   "metadata": {},
   "source": [
    "# 1: Exercise: Dynamic Arrays"
   ]
  },
  {
   "cell_type": "markdown",
   "metadata": {},
   "source": [
    "# Instructions\n",
    "Read the code comments that describe array operations.\n",
    "Based on the description and your knowledge of time complexity, set the variable below to \"constant\", \"logarithmic\", or \"linear\", depending on the complexity you believe the operation has.\n",
    "Hint\n",
    "Think about how long the operation takes with respect to input size."
   ]
  },
  {
   "cell_type": "code",
   "execution_count": 2,
   "metadata": {
    "collapsed": true
   },
   "outputs": [],
   "source": [
    "retrieval_by_index = \"linear\"\n",
    "search = \"constant\"\n",
    "deletion = \"constant\"\n",
    "insertion = \"constant\""
   ]
  },
  {
   "cell_type": "markdown",
   "metadata": {},
   "source": [
    "# 2: Exercise: Practice Inserting Into An Array"
   ]
  },
  {
   "cell_type": "markdown",
   "metadata": {},
   "source": [
    "# Instructions\n",
    "Use the list insert function to insert \"Evan Turner\" and \"Quincy Acy\" into players so that players is in alphabetical order by last name.\n",
    "The first argument to insert is the index at which we want to insert the value, and the second is the value itself. For instance, players.insert(1, \"C.J. Watson\") inserts \"C.J. Watson\" at index 1 of players.\n",
    "The items in players that come after index 0 must shift over to make room for \"C.J. Watson\".\n",
    "Print the list after you perform each operation so you can visualize how the operation affects it.\n",
    "Hint\n",
    "Insertions shift later elements forward by one.\n",
    "Deletions shift later elements back by one."
   ]
  },
  {
   "cell_type": "code",
   "execution_count": 10,
   "metadata": {
    "collapsed": false
   },
   "outputs": [
    {
     "name": "stdout",
     "output_type": "stream",
     "text": [
      "['Reggie Jackson']\n",
      "['Reggie Jackson', 'C.J. Watson']\n",
      "['Jeff Adrian', 'Reggie Jackson', 'C.J. Watson']\n",
      "['Jeff Adrian', 'C.J. Watson']\n",
      "['Quincy Acy', 'Jeff Adrian', 'C.J. Watson']\n",
      "['Quincy Acy', 'Jeff Adrian', 'Evan Turner', 'C.J. Watson']\n"
     ]
    }
   ],
   "source": [
    "players = [\"Reggie Jackson\"]\n",
    "print(players)\n",
    "players.insert(1, \"C.J. Watson\")\n",
    "print(players)\n",
    "players.insert(0, \"Jeff Adrian\")\n",
    "print(players)\n",
    "players.remove(\"Reggie Jackson\")\n",
    "print(players)\n",
    "players.insert(0, \"Quincy Acy\")\n",
    "print(players)\n",
    "players.insert(2, \"Evan Turner\")\n",
    "print(players)"
   ]
  },
  {
   "cell_type": "markdown",
   "metadata": {
    "collapsed": true
   },
   "source": [
    "# 3: 2D Array Implementation"
   ]
  },
  {
   "cell_type": "markdown",
   "metadata": {},
   "source": [
    "# instructions\n",
    "We've loaded a checker_board variable filled with \"red\" and \"black\" pieces, as well as \"blank\" spaces. Each slot contains the string \"red\", \"black\", or \"blank\".\n",
    "Store the number of red pieces in red_pieces, and the number of black pieces in black_pieces.\n",
    "You'll have to use two for loops - one within the other.\n",
    "Hint\n",
    "For every row in the checkerboard, loop through that row and count the pieces.\n",
    "\n"
   ]
  },
  {
   "cell_type": "code",
   "execution_count": 10,
   "metadata": {
    "collapsed": false
   },
   "outputs": [
    {
     "name": "stdout",
     "output_type": "stream",
     "text": [
      "8\n",
      "6\n"
     ]
    }
   ],
   "source": [
    "checker_board = [['blank', 'blank', 'blank', 'blank', 'blank', 'black', 'blank', 'blank'],\n",
    " ['blank', 'blank', 'red', 'blank', 'blank', 'blank', 'blank', 'blank'],\n",
    " ['blank', 'blank', 'blank', 'black', 'blank', 'red', 'blank', 'blank'],\n",
    " ['red', 'blank', 'black', 'blank', 'blank', 'blank', 'red', 'blank'],\n",
    " ['blank', 'blank', 'blank', 'black', 'blank', 'red', 'blank', 'blank'],\n",
    " ['blank', 'blank', 'black', 'blank', 'blank', 'blank', 'blank', 'blank'],\n",
    " ['blank', 'blank', 'blank', 'black', 'blank', 'blank', 'blank', 'blank'],\n",
    " ['blank', 'blank', 'red', 'blank', 'red', 'blank', 'red', 'blank']]\n",
    "red_pieces = 0\n",
    "black_pieces = 0 \n",
    "for row in checker_board:\n",
    "    for piece in row:\n",
    "        if piece == \"red\":\n",
    "            red_pieces += 1\n",
    "        elif piece == \"black\":\n",
    "            black_pieces += 1  \n",
    "print(red_pieces)\n",
    "print(black_pieces)"
   ]
  },
  {
   "cell_type": "markdown",
   "metadata": {},
   "source": [
    "# 4: Dictionary Access"
   ]
  },
  {
   "cell_type": "markdown",
   "metadata": {},
   "source": [
    "# Instructions\n",
    "We've loaded a city_populations dictionary for you to use.\n",
    "Assign the population of \"Boston\" to boston_population.\n",
    "Assign the population of \"Paris\" to paris_population.\n",
    "Your friend just moved from \"Boston\" to \"Beijing\".\n",
    "Subtract 1 from the population of \"Boston\", add 1 to the population of \"Beijing\", and store the result back in city_populations.\n",
    "Hint\n",
    "We can index a dictionary using a key like this: city_populations[\"Boston\"]."
   ]
  },
  {
   "cell_type": "code",
   "execution_count": 25,
   "metadata": {
    "collapsed": false
   },
   "outputs": [],
   "source": [
    "city_populations = {'Beijing': 11510000,\n",
    "                    'Boston': 645966,\n",
    "                    'Paris': 2244000,\n",
    "                    'Rio de Janerio': 6320000}"
   ]
  },
  {
   "cell_type": "code",
   "execution_count": 26,
   "metadata": {
    "collapsed": false
   },
   "outputs": [
    {
     "name": "stdout",
     "output_type": "stream",
     "text": [
      "6320000\n"
     ]
    }
   ],
   "source": [
    "rio_population = city_populations[\"Rio de Janerio\"]\n",
    "print(rio_population)"
   ]
  },
  {
   "cell_type": "code",
   "execution_count": 27,
   "metadata": {
    "collapsed": false
   },
   "outputs": [
    {
     "name": "stdout",
     "output_type": "stream",
     "text": [
      "645966\n"
     ]
    }
   ],
   "source": [
    "boston_population = city_populations[\"Boston\"]\n",
    "print(boston_population)"
   ]
  },
  {
   "cell_type": "code",
   "execution_count": 28,
   "metadata": {
    "collapsed": false
   },
   "outputs": [
    {
     "name": "stdout",
     "output_type": "stream",
     "text": [
      "2244000\n"
     ]
    }
   ],
   "source": [
    "paris_population = city_populations[\"Paris\"]\n",
    "print(paris_population)"
   ]
  },
  {
   "cell_type": "code",
   "execution_count": 31,
   "metadata": {
    "collapsed": false
   },
   "outputs": [
    {
     "name": "stdout",
     "output_type": "stream",
     "text": [
      "{'Boston': 645964, 'Paris': 2244000, 'Rio de Janerio': 6320000, 'Beijing': 11510003}\n"
     ]
    }
   ],
   "source": [
    "city_populations[\"Beijing\"] += 1\n",
    "city_populations[\"Boston\"] -= 1\n",
    "print(city_populations)"
   ]
  },
  {
   "cell_type": "markdown",
   "metadata": {},
   "source": [
    "# 5: Exercise: Choosing A Data Structure"
   ]
  },
  {
   "cell_type": "markdown",
   "metadata": {},
   "source": [
    "# Instructions\n",
    "After each scenario, set the appropriate variable to the value \"static array\", \"dynamic array\", \"2d array\", or \"hash table\", depending on which data structure you feel is most appropriate.\n",
    "Because each data structure is very different, we focus primarily on the nature of the data in this exercise.\n",
    "Hint\n",
    "Arrays are best when we have ordered data with a fixed length. Dynamic arrays are a good choice when we have ordered data of unknown length. A hash table is good when we want to keep track of multiple pieces of data for each record."
   ]
  },
  {
   "cell_type": "code",
   "execution_count": 34,
   "metadata": {
    "collapsed": true
   },
   "outputs": [],
   "source": [
    "scenario_A_data_structure = \"2d array\"\n",
    "scenario_B_data_structure = \"dynamic array\"\n",
    "scenario_C_data_structure = \"hash table\""
   ]
  }
 ],
 "metadata": {
  "kernelspec": {
   "display_name": "Python 3",
   "language": "python",
   "name": "python3"
  },
  "language_info": {
   "codemirror_mode": {
    "name": "ipython",
    "version": 3
   },
   "file_extension": ".py",
   "mimetype": "text/x-python",
   "name": "python",
   "nbconvert_exporter": "python",
   "pygments_lexer": "ipython3",
   "version": "3.5.1"
  }
 },
 "nbformat": 4,
 "nbformat_minor": 0
}
