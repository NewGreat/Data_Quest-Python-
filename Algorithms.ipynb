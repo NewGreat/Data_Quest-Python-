{
 "cells": [
  {
   "cell_type": "markdown",
   "metadata": {},
   "source": [
    "# 1: Implementing An Algorithm"
   ]
  },
  {
   "cell_type": "markdown",
   "metadata": {},
   "source": [
    "# Instructions\n",
    "You'll be working with nba, a data set containing the names and ages of National Basketball Association (NBA) players from 2013, along with some statistics.\n",
    "Write a linear search algorithm to find \"Kobe Bryant\" in the nba data set.\n",
    "The first column (index 0) contains each player's name.\n",
    "Once the algorithm finds \"Kobe Bryant\", store his position (from the second column) in the variable kobe_position.\n",
    "Hint\n",
    "Use a for loop to iterate through the rows in the nba data set. For each row, row[0] contains the player's name, and row[1] contains his position."
   ]
  },
  {
   "cell_type": "code",
   "execution_count": 2,
   "metadata": {
    "collapsed": false
   },
   "outputs": [
    {
     "data": {
      "text/plain": [
       "0                 Quincy Acy\n",
       "1               Steven Adams\n",
       "2                Jeff Adrien\n",
       "3              Arron Afflalo\n",
       "4              Alexis Ajinca\n",
       "5               Cole Aldrich\n",
       "6          LaMarcus Aldridge\n",
       "7                Lavoy Allen\n",
       "8                  Ray Allen\n",
       "9                 Tony Allen\n",
       "10           Al-Farouq Aminu\n",
       "11            Louis Amundson\n",
       "12            Chris Andersen\n",
       "13             Alan Anderson\n",
       "14            James Anderson\n",
       "15             Ryan Anderson\n",
       "16     Giannis Antetokounmpo\n",
       "17           Carmelo Anthony\n",
       "18              Joel Anthony\n",
       "19                Pero Antic\n",
       "20              Trevor Ariza\n",
       "21          Hilton Armstrong\n",
       "22            Darrell Arthur\n",
       "23                 Omer Asik\n",
       "24             D.J. Augustin\n",
       "25              Gustavo Ayon\n",
       "26                Jeff Ayres\n",
       "27                Chris Babb\n",
       "28              Luke Babbitt\n",
       "29           Leandro Barbosa\n",
       "               ...          \n",
       "451                John Wall\n",
       "452           Gerald Wallace\n",
       "453              Casper Ware\n",
       "454              C.J. Watson\n",
       "455              Earl Watson\n",
       "456             Maalik Wayns\n",
       "457          Martell Webster\n",
       "458               David West\n",
       "459        Russell Westbrook\n",
       "460               D.J. White\n",
       "461              Royce White\n",
       "462           Deron Williams\n",
       "463         Derrick Williams\n",
       "464          Elliot Williams\n",
       "465           Louis Williams\n",
       "466          Marvin Williams\n",
       "467              Mo Williams\n",
       "468          Reggie Williams\n",
       "469          Shawne Williams\n",
       "470              Jeff Withey\n",
       "471             Nate Wolters\n",
       "472        Metta World Peace\n",
       "473           Brandan Wright\n",
       "474             Chris Wright\n",
       "475            Dorell Wright\n",
       "476              Tony Wroten\n",
       "477               Nick Young\n",
       "478           Thaddeus Young\n",
       "479              Cody Zeller\n",
       "480             Tyler Zeller\n",
       "Name: player, dtype: object"
      ]
     },
     "execution_count": 2,
     "metadata": {},
     "output_type": "execute_result"
    }
   ],
   "source": [
    "import pandas as pd\n",
    "nba = pd.read_csv(\"nba_2013.csv\")\n",
    "nba[\"player\"]"
   ]
  },
  {
   "cell_type": "code",
   "execution_count": 3,
   "metadata": {
    "collapsed": false
   },
   "outputs": [],
   "source": [
    "kobe_position = \"\"\n",
    "\n",
    "for row in nba:\n",
    "    if row[0] == \"Kobe Bryant\":\n",
    "        kobe_position = row[1]"
   ]
  },
  {
   "cell_type": "markdown",
   "metadata": {},
   "source": [
    "# 2: Linear Search With Modular Code"
   ]
  },
  {
   "cell_type": "markdown",
   "metadata": {},
   "source": [
    "# Instructions\n",
    "Write a function called player_age that takes in a name parameter.\n",
    "The function should return the player's age from the nba data set, which we've loaded in for you.\n",
    "If the function doesn't find the player, it should return -1.\n",
    "The third row of nba (index 2) contains the players' ages.\n",
    "Store the age of \"Ray Allen\" in the variable allen_age.\n",
    "Store the age of \"Kevin Durant\" in the variable durant_age.\n",
    "Store the age of \"Shaquille O'Neal\" in the variable shaq_age.\n",
    "Hint\n",
    "If the for loop finishes execution without returning, it's safe to return -1, because it didn't find a matching player."
   ]
  },
  {
   "cell_type": "code",
   "execution_count": 16,
   "metadata": {
    "collapsed": false
   },
   "outputs": [],
   "source": [
    "def player_age(name):\n",
    "    for row in nba:\n",
    "        if row[0] == name:\n",
    "            return row[2]\n",
    "    return -1\n",
    "        \n",
    "\n",
    "allen_age = player_age(\"Ray Allen\")\n",
    "durant_age = player_age(\"Kevin Durant\")\n",
    "shaq_age = player_age(\"Shaquille O'Neal\")"
   ]
  },
  {
   "cell_type": "markdown",
   "metadata": {},
   "source": [
    "# 3: Exercise: Recognizing Constant Time Algorithms"
   ]
  },
  {
   "cell_type": "markdown",
   "metadata": {},
   "source": [
    "# Instructions\n",
    "Read the function implementations in the code cell. Of A, B, and C, one implementation is not constant time.\n",
    "Indicate which one is not constant time by setting not_constant to the value \"A\", \"B\", or \"C\".\n",
    "Hint\n",
    "Identify which code's runtime depends on the size of the function's input."
   ]
  },
  {
   "cell_type": "code",
   "execution_count": 5,
   "metadata": {
    "collapsed": true
   },
   "outputs": [],
   "source": [
    "def celcius_to_fahrenheit(degrees):\n",
    "    step_1 = degrees * 1.8\n",
    "    step_2 = step_1 + 32\n",
    "    return step_2\n",
    "\n",
    "def reverse(ls):\n",
    "    length = len(ls)\n",
    "    new_list = []\n",
    "    for i in range(length):\n",
    "        new_list[i] = ls[length - i]\n",
    "    return new_list\n",
    "\n",
    "def blastoff(message):\n",
    "    count = 10\n",
    "    for i in range(count):\n",
    "        print(count - i)\n",
    "    print(message)\n",
    "    \n",
    "not_constant = \"B\""
   ]
  },
  {
   "cell_type": "markdown",
   "metadata": {
    "collapsed": true
   },
   "source": [
    "# 4: A Common Pitfall"
   ]
  },
  {
   "cell_type": "code",
   "execution_count": 13,
   "metadata": {
    "collapsed": false
   },
   "outputs": [
    {
     "data": {
      "text/plain": [
       "True"
      ]
     },
     "execution_count": 13,
     "metadata": {},
     "output_type": "execute_result"
    }
   ],
   "source": [
    "#function calls and built-in Python operations are often not constant time because the function/operator itself isn't.\n",
    "\n",
    "fridge_items = [\"milk\", \"cheese\", \"bread\"]\n",
    "\n",
    "\n",
    "def got_milk(fridge_items):\n",
    "    if \"milk\" in fridge_items:\n",
    "        return True\n",
    "    else:\n",
    "        return False\n",
    "    \n",
    "got_milk(\"milk\")"
   ]
  },
  {
   "cell_type": "markdown",
   "metadata": {},
   "source": [
    "# 5: Some Other Algorithms"
   ]
  },
  {
   "cell_type": "markdown",
   "metadata": {},
   "source": [
    "# Instructions\n",
    "Read the following implementations of algorithms, and indicate their time complexities by setting the corresponding variables to \"linear\" or \"constant\".\n",
    "Hint\n",
    "Remember that function calls also take time. If an internal function costs n operations, we must be sure to factor that into our time complexity analysis."
   ]
  },
  {
   "cell_type": "code",
   "execution_count": 17,
   "metadata": {
    "collapsed": true
   },
   "outputs": [],
   "source": [
    "def length(ls):\n",
    "    count = 0 \n",
    "    for elem in ls:\n",
    "        count = count + 1\n",
    "length_time_complexity = \"linear\"\n",
    "\n",
    "def is_empty_1(ls):\n",
    "    if length(ls) == 0:\n",
    "        return True\n",
    "    else:\n",
    "        return False\n",
    "is_empty_1_complexity = \"linear\"\n",
    "\n",
    "def is_empty_2(ls):\n",
    "    for element in ls:\n",
    "        return False\n",
    "    return True\n",
    "is_empty_2_complexity = \"constant\""
   ]
  }
 ],
 "metadata": {
  "kernelspec": {
   "display_name": "Python 3",
   "language": "python",
   "name": "python3"
  },
  "language_info": {
   "codemirror_mode": {
    "name": "ipython",
    "version": 3
   },
   "file_extension": ".py",
   "mimetype": "text/x-python",
   "name": "python",
   "nbconvert_exporter": "python",
   "pygments_lexer": "ipython3",
   "version": "3.5.1"
  }
 },
 "nbformat": 4,
 "nbformat_minor": 0
}
