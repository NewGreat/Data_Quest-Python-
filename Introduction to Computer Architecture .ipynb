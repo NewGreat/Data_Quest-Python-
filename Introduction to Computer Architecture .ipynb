{
 "cells": [
  {
   "cell_type": "markdown",
   "metadata": {},
   "source": [
    "# 1: Introduction To Computer Components"
   ]
  },
  {
   "cell_type": "markdown",
   "metadata": {},
   "source": [
    "# Instructions\n",
    "Write Python code to print the string \"Hello World!\".\n",
    "Hint\n",
    "print(\"Hello World\") will print the string \"Hello World\" as output."
   ]
  },
  {
   "cell_type": "code",
   "execution_count": 1,
   "metadata": {
    "collapsed": false
   },
   "outputs": [
    {
     "name": "stdout",
     "output_type": "stream",
     "text": [
      "Hello World!\n"
     ]
    }
   ],
   "source": [
    "print(\"Hello World!\")"
   ]
  },
  {
   "cell_type": "markdown",
   "metadata": {},
   "source": [
    "# 2: Data Storage, Memory, And RAM"
   ]
  },
  {
   "cell_type": "markdown",
   "metadata": {},
   "source": [
    "# Instructions\n",
    "Assign an integer value to the variable my_int.\n",
    "Assign the memory address of my_int to int_addr.\n",
    "Assign a string value to the variable my_str.\n",
    "Assign the memory address of my_str to str_addr.\n",
    "Hint\n",
    "id(my_int) will get the memory address of my_int."
   ]
  },
  {
   "cell_type": "code",
   "execution_count": 3,
   "metadata": {
    "collapsed": false
   },
   "outputs": [
    {
     "data": {
      "text/plain": [
       "int"
      ]
     },
     "execution_count": 3,
     "metadata": {},
     "output_type": "execute_result"
    }
   ],
   "source": [
    "my_int = 1"
   ]
  },
  {
   "cell_type": "code",
   "execution_count": 6,
   "metadata": {
    "collapsed": false
   },
   "outputs": [
    {
     "name": "stdout",
     "output_type": "stream",
     "text": [
      "4297514912\n"
     ]
    }
   ],
   "source": [
    "int_addr = id(my_int)\n",
    "print(int_addr)"
   ]
  },
  {
   "cell_type": "code",
   "execution_count": 12,
   "metadata": {
    "collapsed": false
   },
   "outputs": [
    {
     "name": "stdout",
     "output_type": "stream",
     "text": [
      "Hello World!\n"
     ]
    }
   ],
   "source": [
    "my_str = \"Hello World!\"\n",
    "print(my_str)"
   ]
  },
  {
   "cell_type": "code",
   "execution_count": 14,
   "metadata": {
    "collapsed": false
   },
   "outputs": [],
   "source": [
    "str_addr = id(my_str)\n",
    "print(str_addr)"
   ]
  },
  {
   "cell_type": "markdown",
   "metadata": {},
   "source": [
    "# 3: Understanding How Python Stores Data"
   ]
  },
  {
   "cell_type": "markdown",
   "metadata": {},
   "source": [
    "# Instructions\n",
    "Assign the difference in size between int1 and int2 (in bytes) to int_diff.\n",
    "Print int_diff.\n",
    "Assign the difference in size between str1 and str2 (in bytes) to str_diff.\n",
    "Print str_diff.\n",
    "Hint\n",
    "Use sys.getsizeof() to get the size of each variable in bytes."
   ]
  },
  {
   "cell_type": "code",
   "execution_count": 18,
   "metadata": {
    "collapsed": false
   },
   "outputs": [
    {
     "name": "stdout",
     "output_type": "stream",
     "text": [
      "28\n"
     ]
    }
   ],
   "source": [
    "import sys\n",
    "\n",
    "my_int = 200\n",
    "size_of_my_int = sys.getsizeof(my_int)\n",
    "print(size_of_my_int)"
   ]
  },
  {
   "cell_type": "code",
   "execution_count": 20,
   "metadata": {
    "collapsed": false
   },
   "outputs": [
    {
     "name": "stdout",
     "output_type": "stream",
     "text": [
      "0\n"
     ]
    }
   ],
   "source": [
    "int1 = 10\n",
    "int2 = 100000\n",
    "int_diff = sys.getsizeof(int2) - sys.getsizeof(int1)\n",
    "print(int_diff)"
   ]
  },
  {
   "cell_type": "code",
   "execution_count": 23,
   "metadata": {
    "collapsed": false
   },
   "outputs": [
    {
     "name": "stdout",
     "output_type": "stream",
     "text": [
      "3\n"
     ]
    }
   ],
   "source": [
    "str1 = \"Hello\"\n",
    "str2 = \"Hi\"\n",
    "str_diff = sys.getsizeof(str1) - sys.getsizeof(str2)\n",
    "print(str_diff)"
   ]
  },
  {
   "cell_type": "markdown",
   "metadata": {},
   "source": [
    "# 4: Understanding Disk Storage"
   ]
  },
  {
   "cell_type": "markdown",
   "metadata": {},
   "source": [
    "# Instructions\n",
    "Assign the time it takes to read the list from \"list.csv\" to file_time.\n",
    "Print file_time.\n",
    "Assign the time it takes to acquire the list by splitting a string from RAM in RAM_time.\n",
    "Print RAM_time.\n",
    "Hint\n",
    "Wrap each operation inside two calls to time.clock(). Store the results, and use the difference between the two time measurements to determine how long each operation took."
   ]
  },
  {
   "cell_type": "code",
   "execution_count": 24,
   "metadata": {
    "collapsed": true
   },
   "outputs": [],
   "source": [
    "import time\n",
    "import csv\n",
    "\n",
    "f = open(\"list.csv\", \"r\")\n",
    "list_from_file = list(csv.reader(f))\n",
    "list_from_RAM = \"1,2,3,4,5,6,7,8,9,10\".split(\",\")"
   ]
  },
  {
   "cell_type": "code",
   "execution_count": 31,
   "metadata": {
    "collapsed": false
   },
   "outputs": [
    {
     "name": "stdout",
     "output_type": "stream",
     "text": [
      "7.00000000000145e-05\n"
     ]
    }
   ],
   "source": [
    "before = time.clock()\n",
    "list_from_file \n",
    "after = time.clock()\n",
    "file_time = after - before\n",
    "print(file_time)"
   ]
  },
  {
   "cell_type": "code",
   "execution_count": 32,
   "metadata": {
    "collapsed": false
   },
   "outputs": [
    {
     "name": "stdout",
     "output_type": "stream",
     "text": [
      "6.899999999987472e-05\n"
     ]
    }
   ],
   "source": [
    "before = time.clock()\n",
    "list_from_RAM\n",
    "after = time.clock()\n",
    "RAM_time = after - before\n",
    "print(RAM_time)"
   ]
  },
  {
   "cell_type": "markdown",
   "metadata": {},
   "source": [
    "# 5: An Overview Of Binary"
   ]
  },
  {
   "cell_type": "markdown",
   "metadata": {},
   "source": [
    "# Instructions\n",
    "Assign the base-10 value of 0110 to num1.\n",
    "Assign the base-10 value of 1001 to num2.\n",
    "Assign the base-10 value of 100100 to num3.\n",
    "Hint\n",
    "Read each binary digit from right to left, and multiply every 1 you see by the appropriate power of 2."
   ]
  },
  {
   "cell_type": "code",
   "execution_count": 35,
   "metadata": {
    "collapsed": false
   },
   "outputs": [],
   "source": [
    "num1 = 6\n",
    "num2 = 9\n",
    "num3 = 36"
   ]
  },
  {
   "cell_type": "markdown",
   "metadata": {},
   "source": [
    "# 6: Computation And Control Flow"
   ]
  },
  {
   "cell_type": "markdown",
   "metadata": {},
   "source": [
    "# Instructions\n",
    "Walk through the starter code. For each line that prints a message, store the line number in printed_lines.\n",
    "For example, you should assign the value [4, 8] to printed_lines if you believe that the output of the program will be:\n",
    "On line 4\n",
    "On line 8\n",
    "Hint\n",
    "Walk through each line of code, and determine which line will the CPU will execute next."
   ]
  },
  {
   "cell_type": "code",
   "execution_count": 41,
   "metadata": {
    "collapsed": false
   },
   "outputs": [
    {
     "name": "stdout",
     "output_type": "stream",
     "text": [
      "On line 3\n",
      "On line 5\n",
      "On line 14\n",
      "On line 14\n",
      "On line 14\n",
      "[3, 5, 14, 14, 14]\n"
     ]
    }
   ],
   "source": [
    "a = 5\n",
    "b = 10\n",
    "print(\"On line 3\")\n",
    "if a == 5:\n",
    "    print(\"On line 5\")\n",
    "else:\n",
    "    print(\"On line 7\")\n",
    "if b < a:\n",
    "    print(\"On line 9\")\n",
    "elif b == a:\n",
    "    print(\"On line 11\")\n",
    "else:\n",
    "    for i in range(3):\n",
    "        print(\"On line 14\")\n",
    "        \n",
    "printed_lines = [3, 5, 14, 14, 14]\n",
    "print(printed_lines)"
   ]
  },
  {
   "cell_type": "markdown",
   "metadata": {},
   "source": [
    "# 7: Functions In Memory"
   ]
  },
  {
   "cell_type": "markdown",
   "metadata": {},
   "source": [
    "# Instructions\n",
    "Walk through the starter code. For each line that prints a message, store the line number in printed_lines.\n",
    "For example, you should assign the value [4, 8] to printed_lines if you believe that the output of the program will be:\n",
    "On line 4\n",
    "On line 8\n",
    "Hint\n",
    "Walk through each line of code, and determine which line the CPU will execute next."
   ]
  },
  {
   "cell_type": "code",
   "execution_count": 44,
   "metadata": {
    "collapsed": false
   },
   "outputs": [
    {
     "name": "stdout",
     "output_type": "stream",
     "text": [
      "On line 5\n",
      "On line 2\n",
      "On line 7\n",
      "On line 2\n",
      "[5, 2, 7, 2]\n"
     ]
    }
   ],
   "source": [
    "def my_func():\n",
    "    print(\"On line 2\")\n",
    "a = 5\n",
    "b = 10\n",
    "print(\"On line 5\")\n",
    "my_func()\n",
    "print(\"On line 7\")\n",
    "my_func()\n",
    "\n",
    "printed_lines = [5, 2, 7, 2]\n",
    "print(printed_lines)"
   ]
  }
 ],
 "metadata": {
  "kernelspec": {
   "display_name": "Python 3",
   "language": "python",
   "name": "python3"
  },
  "language_info": {
   "codemirror_mode": {
    "name": "ipython",
    "version": 3
   },
   "file_extension": ".py",
   "mimetype": "text/x-python",
   "name": "python",
   "nbconvert_exporter": "python",
   "pygments_lexer": "ipython3",
   "version": "3.5.1"
  }
 },
 "nbformat": 4,
 "nbformat_minor": 0
}
