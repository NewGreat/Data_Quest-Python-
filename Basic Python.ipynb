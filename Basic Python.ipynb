{
 "cells": [
  {
   "cell_type": "markdown",
   "metadata": {},
   "source": [
    "# 1: Programming And Data Science"
   ]
  },
  {
   "cell_type": "markdown",
   "metadata": {},
   "source": [
    "# Instructions\n",
    "Use the console to run the following lines of code:\n",
    "print(1288)\n",
    "print(639)\n",
    "print(1288 + 639)\n",
    "Add the same 3 lines of code to script.py in the text editor and then run the whole file:\n",
    "print(1288)\n",
    "print(639)\n",
    "print(1288 + 639)\n",
    "As a bonus, run the following line of code in the console (notice the ommitted print() statement) and see what happens:\n",
    "1288 + 639\n",
    "Hint\n",
    "Each print() statement should be on a separate line."
   ]
  },
  {
   "cell_type": "code",
   "execution_count": 2,
   "metadata": {},
   "outputs": [
    {
     "name": "stdout",
     "output_type": "stream",
     "text": [
      "1288\n",
      "639\n",
      "1927\n"
     ]
    }
   ],
   "source": [
    "print(1288)\n",
    "print(639)\n",
    "print(1288 + 639)"
   ]
  },
  {
   "cell_type": "markdown",
   "metadata": {},
   "source": [
    "# 2: Arithmetic Operators"
   ]
  },
  {
   "cell_type": "markdown",
   "metadata": {},
   "source": [
    "# Instructions\n",
    "Add a line of code to script.py that:\n",
    "Calculates the average of 749, 371, 828, 503, 1379 and displays the result using the print() function.\n",
    "Remember that you can use the console to experiment with code.\n",
    "Hint\n",
    "To calculate the average, you need to add the values together and divide by the number of values. Don't forget to use parentheses!\n",
    "For example, the following code calculates the average between 3 numbers: (1 + 2 + 3) / 3"
   ]
  },
  {
   "cell_type": "code",
   "execution_count": 7,
   "metadata": {},
   "outputs": [
    {
     "name": "stdout",
     "output_type": "stream",
     "text": [
      "766.0\n"
     ]
    }
   ],
   "source": [
    "avg = [749, 371, 828, 503, 1379]\n",
    "mean = sum(avg)/len(avg)\n",
    "print(mean)"
   ]
  },
  {
   "cell_type": "code",
   "execution_count": 9,
   "metadata": {},
   "outputs": [
    {
     "name": "stdout",
     "output_type": "stream",
     "text": [
      "766.0\n"
     ]
    }
   ],
   "source": [
    "print((749 + 371 + 828 + 503 + 1379)/5)"
   ]
  },
  {
   "cell_type": "markdown",
   "metadata": {},
   "source": [
    "# 3: Variables"
   ]
  },
  {
   "cell_type": "markdown",
   "metadata": {},
   "source": [
    "# Instructions\n",
    "Assign the value 749 to the variable albuquerque.\n",
    "Assign the value 371 to the variable anaheim.\n",
    "Assign the value 828 to the variable anchorage.\n",
    "Assign the value 503 to the variable arlington.\n",
    "Assign the value 1379 to the variable atlanta.\n",
    "Use the print() function to display the value associated with anaheim.\n",
    "Hint\n",
    "Each print() statement should be on a separate line."
   ]
  },
  {
   "cell_type": "code",
   "execution_count": 11,
   "metadata": {},
   "outputs": [
    {
     "name": "stdout",
     "output_type": "stream",
     "text": [
      "749\n",
      "371\n",
      "828\n",
      "503\n",
      "1379\n"
     ]
    }
   ],
   "source": [
    "albuquerque = 749\n",
    "print(albuquerque)\n",
    "anaheim = 371\n",
    "print(anaheim)\n",
    "anchorage = 828\n",
    "print(anchorage)\n",
    "arlington = 503\n",
    "print(arlington)\n",
    "atlanta = 1379\n",
    "print(atlanta)"
   ]
  },
  {
   "cell_type": "markdown",
   "metadata": {},
   "source": [
    "# 4: Data Types"
   ]
  },
  {
   "cell_type": "markdown",
   "metadata": {},
   "source": [
    "# Instructions\n",
    "Assign the string value \"Atlanta\" to atlanta_string.\n",
    "Assign the float value 1379.5 to atlanta_float.\n",
    "Hint\n",
    "Don't forget to use double quotes to surround Atlanta when you assign it to atlanta_string."
   ]
  },
  {
   "cell_type": "code",
   "execution_count": 12,
   "metadata": {
    "collapsed": true
   },
   "outputs": [],
   "source": [
    "atlanta_string = \"Atlanta\"\n",
    "print(atlanta_string)"
   ]
  },
  {
   "cell_type": "code",
   "execution_count": 14,
   "metadata": {},
   "outputs": [
    {
     "name": "stdout",
     "output_type": "stream",
     "text": [
      "1379.5\n"
     ]
    }
   ],
   "source": [
    "atlanta_float = 1379.5\n",
    "print(atlanta_float)"
   ]
  },
  {
   "cell_type": "markdown",
   "metadata": {
    "collapsed": true
   },
   "source": [
    "# 5: The Type Function"
   ]
  },
  {
   "cell_type": "markdown",
   "metadata": {},
   "source": [
    "Instructions\n",
    "Assign the string value \"Atlanta\" to atlanta_string.\n",
    "Display the type for the value associated with atlanta_string.\n",
    "Hint\n",
    "Make sure you have two trailing parentheses ())) when chaining two functions.\n",
    "\n"
   ]
  },
  {
   "cell_type": "code",
   "execution_count": 2,
   "metadata": {},
   "outputs": [
    {
     "name": "stdout",
     "output_type": "stream",
     "text": [
      "<class 'str'>\n"
     ]
    }
   ],
   "source": [
    "atlanta_string = \"Atlanta\"\n",
    "print(type(atlanta_string))"
   ]
  },
  {
   "cell_type": "markdown",
   "metadata": {},
   "source": [
    "# 6: Using A List To Store Multiple Values"
   ]
  },
  {
   "cell_type": "markdown",
   "metadata": {},
   "source": [
    "# Instructions\n",
    "Create two empty lists, cities and crime_rates.\n",
    "Add the following strings to the list cities, in the following order:\n",
    "\"Albuquerque\"\n",
    "\"Anaheim\"\n",
    "\"Anchorage\"\n",
    "\"Arlington\"\n",
    "\"Atlanta\"\n",
    "Add the following float values to the list crime_rates, in the following order:\n",
    "749\n",
    "371\n",
    "828\n",
    "503\n",
    "1379\n",
    "Use the print() function to display both lists.\n",
    "Hint\n",
    "Create both of the empty lists first before adding values to it.\n",
    "\n"
   ]
  },
  {
   "cell_type": "code",
   "execution_count": 13,
   "metadata": {},
   "outputs": [
    {
     "name": "stdout",
     "output_type": "stream",
     "text": [
      "['Albuquerque', 'Anaheim', 'Anchorage', 'Arlington', 'Atlanta']\n",
      "[749, 371, 828, 503, 1379]\n"
     ]
    }
   ],
   "source": [
    "cities = [\"Albuquerque\", \"Anaheim\", \"Anchorage\", \"Arlington\", \"Atlanta\"]\n",
    "crime_rates = [749, 371, 828, 503, 1379]\n",
    "print(cities)\n",
    "print(crime_rates)"
   ]
  },
  {
   "cell_type": "markdown",
   "metadata": {},
   "source": [
    "# 7: Creating Lists With Values"
   ]
  },
  {
   "cell_type": "markdown",
   "metadata": {},
   "source": [
    "# Instructions\n",
    "Create the list crime_rates again, but this time using the technique we just learned.\n",
    "This list should contain the following values in the following order:\n",
    "749\n",
    "371\n",
    "828\n",
    "503\n",
    "1379\n",
    "Hint\n",
    "The order of the values you want the list to have should match the order of values passed into bracket notation."
   ]
  },
  {
   "cell_type": "code",
   "execution_count": 17,
   "metadata": {
    "collapsed": true
   },
   "outputs": [],
   "source": [
    "crime_rates = [749, 371, 828, 503, 1379]"
   ]
  },
  {
   "cell_type": "markdown",
   "metadata": {},
   "source": [
    "# 8: Comments"
   ]
  },
  {
   "cell_type": "markdown",
   "metadata": {},
   "source": [
    "# Instructions\n",
    "Add a comment before and after the code we have right now to see if it affects the output."
   ]
  },
  {
   "cell_type": "code",
   "execution_count": 18,
   "metadata": {},
   "outputs": [
    {
     "name": "stdout",
     "output_type": "stream",
     "text": [
      "[749, 371, 828, 503, 1379]\n"
     ]
    }
   ],
   "source": [
    "crime_rates = [749, 371, 828, 503, 1379] # This is a list\n",
    "print(crime_rates)"
   ]
  },
  {
   "cell_type": "markdown",
   "metadata": {},
   "source": [
    "# 9: Accessing Elements In A List"
   ]
  },
  {
   "cell_type": "markdown",
   "metadata": {},
   "source": [
    "# Instructions\n",
    "Select the third element from the list cities and assign to the variable anchorage_str.\n",
    "Select the third element from the list crime_rates and assign to the new variable anchorage_cr.\n",
    "Hint\n",
    "Because lists are zero-indexed, the third value in a list is at index 2 (not at 3)."
   ]
  },
  {
   "cell_type": "code",
   "execution_count": 19,
   "metadata": {
    "collapsed": true
   },
   "outputs": [],
   "source": [
    "cities = [\"Albuquerque\", \"Anaheim\", \"Anchorage\", \"Arlington\", \"Atlanta\"]\n",
    "crime_rates = [749, 371, 828, 503, 1379]"
   ]
  },
  {
   "cell_type": "code",
   "execution_count": 21,
   "metadata": {},
   "outputs": [
    {
     "name": "stdout",
     "output_type": "stream",
     "text": [
      "Anchorage\n"
     ]
    }
   ],
   "source": [
    "anchorage_str = cities[2]\n",
    "print(anchorage_str)"
   ]
  },
  {
   "cell_type": "code",
   "execution_count": 23,
   "metadata": {},
   "outputs": [
    {
     "name": "stdout",
     "output_type": "stream",
     "text": [
      "828\n"
     ]
    }
   ],
   "source": [
    "anchorage_cr = crime_rates[2]\n",
    "print(anchorage_cr)"
   ]
  },
  {
   "cell_type": "markdown",
   "metadata": {},
   "source": [
    "# 10: Retrieving The Length Of A List"
   ]
  },
  {
   "cell_type": "markdown",
   "metadata": {},
   "source": [
    "# Instructions\n",
    "Add the lengths of the cities and crime_rates list objects and assign the sum to two_sum.\n",
    "Hint\n",
    "Because the len() function returns an integer value, you can add the results of two calls to this function to calculate the sum: len(list_one) + len(list_two)"
   ]
  },
  {
   "cell_type": "code",
   "execution_count": 27,
   "metadata": {},
   "outputs": [
    {
     "name": "stdout",
     "output_type": "stream",
     "text": [
      "10\n"
     ]
    }
   ],
   "source": [
    "two_sum = len(cities) + len(crime_rates)\n",
    "print(two_sum)"
   ]
  },
  {
   "cell_type": "markdown",
   "metadata": {},
   "source": [
    "# 11: Slicing Lists"
   ]
  },
  {
   "cell_type": "markdown",
   "metadata": {},
   "source": [
    "# Instructions\n",
    "Select the values in the second, third, and fourth indices from cities, and assign the resulting list to cities_slice.\n",
    "Select the last two elements in crime_rates and assign to cr_slice.\n",
    "Hint\n",
    "Because of zero-indexing, the second element is located at index 1 and the fifth element is located at the index 4.\n",
    "For the second task, recall that you can use the len() function to return the number of elements in a list as an integer. Subtract 2 from this integer and set as the starting slice, and the number of elements as the ending slice."
   ]
  },
  {
   "cell_type": "code",
   "execution_count": 38,
   "metadata": {},
   "outputs": [
    {
     "name": "stdout",
     "output_type": "stream",
     "text": [
      "['Anchorage', 'Arlington', 'Atlanta']\n"
     ]
    }
   ],
   "source": [
    "cities_slice = cities[2:5]\n",
    "print(cities_slice)"
   ]
  },
  {
   "cell_type": "code",
   "execution_count": 36,
   "metadata": {},
   "outputs": [
    {
     "name": "stdout",
     "output_type": "stream",
     "text": [
      "[503, 1379]\n"
     ]
    }
   ],
   "source": [
    "len_crime = len(crime_rates)\n",
    "cr_slice = crime_rates[3:len_crime]\n",
    "print(cr_slice)"
   ]
  }
 ],
 "metadata": {
  "kernelspec": {
   "display_name": "Python 3",
   "language": "python",
   "name": "python3"
  },
  "language_info": {
   "codemirror_mode": {
    "name": "ipython",
    "version": 3
   },
   "file_extension": ".py",
   "mimetype": "text/x-python",
   "name": "python",
   "nbconvert_exporter": "python",
   "pygments_lexer": "ipython3",
   "version": "3.6.1"
  }
 },
 "nbformat": 4,
 "nbformat_minor": 2
}
