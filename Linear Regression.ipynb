{
 "cells": [
  {
   "cell_type": "markdown",
   "metadata": {},
   "source": [
    "# 1. Drawing Lines\n",
    "Instructions Plot the equation y=x−1\n",
    ", using the existing x variable.\n",
    "Plot the equation y=x+10\n",
    ", using the existing x variable.\n",
    "Hint\n",
    "Remember to adjust the x variable and assign the result to y."
   ]
  },
  {
   "cell_type": "code",
   "execution_count": 1,
   "metadata": {
    "collapsed": false
   },
   "outputs": [
    {
     "name": "stdout",
     "output_type": "stream",
     "text": [
      "[1 2 3 4 5 6]\n"
     ]
    }
   ],
   "source": [
    "import matplotlib.pyplot as plt\n",
    "import numpy as np\n",
    "\n",
    "x = [0, 1, 2, 3, 4, 5]\n",
    "# Going by our formula, every y value at a position is the same as the x-value in the same position.\n",
    "# We could write y = x, but let's write them all out to make this more clear.\n",
    "y = [0, 1, 2, 3, 4, 5]\n",
    "\n",
    "# As you can see, this is a straight line that passes through the points (0,0), (1,1), (2,2), and so on.\n",
    "plt.plot(x, y)\n",
    "plt.show()\n",
    "\n",
    "# Let's try a slightly more ambitious line.\n",
    "# What if we did y = x + 1?\n",
    "# We'll make x an array now, so we can add 1 to every element more easily.\n",
    "x = np.asarray([0, 1, 2, 3, 4, 5])\n",
    "y = x + 1\n",
    "\n",
    "# y is the same as x, but every element has 1 added to it.\n",
    "print(y)\n",
    "\n",
    "# This plot passes through (0,1), (1,2), and so on.\n",
    "# It's the same line as before, but shifted up 1 on the y-axis.\n",
    "plt.plot(x, y)\n",
    "plt.show()\n",
    "\n",
    "# By adding 1 to the line, we moved what's called the y-intercept -- where the line intersects with the y-axis.\n",
    "# Moving the intercept can shift the whole line up (or down when we subtract).\n",
    "\n",
    "y = x - 1 \n",
    "\n",
    "plt.plot(x, y)\n",
    "plt.show()\n",
    "\n",
    "y = x + 10 \n",
    "\n",
    "plt.plot(x, y)\n",
    "plt.show()"
   ]
  },
  {
   "cell_type": "markdown",
   "metadata": {},
   "source": [
    "# 2. Working With Slope \n",
    "Instructions Plot the equation y=4x\n",
    ", using the existing x variable.\n",
    "Plot the equation y=.5x\n",
    ", using the existing x variable.\n",
    "Plot the equation y=−2x\n",
    ", using the existing x variable.\n",
    "Hint\n",
    "Remember to multiply x by the right value to get y."
   ]
  },
  {
   "cell_type": "code",
   "execution_count": 7,
   "metadata": {
    "collapsed": false
   },
   "outputs": [],
   "source": [
    "import matplotlib.pyplot as plt\n",
    "import numpy as np\n",
    "\n",
    "x = np.asarray([0, 1, 2, 3, 4, 5])\n",
    "\n",
    "y = 2*x\n",
    "\n",
    "plt.plot(x, y)\n",
    "plt.show()\n",
    "\n",
    "y = 4*x\n",
    "\n",
    "plt.plot(x, y)\n",
    "plt.show()\n",
    "\n",
    "y = .5*x\n",
    "\n",
    "plt.plot(x, y)\n",
    "plt.show()\n",
    "\n",
    "y = -2*x\n",
    "\n",
    "plt.plot(x, y)\n",
    "plt.show()"
   ]
  },
  {
   "cell_type": "markdown",
   "metadata": {},
   "source": [
    "# 3. Starting Out With Linear Regression \n",
    "Instructions Calculate the slope you would need to predict the \"quality\" column (y) using the \"density\" column (x).\n",
    "Assign the slope to slope_density.\n",
    "Hint\n",
    "Remember to compute the covariance with cov(x,y), and the variance with .var().\n",
    "Remember that the cov function returns a matrix, and you have to index with [0, 1]."
   ]
  },
  {
   "cell_type": "code",
   "execution_count": 41,
   "metadata": {
    "collapsed": false
   },
   "outputs": [
    {
     "data": {
      "text/html": [
       "<div>\n",
       "<table border=\"1\" class=\"dataframe\">\n",
       "  <thead>\n",
       "    <tr style=\"text-align: right;\">\n",
       "      <th></th>\n",
       "      <th>fixed acidity;\"volatile acidity\";\"citric acid\";\"residual sugar\";\"chlorides\";\"free sulfur dioxide\";\"total sulfur dioxide\";\"density\";\"pH\";\"sulphates\";\"alcohol\";\"quality\"</th>\n",
       "    </tr>\n",
       "  </thead>\n",
       "  <tbody>\n",
       "    <tr>\n",
       "      <th>0</th>\n",
       "      <td>7.4;0.7;0;1.9;0.076;11;34;0.9978;3.51;0.56;9.4;5</td>\n",
       "    </tr>\n",
       "    <tr>\n",
       "      <th>1</th>\n",
       "      <td>7.8;0.88;0;2.6;0.098;25;67;0.9968;3.2;0.68;9.8;5</td>\n",
       "    </tr>\n",
       "    <tr>\n",
       "      <th>2</th>\n",
       "      <td>7.8;0.76;0.04;2.3;0.092;15;54;0.997;3.26;0.65;...</td>\n",
       "    </tr>\n",
       "    <tr>\n",
       "      <th>3</th>\n",
       "      <td>11.2;0.28;0.56;1.9;0.075;17;60;0.998;3.16;0.58...</td>\n",
       "    </tr>\n",
       "    <tr>\n",
       "      <th>4</th>\n",
       "      <td>7.4;0.7;0;1.9;0.076;11;34;0.9978;3.51;0.56;9.4;5</td>\n",
       "    </tr>\n",
       "  </tbody>\n",
       "</table>\n",
       "</div>"
      ],
      "text/plain": [
       "  fixed acidity;\"volatile acidity\";\"citric acid\";\"residual sugar\";\"chlorides\";\"free sulfur dioxide\";\"total sulfur dioxide\";\"density\";\"pH\";\"sulphates\";\"alcohol\";\"quality\"\n",
       "0   7.4;0.7;0;1.9;0.076;11;34;0.9978;3.51;0.56;9.4;5                                                                                                                     \n",
       "1   7.8;0.88;0;2.6;0.098;25;67;0.9968;3.2;0.68;9.8;5                                                                                                                     \n",
       "2  7.8;0.76;0.04;2.3;0.092;15;54;0.997;3.26;0.65;...                                                                                                                     \n",
       "3  11.2;0.28;0.56;1.9;0.075;17;60;0.998;3.16;0.58...                                                                                                                     \n",
       "4   7.4;0.7;0;1.9;0.076;11;34;0.9978;3.51;0.56;9.4;5                                                                                                                     "
      ]
     },
     "execution_count": 41,
     "metadata": {},
     "output_type": "execute_result"
    }
   ],
   "source": [
    "import pandas as pd\n",
    "\n",
    "wine_quality = pd.read_csv(\"winequality-red.csv\")\n",
    "wine_quality.head(5)"
   ]
  },
  {
   "cell_type": "code",
   "execution_count": 42,
   "metadata": {
    "collapsed": false
   },
   "outputs": [],
   "source": [
    "#from numpy import cov\n",
    "\n",
    "# slope_density = cov(wine_quality[\"density\"], wine_quality[\"quality\"])[0, 1] / wine_quality[\"\"].var()\n",
    "# plt.show()\n",
    "\n",
    "# -90.942399942137982"
   ]
  },
  {
   "cell_type": "markdown",
   "metadata": {},
   "source": [
    "# 5. Finishing Linear Regression\n",
    "Instructions\n",
    "Calculate the y-intercept that you would need to predict the \"quality\" column (y) using the \"density\" column (x).\n",
    "Assign the result to intercept_density.\n",
    "Hint\n",
    "wine_quality[\"quality\"].mean() gives you the mean of the \"quality\" column."
   ]
  },
  {
   "cell_type": "code",
   "execution_count": 44,
   "metadata": {
    "collapsed": false
   },
   "outputs": [],
   "source": [
    "#from numpy import cov\n",
    "\n",
    "#def calc_slope(x, y):\n",
    "    #return cov(x, y)[0, 1] / x.var()\n",
    "#intercept_density = wine_quality[\"quality\"].mean() - (calc_slope(wine_quality[\"density\"], wine_quality[\"quality\"]) * wine_quality[\"density\"].mean())"
   ]
  },
  {
   "cell_type": "markdown",
   "metadata": {},
   "source": [
    "# 6. Making Predictions\n",
    "Instructions Write a function to compute the predicted y-value from a given x-value.\n",
    "Use the .apply() method on the \"density\" column to apply the function to each item in the column. This will compute all the predicted y-values.\n",
    "Assign the result to predicted_quality.\n",
    "Hint\n",
    "Compute the slope and intercept with the given functions.\n",
    "Make a function that takes one number as an argument, and computes the predicted y value.\n",
    "Use the .apply() method on the \"density\" column to compute the ratings.\n",
    "    "
   ]
  },
  {
   "cell_type": "code",
   "execution_count": 47,
   "metadata": {
    "collapsed": false
   },
   "outputs": [],
   "source": [
    "#from numpy import cov\n",
    "\n",
    "#def calc_slope(x, y):\n",
    "    #return cov(x, y)[0, 1] / x.var()\n",
    "\n",
    "#def calc_intercept(x, y, slope):\n",
    "    #return y.mean() - (slope * x.mean())\n",
    "#slope = calc_slope(wine_quality[\"density\"], wine_quality[\"quality\"])\n",
    "#intercept = calc_intercept(wine_quality[\"density\"], wine_quality[\"quality\"], slope)\n",
    "\n",
    "#def compute_predicted_y(x):\n",
    "    #return x * slope + intercept\n",
    "\n",
    "#predicted_quality = wine_quality[\"density\"].apply(compute_predicted_y)"
   ]
  },
  {
   "cell_type": "markdown",
   "metadata": {},
   "source": [
    "# 7. Finding Error\n",
    "Instructions\n",
    "Using the given slope and intercept, calculate the predicted y values.\n",
    "Subtract each predicted y value from the corresponding actual y value, square the difference, and add all the differences together.\n",
    "This will give you the sum of squared residuals. Assign this value to rss.\n",
    "Hint\n",
    "You can compute the predicted y values by plugging the slope and intercept into the linear regression equation and using a list comprehension to go over all the values in the \"density\" column.\n",
    "You can then compute the residuals by subtracting each y value from each predicted y value, and squaring the result.\n",
    "Add these squared residuals to get the sum.\n"
   ]
  },
  {
   "cell_type": "code",
   "execution_count": 49,
   "metadata": {
    "collapsed": false
   },
   "outputs": [],
   "source": [
    "#from scipy.stats import linregress\n",
    "\n",
    "#slope, intercept, r_value, p_value, stderr_slope = linregress(wine_quality[\"density\"], wine_quality[\"quality\"])\n",
    "\n",
    "#print(slope)\n",
    "#print(intercept)\n",
    "\n",
    "#import numpy\n",
    "#predicted_y = numpy.asarray([slope * x + intercept for x in wine_quality[\"density\"]])\n",
    "#residuals = (wine_quality[\"quality\"] - predicted_y) ** 2\n",
    "#rss = sum(residuals)"
   ]
  },
  {
   "cell_type": "markdown",
   "metadata": {},
   "source": [
    "# 8. Standard Error\n",
    "Instructions Calculate the standard error using the above formula.\n",
    "Calculate what percentage of actual y values are within 1 standard error of the predicted y value. Assign the result to within_one.\n",
    "Calculate what percentage of actual y values are within 2 standard errors of the predicted y value. Assign the result to within_two.\n",
    "Calculate what percentage of actual y values are within 3 standard errors of the predicted y value. Assign the result to within_three.\n",
    "Assume that \"within\" means \"up to and including\", so be sure to count values that are exactly 1, 2, or 3 standard errors away.\n",
    "Hint\n",
    "The standard error can be calculated with (rss / (len(wine_quality[\"quality\"]) - 2)) ** .5.\n",
    "To find the percentage of actual y values within 1 standard error of the predicted y value, first take the difference between each actual y and each predicted y value.\n",
    "Then, take the absolute value of the differences. Then, divide by the standard error. Any value that is less than or equal to the standard error you want falls within."
   ]
  },
  {
   "cell_type": "code",
   "execution_count": 51,
   "metadata": {
    "collapsed": false
   },
   "outputs": [],
   "source": [
    "#from scipy.stats import linregress\n",
    "\n",
    "#slope, intercept, r_value, p_value, stderr_slope = linregress(wine_quality[\"density\"], wine_quality[\"quality\"])\n",
    "\n",
    "#print(slope)\n",
    "#print(intercept)\n",
    "\n",
    "#import numpy\n",
    "#predicted_y = numpy.asarray([slope * x + intercept for x in wine_quality[\"density\"]])\n",
    "#residuals = (wine_quality[\"quality\"] - predicted_y) ** 2\n",
    "#rss = sum(residuals)\n",
    "\n",
    "#stderr = (rss / (len(wine_quality[\"quality\"]) - 2)) ** .5\n",
    "\n",
    "#def within_percentage(y, predicted_y, stderr, error_count):\n",
    "    #within = stderr * error_count\n",
    "    \n",
    "    #differences = abs(predicted_y - y)\n",
    "    #lower_differences = [d for d in differences if d <= within]\n",
    "    \n",
    "    #within_count = len(lower_differences)\n",
    "    #return within_count / len(y)\n",
    "\n",
    "#within_one = within_percentage(wine_quality[\"quality\"], predicted_y, stderr, 1)\n",
    "#within_two = within_percentage(wine_quality[\"quality\"], predicted_y, stderr, 2)\n",
    "#within_three = within_percentage(wine_quality[\"quality\"], predicted_y, stderr, 3)"
   ]
  },
  {
   "cell_type": "code",
   "execution_count": null,
   "metadata": {
    "collapsed": true
   },
   "outputs": [],
   "source": []
  }
 ],
 "metadata": {
  "kernelspec": {
   "display_name": "Python 3",
   "language": "python",
   "name": "python3"
  },
  "language_info": {
   "codemirror_mode": {
    "name": "ipython",
    "version": 3
   },
   "file_extension": ".py",
   "mimetype": "text/x-python",
   "name": "python",
   "nbconvert_exporter": "python",
   "pygments_lexer": "ipython3",
   "version": "3.5.1"
  }
 },
 "nbformat": 4,
 "nbformat_minor": 0
}
