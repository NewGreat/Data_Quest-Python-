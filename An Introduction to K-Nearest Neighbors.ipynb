{
 "cells": [
  {
   "cell_type": "code",
   "execution_count": 3,
   "metadata": {},
   "outputs": [
    {
     "name": "stdout",
     "output_type": "stream",
     "text": [
      "['player' 'pos' 'age' 'bref_team_id' 'g' 'gs' 'mp' 'fg' 'fga' 'fg.' 'x3p'\n",
      " 'x3pa' 'x3p.' 'x2p' 'x2pa' 'x2p.' 'efg.' 'ft' 'fta' 'ft.' 'orb' 'drb'\n",
      " 'trb' 'ast' 'stl' 'blk' 'tov' 'pf' 'pts' 'season' 'season_end']\n"
     ]
    }
   ],
   "source": [
    "import pandas as pd\n",
    "nba = pd.read_csv('nba_2013.csv')\n",
    "print(nba.columns.values)"
   ]
  },
  {
   "cell_type": "markdown",
   "metadata": {},
   "source": [
    "# 1: Finding Similar Rows With Euclidean Distance\n",
    "Instructions\n",
    "Create a function for calculating the Euclidean distance between two pandas series objects.\n",
    "Use the function to find the Euclidean distance between selected_player and each row in nba.\n",
    "Use the .apply(func, axis=1) method on dataframes to apply function func to each row.\n",
    "The function should take row as its first argument.\n",
    "Only use the columns in distance_columns to compute the distance. - See the documentation on the apply() method if you get stuck.\n",
    "Assign the resulting pandas series to lebron_distance.\n",
    "Hint\n",
    "selected_player and the row you pass into the Euclidean distance function will both be pandas series.\n",
    "You can return a column value by indexing the series by name.\n",
    "row[\"fg\"] will return the number of field goals if row is a series."
   ]
  },
  {
   "cell_type": "code",
   "execution_count": 4,
   "metadata": {
    "collapsed": true
   },
   "outputs": [],
   "source": [
    "selected_player = nba[nba[\"player\"] == \"LeBron James\"].iloc[0]"
   ]
  },
  {
   "cell_type": "code",
   "execution_count": 5,
   "metadata": {
    "collapsed": true
   },
   "outputs": [],
   "source": [
    "distance_columns = ['age', 'g', 'gs', 'mp', 'fg', 'fga', 'fg', 'x3p', 'x3pa', 'x3p', 'x2p', \n",
    "                    'x2pa', 'x2p', 'efg.', 'ft', 'fta', 'ft.', 'orb', 'drb', 'trb', 'ast', \n",
    "                    'stl', 'blk', 'tov', 'pf', 'pts']"
   ]
  },
  {
   "cell_type": "code",
   "execution_count": 6,
   "metadata": {
    "collapsed": true
   },
   "outputs": [],
   "source": [
    "import math\n",
    "\n",
    "def euclidean_distance(row):\n",
    "    inner_value = 0\n",
    "    for k in distance_columns:\n",
    "        inner_value += (row[k] - selected_player[k]) ** 2\n",
    "        return math.sqrt(inner_value)\n",
    "    \n",
    "lebron_distance = nba.apply(euclidean_distance, axis=1)"
   ]
  },
  {
   "cell_type": "markdown",
   "metadata": {},
   "source": [
    "# 2: Normalizing Columns"
   ]
  },
  {
   "cell_type": "markdown",
   "metadata": {},
   "source": [
    "# Instructions\n",
    "Normalize the columns in nba_numeric.\n",
    "Using .mean() on a dataframe will return the mean of each column.\n",
    "Using .std() will return the standard deviation of each column.\n",
    "Assign the result to nba_normalized.\n",
    "Hint\n",
    "Subtracting nba_numeric.mean() from nba_numeric will subtract the mean from each column. You can follow the same process to divide by standard deviation."
   ]
  },
  {
   "cell_type": "code",
   "execution_count": 7,
   "metadata": {},
   "outputs": [
    {
     "name": "stdout",
     "output_type": "stream",
     "text": [
      "     age   g  gs    mp   fg   fga   fg  x3p  x3pa  x3p  ...     ft.  orb  drb  \\\n",
      "0     23  63   0   847   66   141   66    4    15    4  ...   0.660   72  144   \n",
      "1     20  81  20  1197   93   185   93    0     0    0  ...   0.581  142  190   \n",
      "2     27  53  12   961  143   275  143    0     0    0  ...   0.639  102  204   \n",
      "3     28  73  73  2552  464  1011  464  128   300  128  ...   0.815   32  230   \n",
      "4     25  56  30   951  136   249  136    0     1    0  ...   0.836   94  183   \n",
      "5     25  46   2   330   33    61   33    0     0    0  ...   0.867   37   92   \n",
      "6     28  69  69  2498  652  1423  652    3    15    3  ...   0.822  166  599   \n",
      "7     24  65   2  1072  134   300  134    2    13    2  ...   0.660  119  192   \n",
      "8     38  73   9  1936  240   543  240  116   309  116  ...   0.905   23  182   \n",
      "9     32  55  28  1278  204   413  204   11    47   11  ...   0.628   79  129   \n",
      "10    23  80  65  2045  234   494  234   13    48   13  ...   0.664  129  367   \n",
      "11    31  19   0   185   16    32   16    0     0    0  ...   0.250   28   27   \n",
      "12    35  72   0  1396  177   275  177    3    12    3  ...   0.710  129  250   \n",
      "13    31  78  26  1773  194   485  194   84   248   84  ...   0.780   40  135   \n",
      "14    24  80  62  2309  309   717  309  115   351  115  ...   0.726   59  241   \n",
      "15    25  22  14   795  155   354  155   67   164   67  ...   0.952   66   76   \n",
      "16    19  77  23  1897  173   418  173   41   118   41  ...   0.683   78  261   \n",
      "17    29  77  77  2982  743  1643  743  167   415  167  ...   0.848  145  477   \n",
      "18    31  33   0   186   12    32   12    0     0    0  ...   0.500   15   23   \n",
      "19    31  50  26   925  123   294  123   56   171   56  ...   0.758   57  152   \n",
      "20    28  77  77  2723  389   853  389  180   442  180  ...   0.772   99  376   \n",
      "21    29  15   1    97    9    19    9    0     0    0  ...   0.438   19   28   \n",
      "22    25  68   1  1161  162   410  162   24    64   24  ...   0.855   52  158   \n",
      "23    27  48  19   968  101   190  101    0     0    0  ...   0.619  101  277   \n",
      "24    26  71   9  1939  298   718  298  133   332  133  ...   0.885   15  115   \n",
      "25    28  26  14   429   52   102   52    0     0    0  ...   0.400   42   83   \n",
      "26    26  73  10   952  101   174  101    0     0    0  ...   0.691   89  169   \n",
      "27    23  14   0   132    8    30    8    6    27    6  ...     NaN    4   13   \n",
      "28    24  27   2   473   60   154   60   36    95   36  ...   0.778   18   70   \n",
      "29    31  20   0   368   56   131   56    7    25    7  ...   0.795    5   32   \n",
      "..   ...  ..  ..   ...  ...   ...  ...  ...   ...  ...  ...     ...  ...  ...   \n",
      "451   23  82  82  2980  579  1337  579  108   308  108  ...   0.805   38  295   \n",
      "452   31  58  16  1416  116   230  116   19    64   19  ...   0.465   36  176   \n",
      "453   24   9   0   116   18    42   18    7    21    7  ...   0.833    0    9   \n",
      "454   29  63   5  1193  146   334  146   53   145   53  ...   0.784   19   82   \n",
      "455   34  24   0   161    3    11    3    2     7    2  ...   1.000    5   10   \n",
      "456   22   2   0     9    1     2    1    0     0    0  ...     NaN    0    2   \n",
      "457   27  78  13  2157  254   587  254  146   372  146  ...   0.840   38  184   \n",
      "458   33  80  80  2472  458   939  458    4    15    4  ...   0.789  120  422   \n",
      "459   25  46  46  1412  346   791  346   68   214   68  ...   0.826   55  208   \n",
      "460   27   2   0    10    0     1    0    0     0    0  ...     NaN    0    2   \n",
      "461   22   3   0     9    0     1    0    0     0    0  ...     NaN    0    0   \n",
      "462   29  64  58  2059  322   716  322   98   268   98  ...   0.801   15  153   \n",
      "463   22  78  15  1820  206   482  206   26    99   26  ...   0.718   71  252   \n",
      "464   24  67   2  1157  140   337  140   37   125   37  ...   0.731   30  100   \n",
      "465   27  60   7  1445  197   493  197   79   231   79  ...   0.849   10  114   \n",
      "466   27  66  50  1674  231   526  231   84   234   84  ...   0.781   82  252   \n",
      "467   31  74   0  1834  280   672  280   83   225   83  ...   0.876   42  111   \n",
      "468   27   3   0    17    5     9    5    1     3    1  ...     NaN    0    0   \n",
      "469   27  36  13   751   73   192   73   42   129   42  ...   0.700   25  142   \n",
      "470   23  58   4   684   69   129   69    0     1    0  ...   0.712   49  101   \n",
      "471   22  58  31  1309  170   389  170   18    62   18  ...   0.656   33  116   \n",
      "472   34  29   1   388   56   141   56   17    54   17  ...   0.625   18   41   \n",
      "473   26  58   0  1077  224   331  224    0     0    0  ...   0.726  102  142   \n",
      "474   25   8   0   126   21    35   21    0     1    0  ...   0.400   10   10   \n",
      "475   28  68  13   984  111   297  111   69   202   69  ...   0.754   29  162   \n",
      "476   20  72  16  1765  345   808  345   40   188   40  ...   0.641   69  159   \n",
      "477   28  64   9  1810  387   889  387  135   350  135  ...   0.825   29  137   \n",
      "478   25  79  78  2718  582  1283  582   90   292   90  ...   0.712  166  310   \n",
      "479   21  82   3  1416  172   404  172    0     1    0  ...   0.730  118  235   \n",
      "480   24  70   9  1049  156   290  156    0     1    0  ...   0.719  103  179   \n",
      "\n",
      "     trb  ast  stl  blk  tov   pf   pts  \n",
      "0    216   28   23   26   30  122   171  \n",
      "1    332   43   40   57   71  203   265  \n",
      "2    306   38   24   36   39  108   362  \n",
      "3    262  248   35    3  146  136  1330  \n",
      "4    277   40   23   46   63  187   328  \n",
      "5    129   14    8   30   18   40    92  \n",
      "6    765  178   63   68  123  147  1603  \n",
      "7    311   71   24   33   44  126   303  \n",
      "8    205  143   54    8   84  115   701  \n",
      "9    208   94   90   19   90  121   495  \n",
      "10   496  114   82   38   88  147   572  \n",
      "11    55    6    9   11   14   49    38  \n",
      "12   379   19   32   97   53  162   477  \n",
      "13   175   81   48   11   62  147   564  \n",
      "14   300  149   74   28  106  154   810  \n",
      "15   142   17   10    7   20   47   436  \n",
      "16   339  150   60   61  122  173   525  \n",
      "17   622  242   95   51  198  224  2112  \n",
      "18    38    2    3   12    3   17    28  \n",
      "19   209   58   19   12   55  126   352  \n",
      "20   475  191  126   20  132  179  1107  \n",
      "21    47    5    4    4    6   11    25  \n",
      "22   210   61   39   47   58  185   401  \n",
      "23   378   25   14   37   59   92   280  \n",
      "24   130  313   53    3  125  147   930  \n",
      "25   125   28   25   10   29   47   112  \n",
      "26   258   60   13   25   63  146   240  \n",
      "27    17    3    6    0    3   13    22  \n",
      "28    88   29    7   11   15   52   170  \n",
      "29    37   32    7    4   19   30   150  \n",
      "..   ...  ...  ...  ...  ...  ...   ...  \n",
      "451  333  721  149   40  295  219  1583  \n",
      "452  212  143   73   14   97   79   298  \n",
      "453    9   10    8    0    5   11    48  \n",
      "454  101  107   60    8   60   66   414  \n",
      "455   15   28    5    1   17   33    12  \n",
      "456    2    2    2    0    0    4     2  \n",
      "457  222   97   41   15   58  150   759  \n",
      "458  542  223   61   74  133  186  1118  \n",
      "459  263  319   88    7  177  104  1002  \n",
      "460    2    0    1    0    0    1     0  \n",
      "461    0    0    0    0    0    2     0  \n",
      "462  168  392   93   13  143  148   915  \n",
      "463  323   56   48   20   76  114   624  \n",
      "464  130   72   35    3   68  126   404  \n",
      "465  124  210   45    4   92   65   625  \n",
      "466  334   78   54   31   53  151   603  \n",
      "467  153  321   55   10  149  197   721  \n",
      "468    0    1    1    0    2    1    11  \n",
      "469  167   30   19   30   21   93   202  \n",
      "470  150   26   15   50   20   73   190  \n",
      "471  149  187   35   15   57   67   417  \n",
      "472   59   17   24    8   19   44   139  \n",
      "473  244   31   32   55   35   94   525  \n",
      "474   20    5    7    5    5   17    48  \n",
      "475  191   64   23   16   39   62   343  \n",
      "476  228  217   78   16  204  151   939  \n",
      "477  166   95   46   12   95  156  1144  \n",
      "478  476  182  167   36  165  213  1417  \n",
      "479  353   92   40   41   87  170   490  \n",
      "480  282   36   18   38   60  137   399  \n",
      "\n",
      "[481 rows x 26 columns]\n"
     ]
    }
   ],
   "source": [
    "nba_numeric = nba[distance_columns]\n",
    "print(nba_numeric)"
   ]
  },
  {
   "cell_type": "code",
   "execution_count": null,
   "metadata": {
    "collapsed": true
   },
   "outputs": [],
   "source": [
    "nba_normalized = (nba_numeric - nba_numeric.mean()) / nba_numeric.std()"
   ]
  },
  {
   "cell_type": "markdown",
   "metadata": {},
   "source": [
    "# 3: Finding The Nearest Neighbor"
   ]
  },
  {
   "cell_type": "markdown",
   "metadata": {},
   "source": [
    "# Instructions\n",
    "Find the player who's most similar to LeBron James by our distance metric.\n",
    "You can accomplish this by finding the second lowest value in the euclidean_distances series (the lowest value will correspond to Lebron, as he is most similar to himself), and then cross-referencing the NBA dataframe with the same index.\n",
    "Assign the name of the player to most_similar_to_lebron.\n",
    "Hint\n",
    "You can make a new dataframe using distance_frame = pandas.DataFrame(data={\"dist\": euclidean_distances, \"idx\": euclidean_distances.index}).\n",
    "You can sort the dataframe on a column using sort_values(\"column_name\").\n",
    "After sorting, it's a matter of picking the second row, finding the idx column value, and using that value to get the correct row in the nba dataframe."
   ]
  },
  {
   "cell_type": "code",
   "execution_count": null,
   "metadata": {
    "collapsed": true
   },
   "outputs": [],
   "source": [
    "from scipy.spatial import distance\n",
    "\n",
    "nba_normalized.fillna(0, inplace=True)\n",
    "\n",
    "lebron_normalized = nba_normalized[nba[\"player\"] == \"LeBron James\"]\n",
    "\n",
    "euclidean_distances = nba_normalized.apply(lambda row: distance.euclidean(row, lebron_normalized), axis=1)\n",
    "\n",
    "distance_frame = pandas.DataFrame(data={\"dist\": euclidean_distances, \"idx\": euclidean_distances.index})\n",
    "\n",
    "distance_frame.sort_values(\"dist\", inplace=True)\n",
    "\n",
    "second_smallest = distance_frame.iloc[1][\"idx\"]\n",
    "\n",
    "most_similar_to_lebron = nba.loc[int(second_smallest)][\"player\"]"
   ]
  },
  {
   "cell_type": "markdown",
   "metadata": {},
   "source": [
    "# 4: Generating Training And Testing Sets"
   ]
  },
  {
   "cell_type": "code",
   "execution_count": 9,
   "metadata": {
    "collapsed": true
   },
   "outputs": [],
   "source": [
    "import random\n",
    "from numpy.random import permutation\n",
    "\n",
    "random_indices = permutation(nba.index)\n",
    "\n",
    "test_cutoff = math.floor(len(nba)/3)\n",
    "\n",
    "test = nba.loc[random_indices[1:test_cutoff]]\n",
    "train = nba.loc[random_indices[test_cutoff]]"
   ]
  },
  {
   "cell_type": "markdown",
   "metadata": {},
   "source": [
    "# 5: Generating Training And Testing Sets"
   ]
  },
  {
   "cell_type": "code",
   "execution_count": 10,
   "metadata": {
    "collapsed": true
   },
   "outputs": [],
   "source": [
    "x_columns = ['age', 'g', 'gs', 'mp', 'fg', 'fga', 'fg.', 'x3p',\n",
    "             'x3pa', 'x3p.', 'x2p', 'x2pa', 'x2p.', 'efg.', 'ft', 'fta',\n",
    "             'ft.', 'orb', 'trb', 'ast', 'stl', 'blk', 'tov', 'pf']"
   ]
  },
  {
   "cell_type": "code",
   "execution_count": null,
   "metadata": {
    "collapsed": true
   },
   "outputs": [],
   "source": [
    "y_column = [\"pts\"]\n",
    "\n",
    "from sklearn.neighbors import KNeighborsRegressor\n",
    "knn = KNeighborsRegressor(n_neighbors=5)\n",
    "knn.fit(train[x_columns], train[y_column])\n",
    "predictions = knn.predict(test[x_columns])"
   ]
  },
  {
   "cell_type": "markdown",
   "metadata": {},
   "source": [
    "# 6: Computing Error"
   ]
  },
  {
   "cell_type": "markdown",
   "metadata": {},
   "source": [
    "# Instructions\n",
    "Compute the mean squared error between actual and predictions.\n",
    "Assign the result to mse.\n",
    "Hint\n",
    "Follow the formula. You can subtract all of the values in predictions and actual using predictions - actual."
   ]
  },
  {
   "cell_type": "code",
   "execution_count": null,
   "metadata": {
    "collapsed": true
   },
   "outputs": [],
   "source": [
    "actual = test[y_column]\n",
    "\n",
    "mse = (((predictions - actual)**2).sum()) / len(predictions)"
   ]
  }
 ],
 "metadata": {
  "kernelspec": {
   "display_name": "Python 3",
   "language": "python",
   "name": "python3"
  },
  "language_info": {
   "codemirror_mode": {
    "name": "ipython",
    "version": 3
   },
   "file_extension": ".py",
   "mimetype": "text/x-python",
   "name": "python",
   "nbconvert_exporter": "python",
   "pygments_lexer": "ipython3",
   "version": "3.6.1"
  }
 },
 "nbformat": 4,
 "nbformat_minor": 1
}
