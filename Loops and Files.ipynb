{
 "cells": [
  {
   "cell_type": "markdown",
   "metadata": {},
   "source": [
    "# 1: Opening Files"
   ]
  },
  {
   "cell_type": "markdown",
   "metadata": {},
   "source": [
    "# Instructions\n",
    "Use the open() function to create a File object.\n",
    "The name of the file to open is \"crime_rates.csv\". Access the file in read mode (\"r\").\n",
    "Assign this File object to the variable f.\n",
    "Hint\n",
    "Use the open() function with the following parameters: \"crime_rates.csv\" and \"r\"."
   ]
  },
  {
   "cell_type": "code",
   "execution_count": 2,
   "metadata": {},
   "outputs": [
    {
     "name": "stdout",
     "output_type": "stream",
     "text": [
      "<_io.TextIOWrapper name='crime_rates.csv' mode='r' encoding='utf-8'>\n"
     ]
    }
   ],
   "source": [
    "f = open(\"crime_rates.csv\", \"r\", encoding='utf-8')\n",
    "print(f)"
   ]
  },
  {
   "cell_type": "markdown",
   "metadata": {},
   "source": [
    "# 2: Reading In Files"
   ]
  },
  {
   "cell_type": "markdown",
   "metadata": {},
   "source": [
    "# Instructions\n",
    "Run the read() method on the File object f to return the string representation of crime_rates.csv.\n",
    "Assign the resulting string to a new variable named data.\n",
    "Hint\n",
    "Use f.read() to read the file object."
   ]
  },
  {
   "cell_type": "code",
   "execution_count": 3,
   "metadata": {
    "collapsed": true
   },
   "outputs": [
    {
     "name": "stdout",
     "output_type": "stream",
     "text": [
      "Albuquerque,749\n",
      "Anaheim,371\n",
      "Anchorage,828\n",
      "Arlington,503\n",
      "Atlanta,1379\n",
      "Aurora,425\n",
      "Austin,408\n",
      "Bakersfield,542\n",
      "Baltimore,1405\n",
      "Boston,835\n",
      "Buffalo,1288\n",
      "Charlotte-Mecklenburg,647\n",
      "Cincinnati,974\n",
      "Cleveland,1383\n",
      "Colorado Springs,455\n",
      "Corpus Christi,658\n",
      "Dallas,675\n",
      "Denver,615\n",
      "Detroit,2122\n",
      "El Paso,423\n",
      "Fort Wayne,362\n",
      "Fort Worth,587\n",
      "Fresno,543\n",
      "Greensboro,563\n",
      "Henderson,168\n",
      "Houston,992\n",
      "Indianapolis,1185\n",
      "Jacksonville,617\n",
      "Jersey City,734\n",
      "Kansas City,1263\n",
      "Las Vegas,784\n",
      "Lexington,352\n",
      "Lincoln,397\n",
      "Long Beach,575\n",
      "Los Angeles,481\n",
      "Louisville Metro,598\n",
      "Memphis,1750\n",
      "Mesa,399\n",
      "Miami,1172\n",
      "Milwaukee,1294\n",
      "Minneapolis,992\n",
      "Mobile,522\n",
      "Nashville,1216\n",
      "New Orleans,815\n",
      "New York,639\n",
      "Newark,1154\n",
      "Oakland,1993\n",
      "Oklahoma City,919\n",
      "Omaha,594\n",
      "Philadelphia,1160\n",
      "Phoenix,636\n",
      "Pittsburgh,752\n",
      "Plano,130\n",
      "Portland,517\n",
      "Raleigh,423\n",
      "Riverside,443\n",
      "Sacramento,738\n",
      "San Antonio,503\n",
      "San Diego,413\n",
      "San Francisco,704\n",
      "San Jose,363\n",
      "Santa Ana,401\n",
      "Seattle,597\n",
      "St. Louis,1776\n",
      "St. Paul,722\n",
      "Stockton,1548\n",
      "Tampa,616\n",
      "Toledo,1171\n",
      "Tucson,724\n",
      "Tulsa,990\n",
      "Virginia Beach,169\n",
      "Washington,1177\n",
      "Wichita,742\n"
     ]
    }
   ],
   "source": [
    "f = open(\"crime_rates.csv\", \"r\", encoding='utf-8')\n",
    "g = f.read()\n",
    "print(g)"
   ]
  },
  {
   "cell_type": "markdown",
   "metadata": {},
   "source": [
    "# 3: Splitting"
   ]
  },
  {
   "cell_type": "markdown",
   "metadata": {},
   "source": [
    "# Instructions\n",
    "Split the string object data on the new-line character \"\\n\", and store the result in a variable named rows. - Then, use the print() function to display the first five elements in rows.\n",
    "Hint\n",
    "Call the split() method on the data object and pass \"\\n\" into the method.\n",
    "To display the first five elements, use the print() function and list slicing."
   ]
  },
  {
   "cell_type": "code",
   "execution_count": 4,
   "metadata": {},
   "outputs": [
    {
     "name": "stdout",
     "output_type": "stream",
     "text": [
      "['john', 'plastic', 'joe']\n"
     ]
    }
   ],
   "source": [
    "sample = \"john,plastic,joe\"\n",
    "split_list = sample.split(\",\")\n",
    "print(split_list)"
   ]
  },
  {
   "cell_type": "code",
   "execution_count": 5,
   "metadata": {},
   "outputs": [
    {
     "name": "stdout",
     "output_type": "stream",
     "text": [
      "['How much wood', 'can a woodchuck chuck', 'if a woodchuck', 'could chuck wood?']\n"
     ]
    }
   ],
   "source": [
    "string_two = \"How much wood\\ncan a woodchuck chuck\\nif a woodchuck\\ncould chuck wood?\"\n",
    "split_string_two = string_two.split('\\n')\n",
    "print(split_string_two)"
   ]
  },
  {
   "cell_type": "code",
   "execution_count": 12,
   "metadata": {},
   "outputs": [
    {
     "name": "stdout",
     "output_type": "stream",
     "text": [
      "['Albuquerque,749', 'Anaheim,371', 'Anchorage,828', 'Arlington,503', 'Atlanta,1379']\n"
     ]
    }
   ],
   "source": [
    "f = open('crime_rates.csv', 'r', encoding='utf-8')\n",
    "data = f.read()\n",
    "rows = data.split(\"\\n\")\n",
    "print(rows[0:5])"
   ]
  },
  {
   "cell_type": "markdown",
   "metadata": {},
   "source": [
    "# 4: Practice - Loops"
   ]
  },
  {
   "cell_type": "markdown",
   "metadata": {},
   "source": [
    "# Instructions\n",
    "The variable ten_rows contains the first 10 elements in rows.\n",
    "Write a for loop that:\n",
    "iterates over each element in ten_rows\n",
    "uses the print() function to display each element\n",
    "Hint\n",
    "Use this for loop syntax - for row in ten_rows:\n",
    "Include this in the loop body - print(row)"
   ]
  },
  {
   "cell_type": "code",
   "execution_count": 14,
   "metadata": {},
   "outputs": [
    {
     "name": "stdout",
     "output_type": "stream",
     "text": [
      "Albuquerque,749\n",
      "Anaheim,371\n",
      "Anchorage,828\n",
      "Arlington,503\n",
      "Atlanta,1379\n",
      "Aurora,425\n",
      "Austin,408\n",
      "Bakersfield,542\n",
      "Baltimore,1405\n",
      "Boston,835\n"
     ]
    }
   ],
   "source": [
    "ten_rows = rows[0:10]\n",
    "\n",
    "for row in ten_rows:\n",
    "    print(row)"
   ]
  },
  {
   "cell_type": "markdown",
   "metadata": {},
   "source": [
    "# 5: List Of Lists"
   ]
  },
  {
   "cell_type": "code",
   "execution_count": 22,
   "metadata": {},
   "outputs": [
    {
     "name": "stdout",
     "output_type": "stream",
     "text": [
      "[['Albuquerque', '749'], ['Anaheim', '371'], ['Anchorage', '828']]\n",
      "['Albuquerque', '749']\n",
      "['Anaheim', '371']\n",
      "['Anchorage', '828']\n"
     ]
    }
   ],
   "source": [
    "three_rows = [\"Albuquerque,749\", \"Anaheim,371\", \"Anchorage,828\"]\n",
    "final_list = []\n",
    "\n",
    "for row in three_rows:\n",
    "    split_list = row.split(\",\")\n",
    "    final_list.append(split_list)\n",
    "    \n",
    "print(final_list)\n",
    "print(final_list[0])\n",
    "print(final_list[1])\n",
    "print(final_list[2])"
   ]
  },
  {
   "cell_type": "markdown",
   "metadata": {},
   "source": [
    "# 6: Practice - Splitting Elements In A List"
   ]
  },
  {
   "cell_type": "markdown",
   "metadata": {},
   "source": [
    "# Instructions\n",
    "Write a for loop that splits each element in rows on the comma delimiter, and appends the resulting list to a new list named final_data.\n",
    "Then, use the print() function and list slicing to display the first five elements in final_data.\n",
    "Hint\n",
    "Create an empty list before the loop and assign to a new variable final_data.\n",
    "The code to retrieve the first five elements in final_data is final_data[0:5]."
   ]
  },
  {
   "cell_type": "code",
   "execution_count": 24,
   "metadata": {},
   "outputs": [
    {
     "name": "stdout",
     "output_type": "stream",
     "text": [
      "['Albuquerque,749', 'Anaheim,371', 'Anchorage,828', 'Arlington,503', 'Atlanta,1379']\n",
      "[['Albuquerque', '749'], ['Anaheim', '371'], ['Anchorage', '828'], ['Arlington', '503'], ['Atlanta', '1379']]\n"
     ]
    }
   ],
   "source": [
    "f = open('crime_rates.csv', 'r', encoding='utf-8')\n",
    "data = f.read()\n",
    "rows = data.split('\\n')\n",
    "print(rows[0:5])\n",
    "final_data = []\n",
    "\n",
    "for row in rows:\n",
    "    split_list = row.split(\",\")\n",
    "    final_data.append(split_list)\n",
    "print(final_data[0:5])"
   ]
  },
  {
   "cell_type": "markdown",
   "metadata": {},
   "source": [
    "# 7: Accessing Elements In A List Of Lists: The Manual Way"
   ]
  },
  {
   "cell_type": "markdown",
   "metadata": {},
   "source": [
    "# Instructions\n",
    "five_elements contains the first five elements from final_data.\n",
    "Create a list of strings named cities_list that contains the city names from each list in five_elements.\n",
    "Hint\n",
    "Assign an empty list to a new variable cities_list. Then use the append() method five times to add the city name from each element in five_elements to cities_list. Remember that you need to call the append() method on the list you want to add to (cities_list).\n",
    "\n"
   ]
  },
  {
   "cell_type": "code",
   "execution_count": 28,
   "metadata": {},
   "outputs": [
    {
     "data": {
      "text/plain": [
       "[['Albuquerque', '749'],\n",
       " ['Anaheim', '371'],\n",
       " ['Anchorage', '828'],\n",
       " ['Arlington', '503'],\n",
       " ['Atlanta', '1379']]"
      ]
     },
     "execution_count": 28,
     "metadata": {},
     "output_type": "execute_result"
    }
   ],
   "source": [
    "five_elements = final_data[0:5]\n",
    "five_elements"
   ]
  },
  {
   "cell_type": "code",
   "execution_count": 43,
   "metadata": {},
   "outputs": [
    {
     "data": {
      "text/plain": [
       "['Albuquerque', 'Anaheim', 'Anchorage', 'Arlington', 'Atlanta']"
      ]
     },
     "execution_count": 43,
     "metadata": {},
     "output_type": "execute_result"
    }
   ],
   "source": [
    "cities_list = []\n",
    "\n",
    "cities_list.append(five_elements[0][0])\n",
    "cities_list.append(five_elements[1][0])\n",
    "cities_list.append(five_elements[2][0])\n",
    "cities_list.append(five_elements[3][0])\n",
    "cities_list.append(five_elements[4][0])\n",
    "\n",
    "cities_list"
   ]
  },
  {
   "cell_type": "markdown",
   "metadata": {},
   "source": [
    "# 8: Looping Through A List Of Lists"
   ]
  },
  {
   "cell_type": "markdown",
   "metadata": {},
   "source": [
    "# Instructions\n",
    "Create a list of strings named cities_list that contains just the city names from final_data.\n",
    "Recall that the city name is located at index 0 for each list in final_data.\n",
    "Hint\n",
    "Retrieve the element at index 0, then use the append() method on cities_list to add each element in final_data.\n",
    "\n"
   ]
  },
  {
   "cell_type": "code",
   "execution_count": 44,
   "metadata": {
    "collapsed": true
   },
   "outputs": [],
   "source": [
    "crime_rates = []\n",
    "\n",
    "for row in five_elements:\n",
    "    crime_rate = row[1]\n",
    "    crime_rates.append(crime_rate)"
   ]
  },
  {
   "cell_type": "code",
   "execution_count": null,
   "metadata": {
    "collapsed": true
   },
   "outputs": [],
   "source": [
    "cities_list = []\n",
    "\n",
    "for row in final_data:\n",
    "    city_list = row[0]\n",
    "    cities_list.append(city_list)    "
   ]
  },
  {
   "cell_type": "markdown",
   "metadata": {},
   "source": [
    "# 11: Challenge"
   ]
  },
  {
   "cell_type": "markdown",
   "metadata": {},
   "source": [
    "# Instructions\n",
    "Create a list of integers named int_crime_rates that contains just the crime rates - as integers - from the list rows.\n",
    "First create an empty list and assign it to a new variable int_crime_rates.\n",
    "Then, write a for loop that iterates over rows and does the following:\n",
    "uses the split() method to convert each string in rows into a list, based on the comma delimiter\n",
    "converts the value at index 1 from that list to an integer using the int() function\n",
    "uses the append() method to add each integer to int_crime_rates\n",
    "Hint\n",
    "int() is a function that takes a single input (such as a string) and returns an integer."
   ]
  },
  {
   "cell_type": "code",
   "execution_count": 46,
   "metadata": {},
   "outputs": [
    {
     "name": "stdout",
     "output_type": "stream",
     "text": [
      "['Albuquerque,749', 'Anaheim,371', 'Anchorage,828', 'Arlington,503', 'Atlanta,1379']\n"
     ]
    }
   ],
   "source": [
    "f = open('crime_rates.csv', 'r')\n",
    "data = f.read()\n",
    "rows = data.split('\\n')\n",
    "print(rows[0:5])"
   ]
  },
  {
   "cell_type": "code",
   "execution_count": 49,
   "metadata": {},
   "outputs": [
    {
     "name": "stdout",
     "output_type": "stream",
     "text": [
      "[749, 371, 828, 503, 1379, 425, 408, 542, 1405, 835]\n"
     ]
    }
   ],
   "source": [
    "int_crime_rates = []\n",
    "\n",
    "for row in rows:\n",
    "    split_rows = row.split(\",\")\n",
    "    converted_row = int(split_rows[1])\n",
    "    int_crime_rates.append(converted_row)\n",
    "    \n",
    "print(int_crime_rates[0:10])"
   ]
  }
 ],
 "metadata": {
  "kernelspec": {
   "display_name": "Python 3",
   "language": "python",
   "name": "python3"
  },
  "language_info": {
   "codemirror_mode": {
    "name": "ipython",
    "version": 3
   },
   "file_extension": ".py",
   "mimetype": "text/x-python",
   "name": "python",
   "nbconvert_exporter": "python",
   "pygments_lexer": "ipython3",
   "version": "3.6.1"
  }
 },
 "nbformat": 4,
 "nbformat_minor": 2
}
