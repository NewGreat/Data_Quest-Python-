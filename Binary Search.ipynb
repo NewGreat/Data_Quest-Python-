{
 "cells": [
  {
   "cell_type": "markdown",
   "metadata": {},
   "source": [
    "# 1: Implementing Binary Search: Part 1"
   ]
  },
  {
   "cell_type": "markdown",
   "metadata": {},
   "source": [
    "# Instructions\n",
    "Write the function player_age, which takes in name as a parameter.\n",
    "For now, start your guess at the middle of the list. Return \"later\" if the name we want is later in the list, \"earlier\" if it's earlier in the list, and \"found\" if you've found the right name.\n",
    "Store the result of calling player_age on \"Darius Johnson-Odom\" in johnson_odom_age.\n",
    "Store the result of calling player_age on \"Nick Young\" in young_age.\n",
    "Store the result of calling player_age on \"Jeff Adrien\" in adrien_age.\n",
    "Hint\n",
    "Use if, elif, and else statements to specify the three different cases.\n",
    "Compare strings using > and <."
   ]
  },
  {
   "cell_type": "code",
   "execution_count": 1,
   "metadata": {
    "collapsed": false
   },
   "outputs": [],
   "source": [
    "import pandas as pd\n",
    "import math\n",
    "\n",
    "nba = pd.read_csv(\"nba_2013.csv\")\n",
    "\n",
    "def format_name(name):\n",
    "    return name.split(\" \")[1] + \", \" + name.split(\" \")[0]\n",
    "\n",
    "length = len(nba)\n",
    "\n",
    "def player_age(name):\n",
    "    name = format_name(name)\n",
    "    first_guess_index = math.floor(length/2)\n",
    "    first_guess = format_name(nba[first_guess_index][0])\n",
    "    if name > first_guess:\n",
    "        return \"later\"\n",
    "    elif name < first_guess:\n",
    "        return \"earlier\"\n",
    "    else:\n",
    "        return \"found\"\n",
    "    \n",
    "#johnson_odom_age = player_age(\"Darius Johnson-Odom\")\n",
    "#young_age = player_age(\"Nick Young\")   \n",
    "#adrien_age = player_age(\"Jeff Adrien\")"
   ]
  },
  {
   "cell_type": "markdown",
   "metadata": {},
   "source": [
    "# 2: Implementing Binary Search: Part 2"
   ]
  },
  {
   "cell_type": "markdown",
   "metadata": {},
   "source": [
    "# Instructions\n",
    "Edit the player_age function to change the bounds and make a second guess when needed.\n",
    "player_age should return the second guess, which will be a player's name.\n",
    "Format the value the function returns using our \"last_name, first_name\" format.\n",
    "Store the result of calling player_age on \"Pau Gasol\" in gasol_age.\n",
    "Store the result of calling player_age on \"Paul Pierce\" in pierce_age.\n",
    "Hint\n",
    "You should only adjust one bound for each case.\n",
    "It's easy to be off by one when setting your bound."
   ]
  },
  {
   "cell_type": "code",
   "execution_count": 2,
   "metadata": {
    "collapsed": false
   },
   "outputs": [],
   "source": [
    "def format_name(name):\n",
    "    return name.split(\" \")[1] + \", \" + name.split(\" \")[0]\n",
    "\n",
    "length = len(nba)\n",
    "\n",
    "def player_age(name):\n",
    "    name = format_name(name)\n",
    "    upper_bound = length - 1\n",
    "    lower_bound = 0\n",
    "    first_guess_index = math.floor(length/2)\n",
    "    first_guess = format_name(nba[first_guess_index][0])\n",
    "    if name < first_guess:\n",
    "        upper_bound = first_guess_index -1\n",
    "    elif name > first_guess:\n",
    "        lower_bound = first_guess_index + 1\n",
    "    else:\n",
    "        return first_guess\n",
    "    \n",
    "    second_guess_index = math.floor((lower_bound + upper_bound) / 2)\n",
    "    second_guess = format_name(nba[second_guess_index][0])\n",
    "    return second_guess\n",
    "\n",
    "#gasol_age = player_age(\"Paul Gasol\")\n",
    "#pierce_age = player_age(\"Paul Pierce\")  "
   ]
  },
  {
   "cell_type": "markdown",
   "metadata": {},
   "source": [
    "# 3: Implementing Binary Search: Part 3"
   ]
  },
  {
   "cell_type": "markdown",
   "metadata": {},
   "source": [
    "# Instructions\n",
    "Edit the player_age function so that it continues guessing until it finds the name we requested.\n",
    "To accomplish this, use a while loop with an appropriate condition.\n",
    "When the function finds the right name, return \"found\".\n",
    "Store the result of calling player_age on \"Carmelo Anthony\" in carmelo_age.\n",
    "Hint\n",
    "while name != guess: will iterate until the function finds the name we requested."
   ]
  },
  {
   "cell_type": "code",
   "execution_count": 9,
   "metadata": {
    "collapsed": false
   },
   "outputs": [],
   "source": [
    "def format_name(name):\n",
    "    return name.split(\" \")[1] + \", \" + name.split(\" \")[0]\n",
    "\n",
    "length = len(nba)\n",
    "\n",
    "def player_age(name):\n",
    "    name = format_name(name)\n",
    "    upper_bound = length - 1\n",
    "    lower_bound = 0\n",
    "    \n",
    "    index = math.floor((upper_bound + lower_bound) / 2)\n",
    "    guess = format_name(nba[index][0])\n",
    "    \n",
    "    while name != guess:\n",
    "        if name < guess:\n",
    "            upper_bound = index - 1\n",
    "        else:\n",
    "            lower_bound = index + 1\n",
    "            index = math.floor((lower_bound + upper_bound) /2)\n",
    "            guess = format_name(nba[index][0])\n",
    "            return \"found\"\n",
    "        \n",
    "#carmelo_age = player_age(\"Carmelo Anthony\")"
   ]
  },
  {
   "cell_type": "markdown",
   "metadata": {},
   "source": [
    "# 4:Implementing Binary Search: Part 4"
   ]
  },
  {
   "cell_type": "markdown",
   "metadata": {},
   "source": [
    "# Instructions\n",
    "Write code that satisfies the tasks the pseudo-code outlines.\n",
    "Store the result of calling player_age on \"Stephen Curry\" in curry_age.\n",
    "Store the result of calling player_age on \"Blake Griffin\" in griffin_age.\n",
    "Store the result of calling player_age on \"Michael Jordan\" in jordan_age.\n",
    "Hint\n",
    "while name != guess and lower_bound <= upper_bound: will iterate until it finds the name we want, or until the bounds cross each other when the name does not exist in our data set."
   ]
  },
  {
   "cell_type": "code",
   "execution_count": 15,
   "metadata": {
    "collapsed": false
   },
   "outputs": [],
   "source": [
    "def format_name(name):\n",
    "    return name.split(\" \")[1] + \", \" + name.split(\" \")[0]\n",
    "\n",
    "length = len(nba)\n",
    "\n",
    "def player_age(name):\n",
    "    name = format_name(name)\n",
    "    upper_bound = length - 1\n",
    "    lower_bound = length + 1\n",
    "    index = math.floor((upper_bound + lower_bound) / 2)\n",
    "    guess = format_name(nba[index][0])\n",
    "    \n",
    "    while name != guess and upper_bound <= lower_bound:\n",
    "        if name < guess:\n",
    "            upper_bound = index - 1\n",
    "        else:\n",
    "            lower_bound = index + 1\n",
    "            index = math.floor((lower_bound + upper_bound) / 2)\n",
    "            guess = format_name(nba[index][0])\n",
    "            if name == guess:\n",
    "                return nba[index][2]\n",
    "            else:\n",
    "                return -1\n",
    "           \n",
    "        \n",
    "#curry_age = player_age(\"Stephen Curry\")\n",
    "#griffin_age = player_age(\"Blake Griffin\")\n",
    "#jordan_age = player_age(\"Michael Jordan\")   "
   ]
  }
 ],
 "metadata": {
  "kernelspec": {
   "display_name": "Python 3",
   "language": "python",
   "name": "python3"
  },
  "language_info": {
   "codemirror_mode": {
    "name": "ipython",
    "version": 3
   },
   "file_extension": ".py",
   "mimetype": "text/x-python",
   "name": "python",
   "nbconvert_exporter": "python",
   "pygments_lexer": "ipython3",
   "version": "3.5.1"
  }
 },
 "nbformat": 4,
 "nbformat_minor": 0
}
