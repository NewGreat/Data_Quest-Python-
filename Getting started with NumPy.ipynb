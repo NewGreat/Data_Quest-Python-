{
 "cells": [
  {
   "cell_type": "markdown",
   "metadata": {},
   "source": [
    "# 1.Creating arrays"
   ]
  },
  {
   "cell_type": "markdown",
   "metadata": {},
   "source": [
    "## Instructions\n",
    "Create a vector from the list [10, 20, 30].\n",
    "Assign the result to the variable vector.\n",
    "Create a matrix from the list of lists [[5, 10, 15], [20, 25, 30], [35, 40, 45]].\n",
    "Assign the result to the variable matrix."
   ]
  },
  {
   "cell_type": "code",
   "execution_count": 2,
   "metadata": {},
   "outputs": [
    {
     "name": "stdout",
     "output_type": "stream",
     "text": [
      "[10 20 30]\n",
      "[[ 5 10 15]\n",
      " [20 25 30]\n",
      " [35 40 45]]\n"
     ]
    }
   ],
   "source": [
    "import numpy as np\n",
    "\n",
    "vector = np.array([10, 20, 30])\n",
    "matrix = np.array([[5, 10, 15], [20, 25, 30], [35, 40, 45]])\n",
    "\n",
    "print(vector)\n",
    "print(matrix)"
   ]
  },
  {
   "cell_type": "markdown",
   "metadata": {},
   "source": [
    "# 2.Array shape"
   ]
  },
  {
   "cell_type": "markdown",
   "metadata": {},
   "source": [
    "## Instructions\n",
    "Import numpy and assign to the alias np.\n",
    "Assign the shape of vector to vector_shape.\n",
    "Assign the shape of matrix to matrix_shape.\n",
    "Display both vector_shape and matrix_shape using the print() function."
   ]
  },
  {
   "cell_type": "code",
   "execution_count": 5,
   "metadata": {},
   "outputs": [
    {
     "name": "stdout",
     "output_type": "stream",
     "text": [
      "(3,)\n",
      "(3, 3)\n"
     ]
    }
   ],
   "source": [
    "vector_shape = vector.shape\n",
    "matrix_shape = matrix.shape\n",
    "print(vector_shape)\n",
    "print(matrix_shape)"
   ]
  },
  {
   "cell_type": "markdown",
   "metadata": {},
   "source": [
    "# 3.Using NumPy"
   ]
  },
  {
   "cell_type": "markdown",
   "metadata": {},
   "source": [
    "## Instructions\n",
    "Use the numpy.genfromtxt() function to read \"world_alcohol.csv\" into a NumPy array named world_alcohol.\n",
    "Use the type() and print() functions to display the type for world_alcohol."
   ]
  },
  {
   "cell_type": "code",
   "execution_count": 15,
   "metadata": {},
   "outputs": [
    {
     "name": "stdout",
     "output_type": "stream",
     "text": [
      "<class 'numpy.ndarray'>\n"
     ]
    }
   ],
   "source": [
    "world_alcohol = np.genfromtxt('world_alcohol.csv', delimiter=\",\")\n",
    "print(type(world_alcohol))"
   ]
  },
  {
   "cell_type": "markdown",
   "metadata": {},
   "source": [
    "# 4. Data types"
   ]
  },
  {
   "cell_type": "markdown",
   "metadata": {},
   "source": [
    "## Instructions\n",
    "Assign the data type of world_alcohol to the variable world_alcohol_dtype.\n",
    "Display world_alcohol_dtype using the print() function."
   ]
  },
  {
   "cell_type": "code",
   "execution_count": 17,
   "metadata": {},
   "outputs": [
    {
     "name": "stdout",
     "output_type": "stream",
     "text": [
      "float64\n"
     ]
    }
   ],
   "source": [
    "world_alcohol_dtype = world_alcohol.dtype\n",
    "print(world_alcohol_dtype)"
   ]
  },
  {
   "cell_type": "markdown",
   "metadata": {},
   "source": [
    "# 6. Reading in the data correctly"
   ]
  },
  {
   "cell_type": "markdown",
   "metadata": {},
   "source": [
    "## Instructions\n",
    "When reading in world_alcohol.csv using numpy.genfromtxt():\n",
    "Use the \"U75\" data type\n",
    "Skip the first line in the dataset\n",
    "Use the comma delimiter.\n",
    "Assign the result to world_alcohol.\n",
    "Use the print() function to display world_alcohol."
   ]
  },
  {
   "cell_type": "code",
   "execution_count": 18,
   "metadata": {},
   "outputs": [
    {
     "name": "stdout",
     "output_type": "stream",
     "text": [
      "[['1986' 'Western Pacific' 'Viet Nam' 'Wine' '0']\n",
      " ['1986' 'Americas' 'Uruguay' 'Other' '0.5']\n",
      " ['1985' 'Africa' \"Cte d'Ivoire\" 'Wine' '1.62']\n",
      " ..., \n",
      " ['1986' 'Europe' 'Switzerland' 'Spirits' '2.54']\n",
      " ['1987' 'Western Pacific' 'Papua New Guinea' 'Other' '0']\n",
      " ['1986' 'Africa' 'Swaziland' 'Other' '5.15']]\n"
     ]
    }
   ],
   "source": [
    "world_alcohol = np.genfromtxt('world_alcohol.csv', dtype=\"U75\", skip_header=1, delimiter=\",\")\n",
    "print(world_alcohol)"
   ]
  },
  {
   "cell_type": "markdown",
   "metadata": {},
   "source": [
    "# 7. Indexing arrays"
   ]
  },
  {
   "cell_type": "markdown",
   "metadata": {},
   "source": [
    "## Instructions\n",
    "Assign the amount of alcohol Uruguayans drank in other beverages per capita in 1986 to uruguay_other_1986. This is the second row and fifth column.\n",
    "Assign the country in the third row to third_country. Country is the third column."
   ]
  },
  {
   "cell_type": "code",
   "execution_count": 29,
   "metadata": {},
   "outputs": [
    {
     "name": "stdout",
     "output_type": "stream",
     "text": [
      "0.5\n"
     ]
    }
   ],
   "source": [
    "uruguay_other_1986 = world_alcohol[1][4]\n",
    "print(uruguay_other_1986)"
   ]
  },
  {
   "cell_type": "code",
   "execution_count": 22,
   "metadata": {},
   "outputs": [
    {
     "name": "stdout",
     "output_type": "stream",
     "text": [
      "['1986' 'Americas' 'Colombia' 'Beer' '4.27']\n"
     ]
    }
   ],
   "source": [
    "third_country = world_alcohol[3]\n",
    "print(third_country)"
   ]
  },
  {
   "cell_type": "markdown",
   "metadata": {},
   "source": [
    "# 8. Slicing arrays"
   ]
  },
  {
   "cell_type": "markdown",
   "metadata": {},
   "source": [
    "## Instructions\n",
    "Assign the whole third column from world_alcohol to the variable countries.\n",
    "Assign the whole fifth column from world_alcohol to the variable alcohol_consumption."
   ]
  },
  {
   "cell_type": "code",
   "execution_count": 35,
   "metadata": {},
   "outputs": [
    {
     "data": {
      "text/plain": [
       "array(['Viet Nam', 'Uruguay', \"Cte d'Ivoire\", ..., 'Switzerland',\n",
       "       'Papua New Guinea', 'Swaziland'], \n",
       "      dtype='<U75')"
      ]
     },
     "execution_count": 35,
     "metadata": {},
     "output_type": "execute_result"
    }
   ],
   "source": [
    "countries = world_alcohol[:,2]\n",
    "print(countries)"
   ]
  },
  {
   "cell_type": "code",
   "execution_count": 37,
   "metadata": {},
   "outputs": [
    {
     "name": "stdout",
     "output_type": "stream",
     "text": [
      "['0' '0.5' '1.62' ..., '2.54' '0' '5.15']\n"
     ]
    }
   ],
   "source": [
    "alcohol_consumption = world_alcohol[:,4]\n",
    "print(alcohol_consumption)"
   ]
  },
  {
   "cell_type": "markdown",
   "metadata": {},
   "source": [
    "# 9. Slicing one dimension"
   ]
  },
  {
   "cell_type": "markdown",
   "metadata": {},
   "source": [
    "## Instructions\n",
    "Assign all the rows and the first 2 columns of world_alcohol to first_two_columns.\n",
    "Assign the first 10 rows and the first column of world_alcohol to first_ten_years.\n",
    "Assign the first 10 rows and all of the columns of world_alcohol to first_ten_rows."
   ]
  },
  {
   "cell_type": "code",
   "execution_count": 50,
   "metadata": {},
   "outputs": [
    {
     "data": {
      "text/plain": [
       "array([['1986', 'Western Pacific'],\n",
       "       ['1986', 'Americas'],\n",
       "       ['1985', 'Africa'],\n",
       "       ..., \n",
       "       ['1986', 'Europe'],\n",
       "       ['1987', 'Western Pacific'],\n",
       "       ['1986', 'Africa']], \n",
       "      dtype='<U75')"
      ]
     },
     "execution_count": 50,
     "metadata": {},
     "output_type": "execute_result"
    }
   ],
   "source": [
    "first_two_columns = world_alcohol[:,0:2]\n",
    "first_two_columns"
   ]
  },
  {
   "cell_type": "code",
   "execution_count": 51,
   "metadata": {},
   "outputs": [
    {
     "data": {
      "text/plain": [
       "array(['1986', '1986', '1985', '1986', '1987', '1987', '1987', '1985',\n",
       "       '1986'], \n",
       "      dtype='<U75')"
      ]
     },
     "execution_count": 51,
     "metadata": {},
     "output_type": "execute_result"
    }
   ],
   "source": [
    "first_ten_years = world_alcohol[0:9, 0]\n",
    "first_ten_years"
   ]
  },
  {
   "cell_type": "code",
   "execution_count": 52,
   "metadata": {},
   "outputs": [
    {
     "data": {
      "text/plain": [
       "array([['1986', 'Western Pacific', 'Viet Nam', 'Wine', '0'],\n",
       "       ['1986', 'Americas', 'Uruguay', 'Other', '0.5'],\n",
       "       ['1985', 'Africa', \"Cte d'Ivoire\", 'Wine', '1.62'],\n",
       "       ['1986', 'Americas', 'Colombia', 'Beer', '4.27'],\n",
       "       ['1987', 'Americas', 'Saint Kitts and Nevis', 'Beer', '1.98'],\n",
       "       ['1987', 'Americas', 'Guatemala', 'Other', '0'],\n",
       "       ['1987', 'Africa', 'Mauritius', 'Wine', '0.13'],\n",
       "       ['1985', 'Africa', 'Angola', 'Spirits', '0.39'],\n",
       "       ['1986', 'Americas', 'Antigua and Barbuda', 'Spirits', '1.55'],\n",
       "       ['1984', 'Africa', 'Nigeria', 'Other', '6.1']], \n",
       "      dtype='<U75')"
      ]
     },
     "execution_count": 52,
     "metadata": {},
     "output_type": "execute_result"
    }
   ],
   "source": [
    "first_ten_rows = world_alcohol[0:10, :]\n",
    "first_ten_rows"
   ]
  },
  {
   "cell_type": "markdown",
   "metadata": {},
   "source": [
    "## 10. Slicing arrays"
   ]
  },
  {
   "cell_type": "markdown",
   "metadata": {},
   "source": [
    "## Instructions\n",
    "Assign the first 20 rows of the columns at index 1 and 2 of world_alcohol to first_twenty_regions."
   ]
  },
  {
   "cell_type": "code",
   "execution_count": 58,
   "metadata": {},
   "outputs": [
    {
     "data": {
      "text/plain": [
       "array([['Western Pacific', 'Viet Nam'],\n",
       "       ['Americas', 'Uruguay'],\n",
       "       ['Africa', \"Cte d'Ivoire\"],\n",
       "       ['Americas', 'Colombia'],\n",
       "       ['Americas', 'Saint Kitts and Nevis'],\n",
       "       ['Americas', 'Guatemala'],\n",
       "       ['Africa', 'Mauritius'],\n",
       "       ['Africa', 'Angola'],\n",
       "       ['Americas', 'Antigua and Barbuda'],\n",
       "       ['Africa', 'Nigeria'],\n",
       "       ['Africa', 'Botswana'],\n",
       "       ['Americas', 'Guatemala'],\n",
       "       ['Western Pacific', \"Lao People's Democratic Republic\"],\n",
       "       ['Eastern Mediterranean', 'Afghanistan'],\n",
       "       ['Western Pacific', 'Viet Nam'],\n",
       "       ['Africa', 'Guinea-Bissau'],\n",
       "       ['Americas', 'Costa Rica'],\n",
       "       ['Africa', 'Seychelles'],\n",
       "       ['Europe', 'Norway'],\n",
       "       ['Africa', 'Kenya']], \n",
       "      dtype='<U75')"
      ]
     },
     "execution_count": 58,
     "metadata": {},
     "output_type": "execute_result"
    }
   ],
   "source": [
    "first_twenty_regions = world_alcohol[0:20, 1:3]\n",
    "first_twenty_regions"
   ]
  }
 ],
 "metadata": {
  "kernelspec": {
   "display_name": "Python 3",
   "language": "python",
   "name": "python3"
  },
  "language_info": {
   "codemirror_mode": {
    "name": "ipython",
    "version": 3
   },
   "file_extension": ".py",
   "mimetype": "text/x-python",
   "name": "python",
   "nbconvert_exporter": "python",
   "pygments_lexer": "ipython3",
   "version": "3.6.1"
  }
 },
 "nbformat": 4,
 "nbformat_minor": 2
}
