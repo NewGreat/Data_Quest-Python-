{
 "cells": [
  {
   "cell_type": "code",
   "execution_count": 6,
   "metadata": {
    "collapsed": false
   },
   "outputs": [
    {
     "data": {
      "text/html": [
       "<div>\n",
       "<table border=\"1\" class=\"dataframe\">\n",
       "  <thead>\n",
       "    <tr style=\"text-align: right;\">\n",
       "      <th></th>\n",
       "      <th>39, State-gov, 77516, Bachelors, 13, Never-married, Adm-clerical, Not-in-family, White, Male, 2174, 0, 40, United-States, &lt;=50K</th>\n",
       "    </tr>\n",
       "  </thead>\n",
       "  <tbody>\n",
       "    <tr>\n",
       "      <th>0</th>\n",
       "      <td>50, Self-emp-not-inc, 83311, Bachelors, 13, Ma...</td>\n",
       "    </tr>\n",
       "    <tr>\n",
       "      <th>1</th>\n",
       "      <td>38, Private, 215646, HS-grad, 9, Divorced, Han...</td>\n",
       "    </tr>\n",
       "    <tr>\n",
       "      <th>2</th>\n",
       "      <td>53, Private, 234721, 11th, 7, Married-civ-spou...</td>\n",
       "    </tr>\n",
       "  </tbody>\n",
       "</table>\n",
       "</div>"
      ],
      "text/plain": [
       "  39, State-gov, 77516, Bachelors, 13, Never-married, Adm-clerical, Not-in-family, White, Male, 2174, 0, 40, United-States, <=50K\n",
       "0  50, Self-emp-not-inc, 83311, Bachelors, 13, Ma...                                                                             \n",
       "1  38, Private, 215646, HS-grad, 9, Divorced, Han...                                                                             \n",
       "2  53, Private, 234721, 11th, 7, Married-civ-spou...                                                                             "
      ]
     },
     "execution_count": 6,
     "metadata": {},
     "output_type": "execute_result"
    }
   ],
   "source": [
    "import pandas as pd\n",
    "\n",
    "df = pd.read_csv('adult.csv')\n",
    "df.head(3)"
   ]
  },
  {
   "cell_type": "markdown",
   "metadata": {},
   "source": [
    "# 1. Calculating Differences\n",
    "Instructions\n",
    "In the last screen, our observed values were 10771 Females, and 21790 Males. Our expected values were 16280.5 Females and 16280.5 Males.\n",
    "Compute the proportional difference in number of observed Females vs number of expected Females. Assign the result to female_diff.\n",
    "Compute the proportional difference in number of observed Males vs number of expected Males. Assign the result to male_diff.\n",
    "Hint\n",
    "Remember to use the formula shown above to compute the proportional difference."
   ]
  },
  {
   "cell_type": "code",
   "execution_count": 10,
   "metadata": {
    "collapsed": false
   },
   "outputs": [
    {
     "name": "stdout",
     "output_type": "stream",
     "text": [
      "-0.33841098246368356\n",
      "0.33841098246368356\n"
     ]
    }
   ],
   "source": [
    "female_diff = (10771 - 16280.5) / 16280.5\n",
    "male_diff = (21790 - 16280.5) / 16280.5\n",
    "print(female_diff)\n",
    "print(male_diff)"
   ]
  },
  {
   "cell_type": "markdown",
   "metadata": {},
   "source": [
    "# 2. Updating The Formula\n",
    "Instructions In the last screen, our observed values were 10771 Females, and 21790 Males. Our expected values were 16280.5 Females and 16280.5 Males.\n",
    "Compute the difference in number of observed Females vs number of expected Females using the updated technique. Assign the result to female_diff.\n",
    "Compute the difference in number of observed Males vs number of expected Males using the updated technique. Assign the result to male_diff.\n",
    "Add male_diff and female_diff together and assign to the variable gender_chisq.\n",
    "Hint\n",
    "Remember to use the new formula that squares the top term."
   ]
  },
  {
   "cell_type": "code",
   "execution_count": 12,
   "metadata": {
    "collapsed": false
   },
   "outputs": [
    {
     "name": "stdout",
     "output_type": "stream",
     "text": [
      "3728.950615767329\n"
     ]
    }
   ],
   "source": [
    "female_diff = (10771 - 16280.5) ** 2 / 16280.5\n",
    "male_diff = (21790 - 16280.5) ** 2 / 16280.5\n",
    "gender_chisq = female_diff + male_diff\n",
    "print(gender_chisq)"
   ]
  },
  {
   "cell_type": "code",
   "execution_count": 8,
   "metadata": {
    "collapsed": false
   },
   "outputs": [],
   "source": [
    "chi_squared_values = []\n",
    "from numpy.random import random\n",
    "import matplotlib.pyplot as plt\n",
    "\n",
    "for i in range(1000):\n",
    "    sequence = random((32561,))\n",
    "    sequence[sequence < .5] = 0\n",
    "    sequence[sequence >= .5] = 1\n",
    "    male_count = len(sequence[sequence == 0])\n",
    "    female_count = len(sequence[sequence == 1])\n",
    "    male_diff = (male_count - 16280.5) ** 2 / 16280.5\n",
    "    female_diff = (female_count - 16280.5) ** 2 / 16280.5\n",
    "    chi_squared = male_diff + female_diff\n",
    "    chi_squared_values.append(chi_squared)\n",
    "\n",
    "plt.hist(chi_squared_values)\n",
    "plt.show()"
   ]
  },
  {
   "cell_type": "markdown",
   "metadata": {},
   "source": [
    "# 3. Smaller Samples\n",
    "Instructions Let's say our observed values are 107.71 Females, and 217.90 Males. Our expected values are 162.805 Females and 162.805 Males.\n",
    "Compute the difference in number of observed Females vs number of expected Females using the new formula. Assign the result to female_diff.\n",
    "Compute the difference in number of observed Males vs number of expected Males using the new formula. Assign the result to male_diff.\n",
    "Add male_diff and female_diff together and assign to the variable gender_chisq.\n",
    "Hint\n",
    "You may want to look 2 screens ago, when we calculated out a chi-squared value."
   ]
  },
  {
   "cell_type": "code",
   "execution_count": 14,
   "metadata": {
    "collapsed": false
   },
   "outputs": [
    {
     "name": "stdout",
     "output_type": "stream",
     "text": [
      "37.2895061576733\n"
     ]
    }
   ],
   "source": [
    "female_diff = (107.71 - 162.805) ** 2 / 162.805\n",
    "male_diff = (217.90 - 162.805) ** 2 / 162.805\n",
    "gender_chisq = male_diff + female_diff\n",
    "print(gender_chisq)"
   ]
  },
  {
   "cell_type": "markdown",
   "metadata": {},
   "source": [
    "# 4. Sampling Distribution Equality\n",
    "Instructions\n",
    "Inside a for loop that repeats 1000 times:\n",
    "Use the numpy.random.random function to generate 300 numbers between 0.0 and 1.0.\n",
    "Pass (300,) into the numpy.random.random function to get a vector with 300 elements.\n",
    "For each of the numbers, if it is less than .5, replace it with 0, otherwise replace it with 1.\n",
    "Count up how many times 0 occurs (Male frequency), and how many times 1 occurs (Female frequency).\n",
    "Use the expected frequencies from earlier to compute the chi-squared value.\n",
    "Compute male_diff by subtracting the expected Male count (150) from the observed Male count, squaring it, and dividing by the expected Male count.\n",
    "Compute female_diff by subtracting the expected Female count (150) from the observed Female count, squaring it, and dividing by the expected Female count.\n",
    "Add up male_diff and female_diff to get the chi-squared vlaue.\n",
    "Append the chi-squared value to chi_squared_values.\n",
    "Create a histogram with chi_squared_values using the plt.hist method.\n",
    "This plot should look identical to the one you generated earlier.\n",
    "Hint\n",
    "You might want to look back two screens, when we did this with different data."
   ]
  },
  {
   "cell_type": "code",
   "execution_count": 15,
   "metadata": {
    "collapsed": true
   },
   "outputs": [],
   "source": [
    "chi_squared_values = []\n",
    "from numpy.random import random\n",
    "import matplotlib.pyplot as plt\n",
    "\n",
    "for i in range(1000):\n",
    "    sequence = random((300,))\n",
    "    sequence[sequence < .5] = 0\n",
    "    sequence[sequence >= .5] = 1\n",
    "    male_count = len(sequence[sequence == 0])\n",
    "    female_count = len(sequence[sequence == 1])\n",
    "    male_diff = (male_count - 150) ** 2 / 150\n",
    "    female_diff = (female_count - 150) ** 2 / 150\n",
    "    chi_squared = male_diff + female_diff\n",
    "    chi_squared_values.append(chi_squared)\n",
    "\n",
    "plt.hist(chi_squared_values)\n",
    "plt.show()"
   ]
  },
  {
   "cell_type": "markdown",
   "metadata": {},
   "source": [
    "# 5. Increasing Degrees Of Freedom\n",
    "Instructions\n",
    "For each category (White, Black, Asian-Pac-Islander, Amer-Indian-Eskimo, and Other):\n",
    "compute the difference between the expected and observed counts,\n",
    "square the difference,\n",
    "divide by the expected value,\n",
    "append each result to a list,\n",
    "sum the values in the list and assign the result to race_chisq.\n",
    "Hint\n",
    "Use the values in the table to figure out the observed and expected values.\n"
   ]
  },
  {
   "cell_type": "code",
   "execution_count": 19,
   "metadata": {
    "collapsed": false
   },
   "outputs": [
    {
     "name": "stdout",
     "output_type": "stream",
     "text": [
      "1080.485936593381\n"
     ]
    }
   ],
   "source": [
    "white_diff = (27816 - 26146.5) ** 2 / 26146.5 \n",
    "black_diff = (3124 - 3939.9) ** 2 / 3939.9\n",
    "asian = (1039 - 944.3) ** 2 / 944.3\n",
    "amer_indian = (311 - 260.5) ** 2 / 260.5\n",
    "other = (271 - 1269.8) ** 2 / 1269.8\n",
    "\n",
    "race_chisq = white_diff + black_diff + asian + amer_indian + other\n",
    "print(race_chisq)"
   ]
  },
  {
   "cell_type": "markdown",
   "metadata": {},
   "source": [
    "# 6. Using SciPy\n",
    "Instructions Use the scipy.stats.chisquare function to calculate the p-value for the following table:\n",
    "Assign the result to race_pvalue.\n",
    "Hint\n",
    "Make sure you pass NumPy arrays into scipy.stats.chisquare.\n",
    "\n",
    "\n",
    "\n",
    "\n",
    "script.py\n",
    "console\n",
    "\n",
    "1\n",
    "from scipy.stats import chisquare\n",
    "2\n",
    "import numpy as np\n",
    "Variables\n",
    " expected\n",
    " observed"
   ]
  },
  {
   "cell_type": "code",
   "execution_count": 26,
   "metadata": {
    "collapsed": false
   },
   "outputs": [
    {
     "name": "stdout",
     "output_type": "stream",
     "text": [
      "Power_divergenceResult(statistic=1080.485936593381, pvalue=1.2848494674873035e-232)\n"
     ]
    }
   ],
   "source": [
    "from scipy.stats import chisquare\n",
    "import numpy as np\n",
    "\n",
    "observed = np.array([27816, 3124, 1039, 311, 271])\n",
    "expected = np.array([26146.5, 3939.9, 944.3, 260.5, 1269.8])\n",
    "\n",
    "race_pvalue = chisquare(observed, expected)\n",
    "\n",
    "print(race_pvalue)"
   ]
  }
 ],
 "metadata": {
  "kernelspec": {
   "display_name": "Python 3",
   "language": "python",
   "name": "python3"
  },
  "language_info": {
   "codemirror_mode": {
    "name": "ipython",
    "version": 3
   },
   "file_extension": ".py",
   "mimetype": "text/x-python",
   "name": "python",
   "nbconvert_exporter": "python",
   "pygments_lexer": "ipython3",
   "version": "3.5.1"
  }
 },
 "nbformat": 4,
 "nbformat_minor": 0
}
