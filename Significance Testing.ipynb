{
 "cells": [
  {
   "cell_type": "markdown",
   "metadata": {},
   "source": [
    "# 1. Statistical Significance\n",
    "Instructions Use the NumPy function mean() to calculate:\n",
    "The mean of the weight lost by participants in group A. Assign to mean_group_a and display it using the print() function.\n",
    "The mean of the weight lost by participants in group B. Assign to mean_group_b and display it using the print() function.\n",
    "Use the Matplotlib function hist() to plot histograms for both weight_lost_a and weight_lost_b.\n",
    "Hint\n",
    "The NumPy function mean() takes in a list as it's sole parameter."
   ]
  },
  {
   "cell_type": "code",
   "execution_count": 1,
   "metadata": {
    "collapsed": false
   },
   "outputs": [
    {
     "name": "stdout",
     "output_type": "stream",
     "text": [
      "38.0\n",
      "33.3333333333\n"
     ]
    }
   ],
   "source": [
    "import numpy as np\n",
    "import matplotlib.pyplot as plt\n",
    "\n",
    "weight_lost_a = [12, 56, 46]\n",
    "weight_lost_b = [15, 36, 49]\n",
    "\n",
    "mean_weight_lost_a = np.mean(weight_lost_a)\n",
    "print(mean_weight_lost_a)\n",
    "\n",
    "mean_weight_lost_b = np.mean(weight_lost_b)\n",
    "print(mean_weight_lost_b)\n",
    "\n",
    "plt.hist(weight_lost_a)\n",
    "plt.show()\n",
    "\n",
    "plt.hist(weight_lost_b)\n",
    "plt.show()"
   ]
  },
  {
   "cell_type": "markdown",
   "metadata": {},
   "source": [
    "# 2. Test Statistic\n",
    "Instructions Calculate the observed test statistic by subtracting mean_group_a from mean_group_b and assign to mean_difference.\n",
    "Display mean_difference using the print() function.\n",
    "Hint\n",
    "Subtract mean_group_a from mean_group_b using the subtraction operator (-)."
   ]
  },
  {
   "cell_type": "code",
   "execution_count": 2,
   "metadata": {
    "collapsed": false
   },
   "outputs": [
    {
     "name": "stdout",
     "output_type": "stream",
     "text": [
      "-4.66666666667\n"
     ]
    }
   ],
   "source": [
    "mean_difference = mean_weight_lost_b - mean_weight_lost_a\n",
    "print(mean_difference)"
   ]
  },
  {
   "cell_type": "markdown",
   "metadata": {},
   "source": [
    "# 3. Permutation Test\n",
    "Instructions Create an empty list named mean_differences.\n",
    "Inside a for loop that repeats 1000 times:\n",
    "Assign empty lists to the variables group_a and group_b.\n",
    "Inside a for loop that iterates over all_values:\n",
    "Use the numpy.random.rand() function to generate a value between 0 and 1.\n",
    "If the random value is larger than or equal to 0.5, assign that weight loss value to group A by using the append() method to append it to group_a.\n",
    "If the random value is less than 0.5, assign that weight loss value to group B by using the append() method to append it to group_b.\n",
    "Outside the for loop that iterates over all_values:\n",
    "Use the numpy.mean() function to calculate the means of group_a and group_b.\n",
    "Subtract the mean of group A from group B and assign the result to iteration_mean_difference.\n",
    "Append iteration_mean_difference to mean_differences using the append() method.\n",
    "Use plt.hist() to generate a histogram of mean_differences.\n",
    "Hint\n",
    "Use for i in range(1000): to iterate 1000 times."
   ]
  },
  {
   "cell_type": "code",
   "execution_count": 6,
   "metadata": {
    "collapsed": false
   },
   "outputs": [
    {
     "name": "stdout",
     "output_type": "stream",
     "text": [
      "[12, 45, 45, 45, 36, 35, 78]\n"
     ]
    },
    {
     "name": "stderr",
     "output_type": "stream",
     "text": [
      "//anaconda/envs/py35/lib/python3.5/site-packages/numpy/core/_methods.py:59: RuntimeWarning: Mean of empty slice.\n",
      "  warnings.warn(\"Mean of empty slice.\", RuntimeWarning)\n",
      "//anaconda/envs/py35/lib/python3.5/site-packages/numpy/core/_methods.py:70: RuntimeWarning: invalid value encountered in double_scalars\n",
      "  ret = ret.dtype.type(ret / rcount)\n"
     ]
    }
   ],
   "source": [
    "mean_difference = 2.52\n",
    "all_values = [12, 45, 45, 45, 36, 35, 78]\n",
    "print(all_values)\n",
    "mean_differences = []\n",
    "for i in range(1000):\n",
    "    group_a = []\n",
    "    group_b = []\n",
    "    for value in all_values:\n",
    "        assignment_chance = np.random.rand()\n",
    "        if assignment_chance >= 0.5:\n",
    "            group_a.append(value)\n",
    "        else:\n",
    "            group_b.append(value)\n",
    "    iteration_mean_difference = np.mean(group_b) - np.mean(group_a)\n",
    "mean_differences.append(iteration_mean_difference)\n",
    "\n",
    "plt.hist(mean_differences)\n",
    "plt.show()"
   ]
  },
  {
   "cell_type": "markdown",
   "metadata": {},
   "source": [
    "# 4. Dictionary Representation Of A Distribution\n",
    "Instructions\n",
    "Create an empty dictionary called sampling_distribution whose keys will be the test statistics and whose values are the frequencies of the test statistics.\n",
    "Inside a for loop that iterates over mean_differences, check if each value exists as a key in sampling_distribution:\n",
    "Use the dictionary method get() with a default condition of False to check if the current iteration's value is already in sampling_distribution.\n",
    "If it is, increment the existing value in sampling_distribution for that key by 1.\n",
    "If it isn't, add it to sampling_distribution as a key and assign 1 as the value.\n",
    "Hint\n",
    "Here's how to use the get() method to do a conditional lookup of a value in a dictionary: if sampling_distribution.get(df, False):"
   ]
  },
  {
   "cell_type": "code",
   "execution_count": 10,
   "metadata": {
    "collapsed": false
   },
   "outputs": [
    {
     "name": "stdout",
     "output_type": "stream",
     "text": [
      "{-3.7999999999999972: 1}\n"
     ]
    }
   ],
   "source": [
    "sampling_distribution = {}\n",
    "for i in mean_differences:\n",
    "    if sampling_distribution.get(i,False):\n",
    "        val = sampling_distribution.get(i)\n",
    "        inc = val + 1\n",
    "        sampling_distribution[i] = inc\n",
    "    else:\n",
    "        sampling_distribution[i] = 1\n",
    "print(sampling_distribution)"
   ]
  },
  {
   "cell_type": "markdown",
   "metadata": {},
   "source": [
    "# 5. P Value\n",
    "Instructions\n",
    "Create an empty list named frequencies.\n",
    "Inside a for loop that iterates over the keys in sampling_distribution:\n",
    "If the key is 2.52 or larger, add itss value to frequencies (and do nothing if it isn't).\n",
    "Outside the for loop, use the NumPy function sum() to calculate the sum of the values in frequencies.\n",
    "Divide the sum by 1000 and assign to p_value.\n",
    "Hint\n",
    "To iterate over the keys in a dictionary, recall that you need to use the keys() method: for sp in sampling_distribution.keys():"
   ]
  },
  {
   "cell_type": "code",
   "execution_count": 12,
   "metadata": {
    "collapsed": false
   },
   "outputs": [
    {
     "name": "stdout",
     "output_type": "stream",
     "text": [
      "0.0\n"
     ]
    }
   ],
   "source": [
    "import numpy as np\n",
    "frequencies = []\n",
    "for sp in sampling_distribution.keys():\n",
    "    if sp >= 2.52:\n",
    "        frequencies.append(sp)\n",
    "frequencies_sum = np.sum(frequencies)\n",
    "p_value = frequencies_sum / 1000\n",
    "print(p_value)"
   ]
  }
 ],
 "metadata": {
  "kernelspec": {
   "display_name": "Python 3",
   "language": "python",
   "name": "python3"
  },
  "language_info": {
   "codemirror_mode": {
    "name": "ipython",
    "version": 3
   },
   "file_extension": ".py",
   "mimetype": "text/x-python",
   "name": "python",
   "nbconvert_exporter": "python",
   "pygments_lexer": "ipython3",
   "version": "3.5.1"
  }
 },
 "nbformat": 4,
 "nbformat_minor": 0
}
