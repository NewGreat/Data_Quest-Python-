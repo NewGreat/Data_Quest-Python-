{
 "cells": [
  {
   "cell_type": "markdown",
   "metadata": {},
   "source": [
    "# 1: The Data Set"
   ]
  },
  {
   "cell_type": "code",
   "execution_count": 1,
   "metadata": {},
   "outputs": [
    {
     "name": "stdout",
     "output_type": "stream",
     "text": [
      "1845\n",
      "0    1606\n",
      "1    1567\n",
      "2     269\n",
      "3     184\n",
      "4      93\n",
      "5      75\n",
      "6      52\n",
      "7      88\n",
      "8      12\n",
      "9       5\n",
      "Name: borrower_default_count_240, dtype: int64\n"
     ]
    }
   ],
   "source": [
    "import pandas as pd\n",
    "loans = pd.read_csv('student_loan_defaults.csv')\n",
    "loans.head()\n",
    "\n",
    "borrower_default_count_240 = loans['borrower_default_count_240']\n",
    "principal_outstanding_240 = loans['principal_outstanding_240']\n",
    "print(len(borrower_default_count_240))\n",
    "print(borrower_default_count_240[0:10])"
   ]
  },
  {
   "cell_type": "markdown",
   "metadata": {},
   "source": [
    "# 2: Built-In Functions"
   ]
  },
  {
   "cell_type": "markdown",
   "metadata": {},
   "source": [
    "## Instructions\n",
    "Use the sum() function to add 6 and 11 and assign the result to total.\n",
    "Hint\n",
    "Remember that in order to use the sum() function, you have to pass in a list. Example: sum([6, 11])."
   ]
  },
  {
   "cell_type": "code",
   "execution_count": 2,
   "metadata": {},
   "outputs": [
    {
     "name": "stdout",
     "output_type": "stream",
     "text": [
      "17\n"
     ]
    }
   ],
   "source": [
    "total = sum([6, 11])\n",
    "print(total)"
   ]
  },
  {
   "cell_type": "markdown",
   "metadata": {},
   "source": [
    "# 3: Scopes\n"
   ]
  },
  {
   "cell_type": "markdown",
   "metadata": {},
   "source": [
    "## Instructions\n",
    "Use the find_average function to find the average of principal_outstanding_240, and assign the result to the variable average.\n",
    "Afterwards, print the variable total to verify that it's unchanged in the global scope.\n",
    "Hint\n",
    "Use the find_average function to find the average."
   ]
  },
  {
   "cell_type": "code",
   "execution_count": 3,
   "metadata": {
    "collapsed": true
   },
   "outputs": [],
   "source": [
    "def find_average(column):\n",
    "    length = len(column)\n",
    "    total = sum(column)\n",
    "    return total / length\n",
    "\n",
    "total = sum(borrower_default_count_240)"
   ]
  },
  {
   "cell_type": "code",
   "execution_count": 4,
   "metadata": {},
   "outputs": [
    {
     "name": "stdout",
     "output_type": "stream",
     "text": [
      "499833\n"
     ]
    }
   ],
   "source": [
    "average = find_average(principal_outstanding_240)\n",
    "print(total)"
   ]
  },
  {
   "cell_type": "markdown",
   "metadata": {},
   "source": [
    "# 4: Scope Isolation"
   ]
  },
  {
   "cell_type": "markdown",
   "metadata": {},
   "source": [
    "## Instructions\n",
    "Calculate the average of principal_outstanding_240 with the find_average() function, and assign the result to the variable average.\n",
    "Calculate the length of principal_outstanding_240 with the find_length() function, and assign the result to the variable principal_length.\n",
    "Afterwards, verify that the variable length is unchanged in the global scope.\n",
    "Also verify that changing the order in which you call find_average and find_length doesn't alter the results.\n",
    "Hint\n",
    "Use the find_average function to find the average, and find_length to find the length."
   ]
  },
  {
   "cell_type": "code",
   "execution_count": 5,
   "metadata": {
    "collapsed": true
   },
   "outputs": [],
   "source": [
    "def find_average(column):\n",
    "    length = len(column)\n",
    "    total = sum(column)\n",
    "    return total / length\n",
    "\n",
    "def find_length(column):\n",
    "    length = len(column)\n",
    "    return length\n",
    "\n",
    "length = len(borrower_default_count_240)\n",
    "average = find_average(principal_outstanding_240)\n",
    "principal_length = find_length(principal_outstanding_240)"
   ]
  },
  {
   "cell_type": "code",
   "execution_count": 6,
   "metadata": {},
   "outputs": [
    {
     "name": "stdout",
     "output_type": "stream",
     "text": [
      "1845\n",
      "563408.659079\n"
     ]
    }
   ],
   "source": [
    "print(principal_length)\n",
    "print(average)"
   ]
  },
  {
   "cell_type": "markdown",
   "metadata": {},
   "source": [
    "# 5: Scope Inheritance"
   ]
  },
  {
   "cell_type": "markdown",
   "metadata": {},
   "source": [
    "## Instructions\n",
    "Find the average of principal_outstanding_240 with the find_average() function, and assign the result to the variable average.\n",
    "Verify that the find_average() function used the value length from the global scope.\n",
    "Hint\n",
    "Use the find_average() function to find the average."
   ]
  },
  {
   "cell_type": "code",
   "execution_count": 7,
   "metadata": {},
   "outputs": [
    {
     "name": "stdout",
     "output_type": "stream",
     "text": [
      "103948897.6\n"
     ]
    }
   ],
   "source": [
    "def find_average(column):\n",
    "    total = sum(column)\n",
    "    \n",
    "    return total / length\n",
    "\n",
    "length = 10\n",
    "\n",
    "average = find_average(principal_outstanding_240)\n",
    "print(average)"
   ]
  },
  {
   "cell_type": "markdown",
   "metadata": {},
   "source": [
    "# 6: Global Variables"
   ]
  },
  {
   "cell_type": "markdown",
   "metadata": {},
   "source": [
    "## Instructions\n",
    "Create a new function:\n",
    "Make a global variable b inside the function.\n",
    "Assign the value 20 to b inside the function.\n",
    "Call the function.\n",
    "Print out b.\n",
    "Hint\n",
    "Remember to use the global keyword to initialize b, then assign 20 to it on a separate line."
   ]
  },
  {
   "cell_type": "code",
   "execution_count": 9,
   "metadata": {},
   "outputs": [
    {
     "name": "stdout",
     "output_type": "stream",
     "text": [
      "20\n"
     ]
    }
   ],
   "source": [
    "def new_function():\n",
    "    global b\n",
    "    b = 20\n",
    "    \n",
    "new_function()\n",
    "print(b)"
   ]
  }
 ],
 "metadata": {
  "kernelspec": {
   "display_name": "Python 3",
   "language": "python",
   "name": "python3"
  },
  "language_info": {
   "codemirror_mode": {
    "name": "ipython",
    "version": 3
   },
   "file_extension": ".py",
   "mimetype": "text/x-python",
   "name": "python",
   "nbconvert_exporter": "python",
   "pygments_lexer": "ipython3",
   "version": "3.6.1"
  }
 },
 "nbformat": 4,
 "nbformat_minor": 2
}
