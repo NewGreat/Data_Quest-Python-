{
 "cells": [
  {
   "cell_type": "markdown",
   "metadata": {},
   "source": [
    "# 1. Introduction"
   ]
  },
  {
   "cell_type": "markdown",
   "metadata": {},
   "source": [
    "## Instructions\n",
    "Read the file titanic_survival.csv into a dataframe called titanic_survival."
   ]
  },
  {
   "cell_type": "code",
   "execution_count": 97,
   "metadata": {},
   "outputs": [
    {
     "data": {
      "text/html": [
       "<div>\n",
       "<style>\n",
       "    .dataframe thead tr:only-child th {\n",
       "        text-align: right;\n",
       "    }\n",
       "\n",
       "    .dataframe thead th {\n",
       "        text-align: left;\n",
       "    }\n",
       "\n",
       "    .dataframe tbody tr th {\n",
       "        vertical-align: top;\n",
       "    }\n",
       "</style>\n",
       "<table border=\"1\" class=\"dataframe\">\n",
       "  <thead>\n",
       "    <tr style=\"text-align: right;\">\n",
       "      <th></th>\n",
       "      <th>pclass</th>\n",
       "      <th>survived</th>\n",
       "      <th>name</th>\n",
       "      <th>sex</th>\n",
       "      <th>age</th>\n",
       "      <th>sibsp</th>\n",
       "      <th>parch</th>\n",
       "      <th>ticket</th>\n",
       "      <th>fare</th>\n",
       "      <th>cabin</th>\n",
       "      <th>embarked</th>\n",
       "      <th>boat</th>\n",
       "      <th>body</th>\n",
       "      <th>home.dest</th>\n",
       "    </tr>\n",
       "  </thead>\n",
       "  <tbody>\n",
       "    <tr>\n",
       "      <th>0</th>\n",
       "      <td>1.0</td>\n",
       "      <td>1.0</td>\n",
       "      <td>Allen, Miss. Elisabeth Walton</td>\n",
       "      <td>female</td>\n",
       "      <td>29.0000</td>\n",
       "      <td>0.0</td>\n",
       "      <td>0.0</td>\n",
       "      <td>24160</td>\n",
       "      <td>211.3375</td>\n",
       "      <td>B5</td>\n",
       "      <td>S</td>\n",
       "      <td>2</td>\n",
       "      <td>NaN</td>\n",
       "      <td>St Louis, MO</td>\n",
       "    </tr>\n",
       "    <tr>\n",
       "      <th>1</th>\n",
       "      <td>1.0</td>\n",
       "      <td>1.0</td>\n",
       "      <td>Allison, Master. Hudson Trevor</td>\n",
       "      <td>male</td>\n",
       "      <td>0.9167</td>\n",
       "      <td>1.0</td>\n",
       "      <td>2.0</td>\n",
       "      <td>113781</td>\n",
       "      <td>151.5500</td>\n",
       "      <td>C22 C26</td>\n",
       "      <td>S</td>\n",
       "      <td>11</td>\n",
       "      <td>NaN</td>\n",
       "      <td>Montreal, PQ / Chesterville, ON</td>\n",
       "    </tr>\n",
       "    <tr>\n",
       "      <th>2</th>\n",
       "      <td>1.0</td>\n",
       "      <td>0.0</td>\n",
       "      <td>Allison, Miss. Helen Loraine</td>\n",
       "      <td>female</td>\n",
       "      <td>2.0000</td>\n",
       "      <td>1.0</td>\n",
       "      <td>2.0</td>\n",
       "      <td>113781</td>\n",
       "      <td>151.5500</td>\n",
       "      <td>C22 C26</td>\n",
       "      <td>S</td>\n",
       "      <td>NaN</td>\n",
       "      <td>NaN</td>\n",
       "      <td>Montreal, PQ / Chesterville, ON</td>\n",
       "    </tr>\n",
       "  </tbody>\n",
       "</table>\n",
       "</div>"
      ],
      "text/plain": [
       "   pclass  survived                            name     sex      age  sibsp  \\\n",
       "0     1.0       1.0   Allen, Miss. Elisabeth Walton  female  29.0000    0.0   \n",
       "1     1.0       1.0  Allison, Master. Hudson Trevor    male   0.9167    1.0   \n",
       "2     1.0       0.0    Allison, Miss. Helen Loraine  female   2.0000    1.0   \n",
       "\n",
       "   parch  ticket      fare    cabin embarked boat  body  \\\n",
       "0    0.0   24160  211.3375       B5        S    2   NaN   \n",
       "1    2.0  113781  151.5500  C22 C26        S   11   NaN   \n",
       "2    2.0  113781  151.5500  C22 C26        S  NaN   NaN   \n",
       "\n",
       "                         home.dest  \n",
       "0                     St Louis, MO  \n",
       "1  Montreal, PQ / Chesterville, ON  \n",
       "2  Montreal, PQ / Chesterville, ON  "
      ]
     },
     "execution_count": 97,
     "metadata": {},
     "output_type": "execute_result"
    }
   ],
   "source": [
    "import pandas as pd\n",
    "\n",
    "titanic_survival = pd.read_csv('titanic_survival.csv')\n",
    "titanic_survival.head(3)"
   ]
  },
  {
   "cell_type": "markdown",
   "metadata": {},
   "source": [
    "# 2. Finding the Missing Data"
   ]
  },
  {
   "cell_type": "markdown",
   "metadata": {},
   "source": [
    "## Instructions\n",
    "Count how many values in the \"age\" column have null values:\n",
    "Use pandas.isnull() on age variable to create a Series of True and False values.\n",
    "Use the resulting series to select only the elements in age that are null, and assign the result to age_null_true\n",
    "Assign the length of age_null_true to age_null_count.\n",
    "Print age_null_count to see how many null values are in the \"age\" column."
   ]
  },
  {
   "cell_type": "code",
   "execution_count": 98,
   "metadata": {},
   "outputs": [
    {
     "name": "stdout",
     "output_type": "stream",
     "text": [
      "264\n"
     ]
    }
   ],
   "source": [
    "age = titanic_survival[\"age\"]\n",
    "age_is_null = pd.isnull(age)\n",
    "age_null_true = age[age_is_null]\n",
    "age_null_count = len(age_null_true)\n",
    "print(age_null_count)"
   ]
  },
  {
   "cell_type": "markdown",
   "metadata": {},
   "source": [
    "# 3. Whats the big deal with missing data?"
   ]
  },
  {
   "cell_type": "markdown",
   "metadata": {},
   "source": [
    "## Instructions\n",
    "Use age_is_null to create a vector that only contains values from the \"age\" column that aren't NaN.\n",
    "Calculate the mean of the new vector, and assign the result to correct_mean_age."
   ]
  },
  {
   "cell_type": "code",
   "execution_count": 99,
   "metadata": {
    "collapsed": true
   },
   "outputs": [],
   "source": [
    "age_is_null = pd.isnull(titanic_survival[\"age\"])"
   ]
  },
  {
   "cell_type": "code",
   "execution_count": 100,
   "metadata": {},
   "outputs": [
    {
     "name": "stdout",
     "output_type": "stream",
     "text": [
      "0       29.0000\n",
      "1        0.9167\n",
      "2        2.0000\n",
      "3       30.0000\n",
      "4       25.0000\n",
      "5       48.0000\n",
      "6       63.0000\n",
      "7       39.0000\n",
      "8       53.0000\n",
      "9       71.0000\n",
      "10      47.0000\n",
      "11      18.0000\n",
      "12      24.0000\n",
      "13      26.0000\n",
      "14      80.0000\n",
      "16      24.0000\n",
      "17      50.0000\n",
      "18      32.0000\n",
      "19      36.0000\n",
      "20      37.0000\n",
      "21      47.0000\n",
      "22      26.0000\n",
      "23      42.0000\n",
      "24      29.0000\n",
      "25      25.0000\n",
      "26      25.0000\n",
      "27      19.0000\n",
      "28      35.0000\n",
      "29      28.0000\n",
      "30      45.0000\n",
      "         ...   \n",
      "1269    33.0000\n",
      "1270    28.0000\n",
      "1271    28.0000\n",
      "1272    47.0000\n",
      "1273    18.0000\n",
      "1274    31.0000\n",
      "1275    16.0000\n",
      "1276    31.0000\n",
      "1277    22.0000\n",
      "1278    20.0000\n",
      "1279    14.0000\n",
      "1280    22.0000\n",
      "1281    22.0000\n",
      "1285    32.5000\n",
      "1286    38.0000\n",
      "1287    51.0000\n",
      "1288    18.0000\n",
      "1289    21.0000\n",
      "1290    47.0000\n",
      "1294    28.5000\n",
      "1295    21.0000\n",
      "1296    27.0000\n",
      "1298    36.0000\n",
      "1299    27.0000\n",
      "1300    15.0000\n",
      "1301    45.5000\n",
      "1304    14.5000\n",
      "1306    26.5000\n",
      "1307    27.0000\n",
      "1308    29.0000\n",
      "Name: age, Length: 1046, dtype: float64\n"
     ]
    }
   ],
   "source": [
    "good_ages = titanic_survival[\"age\"][age_is_null == False]\n",
    "print(good_ages)"
   ]
  },
  {
   "cell_type": "code",
   "execution_count": 101,
   "metadata": {},
   "outputs": [
    {
     "name": "stdout",
     "output_type": "stream",
     "text": [
      "29.8811345124\n"
     ]
    }
   ],
   "source": [
    "correct_mean_age = sum(good_ages) / len(good_ages)\n",
    "print(correct_mean_age)"
   ]
  },
  {
   "cell_type": "markdown",
   "metadata": {},
   "source": [
    "# 4. Easier Ways to Do Math"
   ]
  },
  {
   "cell_type": "markdown",
   "metadata": {},
   "source": [
    "## Instructions\n",
    "Assign the mean of the \"fare\" column to correct_mean_fare."
   ]
  },
  {
   "cell_type": "code",
   "execution_count": 102,
   "metadata": {},
   "outputs": [
    {
     "data": {
      "text/plain": [
       "33.29547928134572"
      ]
     },
     "execution_count": 102,
     "metadata": {},
     "output_type": "execute_result"
    }
   ],
   "source": [
    "correct_mean_fare = titanic_survival[\"fare\"].mean()\n",
    "correct_mean_fare"
   ]
  },
  {
   "cell_type": "markdown",
   "metadata": {},
   "source": [
    "# 5. Calculating Summary Statistics"
   ]
  },
  {
   "cell_type": "markdown",
   "metadata": {},
   "source": [
    "## Instructions\n",
    "Use a for loop to iterate over passenger_classes. Within the for loop:\n",
    "Select just the rows in titanic_survival where the pclass value is equivalent to the current iterator value (class).\n",
    "Select just the fare column for the current subset of rows.\n",
    "Use the Series.mean method to calculate the mean of this subset.\n",
    "Add the mean of the class to the fares_by_class dictionary with class as the key.\n",
    "Once the loop completes, the dictionary fares_by_class should have 1, 2, and 3 as keys, with the average fares as the corresponding values."
   ]
  },
  {
   "cell_type": "code",
   "execution_count": 103,
   "metadata": {},
   "outputs": [
    {
     "name": "stdout",
     "output_type": "stream",
     "text": [
      "{1: 87.50899164086687, 2: 21.1791963898917, 3: 13.302888700564957}\n"
     ]
    }
   ],
   "source": [
    "passenger_classes = [1, 2, 3]\n",
    "fares_by_class = {}\n",
    "\n",
    "for this_class in passenger_classes:\n",
    "    pclass_row = titanic_survival[titanic_survival[\"pclass\"] == this_class]\n",
    "    fare_class = pclass_row[\"fare\"]\n",
    "    fare_for_class = fare_class.mean()\n",
    "    fares_by_class[this_class] = fare_for_class\n",
    "print(fares_by_class)"
   ]
  },
  {
   "cell_type": "markdown",
   "metadata": {},
   "source": [
    "# 6. Making Pivot Tables"
   ]
  },
  {
   "cell_type": "markdown",
   "metadata": {},
   "source": [
    "## Instructions\n",
    "Use the DataFrame.pivot_table() method to calculate the mean age for each passenger class (\"pclass\").\n",
    "Assign the result to passenger_age.\n",
    "Display the passenger_age pivot table using the print() function."
   ]
  },
  {
   "cell_type": "code",
   "execution_count": 104,
   "metadata": {},
   "outputs": [
    {
     "name": "stdout",
     "output_type": "stream",
     "text": [
      "        survived\n",
      "pclass          \n",
      "1.0     0.619195\n",
      "2.0     0.429603\n",
      "3.0     0.255289\n"
     ]
    }
   ],
   "source": [
    "passenger_survival = titanic_survival.pivot_table(index=\"pclass\", values=\"survived\")\n",
    "print(passenger_survival)"
   ]
  },
  {
   "cell_type": "code",
   "execution_count": 105,
   "metadata": {},
   "outputs": [
    {
     "name": "stdout",
     "output_type": "stream",
     "text": [
      "              age\n",
      "pclass           \n",
      "1.0     39.159918\n",
      "2.0     29.506705\n",
      "3.0     24.816367\n"
     ]
    }
   ],
   "source": [
    "passenger_age = titanic_survival.pivot_table(index=\"pclass\", values=\"age\")\n",
    "print(passenger_age)"
   ]
  },
  {
   "cell_type": "markdown",
   "metadata": {},
   "source": [
    "# 7. More Complex Pivot Tables"
   ]
  },
  {
   "cell_type": "markdown",
   "metadata": {},
   "source": [
    "## Instructions\n",
    "Make a pivot table that calculates the total fares collected (\"fare\") and total number of survivors (\"survived\") for each embarkation port (\"embarked\").\n",
    "Assign the result to port_stats.\n",
    "Display port_stats using the print() function."
   ]
  },
  {
   "cell_type": "code",
   "execution_count": 106,
   "metadata": {},
   "outputs": [
    {
     "name": "stdout",
     "output_type": "stream",
     "text": [
      "                fare  survived\n",
      "embarked                      \n",
      "C         16830.7922     150.0\n",
      "Q          1526.3085      44.0\n",
      "S         25033.3862     304.0\n"
     ]
    }
   ],
   "source": [
    "import numpy as np\n",
    "\n",
    "port_stats = titanic_survival.pivot_table(index=\"embarked\", values=[\"fare\", \"survived\"], aggfunc=np.sum)\n",
    "print(port_stats)"
   ]
  },
  {
   "cell_type": "markdown",
   "metadata": {
    "collapsed": true
   },
   "source": [
    "# 8. Drop Missing Values"
   ]
  },
  {
   "cell_type": "markdown",
   "metadata": {},
   "source": [
    "## Instructions\n",
    "Drop all columns in titanic_survival that have missing values and assign the result to drop_na_columns.\n",
    "Drop all rows in titanic_survival where the columns \"age\" or \"sex\" have missing values and assign the result to new_titanic_survival."
   ]
  },
  {
   "cell_type": "code",
   "execution_count": 107,
   "metadata": {
    "collapsed": true
   },
   "outputs": [],
   "source": [
    "drop_na_rows = titanic_survival.dropna(axis=0)\n",
    "drop_na_columns = titanic_survival.dropna(axis=1)"
   ]
  },
  {
   "cell_type": "code",
   "execution_count": 108,
   "metadata": {},
   "outputs": [
    {
     "data": {
      "text/html": [
       "<div>\n",
       "<style>\n",
       "    .dataframe thead tr:only-child th {\n",
       "        text-align: right;\n",
       "    }\n",
       "\n",
       "    .dataframe thead th {\n",
       "        text-align: left;\n",
       "    }\n",
       "\n",
       "    .dataframe tbody tr th {\n",
       "        vertical-align: top;\n",
       "    }\n",
       "</style>\n",
       "<table border=\"1\" class=\"dataframe\">\n",
       "  <thead>\n",
       "    <tr style=\"text-align: right;\">\n",
       "      <th></th>\n",
       "      <th>pclass</th>\n",
       "      <th>survived</th>\n",
       "      <th>name</th>\n",
       "      <th>sex</th>\n",
       "      <th>age</th>\n",
       "      <th>sibsp</th>\n",
       "      <th>parch</th>\n",
       "      <th>ticket</th>\n",
       "      <th>fare</th>\n",
       "      <th>cabin</th>\n",
       "      <th>embarked</th>\n",
       "      <th>boat</th>\n",
       "      <th>body</th>\n",
       "      <th>home.dest</th>\n",
       "    </tr>\n",
       "  </thead>\n",
       "  <tbody>\n",
       "    <tr>\n",
       "      <th>0</th>\n",
       "      <td>1.0</td>\n",
       "      <td>1.0</td>\n",
       "      <td>Allen, Miss. Elisabeth Walton</td>\n",
       "      <td>female</td>\n",
       "      <td>29.0000</td>\n",
       "      <td>0.0</td>\n",
       "      <td>0.0</td>\n",
       "      <td>24160</td>\n",
       "      <td>211.3375</td>\n",
       "      <td>B5</td>\n",
       "      <td>S</td>\n",
       "      <td>2</td>\n",
       "      <td>NaN</td>\n",
       "      <td>St Louis, MO</td>\n",
       "    </tr>\n",
       "    <tr>\n",
       "      <th>1</th>\n",
       "      <td>1.0</td>\n",
       "      <td>1.0</td>\n",
       "      <td>Allison, Master. Hudson Trevor</td>\n",
       "      <td>male</td>\n",
       "      <td>0.9167</td>\n",
       "      <td>1.0</td>\n",
       "      <td>2.0</td>\n",
       "      <td>113781</td>\n",
       "      <td>151.5500</td>\n",
       "      <td>C22 C26</td>\n",
       "      <td>S</td>\n",
       "      <td>11</td>\n",
       "      <td>NaN</td>\n",
       "      <td>Montreal, PQ / Chesterville, ON</td>\n",
       "    </tr>\n",
       "    <tr>\n",
       "      <th>2</th>\n",
       "      <td>1.0</td>\n",
       "      <td>0.0</td>\n",
       "      <td>Allison, Miss. Helen Loraine</td>\n",
       "      <td>female</td>\n",
       "      <td>2.0000</td>\n",
       "      <td>1.0</td>\n",
       "      <td>2.0</td>\n",
       "      <td>113781</td>\n",
       "      <td>151.5500</td>\n",
       "      <td>C22 C26</td>\n",
       "      <td>S</td>\n",
       "      <td>NaN</td>\n",
       "      <td>NaN</td>\n",
       "      <td>Montreal, PQ / Chesterville, ON</td>\n",
       "    </tr>\n",
       "    <tr>\n",
       "      <th>3</th>\n",
       "      <td>1.0</td>\n",
       "      <td>0.0</td>\n",
       "      <td>Allison, Mr. Hudson Joshua Creighton</td>\n",
       "      <td>male</td>\n",
       "      <td>30.0000</td>\n",
       "      <td>1.0</td>\n",
       "      <td>2.0</td>\n",
       "      <td>113781</td>\n",
       "      <td>151.5500</td>\n",
       "      <td>C22 C26</td>\n",
       "      <td>S</td>\n",
       "      <td>NaN</td>\n",
       "      <td>135.0</td>\n",
       "      <td>Montreal, PQ / Chesterville, ON</td>\n",
       "    </tr>\n",
       "    <tr>\n",
       "      <th>4</th>\n",
       "      <td>1.0</td>\n",
       "      <td>0.0</td>\n",
       "      <td>Allison, Mrs. Hudson J C (Bessie Waldo Daniels)</td>\n",
       "      <td>female</td>\n",
       "      <td>25.0000</td>\n",
       "      <td>1.0</td>\n",
       "      <td>2.0</td>\n",
       "      <td>113781</td>\n",
       "      <td>151.5500</td>\n",
       "      <td>C22 C26</td>\n",
       "      <td>S</td>\n",
       "      <td>NaN</td>\n",
       "      <td>NaN</td>\n",
       "      <td>Montreal, PQ / Chesterville, ON</td>\n",
       "    </tr>\n",
       "    <tr>\n",
       "      <th>5</th>\n",
       "      <td>1.0</td>\n",
       "      <td>1.0</td>\n",
       "      <td>Anderson, Mr. Harry</td>\n",
       "      <td>male</td>\n",
       "      <td>48.0000</td>\n",
       "      <td>0.0</td>\n",
       "      <td>0.0</td>\n",
       "      <td>19952</td>\n",
       "      <td>26.5500</td>\n",
       "      <td>E12</td>\n",
       "      <td>S</td>\n",
       "      <td>3</td>\n",
       "      <td>NaN</td>\n",
       "      <td>New York, NY</td>\n",
       "    </tr>\n",
       "    <tr>\n",
       "      <th>6</th>\n",
       "      <td>1.0</td>\n",
       "      <td>1.0</td>\n",
       "      <td>Andrews, Miss. Kornelia Theodosia</td>\n",
       "      <td>female</td>\n",
       "      <td>63.0000</td>\n",
       "      <td>1.0</td>\n",
       "      <td>0.0</td>\n",
       "      <td>13502</td>\n",
       "      <td>77.9583</td>\n",
       "      <td>D7</td>\n",
       "      <td>S</td>\n",
       "      <td>10</td>\n",
       "      <td>NaN</td>\n",
       "      <td>Hudson, NY</td>\n",
       "    </tr>\n",
       "    <tr>\n",
       "      <th>7</th>\n",
       "      <td>1.0</td>\n",
       "      <td>0.0</td>\n",
       "      <td>Andrews, Mr. Thomas Jr</td>\n",
       "      <td>male</td>\n",
       "      <td>39.0000</td>\n",
       "      <td>0.0</td>\n",
       "      <td>0.0</td>\n",
       "      <td>112050</td>\n",
       "      <td>0.0000</td>\n",
       "      <td>A36</td>\n",
       "      <td>S</td>\n",
       "      <td>NaN</td>\n",
       "      <td>NaN</td>\n",
       "      <td>Belfast, NI</td>\n",
       "    </tr>\n",
       "    <tr>\n",
       "      <th>8</th>\n",
       "      <td>1.0</td>\n",
       "      <td>1.0</td>\n",
       "      <td>Appleton, Mrs. Edward Dale (Charlotte Lamson)</td>\n",
       "      <td>female</td>\n",
       "      <td>53.0000</td>\n",
       "      <td>2.0</td>\n",
       "      <td>0.0</td>\n",
       "      <td>11769</td>\n",
       "      <td>51.4792</td>\n",
       "      <td>C101</td>\n",
       "      <td>S</td>\n",
       "      <td>D</td>\n",
       "      <td>NaN</td>\n",
       "      <td>Bayside, Queens, NY</td>\n",
       "    </tr>\n",
       "    <tr>\n",
       "      <th>9</th>\n",
       "      <td>1.0</td>\n",
       "      <td>0.0</td>\n",
       "      <td>Artagaveytia, Mr. Ramon</td>\n",
       "      <td>male</td>\n",
       "      <td>71.0000</td>\n",
       "      <td>0.0</td>\n",
       "      <td>0.0</td>\n",
       "      <td>PC 17609</td>\n",
       "      <td>49.5042</td>\n",
       "      <td>NaN</td>\n",
       "      <td>C</td>\n",
       "      <td>NaN</td>\n",
       "      <td>22.0</td>\n",
       "      <td>Montevideo, Uruguay</td>\n",
       "    </tr>\n",
       "  </tbody>\n",
       "</table>\n",
       "</div>"
      ],
      "text/plain": [
       "   pclass  survived                                             name     sex  \\\n",
       "0     1.0       1.0                    Allen, Miss. Elisabeth Walton  female   \n",
       "1     1.0       1.0                   Allison, Master. Hudson Trevor    male   \n",
       "2     1.0       0.0                     Allison, Miss. Helen Loraine  female   \n",
       "3     1.0       0.0             Allison, Mr. Hudson Joshua Creighton    male   \n",
       "4     1.0       0.0  Allison, Mrs. Hudson J C (Bessie Waldo Daniels)  female   \n",
       "5     1.0       1.0                              Anderson, Mr. Harry    male   \n",
       "6     1.0       1.0                Andrews, Miss. Kornelia Theodosia  female   \n",
       "7     1.0       0.0                           Andrews, Mr. Thomas Jr    male   \n",
       "8     1.0       1.0    Appleton, Mrs. Edward Dale (Charlotte Lamson)  female   \n",
       "9     1.0       0.0                          Artagaveytia, Mr. Ramon    male   \n",
       "\n",
       "       age  sibsp  parch    ticket      fare    cabin embarked boat   body  \\\n",
       "0  29.0000    0.0    0.0     24160  211.3375       B5        S    2    NaN   \n",
       "1   0.9167    1.0    2.0    113781  151.5500  C22 C26        S   11    NaN   \n",
       "2   2.0000    1.0    2.0    113781  151.5500  C22 C26        S  NaN    NaN   \n",
       "3  30.0000    1.0    2.0    113781  151.5500  C22 C26        S  NaN  135.0   \n",
       "4  25.0000    1.0    2.0    113781  151.5500  C22 C26        S  NaN    NaN   \n",
       "5  48.0000    0.0    0.0     19952   26.5500      E12        S    3    NaN   \n",
       "6  63.0000    1.0    0.0     13502   77.9583       D7        S   10    NaN   \n",
       "7  39.0000    0.0    0.0    112050    0.0000      A36        S  NaN    NaN   \n",
       "8  53.0000    2.0    0.0     11769   51.4792     C101        S    D    NaN   \n",
       "9  71.0000    0.0    0.0  PC 17609   49.5042      NaN        C  NaN   22.0   \n",
       "\n",
       "                         home.dest  \n",
       "0                     St Louis, MO  \n",
       "1  Montreal, PQ / Chesterville, ON  \n",
       "2  Montreal, PQ / Chesterville, ON  \n",
       "3  Montreal, PQ / Chesterville, ON  \n",
       "4  Montreal, PQ / Chesterville, ON  \n",
       "5                     New York, NY  \n",
       "6                       Hudson, NY  \n",
       "7                      Belfast, NI  \n",
       "8              Bayside, Queens, NY  \n",
       "9              Montevideo, Uruguay  "
      ]
     },
     "execution_count": 108,
     "metadata": {},
     "output_type": "execute_result"
    }
   ],
   "source": [
    "new_titanic_survival = titanic_survival.dropna(axis=0, how='any', subset=['age', 'sex'])\n",
    "new_titanic_survival.head(10)"
   ]
  },
  {
   "cell_type": "markdown",
   "metadata": {},
   "source": [
    "# 9. Using iloc to Access Rows by Position"
   ]
  },
  {
   "cell_type": "code",
   "execution_count": 109,
   "metadata": {},
   "outputs": [
    {
     "name": "stdout",
     "output_type": "stream",
     "text": [
      "   pclass  survived                                             name     sex  \\\n",
      "0     1.0       1.0                    Allen, Miss. Elisabeth Walton  female   \n",
      "1     1.0       1.0                   Allison, Master. Hudson Trevor    male   \n",
      "2     1.0       0.0                     Allison, Miss. Helen Loraine  female   \n",
      "3     1.0       0.0             Allison, Mr. Hudson Joshua Creighton    male   \n",
      "4     1.0       0.0  Allison, Mrs. Hudson J C (Bessie Waldo Daniels)  female   \n",
      "\n",
      "       age  sibsp  parch  ticket      fare    cabin embarked boat   body  \\\n",
      "0  29.0000    0.0    0.0   24160  211.3375       B5        S    2    NaN   \n",
      "1   0.9167    1.0    2.0  113781  151.5500  C22 C26        S   11    NaN   \n",
      "2   2.0000    1.0    2.0  113781  151.5500  C22 C26        S  NaN    NaN   \n",
      "3  30.0000    1.0    2.0  113781  151.5500  C22 C26        S  NaN  135.0   \n",
      "4  25.0000    1.0    2.0  113781  151.5500  C22 C26        S  NaN    NaN   \n",
      "\n",
      "                         home.dest  \n",
      "0                     St Louis, MO  \n",
      "1  Montreal, PQ / Chesterville, ON  \n",
      "2  Montreal, PQ / Chesterville, ON  \n",
      "3  Montreal, PQ / Chesterville, ON  \n",
      "4  Montreal, PQ / Chesterville, ON  \n"
     ]
    }
   ],
   "source": [
    "first_five_rows = new_titanic_survival.iloc[0:5]\n",
    "print(first_five_rows)"
   ]
  },
  {
   "cell_type": "code",
   "execution_count": 110,
   "metadata": {},
   "outputs": [
    {
     "name": "stdout",
     "output_type": "stream",
     "text": [
      "   pclass  survived                                             name     sex  \\\n",
      "0     1.0       1.0                    Allen, Miss. Elisabeth Walton  female   \n",
      "1     1.0       1.0                   Allison, Master. Hudson Trevor    male   \n",
      "2     1.0       0.0                     Allison, Miss. Helen Loraine  female   \n",
      "3     1.0       0.0             Allison, Mr. Hudson Joshua Creighton    male   \n",
      "4     1.0       0.0  Allison, Mrs. Hudson J C (Bessie Waldo Daniels)  female   \n",
      "5     1.0       1.0                              Anderson, Mr. Harry    male   \n",
      "6     1.0       1.0                Andrews, Miss. Kornelia Theodosia  female   \n",
      "7     1.0       0.0                           Andrews, Mr. Thomas Jr    male   \n",
      "8     1.0       1.0    Appleton, Mrs. Edward Dale (Charlotte Lamson)  female   \n",
      "9     1.0       0.0                          Artagaveytia, Mr. Ramon    male   \n",
      "\n",
      "       age  sibsp  parch    ticket      fare    cabin embarked boat   body  \\\n",
      "0  29.0000    0.0    0.0     24160  211.3375       B5        S    2    NaN   \n",
      "1   0.9167    1.0    2.0    113781  151.5500  C22 C26        S   11    NaN   \n",
      "2   2.0000    1.0    2.0    113781  151.5500  C22 C26        S  NaN    NaN   \n",
      "3  30.0000    1.0    2.0    113781  151.5500  C22 C26        S  NaN  135.0   \n",
      "4  25.0000    1.0    2.0    113781  151.5500  C22 C26        S  NaN    NaN   \n",
      "5  48.0000    0.0    0.0     19952   26.5500      E12        S    3    NaN   \n",
      "6  63.0000    1.0    0.0     13502   77.9583       D7        S   10    NaN   \n",
      "7  39.0000    0.0    0.0    112050    0.0000      A36        S  NaN    NaN   \n",
      "8  53.0000    2.0    0.0     11769   51.4792     C101        S    D    NaN   \n",
      "9  71.0000    0.0    0.0  PC 17609   49.5042      NaN        C  NaN   22.0   \n",
      "\n",
      "                         home.dest  \n",
      "0                     St Louis, MO  \n",
      "1  Montreal, PQ / Chesterville, ON  \n",
      "2  Montreal, PQ / Chesterville, ON  \n",
      "3  Montreal, PQ / Chesterville, ON  \n",
      "4  Montreal, PQ / Chesterville, ON  \n",
      "5                     New York, NY  \n",
      "6                       Hudson, NY  \n",
      "7                      Belfast, NI  \n",
      "8              Bayside, Queens, NY  \n",
      "9              Montevideo, Uruguay  \n"
     ]
    }
   ],
   "source": [
    "first_ten_rows = new_titanic_survival.iloc[0:10]\n",
    "print(first_ten_rows)"
   ]
  },
  {
   "cell_type": "code",
   "execution_count": 111,
   "metadata": {},
   "outputs": [
    {
     "name": "stdout",
     "output_type": "stream",
     "text": [
      "pclass                                                     1\n",
      "survived                                                   0\n",
      "name         Allison, Mrs. Hudson J C (Bessie Waldo Daniels)\n",
      "sex                                                   female\n",
      "age                                                       25\n",
      "sibsp                                                      1\n",
      "parch                                                      2\n",
      "ticket                                                113781\n",
      "fare                                                  151.55\n",
      "cabin                                                C22 C26\n",
      "embarked                                                   S\n",
      "boat                                                     NaN\n",
      "body                                                     NaN\n",
      "home.dest                    Montreal, PQ / Chesterville, ON\n",
      "Name: 4, dtype: object\n"
     ]
    }
   ],
   "source": [
    "row_position_fifth = new_titanic_survival.iloc[4]\n",
    "print(row_position_fifth)"
   ]
  },
  {
   "cell_type": "code",
   "execution_count": 112,
   "metadata": {},
   "outputs": [
    {
     "name": "stdout",
     "output_type": "stream",
     "text": [
      "pclass                         1\n",
      "survived                       0\n",
      "name         Birnbaum, Mr. Jakob\n",
      "sex                         male\n",
      "age                           25\n",
      "sibsp                          0\n",
      "parch                          0\n",
      "ticket                     13905\n",
      "fare                          26\n",
      "cabin                        NaN\n",
      "embarked                       C\n",
      "boat                         NaN\n",
      "body                         148\n",
      "home.dest      San Francisco, CA\n",
      "Name: 25, dtype: object\n"
     ]
    }
   ],
   "source": [
    "row_index_25 = new_titanic_survival.loc[25]\n",
    "print(row_index_25)"
   ]
  },
  {
   "cell_type": "markdown",
   "metadata": {},
   "source": [
    "# 10. Using Column Indexes"
   ]
  },
  {
   "cell_type": "markdown",
   "metadata": {},
   "source": [
    "## Instructions\n",
    "Assign the value at row index label 1100, column index label \"age\" from new_titanic_survival to row_index_1100_age.\n",
    "Assign the value at row index label 25, column index label \"survived\" from new_titanic_survival to row_index_25_survived.\n",
    "Assign the first 5 rows and first three columns from new_titanic_survival to five_rows_three_cols."
   ]
  },
  {
   "cell_type": "code",
   "execution_count": 113,
   "metadata": {},
   "outputs": [
    {
     "name": "stdout",
     "output_type": "stream",
     "text": [
      "1.0\n"
     ]
    }
   ],
   "source": [
    "first_row_first_column = new_titanic_survival.iloc[0,0]\n",
    "print(first_row_first_column)"
   ]
  },
  {
   "cell_type": "code",
   "execution_count": 114,
   "metadata": {},
   "outputs": [
    {
     "name": "stdout",
     "output_type": "stream",
     "text": [
      "      pclass  survived                                               name\n",
      "0        1.0       1.0                      Allen, Miss. Elisabeth Walton\n",
      "1        1.0       1.0                     Allison, Master. Hudson Trevor\n",
      "2        1.0       0.0                       Allison, Miss. Helen Loraine\n",
      "3        1.0       0.0               Allison, Mr. Hudson Joshua Creighton\n",
      "4        1.0       0.0    Allison, Mrs. Hudson J C (Bessie Waldo Daniels)\n",
      "5        1.0       1.0                                Anderson, Mr. Harry\n",
      "6        1.0       1.0                  Andrews, Miss. Kornelia Theodosia\n",
      "7        1.0       0.0                             Andrews, Mr. Thomas Jr\n",
      "8        1.0       1.0      Appleton, Mrs. Edward Dale (Charlotte Lamson)\n",
      "9        1.0       0.0                            Artagaveytia, Mr. Ramon\n",
      "10       1.0       0.0                             Astor, Col. John Jacob\n",
      "11       1.0       1.0  Astor, Mrs. John Jacob (Madeleine Talmadge Force)\n",
      "12       1.0       1.0                      Aubart, Mme. Leontine Pauline\n",
      "13       1.0       1.0                       Barber, Miss. Ellen \"Nellie\"\n",
      "14       1.0       1.0               Barkworth, Mr. Algernon Henry Wilson\n",
      "16       1.0       0.0                           Baxter, Mr. Quigg Edmond\n",
      "17       1.0       1.0    Baxter, Mrs. James (Helene DeLaudeniere Chaput)\n",
      "18       1.0       1.0                              Bazzani, Miss. Albina\n",
      "19       1.0       0.0                               Beattie, Mr. Thomson\n",
      "20       1.0       1.0                      Beckwith, Mr. Richard Leonard\n",
      "21       1.0       1.0   Beckwith, Mrs. Richard Leonard (Sallie Monypeny)\n",
      "22       1.0       1.0                              Behr, Mr. Karl Howell\n",
      "23       1.0       1.0                              Bidois, Miss. Rosalie\n",
      "24       1.0       1.0                                  Bird, Miss. Ellen\n",
      "25       1.0       0.0                                Birnbaum, Mr. Jakob\n",
      "26       1.0       1.0                            Bishop, Mr. Dickinson H\n",
      "27       1.0       1.0            Bishop, Mrs. Dickinson H (Helen Walton)\n",
      "28       1.0       1.0                             Bissette, Miss. Amelia\n",
      "29       1.0       1.0          Bjornstrom-Steffansson, Mr. Mauritz Hakan\n",
      "30       1.0       0.0                       Blackwell, Mr. Stephen Weart\n",
      "...      ...       ...                                                ...\n",
      "1269     3.0       0.0                   Vande Velde, Mr. Johannes Joseph\n",
      "1270     3.0       0.0                     Vande Walle, Mr. Nestor Cyriel\n",
      "1271     3.0       0.0                        Vanden Steen, Mr. Leo Peter\n",
      "1272     3.0       0.0                        Vander Cruyssen, Mr. Victor\n",
      "1273     3.0       0.0                 Vander Planke, Miss. Augusta Maria\n",
      "1274     3.0       0.0                          Vander Planke, Mr. Julius\n",
      "1275     3.0       0.0                    Vander Planke, Mr. Leo Edmondus\n",
      "1276     3.0       0.0  Vander Planke, Mrs. Julius (Emelia Maria Vande...\n",
      "1277     3.0       1.0                               Vartanian, Mr. David\n",
      "1278     3.0       0.0                             Vendel, Mr. Olof Edvin\n",
      "1279     3.0       0.0               Vestrom, Miss. Hulda Amanda Adolfina\n",
      "1280     3.0       0.0                                    Vovk, Mr. Janko\n",
      "1281     3.0       0.0                               Waelens, Mr. Achille\n",
      "1285     3.0       0.0                                Wenzel, Mr. Linhart\n",
      "1286     3.0       1.0    Whabee, Mrs. George Joseph (Shawneene Abi-Saab)\n",
      "1287     3.0       0.0                   Widegren, Mr. Carl/Charles Peter\n",
      "1288     3.0       0.0                          Wiklund, Mr. Jakob Alfred\n",
      "1289     3.0       0.0                            Wiklund, Mr. Karl Johan\n",
      "1290     3.0       1.0                   Wilkes, Mrs. James (Ellen Needs)\n",
      "1294     3.0       0.0                               Williams, Mr. Leslie\n",
      "1295     3.0       0.0                                Windelov, Mr. Einar\n",
      "1296     3.0       0.0                                   Wirz, Mr. Albert\n",
      "1298     3.0       0.0                          Wittevrongel, Mr. Camille\n",
      "1299     3.0       0.0                                Yasbeck, Mr. Antoni\n",
      "1300     3.0       1.0            Yasbeck, Mrs. Antoni (Selini Alexander)\n",
      "1301     3.0       0.0                               Youseff, Mr. Gerious\n",
      "1304     3.0       0.0                               Zabour, Miss. Hileni\n",
      "1306     3.0       0.0                          Zakarian, Mr. Mapriededer\n",
      "1307     3.0       0.0                                Zakarian, Mr. Ortin\n",
      "1308     3.0       0.0                                 Zimmerman, Mr. Leo\n",
      "\n",
      "[1046 rows x 3 columns]\n"
     ]
    }
   ],
   "source": [
    "all_rows_first_three_columns = new_titanic_survival.iloc[:,0:3]\n",
    "print(all_rows_first_three_columns)"
   ]
  },
  {
   "cell_type": "code",
   "execution_count": 115,
   "metadata": {},
   "outputs": [
    {
     "name": "stdout",
     "output_type": "stream",
     "text": [
      "   pclass  survived                                             name\n",
      "0     1.0       1.0                    Allen, Miss. Elisabeth Walton\n",
      "1     1.0       1.0                   Allison, Master. Hudson Trevor\n",
      "2     1.0       0.0                     Allison, Miss. Helen Loraine\n",
      "3     1.0       0.0             Allison, Mr. Hudson Joshua Creighton\n",
      "4     1.0       0.0  Allison, Mrs. Hudson J C (Bessie Waldo Daniels)\n"
     ]
    }
   ],
   "source": [
    "all_rows_first_three_columns = new_titanic_survival.iloc[:,0:3]\n",
    "print(all_rows_first_three_columns[0:5])"
   ]
  },
  {
   "cell_type": "code",
   "execution_count": 116,
   "metadata": {},
   "outputs": [
    {
     "name": "stdout",
     "output_type": "stream",
     "text": [
      "64.0\n"
     ]
    }
   ],
   "source": [
    "row_index_83_age = new_titanic_survival.loc[83,\"age\"]\n",
    "print(row_index_83_age)"
   ]
  },
  {
   "cell_type": "code",
   "execution_count": 117,
   "metadata": {},
   "outputs": [
    {
     "name": "stdout",
     "output_type": "stream",
     "text": [
      "3.0\n"
     ]
    }
   ],
   "source": [
    "row_index_766_pclass = new_titanic_survival.loc[766,\"pclass\"]\n",
    "print(row_index_766_pclass)"
   ]
  },
  {
   "cell_type": "code",
   "execution_count": 118,
   "metadata": {},
   "outputs": [
    {
     "name": "stdout",
     "output_type": "stream",
     "text": [
      "29.0\n"
     ]
    }
   ],
   "source": [
    "row_index_1100_age = new_titanic_survival.loc[1100, \"age\"]\n",
    "print(row_index_1100_age)"
   ]
  },
  {
   "cell_type": "code",
   "execution_count": 119,
   "metadata": {},
   "outputs": [
    {
     "name": "stdout",
     "output_type": "stream",
     "text": [
      "0.0\n"
     ]
    }
   ],
   "source": [
    "row_index_25_survived = new_titanic_survival.loc[25, \"survived\"]\n",
    "print(row_index_25_survived)"
   ]
  },
  {
   "cell_type": "code",
   "execution_count": 120,
   "metadata": {},
   "outputs": [
    {
     "name": "stdout",
     "output_type": "stream",
     "text": [
      "   pclass  survived                                             name\n",
      "0     1.0       1.0                    Allen, Miss. Elisabeth Walton\n",
      "1     1.0       1.0                   Allison, Master. Hudson Trevor\n",
      "2     1.0       0.0                     Allison, Miss. Helen Loraine\n",
      "3     1.0       0.0             Allison, Mr. Hudson Joshua Creighton\n",
      "4     1.0       0.0  Allison, Mrs. Hudson J C (Bessie Waldo Daniels)\n"
     ]
    }
   ],
   "source": [
    "five_rows_three_cols = new_titanic_survival.iloc[0:5, 0:3]\n",
    "print(five_rows_three_cols)"
   ]
  },
  {
   "cell_type": "markdown",
   "metadata": {},
   "source": [
    "# 11. Reindexing Rows"
   ]
  },
  {
   "cell_type": "markdown",
   "metadata": {},
   "source": [
    "## Instructions\n",
    "Reindex the new_titanic_survival dataframe so the row indexes start from 0, and the old index is dropped.\n",
    "Assign the final result to titanic_reindexed.\n",
    "Print the first 5 rows and the first 3 columns of titanic_reindexed."
   ]
  },
  {
   "cell_type": "code",
   "execution_count": 121,
   "metadata": {},
   "outputs": [
    {
     "name": "stdout",
     "output_type": "stream",
     "text": [
      "   pclass  survived                                             name\n",
      "0     1.0       1.0                    Allen, Miss. Elisabeth Walton\n",
      "1     1.0       1.0                   Allison, Master. Hudson Trevor\n",
      "2     1.0       0.0                     Allison, Miss. Helen Loraine\n",
      "3     1.0       0.0             Allison, Mr. Hudson Joshua Creighton\n",
      "4     1.0       0.0  Allison, Mrs. Hudson J C (Bessie Waldo Daniels)\n"
     ]
    }
   ],
   "source": [
    "titanic_reindexed = new_titanic_survival.reset_index(drop=True)\n",
    "print(titanic_reindexed.iloc[0:5,0:3])"
   ]
  },
  {
   "cell_type": "markdown",
   "metadata": {},
   "source": [
    "# 12. Apply Functions Over a DataFrame"
   ]
  },
  {
   "cell_type": "markdown",
   "metadata": {},
   "source": [
    "# Instructions\n",
    "Write a function that counts the number of null elements in a Series.\n",
    "Use the DataFrame.apply() method along with your function to run across all the columns in titanic_survival.\n",
    "Assign the result to column_null_count."
   ]
  },
  {
   "cell_type": "code",
   "execution_count": 122,
   "metadata": {
    "collapsed": true
   },
   "outputs": [],
   "source": [
    "def hundredth_row(column):\n",
    "    hundredth_item = column.iloc[99]\n",
    "    return hundredth_item\n",
    "\n",
    "hundredth_row_var = titanic_survival.apply(hundredth_row)"
   ]
  },
  {
   "cell_type": "code",
   "execution_count": 123,
   "metadata": {},
   "outputs": [
    {
     "name": "stdout",
     "output_type": "stream",
     "text": [
      "pclass          1\n",
      "survived        1\n",
      "name            1\n",
      "sex             1\n",
      "age           264\n",
      "sibsp           1\n",
      "parch           1\n",
      "ticket          1\n",
      "fare            2\n",
      "cabin        1015\n",
      "embarked        3\n",
      "boat          824\n",
      "body         1189\n",
      "home.dest     565\n",
      "dtype: int64\n"
     ]
    }
   ],
   "source": [
    "import pandas as pd\n",
    "\n",
    "def null_count(column):\n",
    "    not_null = pd.isnull(column)\n",
    "    null = column[not_null]\n",
    "    return len(null)\n",
    "    \n",
    "column_null_count = titanic_survival.apply(null_count)\n",
    "print(column_null_count)"
   ]
  },
  {
   "cell_type": "markdown",
   "metadata": {},
   "source": [
    "# 13. Applying a Function to a Row"
   ]
  },
  {
   "cell_type": "markdown",
   "metadata": {},
   "source": [
    "## Instructions\n",
    "Create a function that returns the string \"minor\" if someone is under 18, \"adult\" if they are equal to or over 18, and \"unknown\" if their age is null.\n",
    "Then, use the function along with .apply() to find the correct label for everyone in the titanic_survival dataframe.\n",
    "Assign the result to age_labels.\n",
    "You can use pd.isnull to check if a value is null or not."
   ]
  },
  {
   "cell_type": "code",
   "execution_count": 124,
   "metadata": {
    "collapsed": true
   },
   "outputs": [],
   "source": [
    "def is_minor(row):\n",
    "    if row[\"age\"] < 18:\n",
    "        return True\n",
    "    else:\n",
    "        return False\n",
    "    \n",
    "minors = titanic_survival.apply(is_minor, axis=1)"
   ]
  },
  {
   "cell_type": "code",
   "execution_count": 125,
   "metadata": {},
   "outputs": [
    {
     "name": "stdout",
     "output_type": "stream",
     "text": [
      "0    adult\n",
      "1    minor\n",
      "2    minor\n",
      "3    adult\n",
      "4    adult\n",
      "dtype: object\n"
     ]
    }
   ],
   "source": [
    "def categorize_age(row):\n",
    "    age = row[\"age\"]\n",
    "    if pd.isnull(age):\n",
    "        return \"unknown\"\n",
    "    elif age < 18:\n",
    "        return \"minor\"\n",
    "    else:\n",
    "        return \"adult\"\n",
    "    \n",
    "age_labels = titanic_survival.apply(categorize_age, axis=1)\n",
    "print(age_labels[0:5])"
   ]
  },
  {
   "cell_type": "markdown",
   "metadata": {},
   "source": [
    "# 14. Calculating Survival Percentage by Age Group"
   ]
  },
  {
   "cell_type": "markdown",
   "metadata": {},
   "source": [
    "## Instructions\n",
    "Create a pivot table that calculates the mean survival chance(\"survived\") for each age group (\"age_labels\") of the dataframe titanic_survival.\n",
    "Assign the resulting Series object to age_group_survival."
   ]
  },
  {
   "cell_type": "code",
   "execution_count": null,
   "metadata": {
    "collapsed": true
   },
   "outputs": [],
   "source": [
    "age_group_survival = titanic_survival.pivot_table(index=\"age_labels\", values=\"survived\", aggfunc=np.mean)"
   ]
  }
 ],
 "metadata": {
  "kernelspec": {
   "display_name": "Python 3",
   "language": "python",
   "name": "python3"
  },
  "language_info": {
   "codemirror_mode": {
    "name": "ipython",
    "version": 3
   },
   "file_extension": ".py",
   "mimetype": "text/x-python",
   "name": "python",
   "nbconvert_exporter": "python",
   "pygments_lexer": "ipython3",
   "version": "3.6.1"
  }
 },
 "nbformat": 4,
 "nbformat_minor": 2
}
