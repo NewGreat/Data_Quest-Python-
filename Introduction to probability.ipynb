{
 "cells": [
  {
   "cell_type": "markdown",
   "metadata": {},
   "source": [
    "# 1. Probability Basics\n",
    "Instructions Find the country with the most bars in its flag. Assign the name of the country to most_bars_country.\n",
    "Find the country with the highest population (as of 1986). Assign the name of the country to highest_population_country.\n",
    "Hint\n",
    "You can sort a dataframe with the .sort_values method. If you set the ascending argument to 0 it will sort in descending order. Be sure to use .iloc[0] when indexing to get the first item by position rather than row id."
   ]
  },
  {
   "cell_type": "code",
   "execution_count": 18,
   "metadata": {
    "collapsed": false
   },
   "outputs": [
    {
     "data": {
      "text/html": [
       "<div>\n",
       "<table border=\"1\" class=\"dataframe\">\n",
       "  <thead>\n",
       "    <tr style=\"text-align: right;\">\n",
       "      <th></th>\n",
       "      <th>Afghanistan,5,1,648,16,10,2,0,3,5,1,1,0,1,1,1,0,green,0,0,0,0,1,0,0,1,0,0,black,green</th>\n",
       "    </tr>\n",
       "  </thead>\n",
       "  <tbody>\n",
       "    <tr>\n",
       "      <th>0</th>\n",
       "      <td>Albania,3,1,29,3,6,6,0,0,3,1,0,0,1,0,1,0,red,0...</td>\n",
       "    </tr>\n",
       "    <tr>\n",
       "      <th>1</th>\n",
       "      <td>Algeria,4,1,2388,20,8,2,2,0,3,1,1,0,0,1,0,0,gr...</td>\n",
       "    </tr>\n",
       "    <tr>\n",
       "      <th>2</th>\n",
       "      <td>American-Samoa,6,3,0,0,1,1,0,0,5,1,0,1,1,1,0,1...</td>\n",
       "    </tr>\n",
       "    <tr>\n",
       "      <th>3</th>\n",
       "      <td>Andorra,3,1,0,0,6,0,3,0,3,1,0,1,1,0,0,0,gold,0...</td>\n",
       "    </tr>\n",
       "    <tr>\n",
       "      <th>4</th>\n",
       "      <td>Angola,4,2,1247,7,10,5,0,2,3,1,0,0,1,0,1,0,red...</td>\n",
       "    </tr>\n",
       "  </tbody>\n",
       "</table>\n",
       "</div>"
      ],
      "text/plain": [
       "  Afghanistan,5,1,648,16,10,2,0,3,5,1,1,0,1,1,1,0,green,0,0,0,0,1,0,0,1,0,0,black,green\n",
       "0  Albania,3,1,29,3,6,6,0,0,3,1,0,0,1,0,1,0,red,0...                                   \n",
       "1  Algeria,4,1,2388,20,8,2,2,0,3,1,1,0,0,1,0,0,gr...                                   \n",
       "2  American-Samoa,6,3,0,0,1,1,0,0,5,1,0,1,1,1,0,1...                                   \n",
       "3  Andorra,3,1,0,0,6,0,3,0,3,1,0,1,1,0,0,0,gold,0...                                   \n",
       "4  Angola,4,2,1247,7,10,5,0,2,3,1,0,0,1,0,1,0,red...                                   "
      ]
     },
     "execution_count": 18,
     "metadata": {},
     "output_type": "execute_result"
    }
   ],
   "source": [
    "import pandas as pd\n",
    "flags = pd.read_csv('flag.data.csv')\n",
    "flags.head()"
   ]
  },
  {
   "cell_type": "code",
   "execution_count": 16,
   "metadata": {
    "collapsed": false
   },
   "outputs": [
    {
     "data": {
      "text/html": [
       "<div>\n",
       "<table border=\"1\" class=\"dataframe\">\n",
       "  <thead>\n",
       "    <tr style=\"text-align: right;\">\n",
       "      <th></th>\n",
       "      <th>Afghanistan,5,1,648,16,10,2,0,3,5,1,1,0,1,1,1,0,green,0,0,0,0,1,0,0,1,0,0,black,green</th>\n",
       "    </tr>\n",
       "  </thead>\n",
       "  <tbody>\n",
       "    <tr>\n",
       "      <th>0</th>\n",
       "      <td>Albania,3,1,29,3,6,6,0,0,3,1,0,0,1,0,1,0,red,0...</td>\n",
       "    </tr>\n",
       "    <tr>\n",
       "      <th>1</th>\n",
       "      <td>Algeria,4,1,2388,20,8,2,2,0,3,1,1,0,0,1,0,0,gr...</td>\n",
       "    </tr>\n",
       "    <tr>\n",
       "      <th>2</th>\n",
       "      <td>American-Samoa,6,3,0,0,1,1,0,0,5,1,0,1,1,1,0,1...</td>\n",
       "    </tr>\n",
       "    <tr>\n",
       "      <th>3</th>\n",
       "      <td>Andorra,3,1,0,0,6,0,3,0,3,1,0,1,1,0,0,0,gold,0...</td>\n",
       "    </tr>\n",
       "    <tr>\n",
       "      <th>4</th>\n",
       "      <td>Angola,4,2,1247,7,10,5,0,2,3,1,0,0,1,0,1,0,red...</td>\n",
       "    </tr>\n",
       "  </tbody>\n",
       "</table>\n",
       "</div>"
      ],
      "text/plain": [
       "  Afghanistan,5,1,648,16,10,2,0,3,5,1,1,0,1,1,1,0,green,0,0,0,0,1,0,0,1,0,0,black,green\n",
       "0  Albania,3,1,29,3,6,6,0,0,3,1,0,0,1,0,1,0,red,0...                                   \n",
       "1  Algeria,4,1,2388,20,8,2,2,0,3,1,1,0,0,1,0,0,gr...                                   \n",
       "2  American-Samoa,6,3,0,0,1,1,0,0,5,1,0,1,1,1,0,1...                                   \n",
       "3  Andorra,3,1,0,0,6,0,3,0,3,1,0,1,1,0,0,0,gold,0...                                   \n",
       "4  Angola,4,2,1247,7,10,5,0,2,3,1,0,0,1,0,1,0,red...                                   "
      ]
     },
     "execution_count": 16,
     "metadata": {},
     "output_type": "execute_result"
    }
   ],
   "source": [
    "import pandas as pd\n",
    "flags = pd.read_table('flag.data.csv',sep=',')\n",
    "flags.head()"
   ]
  },
  {
   "cell_type": "code",
   "execution_count": 12,
   "metadata": {
    "collapsed": false
   },
   "outputs": [
    {
     "name": "stdout",
     "output_type": "stream",
     "text": [
      "  Afghanistan,5,1,648,16,10,2,0,3,5,1,1,0,1,1,1,0,green,0,0,0,0,1,0,0,1,0,0,black,green\n",
      "0  Albania,3,1,29,3,6,6,0,0,3,1,0,0,1,0,1,0,red,0...                                   \n",
      "1  Algeria,4,1,2388,20,8,2,2,0,3,1,1,0,0,1,0,0,gr...                                   \n"
     ]
    }
   ],
   "source": [
    "print(flags[:2])"
   ]
  },
  {
   "cell_type": "code",
   "execution_count": null,
   "metadata": {
    "collapsed": false
   },
   "outputs": [],
   "source": [
    "bars_sorted = flags.sort_values(\"bars\", ascending=[0])\n",
    "most_bars_country = bars_sorted[\"name\"].iloc[0]\n",
    "\n",
    "population_sorted = flags.sort_values(\"population\", ascending=[0])\n",
    "highest_population_country = population_sorted[\"name\"].iloc[0]"
   ]
  },
  {
   "cell_type": "markdown",
   "metadata": {},
   "source": [
    "# 2. Calculating Probability\n",
    "Instructions Determine the probability of a country having a flag with the color orange in it. Assign the result to orange_probability.\n",
    "Determine the probability of a country having a flag with more than 1 stripe in it. Assign the result to stripe_probability.\n",
    "Hint\n",
    "Find the total number of countries with orange flags with flags[\"orange\"] == 1. Find the total number of countries with more than one stripe on their flag with flags[\"stripes\"] "
   ]
  },
  {
   "cell_type": "code",
   "execution_count": null,
   "metadata": {
    "collapsed": false
   },
   "outputs": [],
   "source": [
    "total_countries = flags.shape[0]\n",
    "orange_probability = flags[flags[\"orange\"] == 1].shape[0] / total_countries\n",
    "stripe_probability = flags[flags[\"stripes\"] > 1].shape[0] / total_countries"
   ]
  },
  {
   "cell_type": "markdown",
   "metadata": {},
   "source": [
    "# 3. Conjunctive Probabilities\n",
    "Instructions Find the probability that 10 flips in a row will all turn out heads. Assign the probability to ten_heads.\n",
    "Find the probability that 100 flips in a row will all turn out heads. Assign the probability to hundred_heads.\n",
    "Hint\n",
    ".5 * .5 * .5 * .5 * .5 is the same as .5 to the fifth power, or .5 ** 5."
   ]
  },
  {
   "cell_type": "code",
   "execution_count": 25,
   "metadata": {
    "collapsed": false
   },
   "outputs": [
    {
     "data": {
      "text/plain": [
       "'0.031'"
      ]
     },
     "execution_count": 25,
     "metadata": {},
     "output_type": "execute_result"
    }
   ],
   "source": [
    "five_heads = .5 ** 5\n",
    "str(round(five_heads, 3))"
   ]
  },
  {
   "cell_type": "code",
   "execution_count": 28,
   "metadata": {
    "collapsed": false
   },
   "outputs": [
    {
     "data": {
      "text/plain": [
       "'0.001'"
      ]
     },
     "execution_count": 28,
     "metadata": {},
     "output_type": "execute_result"
    }
   ],
   "source": [
    "ten_heads = .5 ** 10\n",
    "str(round(ten_heads, 3))"
   ]
  },
  {
   "cell_type": "code",
   "execution_count": 35,
   "metadata": {
    "collapsed": false
   },
   "outputs": [
    {
     "data": {
      "text/plain": [
       "7.888609052210118e-31"
      ]
     },
     "execution_count": 35,
     "metadata": {},
     "output_type": "execute_result"
    }
   ],
   "source": [
    "hundred_heads = .5 ** 100\n",
    "hundred_heads"
   ]
  },
  {
   "cell_type": "markdown",
   "metadata": {},
   "source": [
    "# 4. Dependent Probabilities\n",
    "Instructions Let's say that we're picking countries from our dataset, and removing each one that we pick.\n",
    "What are the odds of picking three countries with red in their flags in a row? Assign the resulting probability to three_red.\n",
    "Hint\n",
    "You don't actually have to perform the sampling -- you can just calculate the number of countries with red in their flags, and then subtract to get the probabilities after picking."
   ]
  },
  {
   "cell_type": "code",
   "execution_count": null,
   "metadata": {
    "collapsed": false
   },
   "outputs": [],
   "source": [
    "#remember that whether a flag has red in it or not is in the \n",
    "#'red' column.\n",
    "\n",
    "total_count = flags.shape[0]\n",
    "red_count = flags[flags[\"red\"] ==1].shape[0]\n",
    "one_red = (red_count / total_count)\n",
    "two_red = one_red * ((red_count -1) / (total_count - 1))\n",
    "three_red = two_red * ((red_count - 2) / (total_count - 2))"
   ]
  },
  {
   "cell_type": "markdown",
   "metadata": {},
   "source": [
    "# 5. Disjunctive Probability\n",
    "Instructions Let's say we have a random number generator that generates numbers from 1 to 18000.\n",
    "What are the odds of getting a number evenly divisible by 100, with no remainder? (ie 100, 200, 300, etc). Assign the result to hundred_prob.\n",
    "What are the odds of getting a number evenly divisible by 70, with no remainder? (ie 70, 140, 210, etc). Assign the result to seventy_prob.\n",
    "Hint\n",
    "You can use the % operator to see if a number evenly divides another. (70 % 10) == 0, because there is no remainder."
   ]
  },
  {
   "cell_type": "code",
   "execution_count": 39,
   "metadata": {
    "collapsed": false
   },
   "outputs": [
    {
     "data": {
      "text/plain": [
       "0.01"
      ]
     },
     "execution_count": 39,
     "metadata": {},
     "output_type": "execute_result"
    }
   ],
   "source": [
    "start = 1\n",
    "end = 18000\n",
    "\n",
    "def count_evenly_divisible(start, end, div):\n",
    "    divisible = 0\n",
    "    for i in range(start, end+1):\n",
    "        if (i % div) == 0:\n",
    "            divisible += 1\n",
    "    return divisible\n",
    "\n",
    "hundred_prob = count_evenly_divisible(start,end, 100) / end\n",
    "hundred_prob"
   ]
  },
  {
   "cell_type": "code",
   "execution_count": 43,
   "metadata": {
    "collapsed": false
   },
   "outputs": [
    {
     "data": {
      "text/plain": [
       "'0.0143'"
      ]
     },
     "execution_count": 43,
     "metadata": {},
     "output_type": "execute_result"
    }
   ],
   "source": [
    "seventy_prob = count_evenly_divisible(start, end, 70) / end\n",
    "str(round(seventy_prob, 4))"
   ]
  },
  {
   "cell_type": "markdown",
   "metadata": {},
   "source": [
    "# 6. Disjunctive Dependent Probabilities\n",
    "Instructions Find the probability of a flag having red or orange as a color. Assign the result to red_or_orange.\n",
    "Find the probability of a flag having at least one stripes or at least one bars. Assign the result to stripes_or_bars.\n",
    "Hint\n",
    "We can find the probability of a flag having a characteristic by doing flags[flags[\"red\"] == 1].shape[0] / flags.shape[0]. We can find the probability of a flag having two characteristics by doing flags[(flags[\"red\"] == 1) & (flags[\"orange\"] == 1)].shape[0] / flags.shape[0]."
   ]
  },
  {
   "cell_type": "code",
   "execution_count": null,
   "metadata": {
    "collapsed": true
   },
   "outputs": [],
   "source": [
    "stripes_or_bars = None\n",
    "red_or_orange = None\n",
    "\n",
    "red = flags[flags[\"red\"] == 1].shape[0] / flags.shape[0]\n",
    "orange = flags[flags[\"orange\"] == 1].shape[0] / flags.shape[0]\n",
    "\n",
    "red_and_orange = flags[(flags[\"red\"] == 1) & (flags[\"orange\"] ==1)].shape[0] / flags.shape[0]\n",
    "red_or_orange = red + orange - red_and_orange\n",
    "\n",
    "stripes = flags[flags[\"stripes\"] > 0].shape[0] / flags.shape[0]\n",
    "bars = flags[flags[\"bars\"] > 0].shape[0] / flags.shape[0]\n",
    "\n",
    "stripes_and_bars = flags[(flags[\"stripes\"] > 0) & (flags[\"bars\"] > 0)].shape[0] /flags.shape[0]\n",
    "spripes_or_bars = stripes + bars - stripes_and_bars"
   ]
  },
  {
   "cell_type": "markdown",
   "metadata": {},
   "source": [
    "# 7. Disjunctive Probabilities With Multiple Conditions\n",
    "Instructions Let's say we have a coin that we're flipping. Find the probability that at least one of the first three flips comes up heads. Assign the result to heads_or.\n",
    "Hint\n",
    "Remember that we have to figure out the probability that all three of the coin flips are tails (no heads), and then subtract that probability from 1 to get the probability that at least one of the flips is heads."
   ]
  },
  {
   "cell_type": "code",
   "execution_count": 45,
   "metadata": {
    "collapsed": false
   },
   "outputs": [
    {
     "name": "stdout",
     "output_type": "stream",
     "text": [
      "0.875\n"
     ]
    }
   ],
   "source": [
    "heads_or = None\n",
    "heads = .5 ** 3\n",
    "heads_or = 1 - heads\n",
    "print(heads_or)"
   ]
  }
 ],
 "metadata": {
  "kernelspec": {
   "display_name": "Python 3",
   "language": "python",
   "name": "python3"
  },
  "language_info": {
   "codemirror_mode": {
    "name": "ipython",
    "version": 3
   },
   "file_extension": ".py",
   "mimetype": "text/x-python",
   "name": "python",
   "nbconvert_exporter": "python",
   "pygments_lexer": "ipython3",
   "version": "3.5.1"
  }
 },
 "nbformat": 4,
 "nbformat_minor": 0
}
