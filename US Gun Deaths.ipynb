{
 "cells": [
  {
   "cell_type": "markdown",
   "metadata": {},
   "source": [
    "#### Loading the data"
   ]
  },
  {
   "cell_type": "code",
   "execution_count": 76,
   "metadata": {},
   "outputs": [
    {
     "data": {
      "text/html": [
       "<div>\n",
       "<style>\n",
       "    .dataframe thead tr:only-child th {\n",
       "        text-align: right;\n",
       "    }\n",
       "\n",
       "    .dataframe thead th {\n",
       "        text-align: left;\n",
       "    }\n",
       "\n",
       "    .dataframe tbody tr th {\n",
       "        vertical-align: top;\n",
       "    }\n",
       "</style>\n",
       "<table border=\"1\" class=\"dataframe\">\n",
       "  <thead>\n",
       "    <tr style=\"text-align: right;\">\n",
       "      <th></th>\n",
       "      <th>Unnamed: 0</th>\n",
       "      <th>year</th>\n",
       "      <th>month</th>\n",
       "      <th>intent</th>\n",
       "      <th>police</th>\n",
       "      <th>sex</th>\n",
       "      <th>age</th>\n",
       "      <th>race</th>\n",
       "      <th>hispanic</th>\n",
       "      <th>place</th>\n",
       "      <th>education</th>\n",
       "    </tr>\n",
       "  </thead>\n",
       "  <tbody>\n",
       "    <tr>\n",
       "      <th>0</th>\n",
       "      <td>1</td>\n",
       "      <td>2012</td>\n",
       "      <td>1</td>\n",
       "      <td>Suicide</td>\n",
       "      <td>0</td>\n",
       "      <td>M</td>\n",
       "      <td>34.0</td>\n",
       "      <td>Asian/Pacific Islander</td>\n",
       "      <td>100</td>\n",
       "      <td>Home</td>\n",
       "      <td>4.0</td>\n",
       "    </tr>\n",
       "    <tr>\n",
       "      <th>1</th>\n",
       "      <td>2</td>\n",
       "      <td>2012</td>\n",
       "      <td>1</td>\n",
       "      <td>Suicide</td>\n",
       "      <td>0</td>\n",
       "      <td>F</td>\n",
       "      <td>21.0</td>\n",
       "      <td>White</td>\n",
       "      <td>100</td>\n",
       "      <td>Street</td>\n",
       "      <td>3.0</td>\n",
       "    </tr>\n",
       "    <tr>\n",
       "      <th>2</th>\n",
       "      <td>3</td>\n",
       "      <td>2012</td>\n",
       "      <td>1</td>\n",
       "      <td>Suicide</td>\n",
       "      <td>0</td>\n",
       "      <td>M</td>\n",
       "      <td>60.0</td>\n",
       "      <td>White</td>\n",
       "      <td>100</td>\n",
       "      <td>Other specified</td>\n",
       "      <td>4.0</td>\n",
       "    </tr>\n",
       "    <tr>\n",
       "      <th>3</th>\n",
       "      <td>4</td>\n",
       "      <td>2012</td>\n",
       "      <td>2</td>\n",
       "      <td>Suicide</td>\n",
       "      <td>0</td>\n",
       "      <td>M</td>\n",
       "      <td>64.0</td>\n",
       "      <td>White</td>\n",
       "      <td>100</td>\n",
       "      <td>Home</td>\n",
       "      <td>4.0</td>\n",
       "    </tr>\n",
       "    <tr>\n",
       "      <th>4</th>\n",
       "      <td>5</td>\n",
       "      <td>2012</td>\n",
       "      <td>2</td>\n",
       "      <td>Suicide</td>\n",
       "      <td>0</td>\n",
       "      <td>M</td>\n",
       "      <td>31.0</td>\n",
       "      <td>White</td>\n",
       "      <td>100</td>\n",
       "      <td>Other specified</td>\n",
       "      <td>2.0</td>\n",
       "    </tr>\n",
       "  </tbody>\n",
       "</table>\n",
       "</div>"
      ],
      "text/plain": [
       "   Unnamed: 0  year  month   intent  police sex   age                    race  \\\n",
       "0           1  2012      1  Suicide       0   M  34.0  Asian/Pacific Islander   \n",
       "1           2  2012      1  Suicide       0   F  21.0                   White   \n",
       "2           3  2012      1  Suicide       0   M  60.0                   White   \n",
       "3           4  2012      2  Suicide       0   M  64.0                   White   \n",
       "4           5  2012      2  Suicide       0   M  31.0                   White   \n",
       "\n",
       "   hispanic            place  education  \n",
       "0       100             Home        4.0  \n",
       "1       100           Street        3.0  \n",
       "2       100  Other specified        4.0  \n",
       "3       100             Home        4.0  \n",
       "4       100  Other specified        2.0  "
      ]
     },
     "execution_count": 76,
     "metadata": {},
     "output_type": "execute_result"
    }
   ],
   "source": [
    "import pandas as pd\n",
    "\n",
    "data = pd.read_csv('guns.csv')\n",
    "data.head()"
   ]
  },
  {
   "cell_type": "code",
   "execution_count": 77,
   "metadata": {},
   "outputs": [
    {
     "data": {
      "text/html": [
       "<div>\n",
       "<style>\n",
       "    .dataframe thead tr:only-child th {\n",
       "        text-align: right;\n",
       "    }\n",
       "\n",
       "    .dataframe thead th {\n",
       "        text-align: left;\n",
       "    }\n",
       "\n",
       "    .dataframe tbody tr th {\n",
       "        vertical-align: top;\n",
       "    }\n",
       "</style>\n",
       "<table border=\"1\" class=\"dataframe\">\n",
       "  <thead>\n",
       "    <tr style=\"text-align: right;\">\n",
       "      <th></th>\n",
       "      <th>Unnamed: 0</th>\n",
       "      <th>year</th>\n",
       "      <th>month</th>\n",
       "      <th>police</th>\n",
       "      <th>age</th>\n",
       "      <th>hispanic</th>\n",
       "      <th>education</th>\n",
       "    </tr>\n",
       "  </thead>\n",
       "  <tbody>\n",
       "    <tr>\n",
       "      <th>count</th>\n",
       "      <td>100798.000000</td>\n",
       "      <td>100798.000000</td>\n",
       "      <td>100798.000000</td>\n",
       "      <td>100798.000000</td>\n",
       "      <td>100780.000000</td>\n",
       "      <td>100798.000000</td>\n",
       "      <td>100745.000000</td>\n",
       "    </tr>\n",
       "    <tr>\n",
       "      <th>mean</th>\n",
       "      <td>50399.500000</td>\n",
       "      <td>2013.000357</td>\n",
       "      <td>6.567601</td>\n",
       "      <td>0.013909</td>\n",
       "      <td>43.857601</td>\n",
       "      <td>114.179607</td>\n",
       "      <td>2.296352</td>\n",
       "    </tr>\n",
       "    <tr>\n",
       "      <th>std</th>\n",
       "      <td>29098.020554</td>\n",
       "      <td>0.816278</td>\n",
       "      <td>3.405609</td>\n",
       "      <td>0.117114</td>\n",
       "      <td>19.496181</td>\n",
       "      <td>61.595734</td>\n",
       "      <td>0.990105</td>\n",
       "    </tr>\n",
       "    <tr>\n",
       "      <th>min</th>\n",
       "      <td>1.000000</td>\n",
       "      <td>2012.000000</td>\n",
       "      <td>1.000000</td>\n",
       "      <td>0.000000</td>\n",
       "      <td>0.000000</td>\n",
       "      <td>100.000000</td>\n",
       "      <td>1.000000</td>\n",
       "    </tr>\n",
       "    <tr>\n",
       "      <th>25%</th>\n",
       "      <td>25200.250000</td>\n",
       "      <td>2012.000000</td>\n",
       "      <td>4.000000</td>\n",
       "      <td>0.000000</td>\n",
       "      <td>27.000000</td>\n",
       "      <td>100.000000</td>\n",
       "      <td>2.000000</td>\n",
       "    </tr>\n",
       "    <tr>\n",
       "      <th>50%</th>\n",
       "      <td>50399.500000</td>\n",
       "      <td>2013.000000</td>\n",
       "      <td>7.000000</td>\n",
       "      <td>0.000000</td>\n",
       "      <td>42.000000</td>\n",
       "      <td>100.000000</td>\n",
       "      <td>2.000000</td>\n",
       "    </tr>\n",
       "    <tr>\n",
       "      <th>75%</th>\n",
       "      <td>75598.750000</td>\n",
       "      <td>2014.000000</td>\n",
       "      <td>9.000000</td>\n",
       "      <td>0.000000</td>\n",
       "      <td>58.000000</td>\n",
       "      <td>100.000000</td>\n",
       "      <td>3.000000</td>\n",
       "    </tr>\n",
       "    <tr>\n",
       "      <th>max</th>\n",
       "      <td>100798.000000</td>\n",
       "      <td>2014.000000</td>\n",
       "      <td>12.000000</td>\n",
       "      <td>1.000000</td>\n",
       "      <td>107.000000</td>\n",
       "      <td>998.000000</td>\n",
       "      <td>5.000000</td>\n",
       "    </tr>\n",
       "  </tbody>\n",
       "</table>\n",
       "</div>"
      ],
      "text/plain": [
       "          Unnamed: 0           year          month         police  \\\n",
       "count  100798.000000  100798.000000  100798.000000  100798.000000   \n",
       "mean    50399.500000    2013.000357       6.567601       0.013909   \n",
       "std     29098.020554       0.816278       3.405609       0.117114   \n",
       "min         1.000000    2012.000000       1.000000       0.000000   \n",
       "25%     25200.250000    2012.000000       4.000000       0.000000   \n",
       "50%     50399.500000    2013.000000       7.000000       0.000000   \n",
       "75%     75598.750000    2014.000000       9.000000       0.000000   \n",
       "max    100798.000000    2014.000000      12.000000       1.000000   \n",
       "\n",
       "                 age       hispanic      education  \n",
       "count  100780.000000  100798.000000  100745.000000  \n",
       "mean       43.857601     114.179607       2.296352  \n",
       "std        19.496181      61.595734       0.990105  \n",
       "min         0.000000     100.000000       1.000000  \n",
       "25%        27.000000     100.000000       2.000000  \n",
       "50%        42.000000     100.000000       2.000000  \n",
       "75%        58.000000     100.000000       3.000000  \n",
       "max       107.000000     998.000000       5.000000  "
      ]
     },
     "execution_count": 77,
     "metadata": {},
     "output_type": "execute_result"
    }
   ],
   "source": [
    "data.describe()"
   ]
  },
  {
   "cell_type": "code",
   "execution_count": 78,
   "metadata": {},
   "outputs": [
    {
     "name": "stdout",
     "output_type": "stream",
     "text": [
      "[['', 'year', 'month', 'intent', 'police', 'sex', 'age', 'race', 'hispanic', 'place', 'education'], ['1', '2012', '01', 'Suicide', '0', 'M', '34', 'Asian/Pacific Islander', '100', 'Home', '4'], ['2', '2012', '01', 'Suicide', '0', 'F', '21', 'White', '100', 'Street', '3'], ['3', '2012', '01', 'Suicide', '0', 'M', '60', 'White', '100', 'Other specified', '4'], ['4', '2012', '02', 'Suicide', '0', 'M', '64', 'White', '100', 'Home', '4']]\n"
     ]
    }
   ],
   "source": [
    "import csv\n",
    "with open('guns.csv','r') as f:\n",
    "    data = list(csv.reader(f))\n",
    "print(data[:5])"
   ]
  },
  {
   "cell_type": "markdown",
   "metadata": {},
   "source": [
    "#### Displaying the header"
   ]
  },
  {
   "cell_type": "code",
   "execution_count": 79,
   "metadata": {},
   "outputs": [
    {
     "name": "stdout",
     "output_type": "stream",
     "text": [
      "['', 'year', 'month', 'intent', 'police', 'sex', 'age', 'race', 'hispanic', 'place', 'education']\n"
     ]
    }
   ],
   "source": [
    "headers = data[0]\n",
    "print(headers)"
   ]
  },
  {
   "cell_type": "markdown",
   "metadata": {},
   "source": [
    "#### Stripping the header"
   ]
  },
  {
   "cell_type": "code",
   "execution_count": 80,
   "metadata": {},
   "outputs": [
    {
     "name": "stdout",
     "output_type": "stream",
     "text": [
      "[['1', '2012', '01', 'Suicide', '0', 'M', '34', 'Asian/Pacific Islander', '100', 'Home', '4'], ['2', '2012', '01', 'Suicide', '0', 'F', '21', 'White', '100', 'Street', '3'], ['3', '2012', '01', 'Suicide', '0', 'M', '60', 'White', '100', 'Other specified', '4'], ['4', '2012', '02', 'Suicide', '0', 'M', '64', 'White', '100', 'Home', '4']]\n"
     ]
    }
   ],
   "source": [
    "data = data[1:]\n",
    "print(data[0:4])"
   ]
  },
  {
   "cell_type": "markdown",
   "metadata": {},
   "source": [
    "#### Counting the number of gun deaths in respective years (2012-2014)"
   ]
  },
  {
   "cell_type": "code",
   "execution_count": 81,
   "metadata": {
    "scrolled": true
   },
   "outputs": [
    {
     "name": "stdout",
     "output_type": "stream",
     "text": [
      "{'2012': 33563, '2013': 33636, '2014': 33599}\n"
     ]
    }
   ],
   "source": [
    "year_counts = {}\n",
    "for row in data:\n",
    "    year = row[1]\n",
    "    if year in year_counts:\n",
    "        year_counts[year] += 1\n",
    "    else:\n",
    "        year_counts[year] = 1\n",
    "print(year_counts)   "
   ]
  },
  {
   "cell_type": "markdown",
   "metadata": {},
   "source": [
    "#### counting gun deaths in different months"
   ]
  },
  {
   "cell_type": "code",
   "execution_count": 82,
   "metadata": {},
   "outputs": [
    {
     "data": {
      "text/plain": [
       "[datetime.datetime(2012, 1, 1, 0, 0),\n",
       " datetime.datetime(2012, 1, 1, 0, 0),\n",
       " datetime.datetime(2012, 1, 1, 0, 0),\n",
       " datetime.datetime(2012, 2, 1, 0, 0),\n",
       " datetime.datetime(2012, 2, 1, 0, 0)]"
      ]
     },
     "execution_count": 82,
     "metadata": {},
     "output_type": "execute_result"
    }
   ],
   "source": [
    "import datetime\n",
    "dates = [datetime.datetime(year = int(row[1]), month = int(row[2]), day = 1) for row in data]\n",
    "dates[:5]"
   ]
  },
  {
   "cell_type": "code",
   "execution_count": 83,
   "metadata": {},
   "outputs": [
    {
     "name": "stdout",
     "output_type": "stream",
     "text": [
      "{datetime.datetime(2012, 1, 1, 0, 0): 2758, datetime.datetime(2012, 2, 1, 0, 0): 2357, datetime.datetime(2012, 3, 1, 0, 0): 2743, datetime.datetime(2012, 4, 1, 0, 0): 2795, datetime.datetime(2012, 5, 1, 0, 0): 2999, datetime.datetime(2012, 6, 1, 0, 0): 2826, datetime.datetime(2012, 7, 1, 0, 0): 3026, datetime.datetime(2012, 8, 1, 0, 0): 2954, datetime.datetime(2012, 9, 1, 0, 0): 2852, datetime.datetime(2012, 10, 1, 0, 0): 2733, datetime.datetime(2012, 11, 1, 0, 0): 2729, datetime.datetime(2012, 12, 1, 0, 0): 2791, datetime.datetime(2013, 1, 1, 0, 0): 2864, datetime.datetime(2013, 2, 1, 0, 0): 2375, datetime.datetime(2013, 3, 1, 0, 0): 2862, datetime.datetime(2013, 4, 1, 0, 0): 2798, datetime.datetime(2013, 5, 1, 0, 0): 2806, datetime.datetime(2013, 6, 1, 0, 0): 2920, datetime.datetime(2013, 7, 1, 0, 0): 3079, datetime.datetime(2013, 8, 1, 0, 0): 2859, datetime.datetime(2013, 9, 1, 0, 0): 2742, datetime.datetime(2013, 10, 1, 0, 0): 2808, datetime.datetime(2013, 11, 1, 0, 0): 2758, datetime.datetime(2013, 12, 1, 0, 0): 2765, datetime.datetime(2014, 1, 1, 0, 0): 2651, datetime.datetime(2014, 2, 1, 0, 0): 2361, datetime.datetime(2014, 3, 1, 0, 0): 2684, datetime.datetime(2014, 4, 1, 0, 0): 2862, datetime.datetime(2014, 5, 1, 0, 0): 2864, datetime.datetime(2014, 6, 1, 0, 0): 2931, datetime.datetime(2014, 7, 1, 0, 0): 2884, datetime.datetime(2014, 8, 1, 0, 0): 2970, datetime.datetime(2014, 9, 1, 0, 0): 2914, datetime.datetime(2014, 10, 1, 0, 0): 2865, datetime.datetime(2014, 11, 1, 0, 0): 2756, datetime.datetime(2014, 12, 1, 0, 0): 2857}\n"
     ]
    }
   ],
   "source": [
    "date_count = {}\n",
    "\n",
    "for row in dates:\n",
    "    if row in date_count:\n",
    "        date_count[row] += 1\n",
    "    else: \n",
    "        date_count[row] = 1\n",
    "print(date_count)"
   ]
  },
  {
   "cell_type": "code",
   "execution_count": 84,
   "metadata": {},
   "outputs": [
    {
     "name": "stdout",
     "output_type": "stream",
     "text": [
      "[(3079, datetime.datetime(2013, 7, 1, 0, 0)), (3026, datetime.datetime(2012, 7, 1, 0, 0)), (2999, datetime.datetime(2012, 5, 1, 0, 0)), (2970, datetime.datetime(2014, 8, 1, 0, 0)), (2954, datetime.datetime(2012, 8, 1, 0, 0)), (2931, datetime.datetime(2014, 6, 1, 0, 0)), (2920, datetime.datetime(2013, 6, 1, 0, 0)), (2914, datetime.datetime(2014, 9, 1, 0, 0)), (2884, datetime.datetime(2014, 7, 1, 0, 0)), (2865, datetime.datetime(2014, 10, 1, 0, 0)), (2864, datetime.datetime(2014, 5, 1, 0, 0)), (2864, datetime.datetime(2013, 1, 1, 0, 0)), (2862, datetime.datetime(2014, 4, 1, 0, 0)), (2862, datetime.datetime(2013, 3, 1, 0, 0)), (2859, datetime.datetime(2013, 8, 1, 0, 0)), (2857, datetime.datetime(2014, 12, 1, 0, 0)), (2852, datetime.datetime(2012, 9, 1, 0, 0)), (2826, datetime.datetime(2012, 6, 1, 0, 0)), (2808, datetime.datetime(2013, 10, 1, 0, 0)), (2806, datetime.datetime(2013, 5, 1, 0, 0)), (2798, datetime.datetime(2013, 4, 1, 0, 0)), (2795, datetime.datetime(2012, 4, 1, 0, 0)), (2791, datetime.datetime(2012, 12, 1, 0, 0)), (2765, datetime.datetime(2013, 12, 1, 0, 0)), (2758, datetime.datetime(2013, 11, 1, 0, 0)), (2758, datetime.datetime(2012, 1, 1, 0, 0)), (2756, datetime.datetime(2014, 11, 1, 0, 0)), (2743, datetime.datetime(2012, 3, 1, 0, 0)), (2742, datetime.datetime(2013, 9, 1, 0, 0)), (2733, datetime.datetime(2012, 10, 1, 0, 0)), (2729, datetime.datetime(2012, 11, 1, 0, 0)), (2684, datetime.datetime(2014, 3, 1, 0, 0)), (2651, datetime.datetime(2014, 1, 1, 0, 0)), (2375, datetime.datetime(2013, 2, 1, 0, 0)), (2361, datetime.datetime(2014, 2, 1, 0, 0)), (2357, datetime.datetime(2012, 2, 1, 0, 0))]\n"
     ]
    }
   ],
   "source": [
    "items = [(v, k) for k, v in date_count.items()]\n",
    "items.sort()\n",
    "items.reverse()\n",
    "print(items)"
   ]
  },
  {
   "cell_type": "markdown",
   "metadata": {},
   "source": [
    "The summer months have the greatest value counts, this is likely to be due to increased socal interaction as\n",
    "temperatures rise, leading to a higher homicide rate. The Wall Street Journal found that July was the deadliest month in terms of homicides in New York City between 2002 and 2009, it's not necessarily because warmer temperatures bring out more aggression leading to more assaults. As James Alan Fox, a professor of criminology at Northeastern University points out, it's more likely that there are more people out and about, which means there are more potential victims outside."
   ]
  },
  {
   "cell_type": "markdown",
   "metadata": {},
   "source": [
    "#### Counting gun deaths by sex, race, age and intent"
   ]
  },
  {
   "cell_type": "markdown",
   "metadata": {},
   "source": [
    "#### Gender"
   ]
  },
  {
   "cell_type": "code",
   "execution_count": 85,
   "metadata": {},
   "outputs": [
    {
     "name": "stdout",
     "output_type": "stream",
     "text": [
      "{'M': 86349, 'F': 14449}\n"
     ]
    }
   ],
   "source": [
    "sex_count = {}\n",
    "\n",
    "for row in data:\n",
    "    sex = row[5]\n",
    "    if sex in sex_count:\n",
    "        sex_count[sex] += 1\n",
    "    else:\n",
    "        sex_count[sex] = 1\n",
    "print(sex_count)"
   ]
  },
  {
   "cell_type": "markdown",
   "metadata": {},
   "source": [
    "#### Finding the proportion of male and female victims"
   ]
  },
  {
   "cell_type": "code",
   "execution_count": 86,
   "metadata": {},
   "outputs": [
    {
     "name": "stdout",
     "output_type": "stream",
     "text": [
      "100798\n"
     ]
    }
   ],
   "source": [
    "total_deaths = sum(sex_count.values())\n",
    "print(total_deaths)"
   ]
  },
  {
   "cell_type": "code",
   "execution_count": 87,
   "metadata": {},
   "outputs": [
    {
     "data": {
      "text/plain": [
       "85.665"
      ]
     },
     "execution_count": 87,
     "metadata": {},
     "output_type": "execute_result"
    }
   ],
   "source": [
    "male_proportion = (86343 / 100791) * 100\n",
    "round(male_proportion, 3)"
   ]
  },
  {
   "cell_type": "code",
   "execution_count": 88,
   "metadata": {},
   "outputs": [
    {
     "data": {
      "text/plain": [
       "14.335"
      ]
     },
     "execution_count": 88,
     "metadata": {},
     "output_type": "execute_result"
    }
   ],
   "source": [
    "female_proportion = (14448 / 100791) * 100\n",
    "round(female_proportion, 3)"
   ]
  },
  {
   "cell_type": "markdown",
   "metadata": {},
   "source": [
    "Males consist of approximately 85%, and females 15% of total gun deaths in the years 2012-2014."
   ]
  },
  {
   "cell_type": "markdown",
   "metadata": {},
   "source": [
    "#### Race"
   ]
  },
  {
   "cell_type": "code",
   "execution_count": 89,
   "metadata": {},
   "outputs": [
    {
     "name": "stdout",
     "output_type": "stream",
     "text": [
      "{'Asian/Pacific Islander': 1326, 'White': 66237, 'Native American/Native Alaskan': 917, 'Black': 23296, 'Hispanic': 9022}\n"
     ]
    }
   ],
   "source": [
    "race_count = {}\n",
    "\n",
    "for row in data:\n",
    "    race = row[7]\n",
    "    if race in race_count:\n",
    "        race_count[race] += 1\n",
    "    else:\n",
    "        race_count[race] = 1\n",
    "print(race_count)"
   ]
  },
  {
   "cell_type": "markdown",
   "metadata": {},
   "source": [
    "#### Age"
   ]
  },
  {
   "cell_type": "code",
   "execution_count": 90,
   "metadata": {},
   "outputs": [
    {
     "name": "stdout",
     "output_type": "stream",
     "text": [
      "{'34': 1699, '21': 2504, '60': 1361, '64': 1126, '31': 1833, '17': 1185, '48': 1621, '41': 1485, '50': 1674, 'NA': 18, '30': 1869, '43': 1527, '27': 2070, '55': 1596, '53': 1708, '51': 1755, '65': 1039, '52': 1715, '47': 1532, '19': 2065, '22': 2712, '56': 1625, '38': 1491, '25': 2230, '26': 2231, '23': 2472, '87': 312, '28': 1986, '39': 1389, '59': 1430, '61': 1306, '12': 117, '40': 1414, '57': 1472, '20': 2219, '62': 1099, '71': 791, '44': 1449, '29': 1955, '24': 2437, '9': 47, '77': 575, '18': 1753, '36': 1512, '49': 1669, '13': 229, '33': 1700, '90': 208, '63': 1041, '46': 1437, '32': 1824, '84': 490, '68': 868, '89': 245, '58': 1510, '78': 598, '66': 998, '81': 563, '54': 1684, '45': 1372, '37': 1500, '35': 1631, '42': 1492, '67': 865, '69': 879, '72': 736, '82': 520, '75': 676, '73': 737, '15': 561, '83': 552, '74': 671, '86': 407, '16': 864, '88': 340, '3': 66, '80': 546, '5': 43, '79': 573, '91': 176, '4': 54, '76': 582, '14': 364, '95': 55, '96': 40, '70': 883, '7': 43, '85': 440, '0': 33, '1': 38, '93': 103, '92': 128, '97': 20, '2': 50, '94': 64, '11': 61, '8': 32, '6': 50, '99': 6, '10': 53, '98': 16, '102': 2, '107': 1, '100': 1, '101': 2}\n"
     ]
    }
   ],
   "source": [
    "age_count = {}\n",
    "\n",
    "for row in data:\n",
    "    age = row[6]\n",
    "    if age in age_count:\n",
    "        age_count[age] += 1\n",
    "    else:\n",
    "        age_count[age] = 1\n",
    "print(age_count)"
   ]
  },
  {
   "cell_type": "markdown",
   "metadata": {},
   "source": [
    "#### Sorting the dictionary to find the greatest values for age"
   ]
  },
  {
   "cell_type": "code",
   "execution_count": 91,
   "metadata": {},
   "outputs": [
    {
     "name": "stdout",
     "output_type": "stream",
     "text": [
      "[(2712, '22'), (2504, '21'), (2472, '23'), (2437, '24'), (2231, '26'), (2230, '25'), (2219, '20'), (2070, '27'), (2065, '19'), (1986, '28'), (1955, '29'), (1869, '30'), (1833, '31'), (1824, '32'), (1755, '51'), (1753, '18'), (1715, '52'), (1708, '53'), (1700, '33'), (1699, '34'), (1684, '54'), (1674, '50'), (1669, '49'), (1631, '35'), (1625, '56'), (1621, '48'), (1596, '55'), (1532, '47'), (1527, '43'), (1512, '36'), (1510, '58'), (1500, '37'), (1492, '42'), (1491, '38'), (1485, '41'), (1472, '57'), (1449, '44'), (1437, '46'), (1430, '59'), (1414, '40'), (1389, '39'), (1372, '45'), (1361, '60'), (1306, '61'), (1185, '17'), (1126, '64'), (1099, '62'), (1041, '63'), (1039, '65'), (998, '66'), (883, '70'), (879, '69'), (868, '68'), (865, '67'), (864, '16'), (791, '71'), (737, '73'), (736, '72'), (676, '75'), (671, '74'), (598, '78'), (582, '76'), (575, '77'), (573, '79'), (563, '81'), (561, '15'), (552, '83'), (546, '80'), (520, '82'), (490, '84'), (440, '85'), (407, '86'), (364, '14'), (340, '88'), (312, '87'), (245, '89'), (229, '13'), (208, '90'), (176, '91'), (128, '92'), (117, '12'), (103, '93'), (66, '3'), (64, '94'), (61, '11'), (55, '95'), (54, '4'), (53, '10'), (50, '6'), (50, '2'), (47, '9'), (43, '7'), (43, '5'), (40, '96'), (38, '1'), (33, '0'), (32, '8'), (20, '97'), (18, 'NA'), (16, '98'), (6, '99'), (2, '102'), (2, '101'), (1, '107'), (1, '100')]\n"
     ]
    }
   ],
   "source": [
    "items = [(v, k) for k, v in age_count.items()]\n",
    "items.sort()\n",
    "items.reverse()\n",
    "print(items)"
   ]
  },
  {
   "cell_type": "markdown",
   "metadata": {},
   "source": [
    "#### Intent"
   ]
  },
  {
   "cell_type": "code",
   "execution_count": 92,
   "metadata": {},
   "outputs": [
    {
     "name": "stdout",
     "output_type": "stream",
     "text": [
      "{'Suicide': 63175, 'Undetermined': 807, 'Accidental': 1639, 'Homicide': 35176, 'NA': 1}\n"
     ]
    }
   ],
   "source": [
    "intent_count = {}\n",
    "\n",
    "for row in data:\n",
    "    intent = row[3]\n",
    "    if intent in intent_count:\n",
    "        intent_count[intent] += 1\n",
    "    else:\n",
    "        intent_count[intent] = 1\n",
    "print(intent_count)"
   ]
  },
  {
   "cell_type": "markdown",
   "metadata": {
    "collapsed": true
   },
   "source": [
    "#### Loading a second dataset"
   ]
  },
  {
   "cell_type": "code",
   "execution_count": 93,
   "metadata": {},
   "outputs": [
    {
     "data": {
      "text/plain": [
       "[['Id',\n",
       "  'Year',\n",
       "  'Id',\n",
       "  'Sex',\n",
       "  'Id',\n",
       "  'Hispanic Origin',\n",
       "  'Id',\n",
       "  'Id2',\n",
       "  'Geography',\n",
       "  'Total',\n",
       "  'Race Alone - White',\n",
       "  'Race Alone - Hispanic',\n",
       "  'Race Alone - Black or African American',\n",
       "  'Race Alone - American Indian and Alaska Native',\n",
       "  'Race Alone - Asian',\n",
       "  'Race Alone - Native Hawaiian and Other Pacific Islander',\n",
       "  'Two or More Races'],\n",
       " ['cen42010',\n",
       "  'April 1, 2010 Census',\n",
       "  'totsex',\n",
       "  'Both Sexes',\n",
       "  'tothisp',\n",
       "  'Total',\n",
       "  '0100000US',\n",
       "  '',\n",
       "  'United States',\n",
       "  '308745538',\n",
       "  '197318956',\n",
       "  '44618105',\n",
       "  '40250635',\n",
       "  '3739506',\n",
       "  '15159516',\n",
       "  '674625',\n",
       "  '6984195']]"
      ]
     },
     "execution_count": 93,
     "metadata": {},
     "output_type": "execute_result"
    }
   ],
   "source": [
    "with open('census.csv', 'r') as f:\n",
    "    census = list(csv.reader(f))\n",
    "census"
   ]
  },
  {
   "cell_type": "markdown",
   "metadata": {},
   "source": [
    "#### Calculating rates of gun deaths per 100000 for different races"
   ]
  },
  {
   "cell_type": "code",
   "execution_count": 94,
   "metadata": {},
   "outputs": [
    {
     "data": {
      "text/plain": [
       "{'Asian/Pacific Islander': 15834141,\n",
       " 'Black': 40250635,\n",
       " 'Hispanic': 44618105,\n",
       " 'Native American/Native Alaskan': 3739506,\n",
       " 'White': 197318956}"
      ]
     },
     "execution_count": 94,
     "metadata": {},
     "output_type": "execute_result"
    }
   ],
   "source": [
    "mapping = {'Asian/Pacific Islander': 15834141, 'White': 197318956, 'Native American/Native Alaskan': 3739506, 'Black': 40250635, 'Hispanic': 44618105}\n",
    "mapping"
   ]
  },
  {
   "cell_type": "code",
   "execution_count": 105,
   "metadata": {},
   "outputs": [
    {
     "data": {
      "text/plain": [
       "{'Asian/Pacific Islander': 8.374309664161763e-05,\n",
       " 'Black': 0.000578773477735196,\n",
       " 'Hispanic': 0.00020220491210910907,\n",
       " 'Native American/Native Alaskan': 0.0002452195557381109,\n",
       " 'White': 0.0003356849303419181}"
      ]
     },
     "execution_count": 105,
     "metadata": {},
     "output_type": "execute_result"
    }
   ],
   "source": [
    "race_of_deceased = {k: race_count[k]/mapping[k] for k in race_count.keys() & mapping}\n",
    "race_of_deceased"
   ]
  },
  {
   "cell_type": "code",
   "execution_count": 106,
   "metadata": {},
   "outputs": [
    {
     "data": {
      "text/plain": [
       "{'Asian/Pacific Islander': 8.374309664161762,\n",
       " 'Black': 57.8773477735196,\n",
       " 'Hispanic': 20.220491210910907,\n",
       " 'Native American/Native Alaskan': 24.521955573811088,\n",
       " 'White': 33.56849303419181}"
      ]
     },
     "execution_count": 106,
     "metadata": {},
     "output_type": "execute_result"
    }
   ],
   "source": [
    "for key in race_of_deceased:\n",
    "    race_of_deceased[key] = race_of_deceased[key] * 100000\n",
    "race_of_deceased"
   ]
  },
  {
   "cell_type": "markdown",
   "metadata": {},
   "source": [
    "#### Filtering by intent (Homicide)"
   ]
  },
  {
   "cell_type": "code",
   "execution_count": 119,
   "metadata": {},
   "outputs": [
    {
     "name": "stdout",
     "output_type": "stream",
     "text": [
      "['Suicide']\n",
      "['Asian/Pacific Islander']\n"
     ]
    }
   ],
   "source": [
    "intents = []\n",
    "races = []\n",
    "\n",
    "for row in data:\n",
    "    intent = row[3]\n",
    "    race = row[7]\n",
    "    intents.append(intent)\n",
    "    races.append(race)\n",
    "print(intents[:1])\n",
    "print(races[:1])   "
   ]
  },
  {
   "cell_type": "code",
   "execution_count": 153,
   "metadata": {},
   "outputs": [
    {
     "name": "stdout",
     "output_type": "stream",
     "text": [
      "{'Asian/Pacific Islander': 559, 'White': 9147, 'Native American/Native Alaskan': 326, 'Black': 19510, 'Hispanic': 5634}\n"
     ]
    },
    {
     "data": {
      "text/plain": [
       "{'Asian/Pacific Islander': 3.530346230970155,\n",
       " 'Black': 48.471284987180944,\n",
       " 'Hispanic': 12.627161104219914,\n",
       " 'Native American/Native Alaskan': 8.717729026240365,\n",
       " 'White': 4.6356417981453335}"
      ]
     },
     "execution_count": 153,
     "metadata": {},
     "output_type": "execute_result"
    }
   ],
   "source": [
    "homicide_race_counts = {}\n",
    "\n",
    "for i, race in enumerate(races):\n",
    "    if race not in homicide_race_counts:\n",
    "        homicide_race_counts[race] = 0\n",
    "    if intents[i] == \"Homicide\":\n",
    "        homicide_race_counts[race] += 1\n",
    "print(homicide_race_counts)\n",
    "\n",
    "race_per_hundredk = {}\n",
    "for k, v in homicide_race_counts.items():\n",
    "    race_per_hundredk[k] = (v / mapping[k]) * 100000\n",
    "    \n",
    "race_per_hundredk"
   ]
  },
  {
   "cell_type": "markdown",
   "metadata": {},
   "source": [
    "#### Filtering by intent (Suicide)"
   ]
  },
  {
   "cell_type": "code",
   "execution_count": 155,
   "metadata": {},
   "outputs": [
    {
     "name": "stdout",
     "output_type": "stream",
     "text": [
      "{'Asian/Pacific Islander': 745, 'White': 55372, 'Native American/Native Alaskan': 555, 'Black': 3332, 'Hispanic': 3171}\n",
      "{'Asian/Pacific Islander': 4.705023152187416, 'White': 28.06217969245692, 'Native American/Native Alaskan': 14.841532544673013, 'Black': 8.278130270491385, 'Hispanic': 7.106980451097149}\n"
     ]
    }
   ],
   "source": [
    "suicide_race_counts = {}\n",
    "\n",
    "for i, suicide in enumerate(races):\n",
    "    if suicide not in suicide_race_counts:\n",
    "        suicide_race_counts[suicide] = 0\n",
    "    if intents[i] == \"Suicide\":\n",
    "        suicide_race_counts[suicide] += 1\n",
    "print(suicide_race_counts)\n",
    "\n",
    "for k, v in suicide_race_counts.items():\n",
    "    race_per_hundredk[k] = (v / mapping[k]) * 100000\n",
    "print(race_per_hundredk)"
   ]
  }
 ],
 "metadata": {
  "kernelspec": {
   "display_name": "Python 3",
   "language": "python",
   "name": "python3"
  },
  "language_info": {
   "codemirror_mode": {
    "name": "ipython",
    "version": 3
   },
   "file_extension": ".py",
   "mimetype": "text/x-python",
   "name": "python",
   "nbconvert_exporter": "python",
   "pygments_lexer": "ipython3",
   "version": "3.6.1"
  }
 },
 "nbformat": 4,
 "nbformat_minor": 2
}
