{
 "cells": [
  {
   "cell_type": "markdown",
   "metadata": {},
   "source": [
    "# 1: The Basics Of Binary"
   ]
  },
  {
   "cell_type": "markdown",
   "metadata": {},
   "source": [
    "# Instructions\n",
    "Convert the binary number \"100\" to a base 10 integer, and assign the result to base_10_100.\n",
    "Hint\n",
    "Use the int() function with the input \"100\".\n",
    "\n"
   ]
  },
  {
   "cell_type": "code",
   "execution_count": 1,
   "metadata": {
    "collapsed": false
   },
   "outputs": [
    {
     "name": "stdout",
     "output_type": "stream",
     "text": [
      "2\n"
     ]
    }
   ],
   "source": [
    "b = \"10\"\n",
    "print(int(b, 2))"
   ]
  },
  {
   "cell_type": "code",
   "execution_count": 2,
   "metadata": {
    "collapsed": false
   },
   "outputs": [
    {
     "name": "stdout",
     "output_type": "stream",
     "text": [
      "4\n"
     ]
    }
   ],
   "source": [
    "a = \"100\"\n",
    "base_10_100 = int(a, 2)\n",
    "print(base_10_100)"
   ]
  },
  {
   "cell_type": "markdown",
   "metadata": {},
   "source": [
    "# 2: Binary Addition"
   ]
  },
  {
   "cell_type": "markdown",
   "metadata": {},
   "source": [
    "# Instructions\n",
    "Add \"10\" (base 2) to c.\n",
    "Hint\n",
    "Use the binary add function with the input \"10\"."
   ]
  },
  {
   "cell_type": "code",
   "execution_count": 3,
   "metadata": {
    "collapsed": false
   },
   "outputs": [
    {
     "name": "stdout",
     "output_type": "stream",
     "text": [
      "10\n"
     ]
    }
   ],
   "source": [
    "a = 9\n",
    "a += 1\n",
    "print(a)"
   ]
  },
  {
   "cell_type": "code",
   "execution_count": 4,
   "metadata": {
    "collapsed": false
   },
   "outputs": [
    {
     "name": "stdout",
     "output_type": "stream",
     "text": [
      "20\n"
     ]
    }
   ],
   "source": [
    "a = 19\n",
    "a += 1\n",
    "print(a)"
   ]
  },
  {
   "cell_type": "code",
   "execution_count": 5,
   "metadata": {
    "collapsed": false
   },
   "outputs": [
    {
     "name": "stdout",
     "output_type": "stream",
     "text": [
      "100\n"
     ]
    }
   ],
   "source": [
    "a = 99\n",
    "a += 1\n",
    "print(a)"
   ]
  },
  {
   "cell_type": "code",
   "execution_count": 6,
   "metadata": {
    "collapsed": false
   },
   "outputs": [
    {
     "name": "stdout",
     "output_type": "stream",
     "text": [
      "10\n",
      "11\n",
      "100\n",
      "110\n"
     ]
    }
   ],
   "source": [
    "b = \"1\"\n",
    "def binary_add(a, b):\n",
    "    return bin(int(a, 2) + int(b, 2))[2:]\n",
    "\n",
    "c = binary_add(b, \"1\")\n",
    "print(c)\n",
    "\n",
    "c = binary_add(c, \"1\")\n",
    "print(c)\n",
    "\n",
    "c = binary_add(c, \"1\")\n",
    "print(c)\n",
    "\n",
    "c = binary_add(c, \"10\")\n",
    "print(c)"
   ]
  },
  {
   "cell_type": "markdown",
   "metadata": {},
   "source": [
    "# 3: Converting Binary Values To Other Bases"
   ]
  },
  {
   "cell_type": "markdown",
   "metadata": {},
   "source": [
    "# Instructions\n",
    "Convert \"1001\" to base 10, and assign the result to base_10_1001.\n",
    "Hint\n",
    "Use the int() function with 2 as the base."
   ]
  },
  {
   "cell_type": "code",
   "execution_count": 7,
   "metadata": {
    "collapsed": false
   },
   "outputs": [
    {
     "name": "stdout",
     "output_type": "stream",
     "text": [
      "True\n",
      "True\n",
      "True\n",
      "True\n",
      "True\n",
      "True\n",
      "True\n",
      "True\n",
      "True\n",
      "True\n",
      "9\n"
     ]
    }
   ],
   "source": [
    "a = 0\n",
    "b = \"0\"\n",
    "\n",
    "for i in range(0, 10):\n",
    "    a += 1\n",
    "    b = binary_add(b, \"1\")\n",
    "    \n",
    "    print(int(b, 2) == a)\n",
    "    \n",
    "a = \"1001\"\n",
    "base_10_1001 = int(a, 2)\n",
    "print(base_10_1001)"
   ]
  },
  {
   "cell_type": "markdown",
   "metadata": {},
   "source": [
    "# 4: Converting Characters To Binary"
   ]
  },
  {
   "cell_type": "markdown",
   "metadata": {},
   "source": [
    "# Instructions\n",
    "Convert \"w\" to binary and assign the result to binary_w.\n",
    "Convert \"}\" to binary and assign the result to binary_bracket.\n",
    "Hint\n",
    "Use bin(ord()) to convert a character to binary."
   ]
  },
  {
   "cell_type": "code",
   "execution_count": 8,
   "metadata": {
    "collapsed": false
   },
   "outputs": [
    {
     "data": {
      "text/plain": [
       "'0b11111111'"
      ]
     },
     "execution_count": 8,
     "metadata": {},
     "output_type": "execute_result"
    }
   ],
   "source": [
    "ord('a')\n",
    "bin(ord('a'))\n",
    "ord('ÿ')\n",
    "bin(ord('ÿ'))"
   ]
  },
  {
   "cell_type": "code",
   "execution_count": 9,
   "metadata": {
    "collapsed": false
   },
   "outputs": [
    {
     "name": "stdout",
     "output_type": "stream",
     "text": [
      "0b1110111\n"
     ]
    }
   ],
   "source": [
    "ord(\"w\")\n",
    "binary_w = bin(ord(\"w\"))\n",
    "print(binary_w)"
   ]
  },
  {
   "cell_type": "code",
   "execution_count": 10,
   "metadata": {
    "collapsed": false
   },
   "outputs": [
    {
     "name": "stdout",
     "output_type": "stream",
     "text": [
      "0b1111101\n"
     ]
    }
   ],
   "source": [
    "ord(\"}\")\n",
    "binary_bracket = bin(ord(\"}\"))\n",
    "print(binary_bracket)"
   ]
  },
  {
   "cell_type": "markdown",
   "metadata": {},
   "source": [
    "# 5: Introduction To Unicode"
   ]
  },
  {
   "cell_type": "markdown",
   "metadata": {},
   "source": [
    "# Instructions\n",
    "Find the binary representation of \"\\u1019\" and assign it to binary_1019.\n",
    "Hint\n",
    "bin(ord()) will convert a code point into a binary string."
   ]
  },
  {
   "cell_type": "code",
   "execution_count": 11,
   "metadata": {
    "collapsed": false
   },
   "outputs": [
    {
     "name": "stdout",
     "output_type": "stream",
     "text": [
      "⟶\n"
     ]
    }
   ],
   "source": [
    "code_point = \"⟶\"\n",
    "print(code_point)"
   ]
  },
  {
   "cell_type": "code",
   "execution_count": 12,
   "metadata": {
    "collapsed": false
   },
   "outputs": [
    {
     "name": "stdout",
     "output_type": "stream",
     "text": [
      "10230\n"
     ]
    }
   ],
   "source": [
    "print(ord(code_point))"
   ]
  },
  {
   "cell_type": "code",
   "execution_count": 13,
   "metadata": {
    "collapsed": false
   },
   "outputs": [
    {
     "name": "stdout",
     "output_type": "stream",
     "text": [
      "0b10011111110110\n"
     ]
    }
   ],
   "source": [
    "print(bin(ord(code_point)))"
   ]
  },
  {
   "cell_type": "code",
   "execution_count": 14,
   "metadata": {
    "collapsed": false
   },
   "outputs": [
    {
     "name": "stdout",
     "output_type": "stream",
     "text": [
      "မ\n"
     ]
    }
   ],
   "source": [
    "binary_1019 = \"\\u1019\"\n",
    "print(binary_1019)"
   ]
  },
  {
   "cell_type": "code",
   "execution_count": 15,
   "metadata": {
    "collapsed": false
   },
   "outputs": [],
   "source": [
    "code_point = \"မ\""
   ]
  },
  {
   "cell_type": "code",
   "execution_count": 16,
   "metadata": {
    "collapsed": false
   },
   "outputs": [
    {
     "name": "stdout",
     "output_type": "stream",
     "text": [
      "0b1000000011001\n"
     ]
    }
   ],
   "source": [
    "binary_1019 = bin(ord(code_point))\n",
    "print(binary_1019)"
   ]
  },
  {
   "cell_type": "markdown",
   "metadata": {},
   "source": [
    "# 6: Strings With Unicode"
   ]
  },
  {
   "cell_type": "markdown",
   "metadata": {},
   "source": [
    "# Instructions\n",
    "Make a string that combines Unicode and ASCII, and assign it to s3.\n",
    "Hint\n",
    "\\u1019 is a code point."
   ]
  },
  {
   "cell_type": "code",
   "execution_count": 17,
   "metadata": {
    "collapsed": false
   },
   "outputs": [
    {
     "name": "stdout",
     "output_type": "stream",
     "text": [
      "True\n"
     ]
    }
   ],
   "source": [
    "s1 = \"café\"\n",
    "s2 = \"café\"\n",
    "print(s1 == s2)"
   ]
  },
  {
   "cell_type": "code",
   "execution_count": 18,
   "metadata": {
    "collapsed": false
   },
   "outputs": [
    {
     "name": "stdout",
     "output_type": "stream",
     "text": [
      "True\n"
     ]
    }
   ],
   "source": [
    "print(s1 == s2)\n",
    "s3 = \"hello မ\""
   ]
  },
  {
   "cell_type": "markdown",
   "metadata": {},
   "source": [
    "# 7: The Bytes Data Type"
   ]
  },
  {
   "cell_type": "code",
   "execution_count": 19,
   "metadata": {
    "collapsed": false
   },
   "outputs": [
    {
     "name": "stdout",
     "output_type": "stream",
     "text": [
      "Clark Kent␦\n"
     ]
    }
   ],
   "source": [
    "superman = \"Clark Kent␦\"\n",
    "print(superman)"
   ]
  },
  {
   "cell_type": "code",
   "execution_count": 20,
   "metadata": {
    "collapsed": false
   },
   "outputs": [
    {
     "name": "stdout",
     "output_type": "stream",
     "text": [
      "b'Clark Kent\\xe2\\x90\\xa6'\n"
     ]
    }
   ],
   "source": [
    "superman_bytes = \"Clark Kent␦\".encode(\"utf-8\")\n",
    "print(superman_bytes)"
   ]
  },
  {
   "cell_type": "code",
   "execution_count": 21,
   "metadata": {
    "collapsed": false
   },
   "outputs": [
    {
     "name": "stdout",
     "output_type": "stream",
     "text": [
      "b'Bruce Wayne\\xe2\\x90\\xa6'\n"
     ]
    }
   ],
   "source": [
    "batman = \"Bruce Wayne␦\"\n",
    "batman_bytes = batman.encode(\"utf-8\")\n",
    "print(batman_bytes)"
   ]
  },
  {
   "cell_type": "markdown",
   "metadata": {},
   "source": [
    "# 8: HexaDecimal Conversions"
   ]
  },
  {
   "cell_type": "markdown",
   "metadata": {},
   "source": [
    "# Instructions\n",
    "Add \"2\" to \"ea\" in hexadecimal, and assign the result to hex_ea.\n",
    "Add \"e\" to \"f\" in hexadecimal, and assign the result to hex_ef.\n",
    "Hint\n",
    "Use the hexadecimal_add function with the right input arguments.\n",
    "\n"
   ]
  },
  {
   "cell_type": "code",
   "execution_count": 22,
   "metadata": {
    "collapsed": false
   },
   "outputs": [
    {
     "name": "stdout",
     "output_type": "stream",
     "text": [
      "15\n"
     ]
    }
   ],
   "source": [
    "print(int(\"F\", 16))"
   ]
  },
  {
   "cell_type": "code",
   "execution_count": 23,
   "metadata": {
    "collapsed": false
   },
   "outputs": [
    {
     "name": "stdout",
     "output_type": "stream",
     "text": [
      "10\n"
     ]
    }
   ],
   "source": [
    "print(int(\"A\", 16))"
   ]
  },
  {
   "cell_type": "code",
   "execution_count": 24,
   "metadata": {
    "collapsed": false
   },
   "outputs": [
    {
     "ename": "NameError",
     "evalue": "name 'hexidecimal_add' is not defined",
     "output_type": "error",
     "traceback": [
      "\u001b[0;31m---------------------------------------------------------------------------\u001b[0m",
      "\u001b[0;31mNameError\u001b[0m                                 Traceback (most recent call last)",
      "\u001b[0;32m<ipython-input-24-747b56c8864a>\u001b[0m in \u001b[0;36m<module>\u001b[0;34m()\u001b[0m\n\u001b[1;32m      3\u001b[0m \u001b[0;34m\u001b[0m\u001b[0m\n\u001b[1;32m      4\u001b[0m \u001b[0mvalue\u001b[0m \u001b[0;34m=\u001b[0m \u001b[0;34m\"9\"\u001b[0m\u001b[0;34m\u001b[0m\u001b[0m\n\u001b[0;32m----> 5\u001b[0;31m \u001b[0mvalue\u001b[0m \u001b[0;34m=\u001b[0m \u001b[0mhexidecimal_add\u001b[0m\u001b[0;34m(\u001b[0m\u001b[0mvalue\u001b[0m\u001b[0;34m,\u001b[0m \u001b[0;34m\"1\"\u001b[0m\u001b[0;34m)\u001b[0m\u001b[0;34m\u001b[0m\u001b[0m\n\u001b[0m\u001b[1;32m      6\u001b[0m \u001b[0mprint\u001b[0m\u001b[0;34m(\u001b[0m\u001b[0mvalue\u001b[0m\u001b[0;34m)\u001b[0m\u001b[0;34m\u001b[0m\u001b[0m\n",
      "\u001b[0;31mNameError\u001b[0m: name 'hexidecimal_add' is not defined"
     ]
    }
   ],
   "source": [
    "def hexadecimal_add(a, b):\n",
    "    return hex(int(a, 16) + int(b, 16))[2:]\n",
    "\n",
    "value = \"9\"\n",
    "value = hexidecimal_add(value, \"1\")\n",
    "print(value)"
   ]
  },
  {
   "cell_type": "code",
   "execution_count": 25,
   "metadata": {
    "collapsed": false
   },
   "outputs": [
    {
     "name": "stdout",
     "output_type": "stream",
     "text": [
      "ec\n"
     ]
    }
   ],
   "source": [
    "hex_ea = hexadecimal_add(\"2\", \"ea\")\n",
    "print(hex_ea)"
   ]
  },
  {
   "cell_type": "code",
   "execution_count": 26,
   "metadata": {
    "collapsed": false
   },
   "outputs": [
    {
     "name": "stdout",
     "output_type": "stream",
     "text": [
      "1d\n"
     ]
    }
   ],
   "source": [
    "hex_ef = hexadecimal_add(\"e\", \"f\")\n",
    "print(hex_ef)"
   ]
  },
  {
   "cell_type": "markdown",
   "metadata": {},
   "source": [
    "# 9: Hex To Binary"
   ]
  },
  {
   "cell_type": "markdown",
   "metadata": {},
   "source": [
    "# Instructions\n",
    "Convert the hexadecimal byte \"\\xaa\" to binary, and assign the result to binary_aa.\n",
    "Convert the hexadecimal byte \"\\xab\" to binary, and assign the result to binary_ab.\n",
    "Hint\n",
    "Remember to use bin(ord()) to convert to binary."
   ]
  },
  {
   "cell_type": "code",
   "execution_count": 27,
   "metadata": {
    "collapsed": false
   },
   "outputs": [
    {
     "name": "stdout",
     "output_type": "stream",
     "text": [
      "226\n"
     ]
    }
   ],
   "source": [
    "hex_byte = \"â\"\n",
    "print(ord(hex_byte))"
   ]
  },
  {
   "cell_type": "code",
   "execution_count": 28,
   "metadata": {
    "collapsed": false
   },
   "outputs": [
    {
     "name": "stdout",
     "output_type": "stream",
     "text": [
      "226\n"
     ]
    }
   ],
   "source": [
    "print(int(\"e2\", 16))"
   ]
  },
  {
   "cell_type": "code",
   "execution_count": 29,
   "metadata": {
    "collapsed": false
   },
   "outputs": [
    {
     "name": "stdout",
     "output_type": "stream",
     "text": [
      "0b11100010\n"
     ]
    }
   ],
   "source": [
    "print(bin(ord(\"â\")))"
   ]
  },
  {
   "cell_type": "code",
   "execution_count": 30,
   "metadata": {
    "collapsed": false
   },
   "outputs": [
    {
     "name": "stdout",
     "output_type": "stream",
     "text": [
      "0b10101010\n"
     ]
    }
   ],
   "source": [
    "binary_aa = (bin(ord(\"ª\")))\n",
    "print(binary_aa)"
   ]
  },
  {
   "cell_type": "code",
   "execution_count": 31,
   "metadata": {
    "collapsed": false
   },
   "outputs": [
    {
     "name": "stdout",
     "output_type": "stream",
     "text": [
      "0b10101010\n"
     ]
    }
   ],
   "source": [
    "binary_ab = (bin(ord(\"\\xab\")))\n",
    "print(binary_aa)"
   ]
  },
  {
   "cell_type": "markdown",
   "metadata": {},
   "source": [
    "# 10: Bytes And Strings"
   ]
  },
  {
   "cell_type": "markdown",
   "metadata": {},
   "source": [
    "# Instructions\n",
    "Make a bytes object containing \"Thor\", and assign it to thor_bytes.\n",
    "Hint\n",
    "Remember to put a b in front of the leading quote to make a bytes object."
   ]
  },
  {
   "cell_type": "code",
   "execution_count": 32,
   "metadata": {
    "collapsed": false
   },
   "outputs": [
    {
     "name": "stdout",
     "output_type": "stream",
     "text": [
      "TypeError with replacement\n"
     ]
    },
    {
     "data": {
      "text/plain": [
       "b'Bruce '"
      ]
     },
     "execution_count": 32,
     "metadata": {},
     "output_type": "execute_result"
    }
   ],
   "source": [
    "hulk_bytes = \"Bruce Banner␦\".encode(\"utf-8\")\n",
    "\n",
    "try:\n",
    "    hulk_bytes.replace(\"Banner\", \"\")\n",
    "except Exception:\n",
    "    print(\"TypeError with replacement\")\n",
    "    \n",
    "hulk_bytes = b\"Bruce Banner\"\n",
    "\n",
    "hulk_bytes.replace(b\"Banner\", b\"\")"
   ]
  },
  {
   "cell_type": "code",
   "execution_count": 33,
   "metadata": {
    "collapsed": false
   },
   "outputs": [
    {
     "name": "stdout",
     "output_type": "stream",
     "text": [
      "b'Thor'\n"
     ]
    }
   ],
   "source": [
    "thor_bytes = b\"Thor\"\n",
    "print(thor_bytes)"
   ]
  },
  {
   "cell_type": "markdown",
   "metadata": {},
   "source": [
    "# 11: Decode Bytes To Strings"
   ]
  },
  {
   "cell_type": "markdown",
   "metadata": {},
   "source": [
    "# Instructions\n",
    "Decode morgan_freeman_bytes using the 'UTF-8' encoding system, and assign the result to morgan_freeman.\n",
    "Hint\n",
    "Remember to use the .decode() method and pass in the \"utf-8\" argument."
   ]
  },
  {
   "cell_type": "code",
   "execution_count": 34,
   "metadata": {
    "collapsed": false
   },
   "outputs": [
    {
     "name": "stdout",
     "output_type": "stream",
     "text": [
      "Who knows?\n",
      "<class 'str'>\n"
     ]
    }
   ],
   "source": [
    "aquaman_bytes = b\"Who knows?\"\n",
    "\n",
    "aquaman = aquaman_bytes.decode(\"utf-8\")\n",
    "\n",
    "print(aquaman)\n",
    "print(type(aquaman))\n",
    "\n",
    "morgan_freeman_bytes = b\"Morgan Freeman\""
   ]
  },
  {
   "cell_type": "code",
   "execution_count": 35,
   "metadata": {
    "collapsed": false
   },
   "outputs": [
    {
     "name": "stdout",
     "output_type": "stream",
     "text": [
      "Morgan Freeman\n",
      "<class 'str'>\n"
     ]
    }
   ],
   "source": [
    "morgan_freeman = morgan_freeman_bytes.decode(\"utf-8\")\n",
    "print(morgan_freeman)\n",
    "print(type(morgan_freeman))"
   ]
  },
  {
   "cell_type": "markdown",
   "metadata": {},
   "source": [
    "# 12: Read In File Data"
   ]
  },
  {
   "cell_type": "markdown",
   "metadata": {},
   "source": [
    "# Instructions\n",
    "Assign the second column of the tenth row in sentences_cia to sentences_ten.\n",
    "Hint\n",
    "Remember that the index is one lower than the row number. To address the tenth row, you would use the index 9."
   ]
  },
  {
   "cell_type": "code",
   "execution_count": 36,
   "metadata": {
    "collapsed": false
   },
   "outputs": [
    {
     "name": "stdout",
     "output_type": "stream",
     "text": [
      "1997\n",
      "The FBI information included that al-Mairi's brother \"traveled to Afghanistan in 1997-1998 to train in Bin - Ladencamps.\"\n"
     ]
    }
   ],
   "source": [
    "import csv\n",
    "f = open(\"sentences_cia.csv\", 'r', encoding=\"utf-8\")\n",
    "csvreader = csv.reader(f)\n",
    "sentences_cia = list(csvreader)\n",
    "\n",
    "print(sentences_cia[1][0])\n",
    "print(sentences_cia[1][1])"
   ]
  },
  {
   "cell_type": "code",
   "execution_count": 37,
   "metadata": {
    "collapsed": true
   },
   "outputs": [],
   "source": [
    "sentences_ten = sentences_cia[9][1]"
   ]
  },
  {
   "cell_type": "markdown",
   "metadata": {},
   "source": [
    "# 13: Convert To A Dataframe"
   ]
  },
  {
   "cell_type": "code",
   "execution_count": 38,
   "metadata": {
    "collapsed": false
   },
   "outputs": [
    {
     "name": "stdout",
     "output_type": "stream",
     "text": [
      "0     last_name\n",
      "1    first_name\n",
      "2      birthday\n",
      "3        gender\n",
      "4          type\n",
      "5         state\n",
      "6         party\n",
      "Name: 0, dtype: object\n",
      "last_name                 Bassett\n",
      "first_name                Richard\n",
      "birthday               1745-04-02\n",
      "gender                          M\n",
      "type                          sen\n",
      "state                          DE\n",
      "party         Anti-Administration\n",
      "Name: 0, dtype: object\n"
     ]
    }
   ],
   "source": [
    "f = open(\"legislators.csv\", 'r', encoding=\"utf-8\")\n",
    "csvreader = csv.reader(f)\n",
    "legislators = list(csvreader)\n",
    "\n",
    "import pandas as pd\n",
    "\n",
    "legislators_df = pd.DataFrame(legislators)\n",
    "print(legislators_df.iloc[0,:])\n",
    "\n",
    "legislators_df = pd.DataFrame(legislators[1:], columns=legislators[0])\n",
    "print(legislators_df.iloc[0,:])"
   ]
  },
  {
   "cell_type": "code",
   "execution_count": 39,
   "metadata": {
    "collapsed": false
   },
   "outputs": [
    {
     "name": "stdout",
     "output_type": "stream",
     "text": [
      "0         year\n",
      "1    statement\n",
      "2             \n",
      "3             \n",
      "4             \n",
      "Name: 0, dtype: object\n"
     ]
    }
   ],
   "source": [
    "sentences_cia_df = pd.DataFrame(sentences_cia)\n",
    "print(sentences_cia_df.iloc[0,:])"
   ]
  },
  {
   "cell_type": "code",
   "execution_count": 40,
   "metadata": {
    "collapsed": false
   },
   "outputs": [
    {
     "name": "stdout",
     "output_type": "stream",
     "text": [
      "year                                                      1997\n",
      "statement    The FBI information included that al-Mairi's b...\n",
      "                                                              \n",
      "                                                              \n",
      "                                                              \n",
      "Name: 0, dtype: object\n"
     ]
    }
   ],
   "source": [
    "sentences_cia_df = pd.DataFrame(sentences_cia[1:], columns=sentences_cia[0])\n",
    "print(sentences_cia_df.iloc[0,:])"
   ]
  },
  {
   "cell_type": "markdown",
   "metadata": {},
   "source": [
    "# 14: Clean Up Sentences"
   ]
  },
  {
   "cell_type": "markdown",
   "metadata": {},
   "source": [
    "# Instructions\n",
    "Make a function that takes a dataframe row and then returns the clean version of the \"statement\" column.\n",
    "Use the .apply() method on dataframe to apply the function to each row of sentences_cia.\n",
    "Assign the resulting vector to the cleaned_statement column of sentences_cia.\n",
    "Hint\n",
    "Write a function that takes in the row as an argument. Get the \"statement\" value from the row.\n",
    "Create good_characters by setting the variable equal to the list of integers you see above.\n",
    "Then, do the cleaning, and return the resulting statement.\n",
    "Finally, use the .apply() method on sentences_cia and pass in the function. Set the axis to 1 (by row).\n",
    "Set the \"cleaned_statement\" column of sentences_cia equal to the result."
   ]
  },
  {
   "cell_type": "code",
   "execution_count": 41,
   "metadata": {
    "collapsed": false
   },
   "outputs": [
    {
     "name": "stdout",
     "output_type": "stream",
     "text": [
      "[48, 49, 50, 51, 52, 53, 54, 55, 56, 65, 66, 67, 68, 69, 70, 71, 72, 73, 74, 75, 76, 77, 78, 79, 80, 81, 82, 83, 84, 85, 86, 87, 88, 89, 90, 97, 98, 99, 100, 101, 102, 103, 104, 105, 106, 107, 108, 109, 110, 111, 112, 113, 114, 115, 116, 117, 118, 119, 120, 121, 122, 32]\n"
     ]
    }
   ],
   "source": [
    "good_characters = [48, 49, 50, 51, 52, 53, 54, 55, 56, 65, 66,\n",
    "                   67, 68, 69, 70, 71, 72, 73, 74, 75, 76, 77, 78, 79, 80, 81, 82,\n",
    "                   83, 84, 85, 86, 87, 88, 89, 90, 97, 98, 99, 100, 101, 102, 103,\n",
    "                   104, 105, 106, 107, 108, 109, 110, 111, 112, 113, 114, 115, 116,\n",
    "                   117, 118, 119, 120, 121, 122, 32]\n",
    "print(good_characters)"
   ]
  },
  {
   "cell_type": "code",
   "execution_count": 42,
   "metadata": {
    "collapsed": false
   },
   "outputs": [
    {
     "ename": "TypeError",
     "evalue": "list indices must be integers or slices, not str",
     "output_type": "error",
     "traceback": [
      "\u001b[0;31m---------------------------------------------------------------------------\u001b[0m",
      "\u001b[0;31mTypeError\u001b[0m                                 Traceback (most recent call last)",
      "\u001b[0;32m<ipython-input-42-5084cb1dc708>\u001b[0m in \u001b[0;36m<module>\u001b[0;34m()\u001b[0m\n\u001b[0;32m----> 1\u001b[0;31m \u001b[0msentence_15\u001b[0m \u001b[0;34m=\u001b[0m \u001b[0msentences_cia\u001b[0m\u001b[0;34m[\u001b[0m\u001b[0;34m\"statement\"\u001b[0m\u001b[0;34m]\u001b[0m\u001b[0;34m[\u001b[0m\u001b[0;36m14\u001b[0m\u001b[0;34m]\u001b[0m\u001b[0;34m\u001b[0m\u001b[0m\n\u001b[0m\u001b[1;32m      2\u001b[0m \u001b[0;34m\u001b[0m\u001b[0m\n\u001b[1;32m      3\u001b[0m \u001b[0mcleaned_sentence_15_list\u001b[0m \u001b[0;34m=\u001b[0m \u001b[0;34m[\u001b[0m\u001b[0ms\u001b[0m \u001b[0;32mfor\u001b[0m \u001b[0ms\u001b[0m \u001b[0;32min\u001b[0m \u001b[0msentence_15\u001b[0m \u001b[0;32mif\u001b[0m \u001b[0mord\u001b[0m\u001b[0;34m(\u001b[0m\u001b[0ms\u001b[0m\u001b[0;34m)\u001b[0m \u001b[0;32min\u001b[0m \u001b[0mgood_characters\u001b[0m\u001b[0;34m]\u001b[0m\u001b[0;34m\u001b[0m\u001b[0m\n\u001b[1;32m      4\u001b[0m \u001b[0;34m\u001b[0m\u001b[0m\n\u001b[1;32m      5\u001b[0m \u001b[0mcleaned_sentence_15\u001b[0m \u001b[0;34m=\u001b[0m \u001b[0;34m\"\"\u001b[0m\u001b[0;34m.\u001b[0m\u001b[0mjoin\u001b[0m\u001b[0;34m(\u001b[0m\u001b[0mcleaned_sentence_15_list\u001b[0m\u001b[0;34m)\u001b[0m\u001b[0;34m\u001b[0m\u001b[0m\n",
      "\u001b[0;31mTypeError\u001b[0m: list indices must be integers or slices, not str"
     ]
    }
   ],
   "source": [
    "sentence_15 = sentences_cia[\"statement\"][14]\n",
    "\n",
    "cleaned_sentence_15_list = [s for s in sentence_15 if ord(s) in good_characters]\n",
    "\n",
    "cleaned_sentence_15 = \"\".join(cleaned_sentence_15_list)\n",
    "\n",
    "def clean_statement(row):\n",
    "    good_characters = [48, 49, 50, 51, 52, 53, 54, 55, 56, 65, 66,\n",
    "                   67, 68, 69, 70, 71, 72, 73, 74, 75, 76, 77, 78, 79, 80, 81, 82,\n",
    "                   83, 84, 85, 86, 87, 88, 89, 90, 97, 98, 99, 100, 101, 102, 103,\n",
    "                   104, 105, 106, 107, 108, 109, 110, 111, 112, 113, 114, 115, 116,\n",
    "                   117, 118, 119, 120, 121, 122, 32]\n",
    "    \n",
    "    statement = row[\"statement\"]\n",
    "    clean_statement_list = [s for s in statement if ord(s) in good_characters]\n",
    "    return \"\".join(clean_statement_list)\n",
    "\n",
    "sentences_cia[\"cleaned_statement\"] = sentences_cia.apply(clean_statement, axis=1)    "
   ]
  },
  {
   "cell_type": "markdown",
   "metadata": {},
   "source": [
    "# 15: Tokenize Statements"
   ]
  },
  {
   "cell_type": "markdown",
   "metadata": {},
   "source": [
    "# Instructions\n",
    "Tokenize combined_statements by splitting it into words on the spaces.\n",
    "You should end up with a list of all the words in combined_statements.\n",
    "Assign the result to statement_tokens.\n",
    "Hint\n",
    "You can split a string into a list using the .split() method. The character(s) you pass into the method determine what Python will split the string on."
   ]
  },
  {
   "cell_type": "code",
   "execution_count": null,
   "metadata": {
    "collapsed": false
   },
   "outputs": [],
   "source": [
    "combined_statements = \"\".join(sentences_cia[\"cleaned_statement\"])\n",
    "statement_tokens = combined_statements.split(\" \")"
   ]
  },
  {
   "cell_type": "markdown",
   "metadata": {},
   "source": [
    "# 16: Filter The Tokens"
   ]
  },
  {
   "cell_type": "markdown",
   "metadata": {},
   "source": [
    "# Instructions\n",
    "Filter the statement_tokens list so that it only contains tokens that are at least five characters long.\n",
    "Assign the result to filtered_tokens.\n",
    "Hint\n",
    "Iterate through the tokens in statement_tokens and check the length of each one. If it's greater than four, keep the token. Otherwise, don't select it."
   ]
  },
  {
   "cell_type": "code",
   "execution_count": null,
   "metadata": {
    "collapsed": true
   },
   "outputs": [],
   "source": [
    "statement_tokens = sentences_cia\n",
    "filtered_tokens = [s for s in statement_tokens if len(s) > 4]\n",
    "print(filtered_tokens)"
   ]
  },
  {
   "cell_type": "markdown",
   "metadata": {},
   "source": [
    "# 17: Count The Tokens"
   ]
  },
  {
   "cell_type": "markdown",
   "metadata": {},
   "source": [
    "# Instructions\n",
    "Count the items in filtered_tokens and assign the result to filtered_token_counts.\n",
    "Hint\n",
    "Use the Counter class the same way the example above does, but pass in filtered_tokens."
   ]
  },
  {
   "cell_type": "markdown",
   "metadata": {},
   "source": [
    "# Instructions\n",
    "Count the items in filtered_tokens and assign the result to filtered_token_counts.\n",
    "Hint\n",
    "Use the Counter class the same way the example above does, but pass in filtered_tokens."
   ]
  },
  {
   "cell_type": "code",
   "execution_count": 43,
   "metadata": {
    "collapsed": false
   },
   "outputs": [
    {
     "name": "stdout",
     "output_type": "stream",
     "text": [
      "Counter({'apple': 3, 'orange': 2, 'pear': 1, 'banana': 1, 'grape': 1})\n"
     ]
    }
   ],
   "source": [
    "from collections import Counter\n",
    "fruits = [\"apple\", \"apple\", \"banana\", \"orange\", \"pear\", \"orange\", \"apple\", \"grape\"]\n",
    "fruit_count = Counter(fruits)\n",
    "print(fruit_count)"
   ]
  },
  {
   "cell_type": "code",
   "execution_count": 44,
   "metadata": {
    "collapsed": false
   },
   "outputs": [
    {
     "ename": "NameError",
     "evalue": "name 'filtered_tokens' is not defined",
     "output_type": "error",
     "traceback": [
      "\u001b[0;31m---------------------------------------------------------------------------\u001b[0m",
      "\u001b[0;31mNameError\u001b[0m                                 Traceback (most recent call last)",
      "\u001b[0;32m<ipython-input-44-1c069ec84cd4>\u001b[0m in \u001b[0;36m<module>\u001b[0;34m()\u001b[0m\n\u001b[0;32m----> 1\u001b[0;31m \u001b[0mfiltered_token_counts\u001b[0m \u001b[0;34m=\u001b[0m \u001b[0mCounter\u001b[0m\u001b[0;34m(\u001b[0m\u001b[0mfiltered_tokens\u001b[0m\u001b[0;34m)\u001b[0m\u001b[0;34m\u001b[0m\u001b[0m\n\u001b[0m\u001b[1;32m      2\u001b[0m \u001b[0mprint\u001b[0m\u001b[0;34m(\u001b[0m\u001b[0mfiltered_token_counts\u001b[0m\u001b[0;34m)\u001b[0m\u001b[0;34m\u001b[0m\u001b[0m\n",
      "\u001b[0;31mNameError\u001b[0m: name 'filtered_tokens' is not defined"
     ]
    }
   ],
   "source": [
    "filtered_token_counts = Counter(filtered_tokens)\n",
    "print(filtered_token_counts)"
   ]
  },
  {
   "cell_type": "markdown",
   "metadata": {},
   "source": [
    "# 18: Most Common Tokens"
   ]
  },
  {
   "cell_type": "markdown",
   "metadata": {},
   "source": [
    "# Instructions\n",
    "Get the three most common items in filtered_token_counts, and assign the result to common_tokens.\n",
    "Hint\n",
    "Use the most_common() method on filtered_token_counts, with 3 as input."
   ]
  },
  {
   "cell_type": "code",
   "execution_count": 45,
   "metadata": {
    "collapsed": false
   },
   "outputs": [
    {
     "name": "stdout",
     "output_type": "stream",
     "text": [
      "[('apple', 3), ('orange', 2)]\n"
     ]
    }
   ],
   "source": [
    "print(fruit_count.most_common(2))"
   ]
  },
  {
   "cell_type": "code",
   "execution_count": 46,
   "metadata": {
    "collapsed": false
   },
   "outputs": [
    {
     "name": "stdout",
     "output_type": "stream",
     "text": [
      "[('apple', 3), ('orange', 2), ('pear', 1)]\n"
     ]
    }
   ],
   "source": [
    "print(fruit_count.most_common(3))"
   ]
  },
  {
   "cell_type": "code",
   "execution_count": 47,
   "metadata": {
    "collapsed": false
   },
   "outputs": [
    {
     "ename": "NameError",
     "evalue": "name 'filtered_token_counts' is not defined",
     "output_type": "error",
     "traceback": [
      "\u001b[0;31m---------------------------------------------------------------------------\u001b[0m",
      "\u001b[0;31mNameError\u001b[0m                                 Traceback (most recent call last)",
      "\u001b[0;32m<ipython-input-47-2fd719dc61c6>\u001b[0m in \u001b[0;36m<module>\u001b[0;34m()\u001b[0m\n\u001b[0;32m----> 1\u001b[0;31m \u001b[0mcommon_tokens\u001b[0m \u001b[0;34m=\u001b[0m \u001b[0mfiltered_token_counts\u001b[0m\u001b[0;34m.\u001b[0m\u001b[0mmost_common\u001b[0m\u001b[0;34m(\u001b[0m\u001b[0;36m3\u001b[0m\u001b[0;34m)\u001b[0m\u001b[0;34m\u001b[0m\u001b[0m\n\u001b[0m",
      "\u001b[0;31mNameError\u001b[0m: name 'filtered_token_counts' is not defined"
     ]
    }
   ],
   "source": [
    "common_tokens = filtered_token_counts.most_common(3)"
   ]
  },
  {
   "cell_type": "markdown",
   "metadata": {},
   "source": [
    "# 19: Finding The Most Common Tokens By Year"
   ]
  },
  {
   "cell_type": "markdown",
   "metadata": {},
   "source": [
    "# Instructions\n",
    "Write a function that finds the two most common terms in sentences_cia for a given year (the \"year\" column).\n",
    "The \"year\" column in sentences_cia stores strings, so you'll need to pass strings into the function.\n",
    "Select the rows in sentences_cia that match that year, combine the clean statements, split them into a list on the space character (\" \"), filter out words less than five characters long, make a counter object with the results, and find the two most common items in the counter.\n",
    "Use the function to find the most common terms for \"2000\". Assign the result to common_2000.\n",
    "Use the function to find the most common terms for \"2002\". Assign the result to common_2002.\n",
    "Use the function to find the most common terms for \"2013\". Assign the result to common_2013.\n",
    "Hint\n",
    "Create a function that takes a year (as a string) and sentences_cia as input.\n",
    "The function should subset sentences_cia, combine the values in the \"cleaned_statement\" column, split them on spaces, and then create a Counter.\n",
    "Return the result of the most_common method on the Counter, with 2 as input."
   ]
  },
  {
   "cell_type": "code",
   "execution_count": 49,
   "metadata": {
    "collapsed": false
   },
   "outputs": [
    {
     "ename": "TypeError",
     "evalue": "list indices must be integers or slices, not str",
     "output_type": "error",
     "traceback": [
      "\u001b[0;31m---------------------------------------------------------------------------\u001b[0m",
      "\u001b[0;31mTypeError\u001b[0m                                 Traceback (most recent call last)",
      "\u001b[0;32m<ipython-input-49-958b777193a0>\u001b[0m in \u001b[0;36m<module>\u001b[0;34m()\u001b[0m\n\u001b[1;32m      6\u001b[0m     \u001b[0;32mreturn\u001b[0m \u001b[0mcounter\u001b[0m\u001b[0;34m.\u001b[0m\u001b[0mmost_common\u001b[0m\u001b[0;34m(\u001b[0m\u001b[0;36m2\u001b[0m\u001b[0;34m)\u001b[0m\u001b[0;34m\u001b[0m\u001b[0m\n\u001b[1;32m      7\u001b[0m \u001b[0;34m\u001b[0m\u001b[0m\n\u001b[0;32m----> 8\u001b[0;31m \u001b[0mcommon_2000\u001b[0m \u001b[0;34m=\u001b[0m \u001b[0mfind_most_common_by_year\u001b[0m\u001b[0;34m(\u001b[0m\u001b[0;34m\"2000\"\u001b[0m\u001b[0;34m,\u001b[0m \u001b[0msentences_cia\u001b[0m\u001b[0;34m)\u001b[0m\u001b[0;34m\u001b[0m\u001b[0m\n\u001b[0m\u001b[1;32m      9\u001b[0m \u001b[0mcommon_2002\u001b[0m \u001b[0;34m=\u001b[0m \u001b[0mfind_most_common_by_year\u001b[0m\u001b[0;34m(\u001b[0m\u001b[0;34m\"2002\"\u001b[0m\u001b[0;34m,\u001b[0m \u001b[0msentences_cia\u001b[0m\u001b[0;34m)\u001b[0m\u001b[0;34m\u001b[0m\u001b[0m\n\u001b[1;32m     10\u001b[0m \u001b[0mcommon_2013\u001b[0m \u001b[0;34m=\u001b[0m \u001b[0mfind_most_common_by_year\u001b[0m\u001b[0;34m(\u001b[0m\u001b[0;34m\"2013\"\u001b[0m\u001b[0;34m,\u001b[0m \u001b[0msentences_cia\u001b[0m\u001b[0;34m)\u001b[0m\u001b[0;34m\u001b[0m\u001b[0m\n",
      "\u001b[0;32m<ipython-input-49-958b777193a0>\u001b[0m in \u001b[0;36mfind_most_common_by_year\u001b[0;34m(year, sentences_cia)\u001b[0m\n\u001b[1;32m      1\u001b[0m \u001b[0;32mdef\u001b[0m \u001b[0mfind_most_common_by_year\u001b[0m\u001b[0;34m(\u001b[0m\u001b[0myear\u001b[0m\u001b[0;34m,\u001b[0m \u001b[0msentences_cia\u001b[0m\u001b[0;34m)\u001b[0m\u001b[0;34m:\u001b[0m\u001b[0;34m\u001b[0m\u001b[0m\n\u001b[0;32m----> 2\u001b[0;31m     \u001b[0mdata\u001b[0m \u001b[0;34m=\u001b[0m \u001b[0msentences_cia\u001b[0m\u001b[0;34m[\u001b[0m\u001b[0msentences_cia\u001b[0m\u001b[0;34m[\u001b[0m\u001b[0;34m\"year\"\u001b[0m\u001b[0;34m]\u001b[0m \u001b[0;34m==\u001b[0m \u001b[0myear\u001b[0m\u001b[0;34m]\u001b[0m\u001b[0;34m\u001b[0m\u001b[0m\n\u001b[0m\u001b[1;32m      3\u001b[0m     \u001b[0mcombined_statement\u001b[0m \u001b[0;34m=\u001b[0m \u001b[0;34m\"\"\u001b[0m\u001b[0;34m.\u001b[0m\u001b[0mjoin\u001b[0m\u001b[0;34m(\u001b[0m\u001b[0mdata\u001b[0m\u001b[0;34m[\u001b[0m\u001b[0;34m\"cleaned_statement\"\u001b[0m\u001b[0;34m]\u001b[0m\u001b[0;34m)\u001b[0m\u001b[0;34m\u001b[0m\u001b[0m\n\u001b[1;32m      4\u001b[0m     \u001b[0mstatement_split\u001b[0m \u001b[0;34m=\u001b[0m \u001b[0mcombined_statement\u001b[0m\u001b[0;34m.\u001b[0m\u001b[0msplit\u001b[0m\u001b[0;34m(\u001b[0m\u001b[0;34m\" \"\u001b[0m\u001b[0;34m)\u001b[0m\u001b[0;34m\u001b[0m\u001b[0m\n\u001b[1;32m      5\u001b[0m     \u001b[0mcounter\u001b[0m \u001b[0;34m=\u001b[0m \u001b[0mCounter\u001b[0m\u001b[0;34m(\u001b[0m\u001b[0;34m[\u001b[0m\u001b[0ms\u001b[0m \u001b[0;32mfor\u001b[0m \u001b[0ms\u001b[0m \u001b[0;32min\u001b[0m \u001b[0mstatement_split\u001b[0m \u001b[0;32mif\u001b[0m \u001b[0mlen\u001b[0m\u001b[0;34m(\u001b[0m\u001b[0ms\u001b[0m\u001b[0;34m)\u001b[0m \u001b[0;34m>\u001b[0m \u001b[0;36m4\u001b[0m\u001b[0;34m]\u001b[0m\u001b[0;34m)\u001b[0m\u001b[0;34m\u001b[0m\u001b[0m\n",
      "\u001b[0;31mTypeError\u001b[0m: list indices must be integers or slices, not str"
     ]
    }
   ],
   "source": [
    "def find_most_common_by_year(year, sentences_cia):\n",
    "    data = sentences_cia[sentences_cia[\"year\"] == year]\n",
    "    combined_statement = \"\".join(data[\"cleaned_statement\"])\n",
    "    statement_split = combined_statement.split(\" \")\n",
    "    counter = Counter([s for s in statement_split if len(s) > 4])\n",
    "    return counter.most_common(2)\n",
    "\n",
    "common_2000 = find_most_common_by_year(\"2000\", sentences_cia)\n",
    "common_2002 = find_most_common_by_year(\"2002\", sentences_cia)\n",
    "common_2013 = find_most_common_by_year(\"2013\", sentences_cia)"
   ]
  }
 ],
 "metadata": {
  "kernelspec": {
   "display_name": "Python 3",
   "language": "python",
   "name": "python3"
  },
  "language_info": {
   "codemirror_mode": {
    "name": "ipython",
    "version": 3
   },
   "file_extension": ".py",
   "mimetype": "text/x-python",
   "name": "python",
   "nbconvert_exporter": "python",
   "pygments_lexer": "ipython3",
   "version": "3.5.1"
  }
 },
 "nbformat": 4,
 "nbformat_minor": 0
}
