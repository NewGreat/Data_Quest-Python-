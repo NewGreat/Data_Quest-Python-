{
 "cells": [
  {
   "cell_type": "markdown",
   "metadata": {},
   "source": [
    "# 1: Booleans"
   ]
  },
  {
   "cell_type": "markdown",
   "metadata": {},
   "source": [
    "# Instructions\n",
    "Assign the value True to the variable cat, and the value False to the variable dog.\n",
    "Then, use the print() function and the type() function to display the type for cat.\n",
    "Hint\n",
    "print(type(cat)) displays the type for cat"
   ]
  },
  {
   "cell_type": "code",
   "execution_count": 3,
   "metadata": {},
   "outputs": [
    {
     "name": "stdout",
     "output_type": "stream",
     "text": [
      "<class 'bool'>\n"
     ]
    }
   ],
   "source": [
    "cat = True\n",
    "print(type(cat))"
   ]
  },
  {
   "cell_type": "code",
   "execution_count": 4,
   "metadata": {},
   "outputs": [
    {
     "name": "stdout",
     "output_type": "stream",
     "text": [
      "<class 'bool'>\n"
     ]
    }
   ],
   "source": [
    "dog = False\n",
    "print(type(dog))"
   ]
  },
  {
   "cell_type": "markdown",
   "metadata": {},
   "source": [
    "# 2: Boolean Operators"
   ]
  },
  {
   "cell_type": "markdown",
   "metadata": {},
   "source": [
    "# Instructions\n",
    "Use the Boolean operators to determine if the following pairs of values are equivalent:\n",
    "The first element in cities and the string \"Albuquerque\". Assign the resulting Boolean value to first_alb.\n",
    "The second element in cities and the string \"Albuquerque\". Assign the resulting Boolean value to second_alb.\n",
    "The first element in cities and the last element in cities. Assign the resulting Boolean value to first_last.\n",
    "Hint\n",
    "Retrieve the first element of the list using index value 0 (not index value 1). Recall that you need to subtract one from the length of the list to retrieve its last element (len(cities) - 1).\n",
    "\n"
   ]
  },
  {
   "cell_type": "code",
   "execution_count": 5,
   "metadata": {},
   "outputs": [
    {
     "name": "stdout",
     "output_type": "stream",
     "text": [
      "['Albuquerque,749', 'Anaheim,371', 'Anchorage,828', 'Arlington,503', 'Atlanta,1379']\n"
     ]
    }
   ],
   "source": [
    "f = open('crime_rates.csv', 'r')\n",
    "data = f.read()\n",
    "rows = data.split('\\n')\n",
    "print(rows[0:5])"
   ]
  },
  {
   "cell_type": "code",
   "execution_count": 18,
   "metadata": {},
   "outputs": [
    {
     "name": "stdout",
     "output_type": "stream",
     "text": [
      "['Albuquerque', 'Anaheim', 'Anchorage', 'Arlington', 'Atlanta']\n"
     ]
    }
   ],
   "source": [
    "final_list = []\n",
    "\n",
    "for row in rows:\n",
    "    split_list = row.split(\",\")\n",
    "    converted_row = split_list[0]\n",
    "    final_list.append(converted_row)\n",
    "    \n",
    "print(final_list[0:5])"
   ]
  },
  {
   "cell_type": "code",
   "execution_count": 16,
   "metadata": {},
   "outputs": [
    {
     "name": "stdout",
     "output_type": "stream",
     "text": [
      "['Albuquerque', 'Anaheim', 'Anchorage', 'Arlington', 'Atlanta']\n"
     ]
    }
   ],
   "source": [
    "cities = final_list\n",
    "print(cites[0:5])"
   ]
  },
  {
   "cell_type": "code",
   "execution_count": 20,
   "metadata": {},
   "outputs": [
    {
     "name": "stdout",
     "output_type": "stream",
     "text": [
      "True\n"
     ]
    }
   ],
   "source": [
    "first_alb = (cities[0] == \"Albuquerque\")\n",
    "print(first_alb)"
   ]
  },
  {
   "cell_type": "code",
   "execution_count": 21,
   "metadata": {},
   "outputs": [
    {
     "name": "stdout",
     "output_type": "stream",
     "text": [
      "False\n"
     ]
    }
   ],
   "source": [
    "second_alb = (cities[1] == \"Albuquerque\")\n",
    "print(second_alb)"
   ]
  },
  {
   "cell_type": "code",
   "execution_count": 22,
   "metadata": {},
   "outputs": [
    {
     "name": "stdout",
     "output_type": "stream",
     "text": [
      "False\n"
     ]
    }
   ],
   "source": [
    "first_last = (cities[0] == cities[-1])\n",
    "print(first_last)"
   ]
  },
  {
   "cell_type": "code",
   "execution_count": 26,
   "metadata": {},
   "outputs": [
    {
     "name": "stdout",
     "output_type": "stream",
     "text": [
      "72\n"
     ]
    }
   ],
   "source": [
    "last_index = len(cities) - 1\n",
    "print(last_index)"
   ]
  },
  {
   "cell_type": "code",
   "execution_count": 28,
   "metadata": {},
   "outputs": [
    {
     "name": "stdout",
     "output_type": "stream",
     "text": [
      "False\n"
     ]
    }
   ],
   "source": [
    "first_last = (cities[0] == cities[last_index])\n",
    "print(first_last)"
   ]
  },
  {
   "cell_type": "markdown",
   "metadata": {},
   "source": [
    "# 3: Booleans With \"Greater Than\""
   ]
  },
  {
   "cell_type": "markdown",
   "metadata": {},
   "source": [
    "# Instructions\n",
    "The variable crime_rates is a list of integers containing the crime rates from the dataset. Perform the following comparisons:\n",
    "Evaluate whether the first element in crime_rates is larger than the integer 500, and assign the Boolean result to first_500.\n",
    "Evaluate whether the first element in crime_rates is larger than or equal to 749, and assign the Boolean result to first_749.\n",
    "Evaluate whether the first element in crime_rates is greater than or equal to the last element in crime_rates, and assign the Boolean result to first_last.\n",
    "Hint\n",
    "Retrieve the first element in the list using index value 0 (not index value 1). Recall that you need to subtract one from the length of the list to retrieve its last element (len(cities) - 1).\n",
    "\n"
   ]
  },
  {
   "cell_type": "code",
   "execution_count": 35,
   "metadata": {},
   "outputs": [
    {
     "name": "stdout",
     "output_type": "stream",
     "text": [
      "['Albuquerque,749', 'Anaheim,371', 'Anchorage,828', 'Arlington,503', 'Atlanta,1379']\n"
     ]
    }
   ],
   "source": [
    "f = open('crime_rates.csv', 'r', encoding='utf-8')\n",
    "data = f.read()\n",
    "split_data = data.split(\"\\n\")\n",
    "print(split_data[0:5])"
   ]
  },
  {
   "cell_type": "code",
   "execution_count": 38,
   "metadata": {},
   "outputs": [
    {
     "name": "stdout",
     "output_type": "stream",
     "text": [
      "[749, 371, 828, 503, 1379]\n"
     ]
    }
   ],
   "source": [
    "int_crime_rates = []\n",
    "\n",
    "for row in split_data:\n",
    "    split_list = row.split(\",\")\n",
    "    converted_list = int(split_list[1])\n",
    "    int_crime_rates.append(converted_list)\n",
    "    \n",
    "print(int_crime_rates[0:5])"
   ]
  },
  {
   "cell_type": "code",
   "execution_count": 40,
   "metadata": {},
   "outputs": [],
   "source": [
    "crime_rates = int_crime_rates"
   ]
  },
  {
   "cell_type": "code",
   "execution_count": 42,
   "metadata": {},
   "outputs": [
    {
     "name": "stdout",
     "output_type": "stream",
     "text": [
      "True\n"
     ]
    }
   ],
   "source": [
    "first_500 = (crime_rates[0] > 500)\n",
    "print(first_500)"
   ]
  },
  {
   "cell_type": "code",
   "execution_count": 43,
   "metadata": {},
   "outputs": [
    {
     "name": "stdout",
     "output_type": "stream",
     "text": [
      "True\n"
     ]
    }
   ],
   "source": [
    "first_749 = (crime_rates[0] >= 749)\n",
    "print(first_749)"
   ]
  },
  {
   "cell_type": "code",
   "execution_count": 45,
   "metadata": {},
   "outputs": [
    {
     "name": "stdout",
     "output_type": "stream",
     "text": [
      "True\n"
     ]
    }
   ],
   "source": [
    "first_last = (crime_rates[0] >= crime_rates[-1])\n",
    "print(first_last)"
   ]
  },
  {
   "cell_type": "code",
   "execution_count": 48,
   "metadata": {},
   "outputs": [
    {
     "name": "stdout",
     "output_type": "stream",
     "text": [
      "True\n"
     ]
    }
   ],
   "source": [
    "last_element = len(crime_rates) - 1\n",
    "first_last = (crime_rates[0] >= crime_rates[last_element])\n",
    "print(first_last)"
   ]
  },
  {
   "cell_type": "markdown",
   "metadata": {},
   "source": [
    "# 4: Booleans With \"Less Than\""
   ]
  },
  {
   "cell_type": "markdown",
   "metadata": {},
   "source": [
    "# Instructions\n",
    "The variable crime_rates is a list containing the crime rates from the dataset as integers. Perform the following comparisons:\n",
    "Determine whether the second element in crime_rates is smaller than the integer 500, and assign the Boolean result to second_500.\n",
    "Determine whether the second element in crime_rates is smaller than or equal to 371, and assign the Boolean result to second_371.\n",
    "Determine whether the second element in crime_rates is smaller than or equal to the last element in crime_rates, and assign the Boolean result to second_last.\n",
    "Hint\n",
    "Use index 0 to access the first element in a list (not index 1). Recall that you need to subtract one from the length of the list to retrieve its last element."
   ]
  },
  {
   "cell_type": "code",
   "execution_count": 49,
   "metadata": {},
   "outputs": [
    {
     "name": "stdout",
     "output_type": "stream",
     "text": [
      "True\n"
     ]
    }
   ],
   "source": [
    "second_500 = (crime_rates[1] < 500)\n",
    "print(second_500)"
   ]
  },
  {
   "cell_type": "code",
   "execution_count": 50,
   "metadata": {},
   "outputs": [
    {
     "name": "stdout",
     "output_type": "stream",
     "text": [
      "True\n"
     ]
    }
   ],
   "source": [
    "second_371 = (crime_rates[1] <= 371)\n",
    "print(second_371)"
   ]
  },
  {
   "cell_type": "code",
   "execution_count": 54,
   "metadata": {},
   "outputs": [
    {
     "name": "stdout",
     "output_type": "stream",
     "text": [
      "True\n"
     ]
    }
   ],
   "source": [
    "last_element = len(crime_rates) - 1\n",
    "second_last = (crime_rates[1] <= crime_rates[last_element])\n",
    "print(second_last)"
   ]
  },
  {
   "cell_type": "markdown",
   "metadata": {},
   "source": [
    "# 5: If Statements"
   ]
  },
  {
   "cell_type": "markdown",
   "metadata": {},
   "source": [
    "# Instructions\n",
    "Determine whether the third element in cities is equivalent to the string \"Anchorage\".\n",
    "If it is, change the variable result to 1.\n",
    "Hint\n",
    "Use cities[2] == \"Anchorage\" as the conditional logic for the if statement.\n"
   ]
  },
  {
   "cell_type": "code",
   "execution_count": 65,
   "metadata": {},
   "outputs": [],
   "source": [
    "result = 0\n",
    "if cities[2] == \"Anchorage\":\n",
    "    result = 1"
   ]
  },
  {
   "cell_type": "markdown",
   "metadata": {},
   "source": [
    "# 6: Nesting If Statements"
   ]
  },
  {
   "cell_type": "markdown",
   "metadata": {},
   "source": [
    "# Instructions\n",
    "Write a piece of code that nests the following concepts in the order in which they appear:\n",
    "An if statement that tests whether the first element in crime_rates is larger than 500\n",
    "A second if statement that tests whether the second element in crime_rates is larger than 300\n",
    "If both statements evaluate to True, assign the value True to the variable both_conditions\n",
    "Hint\n",
    "Indent the first if statement by four spaces and the second if statement by eight spaces.\n",
    "\n",
    "\n"
   ]
  },
  {
   "cell_type": "code",
   "execution_count": 86,
   "metadata": {},
   "outputs": [],
   "source": [
    "both_conditions = False\n",
    "if crime_rates[0] > 500:\n",
    "    if crime_rates[1] > 300:\n",
    "        both_conditions = True"
   ]
  },
  {
   "cell_type": "markdown",
   "metadata": {},
   "source": [
    "# 7: If Statements And For Loops"
   ]
  },
  {
   "cell_type": "markdown",
   "metadata": {},
   "source": [
    "# Instructions\n",
    "Create a new list, five_hundred_list, that contains only the elements from crime_rates that are greater than 500. To accomplish this, you'll need a for loop and an if statement:\n",
    "The for loop specifies which list we want to iterate over and the name of the iterator variable (we use cr in our answer).\n",
    "The if statement determines whether the current element (cr) is larger than 500.\n",
    "If the current element (cr) is larger than 500, use the append() method to add it to five_hundred_list.\n",
    "Hint\n",
    "Indent the if statement by four spaces and the if statement body by eight spaces.\n",
    "\n"
   ]
  },
  {
   "cell_type": "code",
   "execution_count": 92,
   "metadata": {},
   "outputs": [
    {
     "name": "stdout",
     "output_type": "stream",
     "text": [
      "[749, 828, 503, 1379, 542, 1405, 835, 1288, 647, 974]\n"
     ]
    }
   ],
   "source": [
    "five_hundred_list = []\n",
    "\n",
    "for cr in crime_rates:\n",
    "    if cr > 500:\n",
    "        five_hundred_list.append(cr)\n",
    "print(five_hundred_list[0:10])"
   ]
  },
  {
   "cell_type": "markdown",
   "metadata": {},
   "source": [
    "# 8: Find The Highest Crime Rate"
   ]
  },
  {
   "cell_type": "code",
   "execution_count": 108,
   "metadata": {},
   "outputs": [
    {
     "name": "stdout",
     "output_type": "stream",
     "text": [
      "2122\n"
     ]
    }
   ],
   "source": [
    "highest = crime_rates[0]\n",
    "\n",
    "for cr in crime_rates:\n",
    "    if cr > highest:\n",
    "        highest = cr\n",
    "print(highest)"
   ]
  }
 ],
 "metadata": {
  "kernelspec": {
   "display_name": "Python 3",
   "language": "python",
   "name": "python3"
  },
  "language_info": {
   "codemirror_mode": {
    "name": "ipython",
    "version": 3
   },
   "file_extension": ".py",
   "mimetype": "text/x-python",
   "name": "python",
   "nbconvert_exporter": "python",
   "pygments_lexer": "ipython3",
   "version": "3.6.1"
  }
 },
 "nbformat": 4,
 "nbformat_minor": 2
}
