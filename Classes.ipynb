{
 "cells": [
  {
   "cell_type": "markdown",
   "metadata": {},
   "source": [
    "# 1: Defining The Dataset Class"
   ]
  },
  {
   "cell_type": "markdown",
   "metadata": {},
   "source": [
    "## Instructions\n",
    "Create a class called Dataset.\n",
    "Inside the class, create a type attribute. Assign the value \"csv\" to it.\n",
    "Create an instance of the Dataset class, and assign it to the variable dataset.\n",
    "Print the type attribute of the dataset instance.\n",
    "Hint\n",
    "Mirror the syntax from the examples we explored on this screen.\n",
    "\n"
   ]
  },
  {
   "cell_type": "code",
   "execution_count": 3,
   "metadata": {},
   "outputs": [
    {
     "name": "stdout",
     "output_type": "stream",
     "text": [
      "csv\n"
     ]
    }
   ],
   "source": [
    "class Dataset:\n",
    "    def __init__(self):\n",
    "        self.type = \"csv\"\n",
    "data_set = Dataset()\n",
    "        \n",
    "print(data_set.type)"
   ]
  },
  {
   "cell_type": "markdown",
   "metadata": {},
   "source": [
    "# 2: Passing Additional Arguments To The Initializer"
   ]
  },
  {
   "cell_type": "markdown",
   "metadata": {},
   "source": [
    "# Instructions\n",
    "Add a data parameter to the __init__() method, and set the value to the self.data attribute.\n",
    "Read the data from nfl.csv and set it to the variable nfl_data.\n",
    "Make an instance of the class, passing in nfl_data to the __init__() method (when you call Dataset(...)).\n",
    "Assign the result to the variable nfl_dataset.\n",
    "Use the data attribute to access the underlying data for nfl_dataset and assign the result to the variable dataset_data.\n",
    "Hint\n",
    "Use def __init__(self, data): within the class definition to define the __init__ method using a data parameter.\n",
    "To create an instance of the team class, use new_dataset = Dataset(some_data).\n",
    "\n"
   ]
  },
  {
   "cell_type": "code",
   "execution_count": 14,
   "metadata": {},
   "outputs": [
    {
     "name": "stdout",
     "output_type": "stream",
     "text": [
      "[['2009', '1', 'Pittsburgh Steelers', 'Tennessee Titans'], ['2009', '1', 'Minnesota Vikings', 'Cleveland Browns'], ['2009', '1', 'New York Giants', 'Washington Redskins'], ['2009', '1', 'San Francisco 49ers', 'Arizona Cardinals'], ['2009', '1', 'Seattle Seahawks', 'St. Louis Rams'], ['2009', '1', 'Philadelphia Eagles', 'Carolina Panthers'], ['2009', '1', 'New York Jets', 'Houston Texans'], ['2009', '1', 'Atlanta Falcons', 'Miami Dolphins'], ['2009', '1', 'Baltimore Ravens', 'Kansas City Chiefs']]\n"
     ]
    }
   ],
   "source": [
    "import csv\n",
    "\n",
    "class Dataset:\n",
    "    def __init__(self):\n",
    "        self.type = \"csv\"\n",
    "class Dataset:\n",
    "    def __init__(self, data):\n",
    "        self.data = data\n",
    "        \n",
    "f = open(\"nfl.csv\", 'r')\n",
    "csv_reader = csv.reader(f)\n",
    "nfl_data = list(csv_reader)\n",
    "\n",
    "nfl_dataset = Dataset(nfl_data)\n",
    "dataset_data = nfl_dataset.data\n",
    "\n",
    "print(dataset_data[0:9])"
   ]
  },
  {
   "cell_type": "markdown",
   "metadata": {},
   "source": [
    "# 3: Adding Additional Behavior"
   ]
  },
  {
   "cell_type": "markdown",
   "metadata": {},
   "source": [
    "## Instructions\n",
    "Add an instance method print_data() that takes in a num_rows argument.\n",
    "This method should print out data up to the given amount of rows.\n",
    "Create an instance of the Dataset class and initialize with the nfl_data. nfl_data is already loaded for you.\n",
    "Assign it to the variable nfl_dataset.\n",
    "Call the print_data method, setting the num_rows parameter to 5.\n",
    "Hint\n",
    "Create an instance of the Dataset class with the appropriate data and then call the instance method using nfl_dataset.print_data(...)\n",
    "Remember that num_rows != index of the array! There could be an off by one error.\n"
   ]
  },
  {
   "cell_type": "code",
   "execution_count": 16,
   "metadata": {},
   "outputs": [
    {
     "name": "stdout",
     "output_type": "stream",
     "text": [
      "[['2009', '1', 'Pittsburgh Steelers', 'Tennessee Titans'], ['2009', '1', 'Minnesota Vikings', 'Cleveland Browns'], ['2009', '1', 'New York Giants', 'Washington Redskins'], ['2009', '1', 'San Francisco 49ers', 'Arizona Cardinals'], ['2009', '1', 'Seattle Seahawks', 'St. Louis Rams']]\n"
     ]
    }
   ],
   "source": [
    "class Dataset:\n",
    "    def __init__(self, data):\n",
    "        self.data = data\n",
    "    \n",
    "    def print_data(self, num_rows):\n",
    "        print(self.data[:num_rows])\n",
    "        \n",
    "nfl_dataset = Dataset(nfl_data)\n",
    "dataset_data = nfl_dataset.print_data(5)        "
   ]
  },
  {
   "cell_type": "markdown",
   "metadata": {},
   "source": [
    "# 4: Enhancing The Initializer"
   ]
  },
  {
   "cell_type": "markdown",
   "metadata": {},
   "source": [
    "## Instructions\n",
    "Add the extract_header() code to the initializer and set the header data to self.header.\n",
    "Create a variable called nfl_header and set it to the header attribute\n",
    "Hint\n",
    "You can access an attribute by using the dot notation like so: some_instance.my_attribute"
   ]
  },
  {
   "cell_type": "code",
   "execution_count": 29,
   "metadata": {},
   "outputs": [
    {
     "name": "stdout",
     "output_type": "stream",
     "text": [
      "['2009', '1', 'Pittsburgh Steelers', 'Tennessee Titans']\n"
     ]
    }
   ],
   "source": [
    "class Dataset:\n",
    "    def __init__(self, data):\n",
    "        self.header = data[0]\n",
    "        self.data = data[1:]\n",
    "        \n",
    "nfl_dataset = Dataset(nfl_data)\n",
    "nfl_header = nfl_dataset.header  \n",
    "\n",
    "print(nfl_header)"
   ]
  },
  {
   "cell_type": "markdown",
   "metadata": {},
   "source": [
    "# 5: Grabbing Column Data"
   ]
  },
  {
   "cell_type": "markdown",
   "metadata": {},
   "source": [
    "## Instructions\n",
    "Add a method named column that takes in a label argument, finds the index of the header, and returns a list of the column data.\n",
    "If the label is not in the header, you should return None.\n",
    "Create a variable called year_column and set it to the return value of column('year').\n",
    "Create a variable called player_column and set it to the return value of column('player').\n",
    "Hint\n",
    "Use the enumerate() function to loop through the index and elements of the self.header attribute.\n",
    "Make sure to save the value of the index so that you can loop through the data and extract only values for that index.\n",
    "You can check if a label is in self.headers using the in statement.\n",
    "\n",
    "\n",
    "\n"
   ]
  },
  {
   "cell_type": "code",
   "execution_count": 34,
   "metadata": {},
   "outputs": [],
   "source": [
    "class Dataset:\n",
    "    def __init__(self, data):\n",
    "        self.header = data[0]\n",
    "        self.data = data[1:]\n",
    "        \n",
    "    def column(self, label):\n",
    "        if label not in self.header:\n",
    "            return None \n",
    "        \n",
    "        index = 0\n",
    "        for idx, element in enumerate(self.header):\n",
    "            if label == element:\n",
    "                index = idx\n",
    "                column = []\n",
    "                \n",
    "                for sd in self.data:\n",
    "                    column.append(sd[index])\n",
    "                return column\n",
    "                \n",
    "nfl_dataset = Dataset(nfl_data)\n",
    "year_column = nfl_dataset.column('year')\n",
    "player_column = nfl_dataset.column('player')      "
   ]
  },
  {
   "cell_type": "markdown",
   "metadata": {},
   "source": [
    "# 6: Count Unique Method"
   ]
  },
  {
   "cell_type": "markdown",
   "metadata": {},
   "source": [
    "## Instructions\n",
    "Add a method to the Dataset class called count_unique() that takes in a label arguments.\n",
    "Get the unique set of items from the column() method and return the total count.\n",
    "Use the instance method to assign the number of unique term values of years to total_years.\n",
    "Hint\n",
    "The set type can be used to return a unique set of elements in a list."
   ]
  },
  {
   "cell_type": "code",
   "execution_count": null,
   "metadata": {
    "collapsed": true
   },
   "outputs": [],
   "source": [
    "class Dataset:\n",
    "    def __init__(self, data):\n",
    "        self.header = data[0]\n",
    "        self.data = data[1:]\n",
    "        \n",
    "    def column(self, label):\n",
    "        if label not in self.header:\n",
    "            return None\n",
    "        \n",
    "        index = 0\n",
    "        for idx, element in enumerate(self.header):\n",
    "            if label == element:\n",
    "                index = idx\n",
    "                \n",
    "        column = []\n",
    "        for row in self.data:\n",
    "            column.append(row[index])\n",
    "        return column\n",
    "    \n",
    "    def count_unique(self, label):\n",
    "        count = 0\n",
    "        for item in set(self.column(label)):\n",
    "            count += 1\n",
    "        return count\n",
    "    \n",
    "nfl_dataset = Dataset(nfl_data)\n",
    "total_years = nfl_dataset.count_unique('year')        "
   ]
  },
  {
   "cell_type": "markdown",
   "metadata": {},
   "source": [
    "# 7: Make Objects Human Readable"
   ]
  },
  {
   "cell_type": "markdown",
   "metadata": {},
   "source": [
    "## Instructions\n",
    "Add a method to the Dataset class called __str__()\n",
    "Convert the first 10 rows of self.data to a string and set it as the return value.\n",
    "Create an instance of the class called nfl_dataset and call print on it.\n",
    "Hint\n",
    "To convert a list to a string call str(my_list)."
   ]
  },
  {
   "cell_type": "code",
   "execution_count": 45,
   "metadata": {},
   "outputs": [
    {
     "name": "stdout",
     "output_type": "stream",
     "text": [
      "[['2009', '1', 'Minnesota Vikings', 'Cleveland Browns'], ['2009', '1', 'New York Giants', 'Washington Redskins'], ['2009', '1', 'San Francisco 49ers', 'Arizona Cardinals'], ['2009', '1', 'Seattle Seahawks', 'St. Louis Rams'], ['2009', '1', 'Philadelphia Eagles', 'Carolina Panthers'], ['2009', '1', 'New York Jets', 'Houston Texans'], ['2009', '1', 'Atlanta Falcons', 'Miami Dolphins'], ['2009', '1', 'Baltimore Ravens', 'Kansas City Chiefs'], ['2009', '1', 'Indianapolis Colts', 'Jacksonville Jaguars'], ['2009', '1', 'New Orleans Saints', 'Detroit Lions']]\n"
     ]
    }
   ],
   "source": [
    "class Dataset:\n",
    "    def __init__(self, data):\n",
    "        self.header = data[0]\n",
    "        self.data = data[1:]\n",
    "        \n",
    "    def __str__(self):\n",
    "        data_string = self.data[:10]\n",
    "        return str(data_string)\n",
    "        \n",
    "    def column(self, label):\n",
    "        if label not in self.header:\n",
    "            return None\n",
    "    \n",
    "        index = 0\n",
    "        for idx, element in enumerate(self.header):\n",
    "            if label == element:\n",
    "                index = idx\n",
    "            \n",
    "        column = []\n",
    "        for row in self.data:\n",
    "            column.append(row[index])\n",
    "        return column\n",
    "    \n",
    "    def count_unique(self, label):\n",
    "        count = 0 \n",
    "        for item in set(self.column(label)):\n",
    "            count += 1\n",
    "        return count\n",
    "    \n",
    "    \n",
    "nfl_dataset = Dataset(nfl_data)\n",
    "print(nfl_dataset)"
   ]
  },
  {
   "cell_type": "code",
   "execution_count": null,
   "metadata": {
    "collapsed": true
   },
   "outputs": [],
   "source": [
    "__"
   ]
  }
 ],
 "metadata": {
  "kernelspec": {
   "display_name": "Python 3",
   "language": "python",
   "name": "python3"
  },
  "language_info": {
   "codemirror_mode": {
    "name": "ipython",
    "version": 3
   },
   "file_extension": ".py",
   "mimetype": "text/x-python",
   "name": "python",
   "nbconvert_exporter": "python",
   "pygments_lexer": "ipython3",
   "version": "3.6.1"
  }
 },
 "nbformat": 4,
 "nbformat_minor": 2
}
