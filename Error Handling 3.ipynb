{
 "cells": [
  {
   "cell_type": "markdown",
   "metadata": {},
   "source": [
    "# 7: The Pass Keyword\n"
   ]
  },
  {
   "cell_type": "markdown",
   "metadata": {},
   "source": [
    "## Instructions\n",
    "Loop through each element in birth_years. Assign the element to year. Try to convert year to an integer using the int() function. Wrap the conversion in a try/except block. Use the pass keyword in the except statement body. Append year to converted_years. Hint You can write the try/except block like this: try: item = int(item) except Exception: pass"
   ]
  },
  {
   "cell_type": "code",
   "execution_count": 1,
   "metadata": {
    "collapsed": true
   },
   "outputs": [],
   "source": [
    "import csv\n",
    "with open('legislators.csv', 'r') as f:\n",
    "    reader = csv.reader(f)\n",
    "    legislators = list(reader)\n",
    "    legislators = legislators[1:]    "
   ]
  },
  {
   "cell_type": "code",
   "execution_count": null,
   "metadata": {
    "collapsed": true
   },
   "outputs": [],
   "source": [
    "converted_years = []\n",
    "for by in birth_years:\n",
    "    try:\n",
    "        year = int(by)\n",
    "    except Exception:\n",
    "        pass\n",
    "    converted_years.append(year)\n",
    "    print(converted_years)"
   ]
  },
  {
   "cell_type": "markdown",
   "metadata": {},
   "source": [
    "# 8: Convert Birth Years To Integers"
   ]
  },
  {
   "cell_type": "markdown",
   "metadata": {},
   "source": [
    "## Instructions\n",
    "Loop through each row in legislators. Parse the birth year from the birthday column. Convert the birth year to an integer, and assign it to birth_year. Wrap this code in a try/except block. If there's an exception, assign 0 to birth_year. Append birth_year to the row with the append() method. When finished, legislators should have an extra column for birth year. Hint Remember to append birth_year to the row inside the loop."
   ]
  },
  {
   "cell_type": "code",
   "execution_count": null,
   "metadata": {
    "collapsed": true
   },
   "outputs": [],
   "source": [
    "for l in legislators:\n",
    "    birthday = l[2]\n",
    "    birth_year = birthday.split(\"-\")[0]\n",
    "    try:\n",
    "        birth_year = int(birth_year)\n",
    "    except Exception:\n",
    "        birth_year = 0\n",
    "    l.append(birth_year)"
   ]
  },
  {
   "cell_type": "markdown",
   "metadata": {},
   "source": [
    "# 9: Fill In Years Without A Value"
   ]
  },
  {
   "cell_type": "markdown",
   "metadata": {},
   "source": [
    "## Instructions\n",
    "Create a variable called last_value, and set it to 1. Loop through each row in legislators. If the year column (index 7) equals 0, replace it with last_value. Assign the value of the year column (index 7) to last_value. After the code runs, each row previously containing 0 for birth_year column will now instead have the previous row's value for the same column. Hint Remember to assign row[7] to the variable last_value."
   ]
  },
  {
   "cell_type": "code",
   "execution_count": null,
   "metadata": {
    "collapsed": true
   },
   "outputs": [],
   "source": [
    "last_value = 1\n",
    "for l in legislators:\n",
    "    if l[7] == 0:\n",
    "        l[7] = last_value\n",
    "    last_value = l[7]"
   ]
  },
  {
   "cell_type": "code",
   "execution_count": null,
   "metadata": {
    "collapsed": true
   },
   "outputs": [],
   "source": [
    "name_counts = {}\n",
    "for l in legislators:\n",
    "    gender = l[3]\n",
    "    year = l[7]\n",
    "    if gender == 'F' and year > 1940:\n",
    "        name = l[1]\n",
    "        if name in name_counts:\n",
    "            name_counts[name] += 1\n",
    "        else:\n",
    "            name_counts[name] = 1   \n",
    "print(name_counts)"
   ]
  }
 ],
 "metadata": {
  "kernelspec": {
   "display_name": "Python 3",
   "language": "python",
   "name": "python3"
  },
  "language_info": {
   "codemirror_mode": {
    "name": "ipython",
    "version": 3
   },
   "file_extension": ".py",
   "mimetype": "text/x-python",
   "name": "python",
   "nbconvert_exporter": "python",
   "pygments_lexer": "ipython3",
   "version": "3.6.1"
  }
 },
 "nbformat": 4,
 "nbformat_minor": 2
}
