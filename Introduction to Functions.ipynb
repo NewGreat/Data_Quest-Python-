{
 "cells": [
  {
   "cell_type": "markdown",
   "metadata": {},
   "source": [
    "# 1: Overview"
   ]
  },
  {
   "cell_type": "markdown",
   "metadata": {},
   "source": [
    "# Instructions\n",
    "Read movie_metadata.csv into a list of lists and assign to movie_data.\n",
    "Open and read the file movie_metadata.csv into a string variable.\n",
    "Split the data into rows on the newline character (\"\\n\").\n",
    "Create an empty list, movie_data.\n",
    "Loop through each row, and split each row into a list on the comma character (\",\"), and append it to movie_data.\n",
    "Display the first 6 lists in movie_data using the print() function.\n",
    "Hint\n",
    "The first element of the list will not be a movie, as mentioned before. This is expected, so don't worry about it!\n",
    "\n"
   ]
  },
  {
   "cell_type": "code",
   "execution_count": 17,
   "metadata": {},
   "outputs": [
    {
     "name": "stdout",
     "output_type": "stream",
     "text": [
      "[['movie_title', 'director_name', 'color', 'duration', 'actor_1_name', 'language', 'country', 'title_year'], ['Avatar\\xa0', 'James Cameron', 'Color', '178', 'CCH Pounder', 'English', 'USA', '2009'], [\"Pirates of the Caribbean: At World's End\\xa0\", 'Gore Verbinski', 'Color', '169', 'Johnny Depp', 'English', 'USA', '2007'], ['Spectre\\xa0', 'Sam Mendes', 'Color', '148', 'Christoph Waltz', 'English', 'UK', '2015'], ['The Dark Knight Rises\\xa0', 'Christopher Nolan', 'Color', '164', 'Tom Hardy', 'English', 'USA', '2012']]\n"
     ]
    }
   ],
   "source": [
    "f = open('movie_metadata.csv', 'r')\n",
    "data = f.read()\n",
    "split_data = data.split(\"\\n\")\n",
    "movie_data = []\n",
    "for sd in split_data:\n",
    "    comma_split = sd.split(\",\")\n",
    "    movie_data.append(comma_split)\n",
    "print(movie_data[0:5])"
   ]
  },
  {
   "cell_type": "markdown",
   "metadata": {},
   "source": [
    "# 2: Writing Our Own Functions"
   ]
  },
  {
   "cell_type": "markdown",
   "metadata": {},
   "source": [
    "# Instructions\n",
    "Write a function, with a definition, name, argument(s), body and return value, that returns a list containing the names of the movies in movie_data. This function is expected to behave similar to first_elt(), but for multiple lists.\n",
    "Give the function a name that describes what it does; first_elts() is a good example, but feel free to be creative.\n",
    "Declare an empty list.\n",
    "Use a for loop to extract the first element of each list, and append these elements to the empty list.\n",
    "Return the list.\n",
    "Assign the returned list to movie_names.\n",
    "Display the first 5 elements of movie_names using the print() function.\n",
    "Hint\n",
    "Remember that the body of a for loop needs to be further indented. e.g.:\n",
    "def ...\n",
    "    for ...\n",
    "        x = ...\n",
    "    return ...\n",
    "\n"
   ]
  },
  {
   "cell_type": "code",
   "execution_count": 29,
   "metadata": {},
   "outputs": [
    {
     "name": "stdout",
     "output_type": "stream",
     "text": [
      "['movie_title', 'Avatar\\xa0', \"Pirates of the Caribbean: At World's End\\xa0\", 'Spectre\\xa0', 'The Dark Knight Rises\\xa0']\n"
     ]
    }
   ],
   "source": [
    "def first_elts(input_list):\n",
    "    elts = []\n",
    "    for il in input_list:\n",
    "        elts.append(il[0])\n",
    "    return elts\n",
    "\n",
    "movie_names = first_elts(movie_data)\n",
    "print(movie_names[0:5])"
   ]
  },
  {
   "cell_type": "markdown",
   "metadata": {},
   "source": [
    "# 3: Functions With Multiple Return Paths"
   ]
  },
  {
   "cell_type": "markdown",
   "metadata": {},
   "source": [
    "# Instructions\n",
    "Write a function named is_usa() that checks whether or not a movie was made in the United States.\n",
    "Check the movie_metadata.CSV file to see which column corresponds to the nationality of the movie. Don't forget to subtract one to find the true index of the column in the list.\n",
    "Use an if statement to check the right column of the list with the word \"USA\". The equality operation is case sensitive, so make sure to get the capitilization right.\n",
    "Return True if the condition is met, and False otherwise.\n",
    "Try it with a few movies in movie_data.\n",
    "Call it on wonder_woman and store the result in wonder_woman_usa.\n",
    "Hint\n",
    "When trying the function with different inputs, realize that is_usa() will not take movie_data as its argument, but a single element in it."
   ]
  },
  {
   "cell_type": "code",
   "execution_count": 57,
   "metadata": {},
   "outputs": [],
   "source": [
    "def is_usa(input_list):\n",
    "    if input_list[6] == \"USA\":\n",
    "        return True\n",
    "    else:\n",
    "        return False"
   ]
  },
  {
   "cell_type": "code",
   "execution_count": 66,
   "metadata": {},
   "outputs": [
    {
     "name": "stdout",
     "output_type": "stream",
     "text": [
      "['Avatar\\xa0', 'James Cameron', 'Color', '178', 'CCH Pounder', 'English', 'USA', '2009']\n",
      "True\n"
     ]
    }
   ],
   "source": [
    "print(movie_data[1])\n",
    "movie_data_usa = is_usa(movie_data[1])\n",
    "print(movie_data_usa)"
   ]
  },
  {
   "cell_type": "code",
   "execution_count": 67,
   "metadata": {},
   "outputs": [
    {
     "name": "stdout",
     "output_type": "stream",
     "text": [
      "['Spectre\\xa0', 'Sam Mendes', 'Color', '148', 'Christoph Waltz', 'English', 'UK', '2015']\n",
      "False\n"
     ]
    }
   ],
   "source": [
    "print(movie_data[3])\n",
    "movie_data_usa = is_usa(movie_data[3])\n",
    "print(movie_data_usa)"
   ]
  },
  {
   "cell_type": "code",
   "execution_count": 55,
   "metadata": {},
   "outputs": [
    {
     "name": "stdout",
     "output_type": "stream",
     "text": [
      "True\n"
     ]
    }
   ],
   "source": [
    "wonder_woman = ['Wonder Woman', 'Patty Jenkins', 'Color', 141, 'Gal Gadot', 'English', 'USA', 2017]\n",
    "wonder_woman_usa = is_usa(wonder_woman)\n",
    "print(wonder_woman_usa)"
   ]
  },
  {
   "cell_type": "markdown",
   "metadata": {},
   "source": [
    "# 4: Functions With Multiple Arguments"
   ]
  },
  {
   "cell_type": "markdown",
   "metadata": {},
   "source": [
    "# Instructions\n",
    "Write a function index_equals_str() that takes in three arguments: a list, an index and a string, and checks whether that index of the list is equal to that string.\n",
    "Call the function with a different order of the inputs, using named arguments.\n",
    "Call the function on wonder_woman to check whether or not it is a movie in color, store it in wonder_woman_in_color, and print the value.\n",
    "Hint\n",
    "The syntax for a function with three arguments is the same as with two arguments.\n",
    "Remember to input the correct index when calling the function."
   ]
  },
  {
   "cell_type": "code",
   "execution_count": 86,
   "metadata": {},
   "outputs": [
    {
     "name": "stdout",
     "output_type": "stream",
     "text": [
      "True\n"
     ]
    }
   ],
   "source": [
    "def index_equals_str(input_list, input_index, input_string):\n",
    "    if input_list[input_index] == input_string:\n",
    "        return True\n",
    "    else:\n",
    "        return False\n",
    "    \n",
    "wonder_woman_in_color = index_equals_str(wonder_woman, 2, \"Color\")    \n",
    "print(wonder_woman_in_color)"
   ]
  },
  {
   "cell_type": "markdown",
   "metadata": {},
   "source": [
    "# 5: Optional Arguments"
   ]
  },
  {
   "cell_type": "markdown",
   "metadata": {},
   "source": [
    "# Instructions\n",
    "Write a function feature_counter(), combining index_equals_str() and counter(), which counts the number of elements that fulfill the requirement in index_equals_str().\n",
    "Use this to find out how many of the movies were made in USA, and store the value in num_of_us_movies.\n",
    "Hint\n",
    "This function should take 4 arguments, where one of them is optional. These arguments are the list, the index, the string, and an optional check for the header.\n",
    "Include the logic of `index_equals_str()`` as the determining factor of whether or not we count each element.\n",
    "You will call the function with feature_counter(movie_data,6,\"USA\",True)."
   ]
  },
  {
   "cell_type": "code",
   "execution_count": 87,
   "metadata": {
    "collapsed": true
   },
   "outputs": [],
   "source": [
    "def counter(input_list, header_row = False):\n",
    "    num_elt = 0\n",
    "    if header_row == True:\n",
    "        input_list = input_list[1:len(input_list)]\n",
    "    for il in input_list:\n",
    "        num_elt += 1\n",
    "    return num_elt"
   ]
  },
  {
   "cell_type": "code",
   "execution_count": 101,
   "metadata": {},
   "outputs": [
    {
     "name": "stdout",
     "output_type": "stream",
     "text": [
      "3732\n"
     ]
    }
   ],
   "source": [
    "def feature_counter(input_lst, input_idx, input_str, header_row=False):\n",
    "    num_elt = 0\n",
    "    if header_row == True:\n",
    "        input_lst = input_lst[1:len(input_lst)]\n",
    "    for il in input_lst:\n",
    "        if il[input_idx] == input_str:\n",
    "            num_elt += 1\n",
    "    return num_elt\n",
    "\n",
    "num_of_us_movies = feature_counter(movie_data, 6, \"USA\", True)\n",
    "print(num_of_us_movies)"
   ]
  },
  {
   "cell_type": "markdown",
   "metadata": {},
   "source": [
    "# 6: Calling A Function Inside Another Function"
   ]
  },
  {
   "cell_type": "markdown",
   "metadata": {},
   "source": [
    "# Instructions\n",
    "Write a summary_statistics() function that will take movie_data a input, and output a dictionary that will give useful numbers from the data.\n",
    "Define summar_statistics() with one argument, an input list.\n",
    "Use the feature_counter() with the relevant arguments to count the following properties and make them equal to the corresponding variables.\n",
    "number of movies made in Japan --> num_japan_films\n",
    "number of movies in color --> num_color_films\n",
    "number of movies in English --> num_films_in_english\n",
    "Create a dictionary that associates the keys (japan_films,color_films,films_in_english) with the corresponding variables.\n",
    "Return the dictionary.\n",
    "Call the function with movie_data as its input, and store its value in summary.\n",
    "Hint\n",
    "Movie nationalities is the 7th column of the data.\n",
    "Color/Black and White is the 3th column of the data.\n",
    "Movie languages is the 6th column of the data.\n",
    "Do not forget to capitalize the first letter of the strings, because they are written that way in the data."
   ]
  },
  {
   "cell_type": "code",
   "execution_count": 103,
   "metadata": {},
   "outputs": [
    {
     "name": "stdout",
     "output_type": "stream",
     "text": [
      "{'japan_films': 22, 'color_films': 4714, 'films_in_english': 4611}\n"
     ]
    }
   ],
   "source": [
    "def summary_statistics(input_lst):\n",
    "    num_japan_films = feature_counter(movie_data, 6, \"Japan\", True)\n",
    "    num_color_films = feature_counter(movie_data, 2, \"Color\", True)\n",
    "    num_films_in_english = feature_counter(movie_data, 5, \"English\", True)\n",
    "    dict_keys = {\"japan_films\": num_japan_films, \"color_films\": num_color_films, \"films_in_english\": num_films_in_english}\n",
    "    return dict_keys\n",
    "\n",
    "summary = summary_statistics(movie_data)\n",
    "print(summary)"
   ]
  }
 ],
 "metadata": {
  "kernelspec": {
   "display_name": "Python 3",
   "language": "python",
   "name": "python3"
  },
  "language_info": {
   "codemirror_mode": {
    "name": "ipython",
    "version": 3
   },
   "file_extension": ".py",
   "mimetype": "text/x-python",
   "name": "python",
   "nbconvert_exporter": "python",
   "pygments_lexer": "ipython3",
   "version": "3.6.1"
  }
 },
 "nbformat": 4,
 "nbformat_minor": 2
}
