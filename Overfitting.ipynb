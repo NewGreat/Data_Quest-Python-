{
 "cells": [
  {
   "cell_type": "code",
   "execution_count": 75,
   "metadata": {
    "collapsed": false
   },
   "outputs": [
    {
     "name": "stderr",
     "output_type": "stream",
     "text": [
      "//anaconda/envs/py35/lib/python3.5/site-packages/ipykernel/__main__.py:7: SettingWithCopyWarning: \n",
      "A value is trying to be set on a copy of a slice from a DataFrame.\n",
      "Try using .loc[row_indexer,col_indexer] = value instead\n",
      "\n",
      "See the caveats in the documentation: http://pandas.pydata.org/pandas-docs/stable/indexing.html#indexing-view-versus-copy\n"
     ]
    },
    {
     "data": {
      "text/html": [
       "<div>\n",
       "<table border=\"1\" class=\"dataframe\">\n",
       "  <thead>\n",
       "    <tr style=\"text-align: right;\">\n",
       "      <th></th>\n",
       "      <th>mpg</th>\n",
       "      <th>cylinders</th>\n",
       "      <th>displacement</th>\n",
       "      <th>horsepower</th>\n",
       "      <th>weight</th>\n",
       "      <th>acceleration</th>\n",
       "      <th>model_year</th>\n",
       "      <th>origin</th>\n",
       "      <th>car name</th>\n",
       "    </tr>\n",
       "  </thead>\n",
       "  <tbody>\n",
       "    <tr>\n",
       "      <th>0</th>\n",
       "      <td>18</td>\n",
       "      <td>8</td>\n",
       "      <td>307</td>\n",
       "      <td>130</td>\n",
       "      <td>3504</td>\n",
       "      <td>12.0</td>\n",
       "      <td>70</td>\n",
       "      <td>1</td>\n",
       "      <td>chevrolet chevelle malibu</td>\n",
       "    </tr>\n",
       "    <tr>\n",
       "      <th>1</th>\n",
       "      <td>15</td>\n",
       "      <td>8</td>\n",
       "      <td>350</td>\n",
       "      <td>165</td>\n",
       "      <td>3693</td>\n",
       "      <td>11.5</td>\n",
       "      <td>70</td>\n",
       "      <td>1</td>\n",
       "      <td>buick skylark 320</td>\n",
       "    </tr>\n",
       "    <tr>\n",
       "      <th>2</th>\n",
       "      <td>18</td>\n",
       "      <td>8</td>\n",
       "      <td>318</td>\n",
       "      <td>150</td>\n",
       "      <td>3436</td>\n",
       "      <td>11.0</td>\n",
       "      <td>70</td>\n",
       "      <td>1</td>\n",
       "      <td>plymouth satellite</td>\n",
       "    </tr>\n",
       "    <tr>\n",
       "      <th>3</th>\n",
       "      <td>16</td>\n",
       "      <td>8</td>\n",
       "      <td>304</td>\n",
       "      <td>150</td>\n",
       "      <td>3433</td>\n",
       "      <td>12.0</td>\n",
       "      <td>70</td>\n",
       "      <td>1</td>\n",
       "      <td>amc rebel sst</td>\n",
       "    </tr>\n",
       "    <tr>\n",
       "      <th>4</th>\n",
       "      <td>17</td>\n",
       "      <td>8</td>\n",
       "      <td>302</td>\n",
       "      <td>140</td>\n",
       "      <td>3449</td>\n",
       "      <td>10.5</td>\n",
       "      <td>70</td>\n",
       "      <td>1</td>\n",
       "      <td>ford torino</td>\n",
       "    </tr>\n",
       "  </tbody>\n",
       "</table>\n",
       "</div>"
      ],
      "text/plain": [
       "   mpg  cylinders  displacement  horsepower  weight  acceleration  model_year  \\\n",
       "0   18          8           307         130    3504          12.0          70   \n",
       "1   15          8           350         165    3693          11.5          70   \n",
       "2   18          8           318         150    3436          11.0          70   \n",
       "3   16          8           304         150    3433          12.0          70   \n",
       "4   17          8           302         140    3449          10.5          70   \n",
       "\n",
       "   origin                   car name  \n",
       "0       1  chevrolet chevelle malibu  \n",
       "1       1          buick skylark 320  \n",
       "2       1         plymouth satellite  \n",
       "3       1              amc rebel sst  \n",
       "4       1                ford torino  "
      ]
     },
     "execution_count": 75,
     "metadata": {},
     "output_type": "execute_result"
    }
   ],
   "source": [
    "import pandas as pd\n",
    "\n",
    "columns = [\"mpg\", \"cylinders\", \"displacement\", \"horsepower\", \"weight\", \"acceleration\", \"model_year\", \"origin\", \"car name\"]\n",
    "\n",
    "cars = pd.read_table('auto-mpg.data.txt', delim_whitespace=True, names=columns)\n",
    "filtered_cars = cars[cars['horsepower'] != '?']\n",
    "filtered_cars['horsepower'] = filtered_cars['horsepower'].astype('float')\n",
    "filtered_cars.head()"
   ]
  },
  {
   "cell_type": "markdown",
   "metadata": {
    "collapsed": true
   },
   "source": [
    "# 1. Bias-Variance Tradeoff\n",
    "Instructions Create a function named train_and_test that:\n",
    "Takes in a list of column names as the sole parameter (cols),\n",
    "Trains a linear regression model using:\n",
    "The columns in cols as the features,\n",
    "The mpg column as the target variable.\n",
    "Uses the trained model to make predictions using the same input it was trained on,\n",
    "Computes the variance of the predicted values and the mean squared error between the predicted values and the actual label (mpg column).\n",
    "Returns the mean squared error value followed by the variance (e.g. return(mse, variance)).\n",
    "Use the train_and_test function to train a model using only the cylinders column. Assign the resulting mean squared error value and variance to cyl_mse and cyl_var.\n",
    "Use the train_and_test function to train a model using only the weight column. Assign the resulting mean squared error value and variance to weight_mse and weight_var.\n",
    "Hint Use mean_squared_error from scikit-learn to calculate mse."
   ]
  },
  {
   "cell_type": "code",
   "execution_count": 63,
   "metadata": {
    "collapsed": true
   },
   "outputs": [],
   "source": [
    "from sklearn.linear_model import LinearRegression\n",
    "from sklearn.metrics import mean_squared_error\n",
    "import numpy as np\n",
    "import matplotlib.pyplot as plt"
   ]
  },
  {
   "cell_type": "code",
   "execution_count": 71,
   "metadata": {
    "collapsed": false
   },
   "outputs": [],
   "source": [
    "#def train_and_test(cols):\n",
    "    #features = filtered_cars[cols]\n",
    "    #target = filtered_cars[\"mpg\"]\n",
    "    #lr = LinearRegression()\n",
    "    #lr.fit(features, target)\n",
    "    #predictions = lr.predict(features)\n",
    "    #mse = mean_squared_error(filtered_cars, predictions)\n",
    "    #variance = np.var(predictions)\n",
    "    #return(mse, variance)\n",
    "\n",
    "#cyl_mse, cyl_var = train_and_test([\"cylinders\"])\n",
    "#weight_mse, weight_var = train_and_test([\"weight\"])\n",
    "#print(cyl_mse)\n",
    "#print(cyl_var)\n",
    "#print(weight_mse)\n",
    "#print(weight_var)"
   ]
  },
  {
   "cell_type": "markdown",
   "metadata": {},
   "source": [
    "# 2. Multivariate Models\n",
    "Instructions Use the train_and_test function to train linear regression models using the following columns as the features:\n",
    "columns: cylinders, displacement.\n",
    "MSE: two_mse, variance: two_var.\n",
    "columns: cylinders, displacement, horsepower.\n",
    "MSE: three_mse, variance: three_var.\n",
    "columns: cylinders, displacement, horsepower, weight.\n",
    "MSE: four_mse, variance: four_var.\n",
    "columns: cylinders, displacement, horsepower, weight, acceleration.\n",
    "MSE: five_mse, variance: five_var.\n",
    "columns: cylinders, displacement, horsepower, weight, acceleration, model year\n",
    "MSE: six_mse, variance: six_var.\n",
    "columns: cylinders, displacement, horsepower, weight, acceleration, model year, origin\n",
    "MSE: seven_mse, variance: seven_var.\n",
    "Use print statements or the variable inspector to display each value.\n",
    " Need a hint?"
   ]
  },
  {
   "cell_type": "code",
   "execution_count": 72,
   "metadata": {
    "collapsed": false
   },
   "outputs": [],
   "source": [
    "#two_mse, two_var = train_and_test([\"cylinders\", \"displacement\"])\n",
    "#print(two_mse)\n",
    "#print(two_var)\n",
    "#three_mse, three_var = train_and_test([\"cylinders\", \"displacement\", \"horsepower\"])\n",
    "#print(three_mse)\n",
    "#print(three_var)\n",
    "#four_mse, four_var = train_and_test([\"cylinders\", \"displacement\", \"horsepower\", \"weight\"])\n",
    "#print(four_mse)\n",
    "#print(four_var)\n",
    "#five_mse, five_var = train_and_test([\"cylinders\", \"displacement\", \"horsepower\", \"weight\", \"acceleration\"])\n",
    "#print(five_mse)\n",
    "#print(five_var)\n",
    "#six_mse, six_var = train_and_test([\"cylinders\", \"displacement\", \"horsepower\", \"weight\", \"acceleration\", \"model_year\"])\n",
    "#print(six_mse)\n",
    "#print(six_var)\n",
    "#seven_mse, seven_var = train_and_test([\"cylinders\", \"displacement\", \"horsepower\", \"weight\", \"acceleration\", \"model_year\", \"origin\"])\n",
    "#print(seven_mse)\n",
    "#print(seven_var)"
   ]
  },
  {
   "cell_type": "markdown",
   "metadata": {
    "collapsed": true
   },
   "source": [
    "# 3. Cross Validation\n",
    "Instructions Create a function named train_and_cross_val that:\n",
    "takes in a single parameter (list of column names),\n",
    "trains a linear regression model using the features specified in the parameter,\n",
    "uses the KFold class to perform 10-fold validation using a random seed of 3 (we use this seed to answer check your code),\n",
    "calculates the mean squared error across all folds and the mean variance across all folds.\n",
    "returns the mean squared error value then the variance using a multiple return statement (e.g. return(avg_mse, avg_var)).\n",
    "Use the train_and_cross_val function to train linear regression models using the following columns as the features:\n",
    "the cylinders and displacement columns. Assign the resulting mean squared error value to two_mse and the resulting variance value to two_var.\n",
    "the cylinders, displacement, and horsepower columns. Assign the resulting mean squared error value to three_mse and the resulting variance value to three_var.\n",
    "the cylinders, displacement, horsepower, and weight columns. Assign the resulting mean squared error value to four_mse and the resulting variance value to four_var.\n",
    "the cylinders, displacement, horsepower, weight, acceleration columns. Assign the resulting mean squared error value to five_mse and the resulting variance value to five_var.\n",
    "the cylinders, displacement, horsepower, weight, acceleration, and model year columns. Assign the resulting mean squared error value to six_mse and the resulting variance value to six_var.\n",
    "the cylinders, displacement, horsepower, weight, acceleration, model year, and origin columns. Assign the resulting mean squared error value to seven_mse and the resulting variance value to seven_var.\n",
    "Use the variable display to inspect each value.\n",
    "Hint\n",
    "Use the random_state parameter when creating the KFold object to set the random seed. Documentation on KFold."
   ]
  },
  {
   "cell_type": "code",
   "execution_count": 73,
   "metadata": {
    "collapsed": false
   },
   "outputs": [],
   "source": [
    "from sklearn.cross_validation import KFold\n",
    "from sklearn.metrics import mean_squared_error\n",
    "from sklearn.linear_model import LogisticRegression\n",
    "import numpy as np\n",
    "\n",
    "def train_and_cross_val(cols):\n",
    "    features = filtered_cars[cols]\n",
    "    target = filtered_cars[\"mpg\"]\n",
    "    \n",
    "    variance_values = []\n",
    "    mse_values = []\n",
    "        \n",
    "    kf = KFold (n=len(filtered_cars), n_folds=10, shuffle=True, random_state=3)\n",
    "    \n",
    "    for train_index, test_index in kf:\n",
    "        X_train, X_test = features.iloc[train_index], features.iloc[test_index]\n",
    "        y_train, y_test = target.iloc[train_index], target.iloc[test_index]\n",
    "        \n",
    "        lr = LinearRegression()\n",
    "        lr.fit(X_train, y_train)\n",
    "        predictions = lr.predict(X_test)\n",
    "        \n",
    "        mse = mean_squared_error(y_test, predictions)\n",
    "        var = np.var(predictions)\n",
    "        \n",
    "        variance_values.append(var)\n",
    "        mse_values.append(mse)\n",
    "        \n",
    "    avg_mse = np.mean(mse_values)\n",
    "    avg_var = np.var(variance_values)\n",
    "    return(avg_mse, avg_var)"
   ]
  },
  {
   "cell_type": "code",
   "execution_count": 74,
   "metadata": {
    "collapsed": false
   },
   "outputs": [
    {
     "name": "stdout",
     "output_type": "stream",
     "text": [
      "21.584370275\n",
      "31.3658612805\n",
      "20.6556221939\n",
      "40.0690233132\n",
      "18.1696832391\n",
      "40.1271692349\n",
      "18.2830385172\n",
      "38.9708619931\n",
      "12.0996854255\n",
      "61.9627724678\n",
      "11.4181319718\n",
      "80.7309188062\n"
     ]
    }
   ],
   "source": [
    "two_mse, two_var = train_and_cross_val([\"cylinders\", \"displacement\"])\n",
    "three_mse, three_var = train_and_cross_val([\"cylinders\", \"displacement\", \"horsepower\"])\n",
    "four_mse, four_var = train_and_cross_val([\"cylinders\", \"displacement\", \"horsepower\", \"weight\"])\n",
    "five_mse, five_var = train_and_cross_val([\"cylinders\", \"displacement\", \"horsepower\", \"weight\", \"acceleration\"])\n",
    "six_mse, six_var = train_and_cross_val([\"cylinders\", \"displacement\", \"horsepower\", \"weight\", \"acceleration\", \"model_year\"])\n",
    "seven_mse, seven_var = train_and_cross_val([\"cylinders\", \"displacement\", \"horsepower\", \"weight\", \"acceleration\", \"model_year\", \"origin\"])\n",
    "print(two_mse)\n",
    "print(two_var)\n",
    "print(three_mse)\n",
    "print(three_var)\n",
    "print(four_mse)\n",
    "print(four_var)\n",
    "print(five_mse)\n",
    "print(five_var)\n",
    "print(six_mse)\n",
    "print(six_var)\n",
    "print(seven_mse)\n",
    "print(seven_var)"
   ]
  },
  {
   "cell_type": "markdown",
   "metadata": {
    "collapsed": true
   },
   "source": [
    "# 4. Plotting Cross-Validation Error Vs. Cross-Validation Variance"
   ]
  },
  {
   "cell_type": "markdown",
   "metadata": {},
   "source": [
    "Instructions On the same Axes instance:\n",
    "Generate a scatter plot with the model's number of features on the x-axis and the model's overall, cross-validation mean squared error on the y-axis. Use red for the scatter dot color.\n",
    "Generate a scatter plot with the model's number of features on the x-axis and the model's overall, cross-validation variance on the y-axis. Use blue for the scatter dot color.\n",
    "Use plt.show() to display the scatter plot.\n",
    "Hint\n",
    "Documentation on scatter. Mission that covers multiple scatter plots on the same Axes instance."
   ]
  },
  {
   "cell_type": "code",
   "execution_count": 79,
   "metadata": {
    "collapsed": false
   },
   "outputs": [
    {
     "data": {
      "text/plain": [
       "<matplotlib.collections.PathCollection at 0x11a2e3d30>"
      ]
     },
     "execution_count": 79,
     "metadata": {},
     "output_type": "execute_result"
    },
    {
     "data": {
      "image/png": "[encoded data removed]",
      "text/plain": [
       "<matplotlib.figure.Figure at 0x1199d96d8>"
      ]
     },
     "metadata": {},
     "output_type": "display_data"
    }
   ],
   "source": [
    "%matplotlib inline\n",
    "import matplotlib.pyplot as plt\n",
    "\n",
    "plt.scatter([2,3,4,5,6,7], [two_mse, three_mse, four_mse,\n",
    "                             five_mse, six_mse, seven_mse], c=\"r\")\n",
    "plt.scatter([2,3,4,5,6,7], [two_var, three_var, four_var,\n",
    "                             five_var, six_var, seven_var], c=\"b\")"
   ]
  },
  {
   "cell_type": "code",
   "execution_count": null,
   "metadata": {
    "collapsed": true
   },
   "outputs": [],
   "source": []
  }
 ],
 "metadata": {
  "kernelspec": {
   "display_name": "Python 3",
   "language": "python",
   "name": "python3"
  },
  "language_info": {
   "codemirror_mode": {
    "name": "ipython",
    "version": 3
   },
   "file_extension": ".py",
   "mimetype": "text/x-python",
   "name": "python",
   "nbconvert_exporter": "python",
   "pygments_lexer": "ipython3",
   "version": "3.5.1"
  }
 },
 "nbformat": 4,
 "nbformat_minor": 0
}
