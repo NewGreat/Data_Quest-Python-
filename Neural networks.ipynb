{
 "cells": [
  {
   "cell_type": "markdown",
   "metadata": {},
   "source": [
    "# 1: Neural Networks And Iris Flowers"
   ]
  },
  {
   "cell_type": "markdown",
   "metadata": {},
   "source": [
    "Instructions\n",
    "Visualize the data using the method hist() on our DataFrame iris and showing the plots.\n",
    "Hint\n",
    "Use plt.show() will show the plots."
   ]
  },
  {
   "cell_type": "code",
   "execution_count": 2,
   "metadata": {
    "collapsed": false
   },
   "outputs": [
    {
     "name": "stdout",
     "output_type": "stream",
     "text": [
      "    sepal_length  sepal_width  petal_length  petal_width          species\n",
      "4            6.5          2.8           4.6          1.5  Iris-versicolor\n",
      "28           6.0          2.9           4.5          1.5  Iris-versicolor\n",
      "83           6.3          2.8           5.1          1.5   Iris-virginica\n",
      "8            6.6          2.9           4.6          1.3  Iris-versicolor\n",
      "39           5.5          2.5           4.0          1.3  Iris-versicolor\n",
      "['Iris-versicolor' 'Iris-virginica']\n"
     ]
    },
    {
     "data": {
      "image/png": "[encoded data removed]",
      "text/plain": [
       "<matplotlib.figure.Figure at 0x11233c390>"
      ]
     },
     "metadata": {},
     "output_type": "display_data"
    }
   ],
   "source": [
    "import pandas as pd\n",
    "import matplotlib.pyplot as plt\n",
    "import numpy as np\n",
    "%matplotlib inline\n",
    "\n",
    "iris = pd.read_csv(\"iris.csv\")\n",
    "iris.head()\n",
    "\n",
    "shuffled_rows = np.random.permutation(iris.index)\n",
    "iris = iris.loc[shuffled_rows,:]\n",
    "\n",
    "print(iris.head())\n",
    "\n",
    "print(iris.species.unique())\n",
    "\n",
    "iris.hist()\n",
    "plt.show()"
   ]
  },
  {
   "cell_type": "markdown",
   "metadata": {},
   "source": [
    "# 2: Neurons"
   ]
  },
  {
   "cell_type": "markdown",
   "metadata": {},
   "source": [
    "Instructions\n",
    "Write a function called sigmoid_activation with inputs x a feature vector and theta a parameter vector of the same length to implement the sigmoid activation function.\n",
    "Assign the value of sigmoid_activation(x0, theta_init) to a1. a1 should be a vector.\n",
    "Hint\n",
    "Use the NumPy (dot function)[http://docs.scipy.org/doc/numpy/reference/generated/numpy.dot.html] to multiply theta with x."
   ]
  },
  {
   "cell_type": "code",
   "execution_count": 3,
   "metadata": {
    "collapsed": false
   },
   "outputs": [
    {
     "name": "stdout",
     "output_type": "stream",
     "text": [
      "[[17]]\n"
     ]
    }
   ],
   "source": [
    "z = np.asarray([[9, 5, 4]])\n",
    "y = np.asarray([[-1, 2, 4]])\n",
    "\n",
    "print(np.dot(z,y.T))\n",
    "\n",
    "iris[\"ones\"] = np.ones(iris.shape[0])\n",
    "X = iris[['ones', 'sepal_length', 'sepal_width', 'petal_length', 'petal_width']].values\n",
    "y = (iris.species == 'Iris-versicolor').values.astype(int)\n",
    "\n",
    "x0 = X[0]\n",
    "\n",
    "theta_init = np.random.normal(0,0.01,size=(5,1))\n",
    "\n",
    "def sigmoid_activation(x,theta):\n",
    "    x = np.asarray(x)\n",
    "    theta = np.asarray(theta)\n",
    "    return 1 / (1 + np.exp(-np.dot(theta.T, x)))\n",
    "\n",
    "a1 = sigmoid_activation(x0,theta_init)  "
   ]
  },
  {
   "cell_type": "markdown",
   "metadata": {},
   "source": [
    "# 3: Cost Function"
   ]
  },
  {
   "cell_type": "markdown",
   "metadata": {},
   "source": [
    "Instructions\n",
    "Write a function, singlecost(), that can compute the cost from just a single observation.\n",
    "This function should use input features X, targets y, and parameters theta to compute the cost function.\n",
    "Assign the cost of variables x0, y0, and theta_init to variable first_cost.\n",
    "Hint\n",
    "Use the sigmoid_activation() function to compute the activation, then apply the cost function formula."
   ]
  },
  {
   "cell_type": "code",
   "execution_count": 4,
   "metadata": {
    "collapsed": false
   },
   "outputs": [
    {
     "data": {
      "text/plain": [
       "0.6988955370388521"
      ]
     },
     "execution_count": 4,
     "metadata": {},
     "output_type": "execute_result"
    }
   ],
   "source": [
    "x0 = X[0]\n",
    "y0 = y[0]\n",
    "\n",
    "theta_init = np.random.normal(0,0.01,size=(5,1))\n",
    "\n",
    "def single_cost(X,y,theta):\n",
    "    X = np.asarray(X)\n",
    "    y = np.asarray(y)\n",
    "    theta = np.asarray(theta)\n",
    "    \n",
    "    h = sigmoid_activation(X.T, theta)\n",
    "\n",
    "    cost = -np.mean(y * np.log(h) + (1-y) * np.log(1-h))\n",
    "    \n",
    "    return cost\n",
    "\n",
    "first_cost = single_cost(x0, y0, theta_init)\n",
    "first_cost"
   ]
  },
  {
   "cell_type": "markdown",
   "metadata": {},
   "source": [
    "# 4: Compute The Gradients"
   ]
  },
  {
   "cell_type": "markdown",
   "metadata": {},
   "source": [
    "Instructions\n",
    "Compute the average gradients over each observation in X and corresponding target y with the initialized parameters theta_init.\n",
    "Assign the average gradients to variable grads.\n",
    "Hint\n",
    "Use the sigmoid_activation function to aid the computation."
   ]
  },
  {
   "cell_type": "code",
   "execution_count": 5,
   "metadata": {
    "collapsed": false
   },
   "outputs": [
    {
     "data": {
      "text/plain": [
       "array([[-0.00037813],\n",
       "       [-0.0429645 ],\n",
       "       [-0.01378977],\n",
       "       [-0.08228173],\n",
       "       [-0.0442427 ]])"
      ]
     },
     "execution_count": 5,
     "metadata": {},
     "output_type": "execute_result"
    }
   ],
   "source": [
    "theta_init = np.random.normal(0,0.01,size=(5,1))\n",
    "\n",
    "grads = np.zeros(theta_init.shape)\n",
    "\n",
    "n = X.shape[0]\n",
    "\n",
    "for j, obs in enumerate(X):\n",
    "    h = sigmoid_activation(obs, theta_init)\n",
    "    delta = (y[j]-h) * h * (1 - h) * obs\n",
    "    \n",
    "    grads += delta[:,np.newaxis]/X.shape[0]\n",
    "    \n",
    "grads"
   ]
  },
  {
   "cell_type": "markdown",
   "metadata": {},
   "source": [
    "# 5: Two Layer Network"
   ]
  },
  {
   "cell_type": "code",
   "execution_count": 6,
   "metadata": {
    "collapsed": false
   },
   "outputs": [
    {
     "data": {
      "image/png": "[encoded data removed]",
      "text/plain": [
       "<matplotlib.figure.Figure at 0x11772de48>"
      ]
     },
     "metadata": {},
     "output_type": "display_data"
    }
   ],
   "source": [
    "theta_init = np.random.normal(0,0.01,size=(5,1))\n",
    "\n",
    "learning_rate = 0.1\n",
    "\n",
    "maxepochs = 10000\n",
    "\n",
    "convergence_thres = 0.0001\n",
    "\n",
    "def learn(X, y, theta, learning_rate, maxepochs, convergence_thres):\n",
    "    costs = []\n",
    "    cost = single_cost(X, y, theta)\n",
    "    costprev = cost + convergence_thres + 0.01\n",
    "    counter = 0\n",
    "    for counter in range(maxepochs):\n",
    "        grads = np.zeros(theta.shape)\n",
    "        for j, obs in enumerate(X):\n",
    "            h = sigmoid_activation(obs, theta)\n",
    "            delta = (y[j]-h) * h * (1-h) * obs\n",
    "            grads += delta[:,np.newaxis]/X.shape[0]\n",
    "            theta += grads * learning_rate\n",
    "            counter += 1\n",
    "            costprev = cost\n",
    "            cost = single_cost(X, y, theta)\n",
    "            costs.append(cost)\n",
    "            if np.abs(costprev-cost) < convergence_thres:\n",
    "                break\n",
    "        \n",
    "        plt.plot(costs)\n",
    "        plt.title(\"Convergence of the Cost Function\")\n",
    "        plt.ylabel(\"J($\\Theta$)\")\n",
    "        plt.xlabel(\"Iteration\")\n",
    "        plt.show()\n",
    "        return theta\n",
    "    \n",
    "theta = learn(X, y, theta_init, learning_rate, maxepochs, convergence_thres)"
   ]
  },
  {
   "cell_type": "markdown",
   "metadata": {
    "collapsed": true
   },
   "source": [
    "# 6: Neural Network"
   ]
  },
  {
   "cell_type": "markdown",
   "metadata": {
    "collapsed": true
   },
   "source": [
    "Instructions\n",
    "Write a function feedforward() that will take in an input X and two sets of parameters theta0 and theta1 to compute the output \n",
    ".\n",
    "Assign the output to variable h using features X and parameters theta0_init and theta1_init.\n",
    "Hint\n",
    "Use the function sigmoid_activation() twice, once for each layer, inputted activation units in the second time. Add a column of ones to the hidden layer to include the bias term."
   ]
  },
  {
   "cell_type": "code",
   "execution_count": 7,
   "metadata": {
    "collapsed": false
   },
   "outputs": [
    {
     "data": {
      "text/plain": [
       "array([[ 0.49401199,  0.49400976,  0.4940158 ,  0.49400078,  0.49401382,\n",
       "         0.49403639,  0.49403204,  0.49400689,  0.49399421,  0.49404517,\n",
       "         0.49405164,  0.49401737,  0.49403888,  0.49404137,  0.49400269,\n",
       "         0.49403518,  0.49402021,  0.49400926,  0.49402705,  0.49403284,\n",
       "         0.49400332,  0.49402247,  0.49403397,  0.49404019,  0.4940246 ,\n",
       "         0.49400298,  0.49399716,  0.49400183,  0.49402238,  0.49402388,\n",
       "         0.49400128,  0.49403077,  0.49404116,  0.49401353,  0.49404007,\n",
       "         0.49403587,  0.49402921,  0.49403479,  0.49403594,  0.49399534,\n",
       "         0.49400024,  0.49399643,  0.49402871,  0.49405928,  0.4939955 ,\n",
       "         0.49403342,  0.4940343 ,  0.49402817,  0.4940106 ,  0.4940401 ,\n",
       "         0.49403434,  0.49402004,  0.49403594,  0.49400849,  0.49400627,\n",
       "         0.49404191,  0.494046  ,  0.49399858,  0.49402038,  0.49400825,\n",
       "         0.49401953,  0.49402808,  0.49400383,  0.49400129,  0.49400782,\n",
       "         0.49399771,  0.4940286 ,  0.49400258,  0.49399785,  0.49403705,\n",
       "         0.49400478,  0.49402438,  0.49403978,  0.49400844,  0.49404301,\n",
       "         0.49400211,  0.49400527,  0.49400069,  0.49401441,  0.4940167 ,\n",
       "         0.49403586,  0.49400574,  0.49401486,  0.49401975,  0.49399957,\n",
       "         0.49400493,  0.49400645,  0.49400197,  0.49403416,  0.49402099,\n",
       "         0.49400004,  0.49401492,  0.49402197,  0.49401143,  0.49400818,\n",
       "         0.49403953,  0.49399403,  0.49400394,  0.49402564,  0.49403356]])"
      ]
     },
     "execution_count": 7,
     "metadata": {},
     "output_type": "execute_result"
    }
   ],
   "source": [
    "theta0_init = np.random.normal(0,0.01,size=(5,4))\n",
    "theta1_init = np.random.normal(0,0.01,size=(5,1))\n",
    "\n",
    "def feedforward(X, theta0, theta1):\n",
    "    a1 = sigmoid_activation(X.T, theta0).T\n",
    "    a1 = np.column_stack([np.ones(a1.shape[0]), a1])\n",
    "    \n",
    "    out = sigmoid_activation(a1.T, theta1)\n",
    "    \n",
    "    return out\n",
    "\n",
    "h = feedforward(X, theta0_init, theta1_init)   \n",
    "h"
   ]
  },
  {
   "cell_type": "code",
   "execution_count": 8,
   "metadata": {
    "collapsed": false
   },
   "outputs": [
    {
     "name": "stdout",
     "output_type": "stream",
     "text": [
      "The value is 0.69\n"
     ]
    }
   ],
   "source": [
    "def multiplecost(X, y, theta0, theta1):\n",
    "    h = feedforward(X, theta0, theta1)\n",
    "    inner = y * np.log(h) + (1 - y) * np.log(1 - h)\n",
    "    return -np.mean(inner) \n",
    "\n",
    "c = multiplecost(X, y, theta0_init, theta1_init)\n",
    "print(\"The value is %.2f\" % (c))"
   ]
  },
  {
   "cell_type": "markdown",
   "metadata": {
    "collapsed": true
   },
   "source": [
    "# 8: Backpropagation"
   ]
  },
  {
   "cell_type": "code",
   "execution_count": 9,
   "metadata": {
    "collapsed": false
   },
   "outputs": [
    {
     "data": {
      "image/png": "[encoded data removed]",
      "text/plain": [
       "<matplotlib.figure.Figure at 0x1178cd278>"
      ]
     },
     "metadata": {},
     "output_type": "display_data"
    }
   ],
   "source": [
    "class NNet3:\n",
    "    def __init__(self, learning_rate=0.5, maxepochs=1e4, convergence_thres=1e-5, hidden_layer=4):\n",
    "        self.learning_rate = learning_rate\n",
    "        self.maxepochs = int(maxepochs)\n",
    "        self.convergence_thres = 1e-5\n",
    "        self.hidden_layer = int(hidden_layer)\n",
    "        \n",
    "    def _multiplecost(self, X, y):\n",
    "        # feed through network\n",
    "        l1, l2 = self._feedforward(X) \n",
    "        # compute error\n",
    "        inner = y * np.log(l2) + (1-y) * np.log(1-l2)\n",
    "        # negative of average error\n",
    "        return -np.mean(inner)\n",
    "    \n",
    "    def _feedforward(self, X):\n",
    "        # feedforward to the first layer\n",
    "        l1 = sigmoid_activation(X.T, self.theta0).T\n",
    "        # add a column of ones for bias term\n",
    "        l1 = np.column_stack([np.ones(l1.shape[0]), l1])\n",
    "        # activation units are then inputted to the output layer\n",
    "        l2 = sigmoid_activation(l1.T, self.theta1)\n",
    "        return l1, l2\n",
    "    \n",
    "    def predict(self, X):\n",
    "        _, y = self._feedforward(X)\n",
    "        return y\n",
    "    \n",
    "    def learn(self, X, y):\n",
    "        nobs, ncols = X.shape\n",
    "        self.theta0 = np.random.normal(0,0.01,size=(ncols,self.hidden_layer))\n",
    "        self.theta1 = np.random.normal(0,0.01,size=(self.hidden_layer+1,1))\n",
    "        \n",
    "        self.costs = []\n",
    "        cost = self._multiplecost(X, y)\n",
    "        self.costs.append(cost)\n",
    "        costprev = cost + self.convergence_thres+1  # set an inital costprev to past while loop\n",
    "        counter = 0  # intialize a counter\n",
    "\n",
    "        # Loop through until convergence\n",
    "        for counter in range(self.maxepochs):\n",
    "            # feedforward through network\n",
    "            l1, l2 = self._feedforward(X)\n",
    "\n",
    "            # Start Backpropagation\n",
    "            # Compute gradients\n",
    "            l2_delta = (y-l2) * l2 * (1-l2)\n",
    "            l1_delta = l2_delta.T.dot(self.theta1.T) * l1 * (1-l1)\n",
    "\n",
    "            # Update parameters by averaging gradients and multiplying by the learning rate\n",
    "            self.theta1 += l1.T.dot(l2_delta.T) / nobs * self.learning_rate\n",
    "            self.theta0 += X.T.dot(l1_delta)[:,1:] / nobs * self.learning_rate\n",
    "            \n",
    "            # Store costs and check for convergence\n",
    "            counter += 1  # Count\n",
    "            costprev = cost  # Store prev cost\n",
    "            cost = self._multiplecost(X, y)  # get next cost\n",
    "            self.costs.append(cost)\n",
    "            if np.abs(costprev-cost) < self.convergence_thres and counter > 500:\n",
    "                break\n",
    "\n",
    "# Set a learning rate\n",
    "learning_rate = 0.5\n",
    "# Maximum number of iterations for gradient descent\n",
    "maxepochs = 10000       \n",
    "# Costs convergence threshold, ie. (prevcost - cost) > convergence_thres\n",
    "convergence_thres = 0.00001  \n",
    "# Number of hidden units\n",
    "hidden_units = 4\n",
    "\n",
    "# Initialize model \n",
    "model = NNet3(learning_rate=learning_rate, maxepochs=maxepochs,\n",
    "              convergence_thres=convergence_thres, hidden_layer=hidden_units)\n",
    "# Train model\n",
    "model.learn(X, y)\n",
    "\n",
    "# Plot costs\n",
    "plt.plot(model.costs)\n",
    "plt.title(\"Convergence of the Cost Function\")\n",
    "plt.ylabel(\"J($\\Theta$)\")\n",
    "plt.xlabel(\"Iteration\")\n",
    "plt.show()"
   ]
  },
  {
   "cell_type": "markdown",
   "metadata": {
    "collapsed": false
   },
   "source": [
    "# 9: Splitting Data"
   ]
  },
  {
   "cell_type": "markdown",
   "metadata": {
    "collapsed": true
   },
   "source": [
    "Instructions\n",
    "Choose the first 70 rows in both X and y and assign them respectively to X_train and y_train.\n",
    "The last 30 rows should be assigned to variables X_test and y_test.\n",
    "Hint\n",
    "The first 70 values in a list can be selected using the slice [:70] and the last 30 values can be selected using the slice [-30:]."
   ]
  },
  {
   "cell_type": "code",
   "execution_count": 10,
   "metadata": {
    "collapsed": false
   },
   "outputs": [],
   "source": [
    "X_train = X[:70]\n",
    "y_train = y[:70]\n",
    "X_test = X[-30:]\n",
    "y_test = y[-30:]"
   ]
  },
  {
   "cell_type": "markdown",
   "metadata": {
    "collapsed": true
   },
   "source": [
    "# 10: Predicting Iris Flowers"
   ]
  },
  {
   "cell_type": "markdown",
   "metadata": {},
   "source": [
    "Instructions\n",
    "Train the neural network using X_test and y_test and model, which has been initialized with a set of parameters.\n",
    "Once training is complete, use the predict() function to return the probabilities of the flower matching the species Iris-versicolor.\n",
    "Compute the AUC score, using roc_auc_score() and assign it to auc.\n",
    "Hint\n",
    "The method roc_auc_score requires labels and probabilities as inputs, which must both be vectors."
   ]
  },
  {
   "cell_type": "code",
   "execution_count": 13,
   "metadata": {
    "collapsed": false
   },
   "outputs": [
    {
     "name": "stdout",
     "output_type": "stream",
     "text": [
      "1.0\n"
     ]
    }
   ],
   "source": [
    "from sklearn.metrics import roc_auc_score\n",
    "learning_rate = 0.5\n",
    "maxepochs = 10000\n",
    "convergence_thres = 0.00001\n",
    "hidden_units = 4\n",
    "model = NNet3(learning_rate=learning_rate, maxepochs=maxepochs, convergence_thres=convergence_thres, hidden_layer=hidden_units)\n",
    "model.learn(X_train, y_train)\n",
    "yhat = model.predict(X_test)[0]\n",
    "auc = roc_auc_score(y_test, yhat)\n",
    "print(auc)"
   ]
  }
 ],
 "metadata": {
  "kernelspec": {
   "display_name": "Python 3",
   "language": "python",
   "name": "python3"
  },
  "language_info": {
   "codemirror_mode": {
    "name": "ipython",
    "version": 3
   },
   "file_extension": ".py",
   "mimetype": "text/x-python",
   "name": "python",
   "nbconvert_exporter": "python",
   "pygments_lexer": "ipython3",
   "version": "3.5.1"
  }
 },
 "nbformat": 4,
 "nbformat_minor": 0
}
