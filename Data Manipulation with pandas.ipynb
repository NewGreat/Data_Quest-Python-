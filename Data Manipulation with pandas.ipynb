{
 "cells": [
  {
   "cell_type": "markdown",
   "metadata": {},
   "source": [
    "# 1. Overview"
   ]
  },
  {
   "cell_type": "markdown",
   "metadata": {},
   "source": [
    "## Instructions\n",
    "To practice what we learned in the previous mission:\n",
    "Import the pandas library.\n",
    "Read food_info.csv into a DataFrame object named food_info.\n",
    "Use the DataFrame.columns attribute, followed by the Index.tolist() method, to return a list containing only the column names.\n",
    "Assign the resulting list to col_names, and use the print() function to display the value.\n",
    "Display the first three rows of food_info."
   ]
  },
  {
   "cell_type": "code",
   "execution_count": 24,
   "metadata": {
    "collapsed": true
   },
   "outputs": [],
   "source": [
    "import pandas as pd\n",
    "food_info = pd.read_csv('food_info.csv')"
   ]
  },
  {
   "cell_type": "code",
   "execution_count": 25,
   "metadata": {},
   "outputs": [],
   "source": [
    "col_names = food_info.columns.tolist()"
   ]
  },
  {
   "cell_type": "code",
   "execution_count": 26,
   "metadata": {},
   "outputs": [
    {
     "name": "stdout",
     "output_type": "stream",
     "text": [
      "['NDB_No', 'Shrt_Desc', 'Water_(g)', 'Energ_Kcal', 'Protein_(g)', 'Lipid_Tot_(g)', 'Ash_(g)', 'Carbohydrt_(g)', 'Fiber_TD_(g)', 'Sugar_Tot_(g)', 'Calcium_(mg)', 'Iron_(mg)', 'Magnesium_(mg)', 'Phosphorus_(mg)', 'Potassium_(mg)', 'Sodium_(mg)', 'Zinc_(mg)', 'Copper_(mg)', 'Manganese_(mg)', 'Selenium_(mcg)', 'Vit_C_(mg)', 'Thiamin_(mg)', 'Riboflavin_(mg)', 'Niacin_(mg)', 'Vit_B6_(mg)', 'Vit_B12_(mcg)', 'Vit_A_IU', 'Vit_A_RAE', 'Vit_E_(mg)', 'Vit_D_mcg', 'Vit_D_IU', 'Vit_K_(mcg)', 'FA_Sat_(g)', 'FA_Mono_(g)', 'FA_Poly_(g)', 'Cholestrl_(mg)']\n"
     ]
    }
   ],
   "source": [
    "print(col_names)"
   ]
  },
  {
   "cell_type": "markdown",
   "metadata": {},
   "source": [
    "# 2. Transforming a Column"
   ]
  },
  {
   "cell_type": "markdown",
   "metadata": {},
   "source": [
    "## Instructions\n",
    "Divide the \"Sodium_(mg)\" column by 1000 to convert the values to grams, and assign the result to sodium_grams.\n",
    "Multiply the \"Sugar_Tot_(g)\" column by 1000 to convert to milligrams, and assign the result to sugar_milligrams."
   ]
  },
  {
   "cell_type": "code",
   "execution_count": 28,
   "metadata": {
    "collapsed": true
   },
   "outputs": [],
   "source": [
    "div_1000 = food_info[\"Iron_(mg)\"] / 1000\n",
    "add_100 = food_info[\"Iron_(mg)\"] + 100\n",
    "sub_100 = food_info[\"Iron_(mg)\"] - 100\n",
    "mult_2 = food_info[\"Iron_(mg)\"] * 2"
   ]
  },
  {
   "cell_type": "code",
   "execution_count": 31,
   "metadata": {},
   "outputs": [
    {
     "data": {
      "text/plain": [
       "0    0.643\n",
       "1    0.659\n",
       "2    0.002\n",
       "3    1.146\n",
       "4    0.560\n",
       "Name: Sodium_(mg), dtype: float64"
      ]
     },
     "execution_count": 31,
     "metadata": {},
     "output_type": "execute_result"
    }
   ],
   "source": [
    "sodium_grams = food_info[\"Sodium_(mg)\"] / 1000\n",
    "sodium_grams.head()"
   ]
  },
  {
   "cell_type": "code",
   "execution_count": 33,
   "metadata": {},
   "outputs": [
    {
     "data": {
      "text/plain": [
       "0     60.0\n",
       "1     60.0\n",
       "2      0.0\n",
       "3    500.0\n",
       "4    510.0\n",
       "Name: Sugar_Tot_(g), dtype: float64"
      ]
     },
     "execution_count": 33,
     "metadata": {},
     "output_type": "execute_result"
    }
   ],
   "source": [
    "sugar_milligrams = food_info[\"Sugar_Tot_(g)\"] * 1000\n",
    "sugar_milligrams.head()"
   ]
  },
  {
   "cell_type": "markdown",
   "metadata": {},
   "source": [
    "# 3. Performing Math with Multiple Columns"
   ]
  },
  {
   "cell_type": "markdown",
   "metadata": {},
   "source": [
    "## Instructions\n",
    "Assign the number of grams of protein per gram of water (\"Protein_(g)\" column divided by \"Water_(g)\" column) to grams_of_protein_per_gram_of_water.\n",
    "Assign the total amount of calcium and iron (\"Calcium_(mg)\" column plus \"Iron_(mg)\" column) to milligrams_of_calcium_and_iron."
   ]
  },
  {
   "cell_type": "code",
   "execution_count": 34,
   "metadata": {},
   "outputs": [
    {
     "name": "stdout",
     "output_type": "stream",
     "text": [
      "0    11378.79\n",
      "1    11378.79\n",
      "2      210.24\n",
      "3    14970.73\n",
      "4    15251.81\n",
      "dtype: float64\n"
     ]
    }
   ],
   "source": [
    "water_energy = food_info[\"Water_(g)\"] * food_info[\"Energ_Kcal\"]\n",
    "print(water_energy[0:5])"
   ]
  },
  {
   "cell_type": "code",
   "execution_count": 37,
   "metadata": {},
   "outputs": [
    {
     "name": "stdout",
     "output_type": "stream",
     "text": [
      "0    0.053560\n",
      "1    0.053560\n",
      "2    1.166667\n",
      "3    0.504598\n",
      "4    0.565313\n",
      "dtype: float64\n"
     ]
    }
   ],
   "source": [
    "grams_of_protein_per_gram_of_water = food_info[\"Protein_(g)\"] / food_info[\"Water_(g)\"]\n",
    "print(grams_of_protein_per_gram_of_water[0:5])"
   ]
  },
  {
   "cell_type": "code",
   "execution_count": 39,
   "metadata": {},
   "outputs": [
    {
     "name": "stdout",
     "output_type": "stream",
     "text": [
      "0     24.02\n",
      "1     24.16\n",
      "2      4.00\n",
      "3    528.31\n",
      "4    674.43\n",
      "dtype: float64\n"
     ]
    }
   ],
   "source": [
    "milligrams_of_calcium_and_iron = food_info[\"Calcium_(mg)\"] + food_info[\"Iron_(mg)\"]\n",
    "print(milligrams_of_calcium_and_iron[0:5])"
   ]
  },
  {
   "cell_type": "markdown",
   "metadata": {},
   "source": [
    "# 4. Create a Nutritional Index"
   ]
  },
  {
   "cell_type": "markdown",
   "metadata": {},
   "source": [
    "## Instructions\n",
    "Multiply the \"Protein_(g)\" column by two, and assign the resulting Series to weighted_protein.\n",
    "Multiply the \"Lipid_Tot_(g)\" column by -0.75, and assign the resulting Series to weighted_fat.\n",
    "Add both Series objects together and assign the result to initial_rating."
   ]
  },
  {
   "cell_type": "code",
   "execution_count": 43,
   "metadata": {},
   "outputs": [
    {
     "name": "stdout",
     "output_type": "stream",
     "text": [
      "0   -59.1325\n",
      "1   -59.1325\n",
      "2   -74.0500\n",
      "3    21.2450\n",
      "4    24.2200\n",
      "dtype: float64\n"
     ]
    }
   ],
   "source": [
    "weighted_protein = food_info[\"Protein_(g)\"] * 2\n",
    "weighted_fat = food_info[\"Lipid_Tot_(g)\"] * -0.75\n",
    "\n",
    "initial_rating = weighted_protein + weighted_fat\n",
    "print(initial_rating[0:5])"
   ]
  },
  {
   "cell_type": "markdown",
   "metadata": {},
   "source": [
    "# 5. Normalizing Columns in a Data Set"
   ]
  },
  {
   "cell_type": "markdown",
   "metadata": {},
   "source": [
    "## Instructions\n",
    "Normalize the values in the \"Protein_(g)\" column, and assign the result to normalized_protein.\n",
    "Normalize the values in the \"Lipid_Tot_(g)\" column, and assign the result to normalized_fat."
   ]
  },
  {
   "cell_type": "code",
   "execution_count": 46,
   "metadata": {},
   "outputs": [
    {
     "name": "stdout",
     "output_type": "stream",
     "text": [
      "0     0.85\n",
      "1     0.85\n",
      "2     0.28\n",
      "3    21.40\n",
      "4    23.24\n",
      "Name: Protein_(g), dtype: float64\n",
      "0    0.009624\n",
      "1    0.009624\n",
      "2    0.003170\n",
      "3    0.242301\n",
      "4    0.263134\n",
      "Name: Protein_(g), dtype: float64\n"
     ]
    }
   ],
   "source": [
    "print(food_info[\"Protein_(g)\"][0:5])\n",
    "max_protein = food_info[\"Protein_(g)\"].max()\n",
    "normalized_protein = food_info[\"Protein_(g)\"] / max_protein\n",
    "print(normalized_protein[0:5])"
   ]
  },
  {
   "cell_type": "code",
   "execution_count": 49,
   "metadata": {},
   "outputs": [
    {
     "name": "stdout",
     "output_type": "stream",
     "text": [
      "0    0.8111\n",
      "1    0.8111\n",
      "2    0.9948\n",
      "3    0.2874\n",
      "4    0.2968\n",
      "Name: Lipid_Tot_(g), dtype: float64\n"
     ]
    }
   ],
   "source": [
    "max_fat = food_info[\"Lipid_Tot_(g)\"].max()\n",
    "normalized_fat = food_info[\"Lipid_Tot_(g)\"] / max_fat\n",
    "print(normalized_fat[0:5])"
   ]
  },
  {
   "cell_type": "markdown",
   "metadata": {},
   "source": [
    "# 6. Creating a New Column"
   ]
  },
  {
   "cell_type": "markdown",
   "metadata": {},
   "source": [
    "## Instructions\n",
    "Assign the normalized \"Protein_(g)\" column to a new column named \"Normalized_Protein\" in food_info.\n",
    "Assign the normalized \"Lipid_Tot_(g)\" column to a new column named \"Normalized_Fat\" in food_info."
   ]
  },
  {
   "cell_type": "code",
   "execution_count": 50,
   "metadata": {
    "collapsed": true
   },
   "outputs": [],
   "source": [
    "food_info[\"Normalized_Protein\"] = normalized_protein\n",
    "food_info[\"Normalized_Fat\"] = normalized_fat "
   ]
  },
  {
   "cell_type": "markdown",
   "metadata": {},
   "source": [
    "# 7. Create a Normalized Nutritional Index"
   ]
  },
  {
   "cell_type": "markdown",
   "metadata": {},
   "source": [
    "## Instructions\n",
    "Use the Normalized_Protein and Normalized_Fat columns with the formula above to create the Norm_Nutr_Index column."
   ]
  },
  {
   "cell_type": "code",
   "execution_count": 58,
   "metadata": {},
   "outputs": [],
   "source": [
    "food_info[\"Normalized_Protein\"] = food_info[\"Protein_(g)\"] / food_info[\"Protein_(g)\"].max()\n",
    "food_info[\"Normalized_Fat\"] = food_info[\"Lipid_Tot_(g)\"] / food_info[\"Lipid_Tot_(g)\"].max()\n",
    "\n",
    "food_info[\"Norm_Nutr_Index\"] = 2*(food_info[\"Normalized_Protein\"]) + (-0.75*food_info[\"Normalized_Fat\"])"
   ]
  },
  {
   "cell_type": "markdown",
   "metadata": {},
   "source": [
    "# 8. Sorting a DataFrame by a Column"
   ]
  },
  {
   "cell_type": "markdown",
   "metadata": {},
   "source": [
    "## Instructions\n",
    "Sort the food_info DataFrame in-place on the Norm_Nutr_Index column in descending order."
   ]
  },
  {
   "cell_type": "code",
   "execution_count": 59,
   "metadata": {},
   "outputs": [],
   "source": [
    "food_info.sort_values(\"Norm_Nutr_Index\", inplace=True, ascending=False)"
   ]
  }
 ],
 "metadata": {
  "kernelspec": {
   "display_name": "Python 3",
   "language": "python",
   "name": "python3"
  },
  "language_info": {
   "codemirror_mode": {
    "name": "ipython",
    "version": 3
   },
   "file_extension": ".py",
   "mimetype": "text/x-python",
   "name": "python",
   "nbconvert_exporter": "python",
   "pygments_lexer": "ipython3",
   "version": "3.6.1"
  }
 },
 "nbformat": 4,
 "nbformat_minor": 2
}
