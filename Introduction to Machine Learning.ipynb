{
 "cells": [
  {
   "cell_type": "markdown",
   "metadata": {
    "collapsed": false
   },
   "source": [
    "# 1. Introduction To The Data\n",
    "Instructions Read the dataset auto-mpg.data into a DataFrame named cars using the Pandas method read_table.\n",
    "Specify that you want the whitespace between values to be used as the delimiter.\n",
    "Use the column names provided in auto-mpg.names to set the column names for the cars Dataframe.\n",
    "Display the cars DataFrame using a print statement or by checking the variable inspector below the code box.\n",
    "Hint\n",
    "The order of column names in the .names file matches the order in the dataset. Make sure the order in the list of strings you pass in to the names parameter reflects this."
   ]
  },
  {
   "cell_type": "code",
   "execution_count": 13,
   "metadata": {
    "collapsed": false
   },
   "outputs": [
    {
     "data": {
      "text/html": [
       "<div>\n",
       "<table border=\"1\" class=\"dataframe\">\n",
       "  <thead>\n",
       "    <tr style=\"text-align: right;\">\n",
       "      <th></th>\n",
       "      <th>mpg</th>\n",
       "      <th>cylinders</th>\n",
       "      <th>displacement</th>\n",
       "      <th>horsepower</th>\n",
       "      <th>weight</th>\n",
       "      <th>acceleration</th>\n",
       "      <th>model year</th>\n",
       "      <th>origin</th>\n",
       "      <th>car name</th>\n",
       "    </tr>\n",
       "  </thead>\n",
       "  <tbody>\n",
       "    <tr>\n",
       "      <th>0</th>\n",
       "      <td>18</td>\n",
       "      <td>8</td>\n",
       "      <td>307</td>\n",
       "      <td>130.0</td>\n",
       "      <td>3504</td>\n",
       "      <td>12.0</td>\n",
       "      <td>70</td>\n",
       "      <td>1</td>\n",
       "      <td>chevrolet chevelle malibu</td>\n",
       "    </tr>\n",
       "    <tr>\n",
       "      <th>1</th>\n",
       "      <td>15</td>\n",
       "      <td>8</td>\n",
       "      <td>350</td>\n",
       "      <td>165.0</td>\n",
       "      <td>3693</td>\n",
       "      <td>11.5</td>\n",
       "      <td>70</td>\n",
       "      <td>1</td>\n",
       "      <td>buick skylark 320</td>\n",
       "    </tr>\n",
       "    <tr>\n",
       "      <th>2</th>\n",
       "      <td>18</td>\n",
       "      <td>8</td>\n",
       "      <td>318</td>\n",
       "      <td>150.0</td>\n",
       "      <td>3436</td>\n",
       "      <td>11.0</td>\n",
       "      <td>70</td>\n",
       "      <td>1</td>\n",
       "      <td>plymouth satellite</td>\n",
       "    </tr>\n",
       "    <tr>\n",
       "      <th>3</th>\n",
       "      <td>16</td>\n",
       "      <td>8</td>\n",
       "      <td>304</td>\n",
       "      <td>150.0</td>\n",
       "      <td>3433</td>\n",
       "      <td>12.0</td>\n",
       "      <td>70</td>\n",
       "      <td>1</td>\n",
       "      <td>amc rebel sst</td>\n",
       "    </tr>\n",
       "    <tr>\n",
       "      <th>4</th>\n",
       "      <td>17</td>\n",
       "      <td>8</td>\n",
       "      <td>302</td>\n",
       "      <td>140.0</td>\n",
       "      <td>3449</td>\n",
       "      <td>10.5</td>\n",
       "      <td>70</td>\n",
       "      <td>1</td>\n",
       "      <td>ford torino</td>\n",
       "    </tr>\n",
       "  </tbody>\n",
       "</table>\n",
       "</div>"
      ],
      "text/plain": [
       "   mpg  cylinders   displacement horsepower  weight  acceleration  model year  \\\n",
       "0   18          8            307      130.0    3504          12.0          70   \n",
       "1   15          8            350      165.0    3693          11.5          70   \n",
       "2   18          8            318      150.0    3436          11.0          70   \n",
       "3   16          8            304      150.0    3433          12.0          70   \n",
       "4   17          8            302      140.0    3449          10.5          70   \n",
       "\n",
       "   origin                   car name  \n",
       "0       1  chevrolet chevelle malibu  \n",
       "1       1          buick skylark 320  \n",
       "2       1         plymouth satellite  \n",
       "3       1              amc rebel sst  \n",
       "4       1                ford torino  "
      ]
     },
     "execution_count": 13,
     "metadata": {},
     "output_type": "execute_result"
    }
   ],
   "source": [
    "import pandas as pd\n",
    "columns = [\"mpg\", \"cylinders\", \" displacement\", \"horsepower\", \"weight\", \"acceleration\", \"model year\", \"origin\", \"car name\"]\n",
    "cars = pd.read_table(\"auto-mpg.data.txt\",delim_whitespace=True, names=columns)\n",
    "cars.head()"
   ]
  },
  {
   "cell_type": "code",
   "execution_count": 9,
   "metadata": {
    "collapsed": false
   },
   "outputs": [
    {
     "data": {
      "text/html": [
       "<div>\n",
       "<table border=\"1\" class=\"dataframe\">\n",
       "  <thead>\n",
       "    <tr style=\"text-align: right;\">\n",
       "      <th></th>\n",
       "      <th>1. Title: Auto-Mpg Data</th>\n",
       "    </tr>\n",
       "  </thead>\n",
       "  <tbody>\n",
       "    <tr>\n",
       "      <th>0</th>\n",
       "      <td>2. Sources:</td>\n",
       "    </tr>\n",
       "    <tr>\n",
       "      <th>1</th>\n",
       "      <td>(a) Origin:  This dataset was taken from th...</td>\n",
       "    </tr>\n",
       "    <tr>\n",
       "      <th>2</th>\n",
       "      <td>maintained at Carnegie Mellon ...</td>\n",
       "    </tr>\n",
       "    <tr>\n",
       "      <th>3</th>\n",
       "      <td>used in the 1983 American Stat...</td>\n",
       "    </tr>\n",
       "    <tr>\n",
       "      <th>4</th>\n",
       "      <td>(c) Date: July 7, 1993</td>\n",
       "    </tr>\n",
       "  </tbody>\n",
       "</table>\n",
       "</div>"
      ],
      "text/plain": [
       "                             1. Title: Auto-Mpg Data\n",
       "0                                        2. Sources:\n",
       "1     (a) Origin:  This dataset was taken from th...\n",
       "2                  maintained at Carnegie Mellon ...\n",
       "3                  used in the 1983 American Stat...\n",
       "4                             (c) Date: July 7, 1993"
      ]
     },
     "execution_count": 9,
     "metadata": {},
     "output_type": "execute_result"
    }
   ],
   "source": [
    "names = pd.read_table(\"auto-mpg.names.txt\")\n",
    "names.head()"
   ]
  },
  {
   "cell_type": "markdown",
   "metadata": {},
   "source": [
    "# 2. Exploratory Data Analysis\n",
    "Instructions\n",
    "Create a grid of subplots containing 2 rows and 1 column.\n",
    "Use the DataFrame.plot() method to generate the following charts:\n",
    "Top chart: Scatter plot with the weight column on the x-axis and the mpg column on the y-axis.\n",
    "Bottom chart: Scatter plot with the acceleration column on the x-axis and the mpg column on the y-axis.\n",
    "Hint\n",
    "Recall that you'll need to use plt.figure() to instantiate a Figure object and then use add_subplot to add each subplot to the Figure instance. If you need a refresher on creating a grid of plots in Matplotlib, head to the Matplotlib internals course."
   ]
  },
  {
   "cell_type": "code",
   "execution_count": 18,
   "metadata": {
    "collapsed": false
   },
   "outputs": [],
   "source": [
    "import matplotlib.pyplot as plt\n",
    "\n",
    "fig = plt.figure()\n",
    "ax1 = fig.add_subplot(2,1,1)\n",
    "ax2 = fig.add_subplot(2,1,2)\n",
    "\n",
    "cars.plot(\"weight\", \"mpg\", kind='scatter', ax=ax1)\n",
    "cars.plot(\"acceleration\", \"mpg\", kind='scatter', ax=ax2)\n",
    "\n",
    "plt.show()"
   ]
  },
  {
   "cell_type": "markdown",
   "metadata": {},
   "source": [
    "# 3. Scikit-Learn\n",
    "Instructions Import the LinearRegression class from sklearn.linear_model.\n",
    "Instantiate a LinearRegression instance and assign to lr.\n",
    "Use the fit method to fit a linear regression model using the weight column as the input and the mpg column as the output.\n",
    "Hint\n",
    "For the second parameter (the output), be sure to use single-bracket notation. Double-bracket notation is designed for fitting multiple outputs simultaneously, while here we're only interested in fitting one output, mpg."
   ]
  },
  {
   "cell_type": "code",
   "execution_count": 23,
   "metadata": {
    "collapsed": false
   },
   "outputs": [
    {
     "data": {
      "text/plain": [
       "LinearRegression(copy_X=True, fit_intercept=True, n_jobs=1, normalize=False)"
      ]
     },
     "execution_count": 23,
     "metadata": {},
     "output_type": "execute_result"
    }
   ],
   "source": [
    "import sklearn\n",
    "from sklearn.linear_model import LinearRegression\n",
    "lr = LinearRegression()\n",
    "\n",
    "lr.fit(cars[[\"weight\"]], cars[\"mpg\"])"
   ]
  },
  {
   "cell_type": "markdown",
   "metadata": {},
   "source": [
    "# 4. Making Predictions\n",
    "Instructions Use the LinearRegression method predict to make predictions using the values from the weight column.\n",
    "Assign the resulting list of predictions to predictions.\n",
    "Display the first 5 elements in predictions and the first 5 elements in the mpg column to compare the predicted values with the actual values.\n",
    "Hint\n",
    "Recall that you need to use double bracket notation when selecting the predictor column so the dimensions match n_samples by n_features : cars[[\"weight\"]]."
   ]
  },
  {
   "cell_type": "code",
   "execution_count": 24,
   "metadata": {
    "collapsed": false
   },
   "outputs": [
    {
     "name": "stdout",
     "output_type": "stream",
     "text": [
      "[ 19.41852276  17.96764345  19.94053224  19.96356207  19.84073631]\n",
      "0    18\n",
      "1    15\n",
      "2    18\n",
      "3    16\n",
      "4    17\n",
      "Name: mpg, dtype: float64\n"
     ]
    }
   ],
   "source": [
    "import sklearn\n",
    "from sklearn.linear_model import LinearRegression\n",
    "lr = LinearRegression()\n",
    "\n",
    "lr.fit(cars[[\"weight\"]], cars[\"mpg\"])\n",
    "\n",
    "predictions = lr.predict(cars[[\"weight\"]])\n",
    "print(predictions[0:5])\n",
    "print(cars[\"mpg\"][0:5])"
   ]
  },
  {
   "cell_type": "markdown",
   "metadata": {},
   "source": [
    "# 5. Plotting The Model\n",
    "Instructions On the same subplot:\n",
    "Generate a scatter plot with weight on the x-axis and the mpg column on the y-axis. Specify that you want the dots in the scatter plot to be red.\n",
    "Generate a scatter plot with weight on the x-axis and the predicted values on the y-axis. Specify that you want the dots in the scatter plot to be blue.\n",
    "Hint\n",
    "matplotlib.pyplot is already imported into the environment, as plt."
   ]
  },
  {
   "cell_type": "code",
   "execution_count": 25,
   "metadata": {
    "collapsed": true
   },
   "outputs": [],
   "source": [
    "plt.scatter(cars[\"weight\"], cars[\"mpg\"], color='red')\n",
    "plt.scatter(cars[\"weight\"], predictions, color='blue')\n",
    "plt.show()"
   ]
  },
  {
   "cell_type": "markdown",
   "metadata": {},
   "source": [
    "# 6. Error Metrics\n",
    "Instructions Import the mean_squared_error function.\n",
    "Use the mean_squared_error function to calculate the MSE of the predicted values and assign to mse.\n",
    "Display the MSE value using a print statement or the variables display below the code cell after you run your code.\n",
    "Hint\n",
    "As indicated in the documentation, you need to import the function from sklearn.metrics not sklearn."
   ]
  },
  {
   "cell_type": "code",
   "execution_count": 28,
   "metadata": {
    "collapsed": false
   },
   "outputs": [
    {
     "name": "stdout",
     "output_type": "stream",
     "text": [
      "18.7809397346\n"
     ]
    }
   ],
   "source": [
    "from sklearn.metrics import mean_squared_error\n",
    "mse = mean_squared_error(cars[\"mpg\"], predictions)\n",
    "print(mse)"
   ]
  },
  {
   "cell_type": "markdown",
   "metadata": {},
   "source": [
    "# 7. Root Mean Squared Error\n",
    "Instructions\n",
    "Calculate the RMSE of the predicted values and assign to rmse.\n",
    "Display the RMSE value using a print statement or the variables display below the code cell after you run your code.\n",
    "Hint\n",
    "Compute the square root of the MSE value we already calculated."
   ]
  },
  {
   "cell_type": "code",
   "execution_count": 31,
   "metadata": {
    "collapsed": false
   },
   "outputs": [
    {
     "name": "stdout",
     "output_type": "stream",
     "text": [
      "4.33369815915\n"
     ]
    }
   ],
   "source": [
    "rmse = (mse) ** (1/2)\n",
    "print(rmse)"
   ]
  }
 ],
 "metadata": {
  "kernelspec": {
   "display_name": "Python 3",
   "language": "python",
   "name": "python3"
  },
  "language_info": {
   "codemirror_mode": {
    "name": "ipython",
    "version": 3
   },
   "file_extension": ".py",
   "mimetype": "text/x-python",
   "name": "python",
   "nbconvert_exporter": "python",
   "pygments_lexer": "ipython3",
   "version": "3.5.1"
  }
 },
 "nbformat": 4,
 "nbformat_minor": 0
}
