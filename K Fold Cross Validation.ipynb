{
 "cells": [
  {
   "cell_type": "markdown",
   "metadata": {},
   "source": [
    "# 1. Partititioning The Data\n",
    "Instructions\n",
    "Partition the dataset into 5 folds and store each row's fold in a new integer column named fold:\n",
    "Fold 1 : rows from index 0 to 128, including both of those rows.\n",
    "Fold 2 : rows from index 129 to 257, including both of those rows.\n",
    "Fold 3 : rows from index 258 to 386, including both of those rows.\n",
    "Fold 4 : rows from index 387 to 514, including both of those rows.\n",
    "Fold 5 : rows from index 515 to 644, including both of those rows.\n",
    "Display the first 5 rows and the last 5 rows of the Dataframe to confirm.\n",
    "Hint\n",
    "Use df.ix[index_slice, col_name] to mass assign a specific value for col_name for all of the rows in the index_slice. You can use this to set a value for a new column in the Dataframe as well."
   ]
  },
  {
   "cell_type": "code",
   "execution_count": 1,
   "metadata": {
    "collapsed": false
   },
   "outputs": [
    {
     "data": {
      "text/html": [
       "<div>\n",
       "<table border=\"1\" class=\"dataframe\">\n",
       "  <thead>\n",
       "    <tr style=\"text-align: right;\">\n",
       "      <th></th>\n",
       "      <th>index</th>\n",
       "      <th>gpa</th>\n",
       "      <th>gre</th>\n",
       "      <th>actual_label</th>\n",
       "    </tr>\n",
       "  </thead>\n",
       "  <tbody>\n",
       "    <tr>\n",
       "      <th>0</th>\n",
       "      <td>203</td>\n",
       "      <td>3.419984</td>\n",
       "      <td>497.657334</td>\n",
       "      <td>0</td>\n",
       "    </tr>\n",
       "    <tr>\n",
       "      <th>1</th>\n",
       "      <td>324</td>\n",
       "      <td>3.120419</td>\n",
       "      <td>655.062350</td>\n",
       "      <td>0</td>\n",
       "    </tr>\n",
       "    <tr>\n",
       "      <th>2</th>\n",
       "      <td>27</td>\n",
       "      <td>3.122304</td>\n",
       "      <td>714.245338</td>\n",
       "      <td>0</td>\n",
       "    </tr>\n",
       "    <tr>\n",
       "      <th>3</th>\n",
       "      <td>393</td>\n",
       "      <td>2.489852</td>\n",
       "      <td>585.515283</td>\n",
       "      <td>0</td>\n",
       "    </tr>\n",
       "    <tr>\n",
       "      <th>4</th>\n",
       "      <td>24</td>\n",
       "      <td>2.848408</td>\n",
       "      <td>390.363563</td>\n",
       "      <td>0</td>\n",
       "    </tr>\n",
       "  </tbody>\n",
       "</table>\n",
       "</div>"
      ],
      "text/plain": [
       "   index       gpa         gre  actual_label\n",
       "0    203  3.419984  497.657334             0\n",
       "1    324  3.120419  655.062350             0\n",
       "2     27  3.122304  714.245338             0\n",
       "3    393  2.489852  585.515283             0\n",
       "4     24  2.848408  390.363563             0"
      ]
     },
     "execution_count": 1,
     "metadata": {},
     "output_type": "execute_result"
    }
   ],
   "source": [
    "import pandas as pd \n",
    "import numpy as np\n",
    "\n",
    "admissions = pd.read_csv(\"admissions.csv\")\n",
    "admissions[\"actual_label\"] = admissions[\"admit\"]\n",
    "admissions = admissions.drop(\"admit\", axis=1)\n",
    "\n",
    "shuffled_index = np.random.permutation(admissions.index)\n",
    "shuffled_admissions = admissions = admissions.loc[shuffled_index]\n",
    "admissions = shuffled_admissions.reset_index()\n",
    "admissions.head()"
   ]
  },
  {
   "cell_type": "code",
   "execution_count": 2,
   "metadata": {
    "collapsed": false
   },
   "outputs": [],
   "source": [
    "admissions.ix[0:128, \"fold\"] = 1\n",
    "admissions.ix[129:257, \"fold\"] = 2\n",
    "admissions.ix[258:386, \"fold\"] = 3\n",
    "admissions.ix[287:514, \"fold\"] = 4\n",
    "admissions.ix[515:644, \"fold\"] = 5\n",
    "admissions[\"fold\"] = admissions[\"fold\"].astype('int')"
   ]
  },
  {
   "cell_type": "code",
   "execution_count": 3,
   "metadata": {
    "collapsed": false
   },
   "outputs": [
    {
     "name": "stdout",
     "output_type": "stream",
     "text": [
      "   index       gpa         gre  actual_label  fold\n",
      "0    203  3.419984  497.657334             0     1\n",
      "1    324  3.120419  655.062350             0     1\n",
      "2     27  3.122304  714.245338             0     1\n",
      "3    393  2.489852  585.515283             0     1\n",
      "4     24  2.848408  390.363563             0     1\n"
     ]
    }
   ],
   "source": [
    "print(admissions.head())"
   ]
  },
  {
   "cell_type": "code",
   "execution_count": 4,
   "metadata": {
    "collapsed": false
   },
   "outputs": [
    {
     "name": "stdout",
     "output_type": "stream",
     "text": [
      "     index       gpa         gre  actual_label  fold\n",
      "639    250  3.493100  540.809834             0     5\n",
      "640    121  2.799225  654.216375             0     5\n",
      "641    272  3.495587  658.965386             0     5\n",
      "642    463  3.064387  659.915493             1     5\n",
      "643    462  3.625503  606.370700             1     5\n"
     ]
    }
   ],
   "source": [
    "print(admissions.tail())"
   ]
  },
  {
   "cell_type": "markdown",
   "metadata": {},
   "source": [
    "# 2. First Iteration\n",
    "Instructions Train a logistic regression model using the gpa column as the sole feature from folds 2 to 5 as the training set.c\n",
    "Use the model to make predictions on the test set and assign the predicted labels to labels.\n",
    "Calculate the accuracy by comparing the predicted labels with the actual labels from the actual_label column on the test set.\n",
    "Assign the accuracy value to iteration_one_accuracy.\n",
    "Hint\n",
    "Documentation for LogisticRegression.fit(). Mission on Logistic Regression."
   ]
  },
  {
   "cell_type": "code",
   "execution_count": 5,
   "metadata": {
    "collapsed": false
   },
   "outputs": [
    {
     "name": "stdout",
     "output_type": "stream",
     "text": [
      "0.6201550387596899\n"
     ]
    },
    {
     "name": "stderr",
     "output_type": "stream",
     "text": [
      "//anaconda/envs/py35/lib/python3.5/site-packages/ipykernel/__main__.py:11: SettingWithCopyWarning: \n",
      "A value is trying to be set on a copy of a slice from a DataFrame.\n",
      "Try using .loc[row_indexer,col_indexer] = value instead\n",
      "\n",
      "See the caveats in the documentation: http://pandas.pydata.org/pandas-docs/stable/indexing.html#indexing-view-versus-copy\n"
     ]
    }
   ],
   "source": [
    "from sklearn.linear_model import LogisticRegression\n",
    "\n",
    "#training \n",
    "model = LogisticRegression()\n",
    "train_iteration_one = admissions[admissions[\"fold\"] != 1]\n",
    "test_iteration_one = admissions[admissions[\"fold\"] == 1]\n",
    "model.fit(train_iteration_one[[\"gpa\"]], train_iteration_one[\"actual_label\"])\n",
    "\n",
    "#predicting\n",
    "labels = model.predict(test_iteration_one[[\"gpa\"]])\n",
    "test_iteration_one[\"predicted_label\"] = labels\n",
    "\n",
    "matches = test_iteration_one[\"predicted_label\"] == test_iteration_one[\"actual_label\"]\n",
    "correct_predictions = test_iteration_one[matches]\n",
    "iteration_one_accuracy = len(correct_predictions) / len(test_iteration_one)\n",
    "print(iteration_one_accuracy)"
   ]
  },
  {
   "cell_type": "markdown",
   "metadata": {
    "collapsed": true
   },
   "source": [
    "# 3. Function For Training Models\n",
    "Instructions Write a function named train_and_test that takes in a Dataframe and a list of fold id values (1 to 5 in our case) and returns a list of accuracy values, e.g.:\n",
    "[0.5, 0.5, 0.5, 0.5, 0.5]\n",
    "Use the train_and_test function to return the list of accuracy values for the admissions Dataframe and assign to accuracies. e.g.:\n",
    "accuracies = train_and_test(admissions, [1,2,3,4,5])\n",
    "Compute the average accuracy and assign to average_accuracy.\n",
    "average_accuracy should be a float value while accuracies should be a list of float values (one float value per iteration).\n",
    "Use the variable inspector or the print function to display the values for accuracies and average_accuracy.\n",
    "Hint\n",
    "Within the function, use the fold id values to partition the Dataframe by the fold column"
   ]
  },
  {
   "cell_type": "code",
   "execution_count": 6,
   "metadata": {
    "collapsed": false
   },
   "outputs": [
    {
     "name": "stdout",
     "output_type": "stream",
     "text": [
      "[0.6201550387596899, 0.6124031007751938, 0.6206896551724138, 0.6666666666666666, 0.6511627906976745]\n",
      "0.634215450414\n"
     ]
    },
    {
     "name": "stderr",
     "output_type": "stream",
     "text": [
      "//anaconda/envs/py35/lib/python3.5/site-packages/ipykernel/__main__.py:12: SettingWithCopyWarning: \n",
      "A value is trying to be set on a copy of a slice from a DataFrame.\n",
      "Try using .loc[row_indexer,col_indexer] = value instead\n",
      "\n",
      "See the caveats in the documentation: http://pandas.pydata.org/pandas-docs/stable/indexing.html#indexing-view-versus-copy\n"
     ]
    }
   ],
   "source": [
    "import numpy as np\n",
    "fold_ids = [1,2,3,4,5]\n",
    "\n",
    "def train_and_test(df, folds):\n",
    "    fold_accuracies = []\n",
    "    for fold in folds:\n",
    "        model = LogisticRegression()\n",
    "        train = df[df[\"fold\"] != fold]\n",
    "        test = df[df[\"fold\"] == fold]\n",
    "        model.fit(train[[\"gpa\"]], train[\"actual_label\"])\n",
    "        labels = model.predict(test[[\"gpa\"]])\n",
    "        test[\"predicted_label\"] = labels\n",
    "        \n",
    "        matches = test[\"predicted_label\"] == test[\"actual_label\"]\n",
    "        correct_predictions = test[matches]\n",
    "        fold_accuracies.append(len(correct_predictions) / len(test))\n",
    "    return(fold_accuracies)\n",
    "\n",
    "accuracies = train_and_test(admissions, fold_ids)\n",
    "print(accuracies)\n",
    "average_accuracy = np.mean(accuracies)\n",
    "print(average_accuracy)"
   ]
  },
  {
   "cell_type": "markdown",
   "metadata": {
    "collapsed": false
   },
   "source": [
    "# 4. Sklearn\n",
    "Instructions\n",
    "Create a new instance of the KFold class with the following properties:\n",
    "n set to length of admissions,\n",
    "5 folds,\n",
    "shuffle set to True,\n",
    "random seed set to 8 (so we can answer check using the same seed),\n",
    "assigned to the variable kf.\n",
    "Create a new instance of the LogisticRegression class and assign to lr.\n",
    "Use the cross_val_score function to perform k-fold cross-validation:\n",
    "using the LogisticRegression instance lr,\n",
    "using the gpa column for training,\n",
    "using the actual_label column as the target column,\n",
    "returning an array of accuracy values (one value for each fold).\n",
    "Assign the resulting array of accuracy values to accuracies, compute the average accuracy, and assign the average to average_accuracy.\n",
    "Use the variable inspector or the print function to display the values for accuracies and average_accuracy.\n",
    "Hint\n",
    "Documentation on KFold. List of accepted scoring criteria for cross_val_score."
   ]
  },
  {
   "cell_type": "code",
   "execution_count": 28,
   "metadata": {
    "collapsed": false
   },
   "outputs": [
    {
     "name": "stdout",
     "output_type": "stream",
     "text": [
      "[ 0.6124031   0.65891473  0.64341085  0.6744186   0.6328125 ]\n",
      "0.644391957364\n"
     ]
    }
   ],
   "source": [
    "from sklearn.cross_validation import KFold\n",
    "from sklearn.cross_validation import cross_val_score\n",
    "\n",
    "admissions = pd.read_csv(\"admissions.csv\")\n",
    "admissions[\"actual_label\"] = admissions[\"admit\"]\n",
    "admissions = admissions.drop(\"admit\", axis=1)\n",
    "\n",
    "kf = KFold(len(admissions), 5, shuffle=True, random_state=8)\n",
    "\n",
    "lr = LogisticRegression()\n",
    "\n",
    "accuracies = cross_val_score(lr, admissions[[\"gpa\"]], admissions[\"actual_label\"], scoring=\"accuracy\", cv=kf)\n",
    "average_accuracy = sum(accuracies) / len(accuracies)\n",
    "print(accuracies)\n",
    "print(average_accuracy)"
   ]
  }
 ],
 "metadata": {
  "kernelspec": {
   "display_name": "Python 3",
   "language": "python",
   "name": "python3"
  },
  "language_info": {
   "codemirror_mode": {
    "name": "ipython",
    "version": 3
   },
   "file_extension": ".py",
   "mimetype": "text/x-python",
   "name": "python",
   "nbconvert_exporter": "python",
   "pygments_lexer": "ipython3",
   "version": "3.5.1"
  }
 },
 "nbformat": 4,
 "nbformat_minor": 0
}
