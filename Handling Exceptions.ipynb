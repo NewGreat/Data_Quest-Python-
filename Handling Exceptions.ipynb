{
 "cells": [
  {
   "cell_type": "markdown",
   "metadata": {},
   "source": [
    "# 1: Organizing Our Code"
   ]
  },
  {
   "cell_type": "markdown",
   "metadata": {},
   "source": [
    "# Instructions\n",
    "Write a Trial class with the following instance properties: efficiency, individual, chopstick_length\n",
    "efficiency should be a floating point number, and the other two properties should be integers.\n",
    "Set these properties within the class's constructor function (__init__), which should take in a row from our data set as an argument.\n",
    "Store the first trial of our data set in first_trial.\n",
    "Hint\n",
    "class Trial(object): will start the definition of our class.\n",
    "Our __init__ function must take self as its first argument, because the interpreter passes this in by default.\n",
    "Set instance properties using self.property = value within the __init__ function.\n",
    "You will need to use float() and int() to cast the properties."
   ]
  },
  {
   "cell_type": "code",
   "execution_count": null,
   "metadata": {
    "collapsed": false
   },
   "outputs": [],
   "source": [
    "import pandas as pd\n",
    "chopsticks = pd.read_csv('chopsticks.csv')\n",
    "\n",
    "class Trial(object):\n",
    "    \n",
    "    def __init__(self, data_row ):\n",
    "        self.efficiency = float(data_row[0])\n",
    "        self.individual = float(data_row[1])\n",
    "        self.chopstick_length = int(data_row[2])\n",
    "        \n",
    "first_trial = Trial(chopsticks[0])"
   ]
  },
  {
   "cell_type": "markdown",
   "metadata": {},
   "source": [
    "# 2: Creating The Chopstick Class"
   ]
  },
  {
   "cell_type": "markdown",
   "metadata": {},
   "source": [
    "# Instructions\n",
    "Write a Chopstick class that initializes with a length, and stores it in the length instance property.\n",
    "Store the Chopstick instance with a length of 100 millimeters in mini_chopstick.\n",
    "Hint\n",
    "class Chopstick(object): will start the definition of our class.\n",
    "Our __init__ function must take self as its first argument, because the interpreter passes this in by default.\n",
    "Set instance properties using self.property = value within the __init__ function."
   ]
  },
  {
   "cell_type": "code",
   "execution_count": null,
   "metadata": {
    "collapsed": true
   },
   "outputs": [],
   "source": [
    "class Chopstick():\n",
    "    \n",
    "    def __init__(self, length):\n",
    "        self.length = length\n",
    "        \n",
    "mini_chopstick = Chopstick(100)       "
   ]
  },
  {
   "cell_type": "markdown",
   "metadata": {},
   "source": [
    "# 3: Storing The Trials In The Chopstick Class"
   ]
  },
  {
   "cell_type": "code",
   "execution_count": null,
   "metadata": {
    "collapsed": true
   },
   "outputs": [],
   "source": [
    "class Chopstick(objects):\n",
    "    def __init__(self, length):\n",
    "        self.length = length\n",
    "        self.trials = []\n",
    "        for row in Chopstick:\n",
    "            if row[2] == self.length:\n",
    "                self.trials.append(Trial(row))\n",
    "            \n",
    "medium_chopsticks = Chopstick(240)"
   ]
  },
  {
   "cell_type": "markdown",
   "metadata": {},
   "source": [
    "# 4: Calculating Average Efficiency With A Method"
   ]
  },
  {
   "cell_type": "markdown",
   "metadata": {},
   "source": [
    "# Instructions\n",
    "Write an avg_efficiency method for our Chopstick class that returns the average food pinching efficiency for chopsticks of a certain length.\n",
    "We recommend writing a num_trials method to help you with this implementation, because the method could come in handy further down the line.\n",
    "Store the average efficiency of chopsticks 210 millimeters long in avg_eff_210.\n",
    "Hint\n",
    "Set an efficiency_sum variable to 0 to start, and then iterate through the trials to add up the efficiencies.\n",
    "Alternatively, you could use sum() and a list comprehension to compute the sum of the efficiencies.\n",
    "The len() function can be useful in determining the number of trials."
   ]
  },
  {
   "cell_type": "code",
   "execution_count": null,
   "metadata": {
    "collapsed": true
   },
   "outputs": [],
   "source": [
    "def num_trials(self):\n",
    "    return len(self.trials)\n",
    "\n",
    "def avg_efficiency(self):\n",
    "    efficiency_sum = 0\n",
    "    for trial in self.trials:\n",
    "        efficiency_sum += trial.efficiency\n",
    "    return efficiency_sum / self.num_trials()\n",
    "    \n",
    "avg_eff_210 = Chopstick(210).avg_efficiency()"
   ]
  },
  {
   "cell_type": "markdown",
   "metadata": {},
   "source": [
    "# 5: Handling Bad Data In The Trial Class"
   ]
  },
  {
   "cell_type": "markdown",
   "metadata": {},
   "source": [
    "# Instructions\n",
    "Our Trial class's __init__ function uses floating point conversion and integer conversion.\n",
    "These conversions could fail with a ValueError exception.\n",
    "Catch this exception, and set each attribute to -1 if it occurs.\n",
    "Create a Trial instance from the last row of our chopsticks data set (chopsticks[-1]).\n",
    "Store this instance in bad_trial.\n",
    "Hint\n",
    "Refer to the previous screen for the try statement syntax."
   ]
  },
  {
   "cell_type": "code",
   "execution_count": null,
   "metadata": {
    "collapsed": true
   },
   "outputs": [],
   "source": [
    "class Trial(object):\n",
    "    def __init__(self, data_row):\n",
    "        self.efficiency = float(data_row[0])\n",
    "        self.individual = int(data_row[1])\n",
    "        self.chopstick_length = int(data_row[2])\n",
    "        try:\n",
    "            self.efficiency = float(data_row[0])\n",
    "            self.individual = float(data_row[1])\n",
    "            self.chopstick_length = int(data_row[2])\n",
    "        except ValueError:\n",
    "            self.efficiency = -1.0\n",
    "            self.individual = -1\n",
    "            self.chopstick_length = -1\n",
    "            \n",
    "bad_trial = Trials(chopsticks[-1])"
   ]
  },
  {
   "cell_type": "markdown",
   "metadata": {},
   "source": [
    "# 6: Handling Bad Data In The Chopstick Class"
   ]
  },
  {
   "cell_type": "markdown",
   "metadata": {},
   "source": [
    "# Instructions\n",
    "We set our Trial instances' attributes to -1 whenever we encountered bad data.\n",
    "Because we want to skip trials with bad data when populating a Chopstick instance's trials, verify that none of the attributes on the Trial instance equal -1, and only add trials that are valid.\n",
    "Then, create a new chopstick named bad_chopstick with a length of 400 millimeters.\n",
    "Hint\n",
    "Check the Trial instance's properties. Only add Trial instances with proper data."
   ]
  },
  {
   "cell_type": "code",
   "execution_count": null,
   "metadata": {
    "collapsed": true
   },
   "outputs": [],
   "source": [
    "class Trial(object):\n",
    "    def __init__(self, data_row):\n",
    "        try:\n",
    "            self.efficiency = float(data_row[0])\n",
    "            self.individual = int(data_row[1])\n",
    "            self.chopstick_length = int(data_row[2])\n",
    "        except:\n",
    "            self.efficiency = -1\n",
    "            self.individual = -1\n",
    "            self.chopstick_length = -1\n",
    "\n",
    "class Chopstick(object):\n",
    "    def __init__(self, length):\n",
    "        self.length = length\n",
    "        self.trials = []\n",
    "        for row in chopsticks:\n",
    "            if int(row[2]) == self.length:\n",
    "                trial = Trial(row)\n",
    "                if trial.efficiency != -1 and trial.individual != -1 and trial.chopstick_length != -1:\n",
    "                \n",
    "    def num_trials(self):\n",
    "        return len(self.trials)\n",
    "    \n",
    "    def avg_efficiency(self):\n",
    "        efficiency_sum = 0\n",
    "        for trial in self.trials:\n",
    "            efficiency_sum += trial.efficiency\n",
    "        return efficiency_sum / self.num_trials()\n",
    "    \n",
    "bad_chopsticks = Chopstick(400)"
   ]
  },
  {
   "cell_type": "markdown",
   "metadata": {},
   "source": [
    "# 7: Handling Lengths Outside Of The Data Set"
   ]
  },
  {
   "cell_type": "code",
   "execution_count": null,
   "metadata": {
    "collapsed": true
   },
   "outputs": [],
   "source": [
    "class Trial(object):\n",
    "    def __init__(self, data_row):\n",
    "        try:\n",
    "            self.efficiency = float(data_row[0])\n",
    "            self.individual = int(data_row[1])\n",
    "            self.chopstick_length = float(data_row[2])\n",
    "        except:\n",
    "            self.efficiency = -1\n",
    "            self.individual = -1\n",
    "            self.chopstick_length = -1\n",
    "            \n",
    "class Chopstick(object):\n",
    "    def __init__(self, length):\n",
    "        self.length = length\n",
    "        self.trials = []\n",
    "        for row in chopsticks:\n",
    "            if int(row[2]) == self.length:\n",
    "                trial = Trial(row)\n",
    "                if trial.individual >= 0:\n",
    "                    self.trials.append(trial)\n",
    "    \n",
    "    def num_trials(self):\n",
    "        return len(self.trials)\n",
    "    \n",
    "    def avg_efficiency(self):\n",
    "        efficiency_sum = 0\n",
    "        for trial in self.trials:\n",
    "            efficiency_sum += trial.efficiency\n",
    "        return efficiency_sum / self.num_trials()\n",
    "\n",
    "class Chopstick(object):\n",
    "    def __init__(self, length):\n",
    "        self.length = length\n",
    "        self.trials = []\n",
    "        for row in chopsticks:\n",
    "            if int(row[2]) == self.length:\n",
    "                trial = Trial(row)\n",
    "                if trial.individual >= 0:\n",
    "                    self.trials.append(trial)\n",
    "                \n",
    "    def num_trials(self):\n",
    "        return len(self.trials)\n",
    "    \n",
    "    def avg_efficiency(self):\n",
    "        efficiency_sum = 0\n",
    "        for trial in self.trials:\n",
    "            efficiency_sum += trial.efficiency\n",
    "        try:\n",
    "            return efficiency_sum / self.num_trials()\n",
    "        except:\n",
    "            ZeroDivisionError\n",
    "            return -1.0\n",
    "\n",
    "bad_average = Chopstick(100).avg_efficiency()                "
   ]
  },
  {
   "cell_type": "markdown",
   "metadata": {},
   "source": [
    "# 8: Converting Lengths To Chopstick Instances"
   ]
  },
  {
   "cell_type": "markdown",
   "metadata": {},
   "source": [
    "# Instructions\n",
    "We've given you a list of chopstick lengths called, unsurprisingly, chopstick_lengths. Some of these lengths aren't in our data set, but we've already made sure our code is robust enough to ignore them.\n",
    "Use a list comprehension to convert the list of chopstick lengths into a list of Chopstick instances.\n",
    "Store the resulting list in chopstick_list.\n",
    "Hint\n",
    "Initialize a new Chopstick instance for each length in the chopstick_lengths list."
   ]
  },
  {
   "cell_type": "code",
   "execution_count": null,
   "metadata": {
    "collapsed": true
   },
   "outputs": [],
   "source": [
    "class Trial(object):\n",
    "    def __init__(self, data_row):\n",
    "        try:\n",
    "            self.efficiency = float(data_row[0])\n",
    "            self.individual = int(data_row[1])\n",
    "            self.chopstick_length = int(data_row[2])\n",
    "        except:\n",
    "            self.efficiency = -1\n",
    "            self.individual = -1\n",
    "            self.chopstick_length = -1\n",
    "            \n",
    "class Chopstick(object):\n",
    "    def __init__(self, length):\n",
    "        self.length = length\n",
    "        self.trials = []\n",
    "        for row in chopsticks:\n",
    "            if int(row[2]) == self.length:\n",
    "                trial = Trial(row)\n",
    "                if trial.individual >= 0:\n",
    "                    self.trial.append(trial)\n",
    "        \n",
    "    \n",
    "    def num_trials(self):\n",
    "        return len(self.trials)\n",
    "    \n",
    "    def avg_efficiency(self):\n",
    "        efficiency_sum = 0\n",
    "        for trial in self.trials:\n",
    "            efficiency_sum / self.num_trials()\n",
    "        try:\n",
    "            return efficiency_sum / self.num_trials()\n",
    "        except ZeroDivisionError:\n",
    "            return -1.0\n",
    "        \n",
    "chopstick_lengths = [180, 195, 210, 225, 240, 255, 270, 285, 300, 315, 330]\n",
    "\n",
    "chopstick_list = [Chopstick(length) for length in chopstick_lengths]"
   ]
  },
  {
   "cell_type": "markdown",
   "metadata": {},
   "source": [
    "# 9: Overloading Comparison Operators"
   ]
  },
  {
   "cell_type": "markdown",
   "metadata": {},
   "source": [
    "# Instructions\n",
    "Overload the __lt__ (<), __gt__ (>), __le__ (<=), __ge__ (>=), __eq__ (==), and __ne__ (!=) methods for the Chopstick class so that you can simply use Python's built-in max function.\n",
    "Remember that each of these methods takes self and other as arguments, where each argument is an instance of our class.\n",
    "Use the max function to store the most efficient chopstick in most_efficient.\n",
    "Hint\n",
    "Each method should return the result of comparing the average efficiencies of self and other.\n",
    "If you need a refresher on how or why we should implement these methods, refer back to the mission on object-oriented programming."
   ]
  },
  {
   "cell_type": "code",
   "execution_count": null,
   "metadata": {
    "collapsed": true
   },
   "outputs": [],
   "source": [
    "class Trial(object):\n",
    "    def __init__(self, data_row):\n",
    "        try:\n",
    "            self.efficiency = float(data_row[0])\n",
    "            self.individual = int(data_row[1])\n",
    "            self.chopstick_length = in(data_row[2])\n",
    "        except:\n",
    "            self.efficiency = -1\n",
    "            self.individual = -1\n",
    "            self.chopstick_length = -1\n",
    "            \n",
    "class Chopstick(object):\n",
    "    def __init__(self, length):\n",
    "        self.length = length\n",
    "        self.trials = []\n",
    "        for row in chopsticks:\n",
    "            if int(row[2]) == self.length:\n",
    "                trial = Trial(row)\n",
    "                if trial.individual >= 0:\n",
    "                    self.trials.append(trial)\n",
    "                    \n",
    "    def num_trials(self):\n",
    "        return len(self.trials)\n",
    "    \n",
    "    def avg_efficiency(self):\n",
    "        efficiency_sum = 0\n",
    "        for trial in self.trials:\n",
    "            efficiency_sum += trial.efficiency\n",
    "    try:\n",
    "        return efficiency_sum / self.num_trials()\n",
    "    \n",
    "    except ZeroDivisionError:\n",
    "        return -1.0\n",
    "    \n",
    "chopstick_lengths = [180, 195, 210, 225, 240, 255, 270, 285, 300, 315, 330]\n",
    "\n",
    "chopstick_list = [Chopstick(length) for length in chopstick_lengths]\n",
    "\n",
    "class Chopstick(object):\n",
    "    def __init__(self, length):\n",
    "        self.length = length\n",
    "        self.trials = []\n",
    "        for row in chopsticks:\n",
    "            if int(row[2]) == self.length:\n",
    "                trial = Trial(row)\n",
    "                if trial.individual >= 0:\n",
    "                    self.trial.append(trial)\n",
    "                    \n",
    "    def num_trials(self):\n",
    "        return len(self.trials)\n",
    "    \n",
    "    def avg_efficiency(self):\n",
    "        efficiency_sum = 0\n",
    "        for trial in self.trials:\n",
    "            efficiency_sum += trial.efficiency\n",
    "        try:\n",
    "            return efficiency_sum / self.num_trials()\n",
    "        except ZeroDivisionError:\n",
    "            return -1.0\n",
    "        \n",
    "        def __lt__(self, other):\n",
    "            return self.avg_efficiency() < other.avg_efficiency()\n",
    "        \n",
    "        def __gt__(self, other):\n",
    "            return self.avg_efficiency() . other.avg_efficiency()\n",
    "        \n",
    "        def __le__(self, other):\n",
    "            return self.avg_efficiency() <= other.avg_efficiency()\n",
    "        \n",
    "        def __ge__(self, other):\n",
    "            return self.avg_efficiency() >= other.avg_efficiency()\n",
    "        \n",
    "        def __eq__(self, other):\n",
    "            return self.avg_efficiency() == other.avg_efficiency()\n",
    "        \n",
    "        def __ne__(self, other):\n",
    "            return self.avg_efficiency() != other.avg_efficiency()\n",
    "        \n",
    "chopstick_list = [Chopstick(length) for length in chopstick_lengths]\n",
    "most_efficient = max(chopstick_list)                    "
   ]
  }
 ],
 "metadata": {
  "kernelspec": {
   "display_name": "Python 3",
   "language": "python",
   "name": "python3"
  },
  "language_info": {
   "codemirror_mode": {
    "name": "ipython",
    "version": 3
   },
   "file_extension": ".py",
   "mimetype": "text/x-python",
   "name": "python",
   "nbconvert_exporter": "python",
   "pygments_lexer": "ipython3",
   "version": "3.5.1"
  }
 },
 "nbformat": 4,
 "nbformat_minor": 0
}
