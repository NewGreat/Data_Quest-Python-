{
 "cells": [
  {
   "cell_type": "markdown",
   "metadata": {},
   "source": [
    "# 1: The Data Set"
   ]
  },
  {
   "cell_type": "markdown",
   "metadata": {},
   "source": [
    "# Instructions\n",
    "Assign the first element of weather to first_element and display it using the print() function.\n",
    "Assign the last element of weather to last_element and display it using the print() function.\n",
    "Hint\n",
    "Remember that since weather contains 365 elements, the last index is 364."
   ]
  },
  {
   "cell_type": "code",
   "execution_count": 1,
   "metadata": {
    "collapsed": true
   },
   "outputs": [],
   "source": [
    "import pandas as pd\n",
    "weather = pd.read_csv('la_weather.csv')"
   ]
  },
  {
   "cell_type": "code",
   "execution_count": 2,
   "metadata": {},
   "outputs": [
    {
     "data": {
      "text/plain": [
       "365"
      ]
     },
     "execution_count": 2,
     "metadata": {},
     "output_type": "execute_result"
    }
   ],
   "source": [
    "len(weather)"
   ]
  },
  {
   "cell_type": "code",
   "execution_count": 14,
   "metadata": {},
   "outputs": [
    {
     "name": "stdout",
     "output_type": "stream",
     "text": [
      "Day                    1\n",
      "Type of Weather    Sunny\n",
      "Name: 0, dtype: object\n"
     ]
    }
   ],
   "source": [
    "first_element = weather.iloc[0]\n",
    "print(first_element)"
   ]
  },
  {
   "cell_type": "code",
   "execution_count": 13,
   "metadata": {},
   "outputs": [
    {
     "name": "stdout",
     "output_type": "stream",
     "text": [
      "Day                365\n",
      "Type of Weather    Fog\n",
      "Name: 364, dtype: object\n"
     ]
    }
   ],
   "source": [
    "last_element = weather.iloc[364]\n",
    "print(last_element)"
   ]
  },
  {
   "cell_type": "markdown",
   "metadata": {},
   "source": [
    "# 2: Practice Populating A Dictionary"
   ]
  },
  {
   "cell_type": "markdown",
   "metadata": {},
   "source": [
    "# Instructions\n",
    "Assign the value 1 to the key Aquaman in a new dictionary named superhero_ranks.\n",
    "Assign the value 2 to the key Superman in superhero_ranks.\n",
    "Hint\n",
    "Recall that we can assign values to keys by using square brackets. dictionary_one['test'] = 10 assigns the value 10 to the key 'test' in dictionary_one."
   ]
  },
  {
   "cell_type": "code",
   "execution_count": 18,
   "metadata": {},
   "outputs": [
    {
     "name": "stdout",
     "output_type": "stream",
     "text": [
      "{'Aquaman': 1, 'Superman': 2}\n"
     ]
    }
   ],
   "source": [
    "superhero_ranks = {}\n",
    "superhero_ranks[\"Aquaman\"] = 1\n",
    "superhero_ranks[\"Superman\"] = 2\n",
    "print(superhero_ranks)"
   ]
  },
  {
   "cell_type": "markdown",
   "metadata": {},
   "source": [
    "# 3: Practice Indexing A Dictionary"
   ]
  },
  {
   "cell_type": "markdown",
   "metadata": {},
   "source": [
    "# Instructions\n",
    "Look up FDR in president_ranks and assign the result to a new variable fdr_rank.\n",
    "Look up Lincoln in president_ranks and assign the result to a new variable lincoln_rank.\n",
    "Look up Aquaman in president_ranks and assign the result to a new variable aquaman_rank.\n",
    "Hint\n",
    "Use square brackets to retrieve an element from a dictionary. a = dictionary_two['key1'] will assign the value of 'key1' in dictionary_two to a."
   ]
  },
  {
   "cell_type": "code",
   "execution_count": 21,
   "metadata": {},
   "outputs": [
    {
     "name": "stdout",
     "output_type": "stream",
     "text": [
      "1\n",
      "2\n",
      "3\n"
     ]
    }
   ],
   "source": [
    "president_ranks = {}\n",
    "president_ranks[\"FDR\"] = 1\n",
    "president_ranks[\"Lincoln\"] = 2\n",
    "president_ranks[\"Aquaman\"] = 3\n",
    "\n",
    "fdr_rank = president_ranks[\"FDR\"]\n",
    "print(fdr_rank)\n",
    "\n",
    "lincoln_rank = president_ranks[\"Lincoln\"]\n",
    "print(lincoln_rank)\n",
    "\n",
    "aquaman_rank = president_ranks[\"Aquaman\"]\n",
    "print(aquaman_rank)"
   ]
  },
  {
   "cell_type": "markdown",
   "metadata": {},
   "source": [
    "# 4: Defining A Dictionary With Values"
   ]
  },
  {
   "cell_type": "markdown",
   "metadata": {},
   "source": [
    "# Instructions\n",
    "Create a dictionary named animals with the following keys and values:\n",
    "The key 7 corresponding to the value raven.\n",
    "The key 8 corresponding to the value goose.\n",
    "The key 9 corresponding to the value duck.\n",
    "Create a dictionary named times with the following keys and values:\n",
    "The key morning corresponding to the value 9.\n",
    "The key afternoon corresponding to the value 14.\n",
    "The key evening corresponding to the value 19.\n",
    "The key night corresponding to the value 23.\n",
    "Hint\n",
    "We can create a dictionary and populate it at the same time by using keys and values, and separating them with colons. For example, f = {5: 'sun', 6: 'moon'} will make a dictionary f with two keys."
   ]
  },
  {
   "cell_type": "code",
   "execution_count": 22,
   "metadata": {},
   "outputs": [
    {
     "name": "stdout",
     "output_type": "stream",
     "text": [
      "{'key1': 10, 'key2': 'indubitably', 'key3': 'dataquest', 3: 5.6}\n"
     ]
    }
   ],
   "source": [
    "random_values = {\"key1\" : 10, \"key2\": \"indubitably\", \"key3\": \"dataquest\", 3: 5.6}\n",
    "print(random_values)"
   ]
  },
  {
   "cell_type": "code",
   "execution_count": 32,
   "metadata": {},
   "outputs": [
    {
     "name": "stdout",
     "output_type": "stream",
     "text": [
      "{7: 'raven', 8: 'goose', 9: 'duck'}\n"
     ]
    }
   ],
   "source": [
    "animals = {\n",
    "    7 : \"raven\",\n",
    "    8 : \"goose\",\n",
    "    9 : \"duck\"\n",
    "}\n",
    "print(animals)"
   ]
  },
  {
   "cell_type": "code",
   "execution_count": 30,
   "metadata": {},
   "outputs": [
    {
     "name": "stdout",
     "output_type": "stream",
     "text": [
      "{'morning': 9, 'afternoon': 14, 'evening': 19, 'night': 23}\n"
     ]
    }
   ],
   "source": [
    "times = {\n",
    "    \"morning\" : 9,\n",
    "    \"afternoon\" : 14,\n",
    "    \"evening\" : 19,\n",
    "    \"night\" : 23\n",
    "}\n",
    "print(times)"
   ]
  },
  {
   "cell_type": "markdown",
   "metadata": {},
   "source": [
    "# 5: Modifying Dictionary Values"
   ]
  },
  {
   "cell_type": "markdown",
   "metadata": {},
   "source": [
    "# Instructions\n",
    "Add the key Ann and value 85 to the dictionary students.\n",
    "Replace the value for the key Tom with 80.\n",
    "Add 5 to the value for the key Jim.\n",
    "Hint\n",
    "Remember that you can add to a value in a dictionary by following this code example: dictionary[\"key\"] = dictionary[\"key\"] + 5."
   ]
  },
  {
   "cell_type": "code",
   "execution_count": 34,
   "metadata": {},
   "outputs": [
    {
     "name": "stdout",
     "output_type": "stream",
     "text": [
      "{'Tom': 60, 'Jim': 70}\n"
     ]
    }
   ],
   "source": [
    "students = {\n",
    "    \"Tom\" : 60,\n",
    "    \"Jim\" : 70\n",
    "}\n",
    "print(students)"
   ]
  },
  {
   "cell_type": "code",
   "execution_count": 36,
   "metadata": {},
   "outputs": [
    {
     "name": "stdout",
     "output_type": "stream",
     "text": [
      "{'Tom': 60, 'Jim': 70, 'Ann': 85}\n"
     ]
    }
   ],
   "source": [
    "students[\"Ann\"] = 85\n",
    "print(students)"
   ]
  },
  {
   "cell_type": "code",
   "execution_count": 37,
   "metadata": {},
   "outputs": [
    {
     "name": "stdout",
     "output_type": "stream",
     "text": [
      "{'Tom': 80, 'Jim': 70, 'Ann': 85}\n"
     ]
    }
   ],
   "source": [
    "students[\"Tom\"] = 80\n",
    "print(students)"
   ]
  },
  {
   "cell_type": "code",
   "execution_count": 41,
   "metadata": {},
   "outputs": [
    {
     "name": "stdout",
     "output_type": "stream",
     "text": [
      "{'Tom': 85, 'Jim': 75, 'Ann': 85}\n"
     ]
    }
   ],
   "source": [
    "students[\"Jim\"] = students[\"Jim\"] + 5\n",
    "print(students)"
   ]
  },
  {
   "cell_type": "markdown",
   "metadata": {},
   "source": [
    "# 6: The In Statement And Dictionaries"
   ]
  },
  {
   "cell_type": "markdown",
   "metadata": {},
   "source": [
    "# Instructions\n",
    "Check whether jupiter is a key in planet_numbers, and assign the resulting Boolean value to jupiter_found.\n",
    "Check whether earth is a key in planet_numbers, and assign the resulting Boolean value to earth_found.\n",
    "Hint\n",
    "'dog' in the_dict will check whether the key 'dog' is in the_dict. a = 'dog' in the_dict will assign the result to the variable a."
   ]
  },
  {
   "cell_type": "code",
   "execution_count": 43,
   "metadata": {
    "collapsed": true
   },
   "outputs": [],
   "source": [
    "planet_numbers  ={\"murcury\": 1, \"venus\": 2, \"earth\": 3, \"mars\": 4}"
   ]
  },
  {
   "cell_type": "code",
   "execution_count": 45,
   "metadata": {},
   "outputs": [
    {
     "name": "stdout",
     "output_type": "stream",
     "text": [
      "False\n"
     ]
    }
   ],
   "source": [
    "jupiter_found = \"jupiter\" in planet_numbers\n",
    "print(jupiter_found)"
   ]
  },
  {
   "cell_type": "code",
   "execution_count": 46,
   "metadata": {},
   "outputs": [
    {
     "name": "stdout",
     "output_type": "stream",
     "text": [
      "True\n"
     ]
    }
   ],
   "source": [
    "earth_found = \"earth\" in planet_numbers\n",
    "print(earth_found)"
   ]
  },
  {
   "cell_type": "markdown",
   "metadata": {},
   "source": [
    "# 7: Practicing With The Else Statement"
   ]
  },
  {
   "cell_type": "markdown",
   "metadata": {},
   "source": [
    "# Instructions\n",
    "Append any names in planet_names that are longer than 5 characters to long_names. Otherwise, append the names to short_names. To accomplish this:\n",
    "Loop through each item in planet_names.\n",
    "Use the len() function to find the length of the item.\n",
    "If the length is greater than 5, append the item to long_names.\n",
    "Otherwise, append it to short_names.\n",
    "When complete, short_names should contain any planet names less than 6 characters long, and long_names should contain any planet names 6 characters or longer.\n",
    "Hint\n",
    "If you pass a string into the len() function, you'll get back an integer indicating the length of the string.\n",
    "\n"
   ]
  },
  {
   "cell_type": "code",
   "execution_count": 49,
   "metadata": {},
   "outputs": [
    {
     "name": "stdout",
     "output_type": "stream",
     "text": [
      "['Mercury', 'Jupiter', 'Saturn', 'Neptune', 'Uranus']\n",
      "['Venus', 'Earth', 'Mars']\n"
     ]
    }
   ],
   "source": [
    "planet_names = [\"Mercury\", \"Venus\", \"Earth\", \"Mars\", \"Jupiter\", \"Saturn\", \"Neptune\", \"Uranus\"]\n",
    "short_names = []\n",
    "long_names = []\n",
    "\n",
    "for pn in planet_names:\n",
    "    if len(pn) > 5:\n",
    "        long_names.append(pn)\n",
    "    else:\n",
    "        short_names.append(pn)\n",
    "        \n",
    "print(long_names)\n",
    "print(short_names)"
   ]
  },
  {
   "cell_type": "markdown",
   "metadata": {},
   "source": [
    "# 8: Counting With Dictionaries"
   ]
  },
  {
   "cell_type": "markdown",
   "metadata": {},
   "source": [
    "# Instructions\n",
    "Count the number of times that each element occurs in the list named pantry that appears in the code block below. You'll need to:\n",
    "Create an empty dictionary named pantry_counts.\n",
    "Loop through each item in pantry.\n",
    "If the item appears in pantry_counts, add 1 to the value in pantry_counts for the item's key.\n",
    "Otherwise, add the item to pantry_counts as a key, with the value 1.\n",
    "When finished, each item in pantry will have its own key in pantry_counts, and its value will be the number of times the item appears in pantry.\n",
    "Hint\n",
    "You can check whether an item is in pantry_counts and increment the counts properly by following this code example:\n",
    "if item in pantry_counts:\n",
    "    pantry_counts[item] = pantry_counts[item] + 1\n",
    "else:\n",
    "    pantry_counts[item] = 1"
   ]
  },
  {
   "cell_type": "code",
   "execution_count": 56,
   "metadata": {},
   "outputs": [
    {
     "name": "stdout",
     "output_type": "stream",
     "text": [
      "{'apple': 3, 'orange': 2, 'grape': 2, 'tomato': 1, 'potato': 1}\n"
     ]
    }
   ],
   "source": [
    "pantry = [\"apple\", \"orange\", \"grape\", \"apple\", \"orange\", \"apple\", \"tomato\", \"potato\", \"grape\"]\n",
    "pantry_counts = {}\n",
    "for p in pantry:\n",
    "    if p in pantry_counts:\n",
    "        pantry_counts[p] = pantry_counts[p] + 1\n",
    "    else:\n",
    "        pantry_counts[p] = 1   \n",
    "print(pantry_counts)"
   ]
  },
  {
   "cell_type": "markdown",
   "metadata": {},
   "source": [
    "# 9: Counting The Weather"
   ]
  },
  {
   "cell_type": "code",
   "execution_count": 68,
   "metadata": {},
   "outputs": [
    {
     "name": "stdout",
     "output_type": "stream",
     "text": [
      "{'Sunny': 201, 'Rain': 25, 'Fog': 121, 'Fog-Rain': 4, 'Thunderstorm': 1}\n"
     ]
    }
   ],
   "source": [
    "weather_counts = {}\n",
    "for w in weather['Type of Weather']:\n",
    "    if w in weather_counts:\n",
    "        weather_counts[w] = weather_counts[w] + 1\n",
    "    else:\n",
    "        weather_counts[w] = 1\n",
    "print(weather_counts)   "
   ]
  }
 ],
 "metadata": {
  "kernelspec": {
   "display_name": "Python 3",
   "language": "python",
   "name": "python3"
  },
  "language_info": {
   "codemirror_mode": {
    "name": "ipython",
    "version": 3
   },
   "file_extension": ".py",
   "mimetype": "text/x-python",
   "name": "python",
   "nbconvert_exporter": "python",
   "pygments_lexer": "ipython3",
   "version": "3.6.1"
  }
 },
 "nbformat": 4,
 "nbformat_minor": 2
}
