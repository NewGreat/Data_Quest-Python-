{
 "cells": [
  {
   "cell_type": "markdown",
   "metadata": {},
   "source": [
    "# 1. Introduction to the Data"
   ]
  },
  {
   "cell_type": "markdown",
   "metadata": {},
   "source": [
    "## Instructions\n",
    "Read all-ages.csv into a DataFrame object, and assign it to all_ages.\n",
    "Read recent-grads.csv into a DataFrame object, and assign it to recent_grads.\n",
    "Display the first five rows of all_ages and recent_grads."
   ]
  },
  {
   "cell_type": "code",
   "execution_count": 10,
   "metadata": {
    "collapsed": true,
    "scrolled": true
   },
   "outputs": [],
   "source": [
    "import pandas as pd\n",
    "\n",
    "all_ages = pd.read_csv('all_ages.csv')\n",
    "recent_grads = pd.read_csv('recent-grads.csv')"
   ]
  },
  {
   "cell_type": "code",
   "execution_count": 11,
   "metadata": {},
   "outputs": [
    {
     "name": "stdout",
     "output_type": "stream",
     "text": [
      "   Major_code                                  Major  \\\n",
      "0        1100                    GENERAL AGRICULTURE   \n",
      "1        1101  AGRICULTURE PRODUCTION AND MANAGEMENT   \n",
      "2        1102                 AGRICULTURAL ECONOMICS   \n",
      "3        1103                        ANIMAL SCIENCES   \n",
      "4        1104                           FOOD SCIENCE   \n",
      "\n",
      "                    Major_category   Total  Employed  \\\n",
      "0  Agriculture & Natural Resources  128148     90245   \n",
      "1  Agriculture & Natural Resources   95326     76865   \n",
      "2  Agriculture & Natural Resources   33955     26321   \n",
      "3  Agriculture & Natural Resources  103549     81177   \n",
      "4  Agriculture & Natural Resources   24280     17281   \n",
      "\n",
      "   Employed_full_time_year_round  Unemployed  Unemployment_rate  Median  \\\n",
      "0                          74078        2423           0.026147   50000   \n",
      "1                          64240        2266           0.028636   54000   \n",
      "2                          22810         821           0.030248   63000   \n",
      "3                          64937        3619           0.042679   46000   \n",
      "4                          12722         894           0.049188   62000   \n",
      "\n",
      "   P25th    P75th  \n",
      "0  34000  80000.0  \n",
      "1  36000  80000.0  \n",
      "2  40000  98000.0  \n",
      "3  30000  72000.0  \n",
      "4  38500  90000.0  \n"
     ]
    }
   ],
   "source": [
    "print(all_ages[0:5])"
   ]
  },
  {
   "cell_type": "code",
   "execution_count": 12,
   "metadata": {},
   "outputs": [
    {
     "name": "stdout",
     "output_type": "stream",
     "text": [
      "   Rank  Major_code  Major                                      Total  \\\n",
      "0   NaN           1   2419                      PETROLEUM ENGINEERING   \n",
      "1   NaN           2   2416             MINING AND MINERAL ENGINEERING   \n",
      "2   NaN           3   2415                  METALLURGICAL ENGINEERING   \n",
      "3   NaN           4   2417  NAVAL ARCHITECTURE AND MARINE ENGINEERING   \n",
      "4   NaN           5   2405                       CHEMICAL ENGINEERING   \n",
      "\n",
      "       Men    Women  Major_category   ShareWomen  Sample_size  Employed  \\\n",
      "0   2339.0   2057.0           282.0  Engineering     0.120564      36.0   \n",
      "1    756.0    679.0            77.0  Engineering     0.101852       7.0   \n",
      "2    856.0    725.0           131.0  Engineering     0.153037       3.0   \n",
      "3   1258.0   1123.0           135.0  Engineering     0.107313      16.0   \n",
      "4  32260.0  21239.0         11021.0  Engineering     0.341631     289.0   \n",
      "\n",
      "      ...       Full_time_year_round  Unemployed  Unemployment_rate    Median  \\\n",
      "0     ...                      270.0      1207.0               37.0  0.018381   \n",
      "1     ...                      170.0       388.0               85.0  0.117241   \n",
      "2     ...                      133.0       340.0               16.0  0.024096   \n",
      "3     ...                      150.0       692.0               40.0  0.050125   \n",
      "4     ...                     5180.0     16697.0             1672.0  0.061098   \n",
      "\n",
      "      P25th    P75th  College_jobs  Non_college_jobs  Low_wage_jobs  \\\n",
      "0  110000.0  95000.0      125000.0            1534.0          364.0   \n",
      "1   75000.0  55000.0       90000.0             350.0          257.0   \n",
      "2   73000.0  50000.0      105000.0             456.0          176.0   \n",
      "3   70000.0  43000.0       80000.0             529.0          102.0   \n",
      "4   65000.0  50000.0       75000.0           18314.0         4440.0   \n",
      "\n",
      "   Unnamed: 21  \n",
      "0        193.0  \n",
      "1         50.0  \n",
      "2          0.0  \n",
      "3          0.0  \n",
      "4        972.0  \n",
      "\n",
      "[5 rows x 22 columns]\n"
     ]
    }
   ],
   "source": [
    "print(recent_grads[0:5])"
   ]
  },
  {
   "cell_type": "markdown",
   "metadata": {},
   "source": [
    "# 2. Summarizing Major Categories"
   ]
  },
  {
   "cell_type": "markdown",
   "metadata": {},
   "source": [
    "## Instructions\n",
    "Use the Total column to calculate the number of people who fall under each Major_category in each data set.\n",
    "Store the result as a separate dictionary for each data set.\n",
    "The key for the dictionary should be the Major_category, and the value should be the total count.\n",
    "For the counts from all_ages, store the results as a dictionary named aa_cat_counts.\n",
    "For the counts from recent_grads, store the results as a dictionary named rg_cat_counts.\n",
    "Recall that we format a dictionary like this:\n",
    "{ \n",
    "    \"Engineering\": 500,\n",
    "    \"Business\": 500\n",
    "    ...\n",
    "}"
   ]
  },
  {
   "cell_type": "code",
   "execution_count": 8,
   "metadata": {},
   "outputs": [
    {
     "name": "stdout",
     "output_type": "stream",
     "text": [
      "['Agriculture & Natural Resources' 'Biology & Life Science' 'Engineering'\n",
      " 'Humanities & Liberal Arts' 'Communications & Journalism'\n",
      " 'Computers & Mathematics' 'Industrial Arts & Consumer Services'\n",
      " 'Education' 'Law & Public Policy' 'Interdisciplinary' 'Health'\n",
      " 'Social Science' 'Physical Sciences' 'Psychology & Social Work' 'Arts'\n",
      " 'Business']\n"
     ]
    }
   ],
   "source": [
    "print(all_ages['Major_category'].unique())"
   ]
  },
  {
   "cell_type": "code",
   "execution_count": 39,
   "metadata": {},
   "outputs": [],
   "source": [
    "aa_cat_counts = dict()\n",
    "rg_cat_counts = dict()\n",
    "\n",
    "def category_total_counts(df):\n",
    "    cats = df[\"Major_category\"].unique()\n",
    "    counts_dictionary = dict()\n",
    "    \n",
    "    for c in cats:\n",
    "        cat_count = df[df[\"Major_category\"] == c]\n",
    "        cat_total = cat_count[\"Total\"].sum()\n",
    "        counts_dictionary[c] = cat_total\n",
    "    return counts_dictionary"
   ]
  },
  {
   "cell_type": "code",
   "execution_count": 40,
   "metadata": {},
   "outputs": [
    {
     "name": "stdout",
     "output_type": "stream",
     "text": [
      "{'Agriculture & Natural Resources': 632437, 'Biology & Life Science': 1338186, 'Engineering': 3576013, 'Humanities & Liberal Arts': 3738335, 'Communications & Journalism': 1803822, 'Computers & Mathematics': 1781378, 'Industrial Arts & Consumer Services': 1033798, 'Education': 4700118, 'Law & Public Policy': 902926, 'Interdisciplinary': 45199, 'Health': 2950859, 'Social Science': 2654125, 'Physical Sciences': 1025318, 'Psychology & Social Work': 1987278, 'Arts': 1805865, 'Business': 9858741}\n"
     ]
    }
   ],
   "source": [
    "aa_cat_counts = category_total_counts(all_ages)\n",
    "print(aa_cat_counts)"
   ]
  },
  {
   "cell_type": "code",
   "execution_count": 41,
   "metadata": {},
   "outputs": [
    {
     "name": "stdout",
     "output_type": "stream",
     "text": [
      "{282.0: 'PETROLEUM ENGINEERING', 77.0: 'MINING AND MINERAL ENGINEERING', 131.0: 'METALLURGICAL ENGINEERING', 135.0: 'NAVAL ARCHITECTURE AND MARINE ENGINEERING', 11021.0: 'CHEMICAL ENGINEERING', 373.0: 'NUCLEAR ENGINEERING', 1667.0: 'ACTUARIAL SCIENCE', 960.0: 'ASTRONOMY AND ASTROPHYSICS', 10907.0: 'MECHANICAL ENGINEERING', 16016.0: 'ELECTRICAL ENGINEERING', 8284.0: 'COMPUTER ENGINEERING', 2105.0: 'AEROSPACE ENGINEERING', 6548.0: 'BIOMEDICAL ENGINEERING', 1330.0: 'MATERIALS SCIENCE', 795.0: 'ENGINEERING MECHANICS PHYSICS AND SCIENCE', 2863.0: 'BIOLOGICAL ENGINEERING', 6515.0: 'INDUSTRIAL AND MANUFACTURING ENGINEERING', 15469.0: 'GENERAL ENGINEERING', 990.0: 'ARCHITECTURAL ENGINEERING', 271.0: 'COURT REPORTING', 28576.0: 'COMPUTER SCIENCE', nan: 0, 3384.0: 'ELECTRICAL ENGINEERING TECHNOLOGY', 973.0: 'MATERIALS ENGINEERING AND MATERIALS SCIENCESOCIAL PSYCHOLOGY', 5217.0: 'MANAGEMENT INFORMATION SYSTEMS AND STATISTICS', 12072.0: 'CIVIL ENGINEERING', 1678.0: 'CONSTRUCTION SERVICES', 3811.0: 'OPERATIONS LOGISTICS AND E-COMMERCE', 1735.0: 'MISCELLANEOUS ENGINEERING', 3339.0: 'PUBLIC POLICY', 1385.0: 'ENVIRONMENTAL ENGINEERING', 905.0: 'ENGINEERING TECHNOLOGIES', 1370.0: 'MISCELLANEOUS FINE ARTS', 232.0: 'GEOLOGICAL AND GEOPHYSICAL ENGINEERING', 187621.0: 'NURSING', 59476.0: 'FINANCE', 49498.0: 'ECONOMICS', 5727.0: 'BUSINESS ECONOMICS', 1154.0: 'INDUSTRIAL PRODUCTION TECHNOLOGIES', 1588.0: 'NUCLEAR, INDUSTRIAL RADIOLOGY, AND BIOLOGICAL TECHNOLOGIES', 104114.0: 'ACCOUNTING', 32441.0: 'MATHEMATICS', 9306.0: 'COMPUTER AND INFORMATION SYSTEMS', 9062.0: 'PHYSICS', 11998.0: 'MEDICAL TECHNOLOGIES TECHNICIANS', 2908.0: 'INFORMATION SCIENCES', 3291.0: 'STATISTICS AND DECISION SCIENCE', 2145.0: 'APPLIED MATHEMATICS', 1247.0: 'PHARMACOLOGY', 1666.0: 'OCEANOGRAPHY', 506.0: 'ENGINEERING AND INDUSTRIAL MANAGEMENT', 10320.0: 'MEDICAL ASSISTING SERVICES', 109.0: 'MATHEMATICS AND COMPUTER SCIENCE', 1122.0: 'COMPUTER PROGRAMMING AND DATA PROCESSING', 2164.0: 'COGNITIVE SCIENCE AND BIOPSYCHOLOGY', 699.0: 'SCHOOL STUDENT COUNSELING', 17842.0: 'INTERNATIONAL RELATIONS', 102352.0: 'GENERAL BUSINESS', 20957.0: 'ARCHITECTURE', 15270.0: 'INTERNATIONAL BUSINESS', 14854.0: 'PHARMACY PHARMACEUTICAL SCIENCES AND ADMINISTRATION', 10874.0: 'MOLECULAR BIOLOGY', 7662.0: 'MISCELLANEOUS BUSINESS & MEDICAL ADMINISTRATION', 4582.0: 'AGRICULTURE PRODUCTION AND MANAGEMENT', 4346.0: 'GENERAL AGRICULTURE', 1761.0: 'MISCELLANEOUS ENGINEERING TECHNOLOGIES', 371.0: 'MECHANICAL ENGINEERING RELATED TECHNOLOGIES', 1874.0: 'GENETICS', 1784.0: 'MISCELLANEOUS SOCIAL SCIENCES', 1323.0: 'UNITED STATES HISTORY', 1939.0: 'INDUSTRIAL AND ORGANIZATIONAL PSYCHOLOGY', 690.0: 'AGRICULTURAL ECONOMICS', 542.0: 'PHYSICAL SCIENCES', 0.0: 'MILITARY TECHNOLOGIES', 33607.0: 'CHEMISTRY', 566.0: 'ELECTRICAL, MECHANICAL, AND PRECISION TECHNOLOGIES AND PRODUCTION', 156118.0: 'BUSINESS MANAGEMENT AND ADMINISTRATION', 126354.0: 'MARKETING AND MARKETING RESEARCH', 88741.0: 'POLITICAL SCIENCE AND GOVERNMENT', 7076.0: 'GEOGRAPHY', 8849.0: 'MICROBIOLOGY', 1459.0: 'COMPUTER ADMINISTRATION MANAGEMENT AND SECURITY', 20156.0: 'BIOCHEMICAL SCIENCES', 703.0: 'BOTANY', 2322.0: 'COMPUTER NETWORKING AND TELECOMMUNICATIONS', 5159.0: 'GEOLOGY AND EARTH SCIENCE', 18313.0: 'HUMAN RESOURCES AND PERSONNEL MANAGEMENT', 9093.0: 'PRE-LAW AND LEGAL STUDIES', 11797.0: 'MISCELLANEOUS HEALTH MEDICAL PROFESSIONS', 2682.0: 'PUBLIC ADMINISTRATION', 1169.0: 'GEOSCIENCES', 15178.0: 'ENVIRONMENTAL SCIENCE', 143377.0: 'COMMUNICATIONS', 72593.0: 'CRIMINAL JUSTICE AND FIRE PROTECTION', 71439.0: 'COMMERCIAL ART AND GRAPHIC DESIGN', 48883.0: 'JOURNALISM', 35037.0: 'MULTI-DISCIPLINARY OR GENERAL SCIENCE', 40300.0: 'ADVERTISING AND PUBLIC RELATIONS', 22456.0: 'AREA ETHNIC AND CIVILIZATION STUDIES', 26057.0: 'SPECIAL NEEDS EDUCATION', 13638.0: 'PHYSIOLOGY', 9848.0: 'CRIMINOLOGY', 16346.0: 'NUTRITION SCIENCES', 13843.0: 'HEALTH AND MEDICAL ADMINISTRATIVE SERVICES', 6604.0: 'COMMUNICATION TECHNOLOGIES', 1893.0: 'TRANSPORTATION SCIENCES AND TECHNOLOGIES', 5156.0: 'NATURAL RESOURCES MANAGEMENT', 8719.0: 'NEUROSCIENCE', 9479.0: 'MULTI/INTERDISCIPLINARY STUDIES', 1299.0: 'ATMOSPHERIC SCIENCES AND METEOROLOGY', 451.0: 'FORESTRY', 209.0: 'SOIL SCIENCE', 116825.0: 'GENERAL EDUCATION', 63698.0: 'HISTORY', 35411.0: 'FRENCH GERMAN LATIN AND OTHER COMMON FOREIGN LANGUAGE STUDIES', 16075.0: 'INTERCULTURAL AND INTERNATIONAL STUDIES', 10248.0: 'SOCIAL SCIENCE OR HISTORY TEACHER EDUCATION', 15632.0: 'COMMUNITY AND PUBLIC HEALTH', 10365.0: 'MATHEMATICS TEACHER EDUCATION', 524.0: 'EDUCATIONAL ADMINISTRATION AND SUPERVISION', 7219.0: 'HEALTH AND MEDICAL PREPARATORY PROGRAMS', 5959.0: 'MISCELLANEOUS BIOLOGY', 168947.0: 'BIOLOGY', 82923.0: 'SOCIOLOGY', 28120.0: 'MASS MEDIA', 35004.0: 'TREATMENT THERAPY PROFESSIONS', 28443.0: 'HOSPITALITY MANAGEMENT', 26730.0: 'LANGUAGE AND DRAMA EDUCATION', 12185.0: 'LINGUISTICS AND COMPARATIVE LANGUAGE AND LITERATURE', 6496.0: 'MISCELLANEOUS EDUCATION', 7579.0: 'INTERDISCIPLINARY SOCIAL SCIENCES', 5276.0: 'ECOLOGY', 10305.0: 'SECONDARY TEACHER EDUCATION', 26025.0: 'GENERAL MEDICAL AND HEALTH SERVICES', 22847.0: 'PHILOSOPHY AND RELIGIOUS STUDIES', 23449.0: 'ART AND MUSIC EDUCATION', 136446.0: 'ENGLISH LANGUAGE AND LITERATURE', 157833.0: 'ELEMENTARY EDUCATION', 62893.0: 'PHYSICAL FITNESS PARKS RECREATION AND LEISURE', 49030.0: 'LIBERAL ARTS', 16404.0: 'FILM VIDEO AND PHOTOGRAPHIC ARTS', 7841.0: 'GENERAL SOCIAL SCIENCES', 2519.0: 'PLANT SCIENCE AND AGRONOMY', 4434.0: 'SCIENCE AND COMPUTER TEACHER EDUCATION', 307087.0: 'PSYCHOLOGY', 30724.0: 'MUSIC', 12543.0: 'PHYSICAL AND HEALTH EDUCATION TEACHING', 17790.0: 'ART HISTORY AND CRITICISM', 49654.0: 'FINE ARTS', 52835.0: 'FAMILY AND CONSUMER SCIENCES', 48415.0: 'SOCIAL WORK', 16226.0: 'ANIMAL SCIENCES', 12117.0: 'VISUAL AND PERFORMING ARTS', 11709.0: 'TEACHER EDUCATION: MULTIPLE LEVELS', 7692.0: 'MISCELLANEOUS PSYCHOLOGY', 8489.0: 'HUMAN SERVICES AND COMMUNITY ORGANIZATION', 4639.0: 'HUMANITIES', 11591.0: 'THEOLOGY AND RELIGIOUS VOCATIONS', 12223.0: 'STUDIO ARTS', 6146.0: 'COSMETOLOGY SERVICES AND CULINARY ARTS', 1084.0: 'MISCELLANEOUS AGRICULTURE', 27468.0: 'ANTHROPOLOGY AND ARCHEOLOGY', 37054.0: 'COMMUNICATION DISORDERS SCIENCES AND SERVICES', 36422.0: 'EARLY CHILDHOOD EDUCATION', 7732.0: 'OTHER FOREIGN LANGUAGES', 28809.0: 'DRAMA AND THEATER ARTS', 11931.0: 'COMPOSITION AND RHETORIC', 5359.0: 'ZOOLOGY', 2332.0: 'EDUCATIONAL PSYCHOLOGY', 2270.0: 'CLINICAL PSYCHOLOGY', 3695.0: 'COUNSELING PSYCHOLOGY', 964.0: 'LIBRARY SCIENCE'}\n"
     ]
    }
   ],
   "source": [
    "rg_cat_counts = category_total_counts(recent_grads)\n",
    "print(rg_cat_counts)"
   ]
  },
  {
   "cell_type": "markdown",
   "metadata": {},
   "source": [
    "# 3. Low-Wage Job Rates"
   ]
  },
  {
   "cell_type": "markdown",
   "metadata": {},
   "source": [
    "## Instructions\n",
    "Use the Low_wage_jobs and Total columns to calculate the proportion of recent college graduates that worked low wage jobs.\n",
    "Recall that you can use the Series.sum() method to return the sum of the values in a column.\n",
    "Store the resulting float as low_wage_percent, and display the value with the print() function."
   ]
  },
  {
   "cell_type": "code",
   "execution_count": null,
   "metadata": {
    "collapsed": true
   },
   "outputs": [],
   "source": [
    "low_wage_percent = 0.0\n",
    "\n",
    "low_wage_jobs = recent_grads[\"Low_wage_jobs\"].sum()\n",
    "totals = recent_grads[\"Total\"]\n",
    "total = float(totals)\n",
    "\n",
    "low_wage_percent = low_wage_jobs / totals\n",
    "print(low_wage_percent)"
   ]
  },
  {
   "cell_type": "markdown",
   "metadata": {},
   "source": [
    "# 4. Comparing Data Sets"
   ]
  },
  {
   "cell_type": "markdown",
   "metadata": {},
   "source": [
    "## Instructions\n",
    "Use a for loop to iterate over majors.\n",
    "For each major, use Boolean filtering to find the corresponding row in both DataFrames.\n",
    "Compare the values for Unemployment_rate to see which DataFrame has a lower value.\n",
    "Increment rg_lower_count if the value for Unemployment_rate is lower for recent_grads than it is for all_ages.\n",
    "Display rg_lower_count with the print() function."
   ]
  },
  {
   "cell_type": "code",
   "execution_count": null,
   "metadata": {
    "collapsed": true
   },
   "outputs": [],
   "source": [
    "majors = recent_grads['Major'].unique()\n",
    "rg_lower_count = 0\n",
    "\n",
    "for row in majors:\n",
    "    recent_grads_row = recent_grads[recent_grads[\"Major\"] == row]\n",
    "    all_ages_row = all_ages[all_ages[\"Major\"] == row]\n",
    "    \n",
    "    recent_grads_emp = recent_grads_row.iloc[0][\"Unemployment_rate\"]\n",
    "    all_ages_emp = all_ages_row.iloc[0][\"Unemployment_rate\"]\n",
    "    \n",
    "    if recent_grads_emp < all_ages_emp:\n",
    "        rg_lower_count += 1\n",
    "        \n",
    "print(rg_lower_count)"
   ]
  }
 ],
 "metadata": {
  "kernelspec": {
   "display_name": "Python 3",
   "language": "python",
   "name": "python3"
  },
  "language_info": {
   "codemirror_mode": {
    "name": "ipython",
    "version": 3
   },
   "file_extension": ".py",
   "mimetype": "text/x-python",
   "name": "python",
   "nbconvert_exporter": "python",
   "pygments_lexer": "ipython3",
   "version": "3.6.1"
  }
 },
 "nbformat": 4,
 "nbformat_minor": 2
}
