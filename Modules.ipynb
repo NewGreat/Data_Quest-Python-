{
 "cells": [
  {
   "cell_type": "markdown",
   "metadata": {},
   "source": [
    "# 1: Introduction To Modules"
   ]
  },
  {
   "cell_type": "markdown",
   "metadata": {},
   "source": [
    "## Instructions\n",
    "Import the math module.\n",
    "Use the sqrt() function from the math module to compute the square root of 99. Assign the result to root.\n",
    "Use the floor() function within the math module to assign the floor of 89.9 to flr.\n",
    "Hint\n",
    "After importing the math module, you need to use dot notation to call the sqrt() function."
   ]
  },
  {
   "cell_type": "code",
   "execution_count": 2,
   "metadata": {},
   "outputs": [
    {
     "name": "stdout",
     "output_type": "stream",
     "text": [
      "9.9498743710662\n",
      "89\n"
     ]
    }
   ],
   "source": [
    "import math\n",
    "root = math.sqrt(99)\n",
    "flr = math.floor(89.9)\n",
    "print(root)\n",
    "print(flr)"
   ]
  },
  {
   "cell_type": "markdown",
   "metadata": {},
   "source": [
    "# 2: Importing Using An Alias"
   ]
  },
  {
   "cell_type": "markdown",
   "metadata": {},
   "source": [
    "## Instructions\n",
    "Import the math module as m.\n",
    "Use the sqrt() function from the math module to compute the square root of 33. Assign the result to root.\n",
    "Hint\n",
    "Remember to import using the alias m: import math as m."
   ]
  },
  {
   "cell_type": "code",
   "execution_count": 4,
   "metadata": {},
   "outputs": [
    {
     "name": "stdout",
     "output_type": "stream",
     "text": [
      "5.744562646538029\n"
     ]
    }
   ],
   "source": [
    "import math as m\n",
    "root = m.sqrt(33)\n",
    "print(root)"
   ]
  },
  {
   "cell_type": "markdown",
   "metadata": {},
   "source": [
    "# 3: Importing A Specific Object"
   ]
  },
  {
   "cell_type": "markdown",
   "metadata": {},
   "source": [
    "## Instructions\n",
    "Import all of the functions from math.\n",
    "Use the sqrt() function from the math module to compute the square root of 1001. Assign the result to root.\n",
    "Hint\n",
    "When you import all of the objects from a module, don't use prefix notation to access them."
   ]
  },
  {
   "cell_type": "code",
   "execution_count": 6,
   "metadata": {},
   "outputs": [
    {
     "name": "stdout",
     "output_type": "stream",
     "text": [
      "31.63858403911275\n"
     ]
    }
   ],
   "source": [
    "from math import *\n",
    "root = m.sqrt(1001)\n",
    "print(root)"
   ]
  },
  {
   "cell_type": "markdown",
   "metadata": {},
   "source": [
    "# 4: Variables Within Modules"
   ]
  },
  {
   "cell_type": "markdown",
   "metadata": {},
   "source": [
    "## Instructions\n",
    "Assign the square root of pi to a.\n",
    "Assign the ceiling of pi to b.\n",
    "Assign the floor of pi to c.\n",
    "Hint\n",
    "Use the math module's pi variable and sqrt, ceil, and floor functions."
   ]
  },
  {
   "cell_type": "code",
   "execution_count": 9,
   "metadata": {},
   "outputs": [
    {
     "name": "stdout",
     "output_type": "stream",
     "text": [
      "3.141592653589793\n",
      "1.7724538509055159\n",
      "4\n",
      "3\n"
     ]
    }
   ],
   "source": [
    "a = m.sqrt(pi)\n",
    "b = m.ceil(pi)\n",
    "c = m.floor(pi)\n",
    "\n",
    "print(m.pi)\n",
    "print(a)\n",
    "print(b)\n",
    "print(c)"
   ]
  },
  {
   "cell_type": "markdown",
   "metadata": {},
   "source": [
    "# 5: The CSV Module"
   ]
  },
  {
   "cell_type": "markdown",
   "metadata": {},
   "source": [
    "## Instructions\n",
    "Read all of the data from \"nfl.csv\" into a list variable named nfl using the csv module.\n",
    "Hint\n",
    "To read from a CSV file, pass the File handler to the csv.reader() function.\n",
    "\n"
   ]
  },
  {
   "cell_type": "code",
   "execution_count": 17,
   "metadata": {},
   "outputs": [
    {
     "name": "stdout",
     "output_type": "stream",
     "text": [
      "[['2009', '1', 'Pittsburgh Steelers', 'Tennessee Titans'], ['2009', '1', 'Minnesota Vikings', 'Cleveland Browns'], ['2009', '1', 'New York Giants', 'Washington Redskins'], ['2009', '1', 'San Francisco 49ers', 'Arizona Cardinals'], ['2009', '1', 'Seattle Seahawks', 'St. Louis Rams'], ['2009', '1', 'Philadelphia Eagles', 'Carolina Panthers'], ['2009', '1', 'New York Jets', 'Houston Texans'], ['2009', '1', 'Atlanta Falcons', 'Miami Dolphins'], ['2009', '1', 'Baltimore Ravens', 'Kansas City Chiefs']]\n"
     ]
    }
   ],
   "source": [
    "import csv\n",
    "f = open('nfl.csv', 'r')\n",
    "data_reader = csv.reader(f)\n",
    "nfl = list(data_reader)\n",
    "print(nfl[0:9])"
   ]
  },
  {
   "cell_type": "markdown",
   "metadata": {},
   "source": [
    "# 6: Counting How Many Times A Team Won"
   ]
  },
  {
   "cell_type": "markdown",
   "metadata": {},
   "source": [
    "## Instructions\n",
    "In the following cell, add code that:\n",
    "Imports and uses the csv module to load data from our \"nfl.csv\" file.\n",
    "Counts how many games the \"New England Patriots\" won from 2009-2013 .\n",
    "To do this, set a counter to 0 and increment by 1 for each row that has \"New England Patriots\" in the winner column.\n",
    "Assigns the count to patriots_wins.\n",
    "Hint\n",
    "Count how many times the third column (index 2) in a data row equals \"New England Patriots\"."
   ]
  },
  {
   "cell_type": "code",
   "execution_count": 25,
   "metadata": {},
   "outputs": [
    {
     "name": "stdout",
     "output_type": "stream",
     "text": [
      "61\n"
     ]
    }
   ],
   "source": [
    "import csv\n",
    "f = open('nfl.csv', 'r')\n",
    "nfl = list(csv.reader(f))\n",
    "\n",
    "patriots_wins = 0\n",
    "for n in nfl:\n",
    "    if n[2] == \"New England Patriots\":\n",
    "        patriots_wins += 1\n",
    "print(patriots_wins)"
   ]
  },
  {
   "cell_type": "markdown",
   "metadata": {},
   "source": [
    "# 7: Making A Function That Counts Wins"
   ]
  },
  {
   "cell_type": "markdown",
   "metadata": {},
   "source": [
    "## Instructions\n",
    "Write a function called nfl_wins that takes a team name as input.\n",
    "The function should return the number of games the team won in the period covered by the data set.\n",
    "Use the function to assign the number of \"Dallas Cowboys\" wins to cowboys_wins.\n",
    "Use the function to assign the number of \"Atlanta Falcons\" wins to falcons_wins.\n",
    "Hint\n",
    "Your input will be a string, and your output should be an integer.\n",
    "Use the logic you wrote on the previous screen as the body of your function.\n",
    "Don't forget to return your computed result at the end of the function!\n",
    "\n"
   ]
  },
  {
   "cell_type": "code",
   "execution_count": 33,
   "metadata": {},
   "outputs": [
    {
     "name": "stdout",
     "output_type": "stream",
     "text": [
      "41\n",
      "49\n"
     ]
    }
   ],
   "source": [
    "def nfl_wins(team_name):\n",
    "    team_wins = 0\n",
    "    for n in nfl:\n",
    "        if n[2] == team_name:\n",
    "            team_wins += 1\n",
    "    return team_wins\n",
    "\n",
    "cowboys_wins = nfl_wins(\"Dallas Cowboys\")\n",
    "print(cowboys_wins)\n",
    "\n",
    "falcon_wins = nfl_wins(\"Atlanta Falcons\")\n",
    "print(falcon_wins)"
   ]
  }
 ],
 "metadata": {
  "kernelspec": {
   "display_name": "Python 3",
   "language": "python",
   "name": "python3"
  },
  "language_info": {
   "codemirror_mode": {
    "name": "ipython",
    "version": 3
   },
   "file_extension": ".py",
   "mimetype": "text/x-python",
   "name": "python",
   "nbconvert_exporter": "python",
   "pygments_lexer": "ipython3",
   "version": "3.6.1"
  }
 },
 "nbformat": 4,
 "nbformat_minor": 2
}
