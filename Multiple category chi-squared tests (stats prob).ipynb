{
 "cells": [
  {
   "cell_type": "code",
   "execution_count": 40,
   "metadata": {
    "collapsed": false
   },
   "outputs": [
    {
     "data": {
      "text/html": [
       "<div>\n",
       "<table border=\"1\" class=\"dataframe\">\n",
       "  <thead>\n",
       "    <tr style=\"text-align: right;\">\n",
       "      <th></th>\n",
       "      <th>39, State-gov, 77516, Bachelors, 13, Never-married, Adm-clerical, Not-in-family, White, Male, 2174, 0, 40, United-States, &lt;=50K</th>\n",
       "    </tr>\n",
       "  </thead>\n",
       "  <tbody>\n",
       "    <tr>\n",
       "      <th>0</th>\n",
       "      <td>50, Self-emp-not-inc, 83311, Bachelors, 13, Ma...</td>\n",
       "    </tr>\n",
       "    <tr>\n",
       "      <th>1</th>\n",
       "      <td>38, Private, 215646, HS-grad, 9, Divorced, Han...</td>\n",
       "    </tr>\n",
       "    <tr>\n",
       "      <th>2</th>\n",
       "      <td>53, Private, 234721, 11th, 7, Married-civ-spou...</td>\n",
       "    </tr>\n",
       "    <tr>\n",
       "      <th>3</th>\n",
       "      <td>28, Private, 338409, Bachelors, 13, Married-ci...</td>\n",
       "    </tr>\n",
       "    <tr>\n",
       "      <th>4</th>\n",
       "      <td>37, Private, 284582, Masters, 14, Married-civ-...</td>\n",
       "    </tr>\n",
       "  </tbody>\n",
       "</table>\n",
       "</div>"
      ],
      "text/plain": [
       "  39, State-gov, 77516, Bachelors, 13, Never-married, Adm-clerical, Not-in-family, White, Male, 2174, 0, 40, United-States, <=50K\n",
       "0  50, Self-emp-not-inc, 83311, Bachelors, 13, Ma...                                                                             \n",
       "1  38, Private, 215646, HS-grad, 9, Divorced, Han...                                                                             \n",
       "2  53, Private, 234721, 11th, 7, Married-civ-spou...                                                                             \n",
       "3  28, Private, 338409, Bachelors, 13, Married-ci...                                                                             \n",
       "4  37, Private, 284582, Masters, 14, Married-civ-...                                                                             "
      ]
     },
     "execution_count": 40,
     "metadata": {},
     "output_type": "execute_result"
    }
   ],
   "source": [
    "import pandas as pd\n",
    "import numpy as np\n",
    "\n",
    "income = pd.read_csv('income.csv')\n",
    "income.head()"
   ]
  },
  {
   "cell_type": "markdown",
   "metadata": {},
   "source": [
    "# 1. Calculating Expected Values\n",
    "Instructions Using the expected proportions in the table above, calculate the expected values for each of the 4 cells in the table.\n",
    "Calculate the expected value for Males who earn >50k, and assign to males_over50k.\n",
    "Calculate the expected value for Males who earn <=50k, and assign to males_under50k.\n",
    "Calculate the expected value for Females who earn >50k, and assign to females_over50k.\n",
    "Calculate the expected value for Females who earn <=50k, and assign to females_under50k.\n",
    "Hint\n",
    "Remember to multiply the expected proportions by 32561 to get the expected values."
   ]
  },
  {
   "cell_type": "code",
   "execution_count": 41,
   "metadata": {
    "collapsed": false
   },
   "outputs": [
    {
     "name": "stdout",
     "output_type": "stream",
     "text": [
      "5485.193498999999\n",
      "17274.945501\n",
      "2440.479511\n",
      "7685.991489\n"
     ]
    }
   ],
   "source": [
    "males_over50k = 32561 * (.241 * .699)\n",
    "males_under50k = 32561 * (.759 * .699)\n",
    "females_over50k = 32561 * (.241 * .311)\n",
    "female_under50k = 32561 * (.759 * .311)\n",
    "print(males_over50k)\n",
    "print(males_under50k)\n",
    "print(females_over50k)\n",
    "print(female_under50k)"
   ]
  },
  {
   "cell_type": "markdown",
   "metadata": {},
   "source": [
    "# 2. Calculating Chi-Squared\n",
    "Instructions Compute the chi-squared value for the observed values above and the expected values above.\n",
    "Assign the result to chisq_gender_income.\n",
    "Hint\n",
    "Remember to append each difference to a list, and then add up the list at the end."
   ]
  },
  {
   "cell_type": "code",
   "execution_count": 42,
   "metadata": {
    "collapsed": false
   },
   "outputs": [
    {
     "name": "stdout",
     "output_type": "stream",
     "text": [
      "1517.5510981525103\n"
     ]
    }
   ],
   "source": [
    "observed = [6662, 1179, 15128, 9592]\n",
    "expected = [5249.8, 2597.4, 16533.5, 8180.3]\n",
    "values = []\n",
    "\n",
    "for i, obs in enumerate(observed):\n",
    "    exp = expected[i]\n",
    "    value = (obs - exp) ** 2 / exp\n",
    "    values.append(value)\n",
    "\n",
    "chisq_gender_income = sum(values)\n",
    "print(chisq_gender_income)"
   ]
  },
  {
   "cell_type": "code",
   "execution_count": 43,
   "metadata": {
    "collapsed": false
   },
   "outputs": [
    {
     "name": "stdout",
     "output_type": "stream",
     "text": [
      "1517.55109815\n",
      "0.0\n"
     ]
    }
   ],
   "source": [
    "import numpy as np\n",
    "from scipy.stats import chisquare\n",
    "\n",
    "observed_over50k = np.array([6662, 1179, 15128, 9592])\n",
    "expected_over50k = np.array([5249.8, 2597.4, 16533.5, 8180.3])\n",
    "\n",
    "chisquare_value, pvalue_gender_income = chisquare(observed_over50k, expected_over50k)\n",
    "print(chisquare_value)\n",
    "print(pvalue_gender_income)"
   ]
  },
  {
   "cell_type": "markdown",
   "metadata": {
    "collapsed": true
   },
   "source": [
    "# 3. Cross Tables\n",
    "Instructions Use the pandas.crosstab function to print out a table comparing the sex column of income to the race column of income.\n",
    "Hint\n",
    "Remember that the second parameter you pass into the pandas.crosstab function is a list."
   ]
  },
  {
   "cell_type": "code",
   "execution_count": null,
   "metadata": {
    "collapsed": false
   },
   "outputs": [],
   "source": [
    "table = pd.crosstab(income[\"sex\"], [income[\"race\"]])\n",
    "print(table)"
   ]
  },
  {
   "cell_type": "markdown",
   "metadata": {},
   "source": [
    "# 4. Finding Expected Values\n",
    "Instructions Use the scipy.stats.chi2_contingency function to calculate the pvalue for the sex and race columns of income.\n",
    "Assign the result to pvalue_gender_race.\n",
    "Hint\n",
    "You can either reference the table variable from the last screen, or use pandas.crosstab to construct another observed values table."
   ]
  },
  {
   "cell_type": "code",
   "execution_count": null,
   "metadata": {
    "collapsed": false
   },
   "outputs": [],
   "source": [
    "import pandas as pd\n",
    "from scipy.stats import chi2_contingency\n",
    "observed = pd.crosstab(income[\"sex\"], [income[\"race\"]])\n",
    "chisq_value, pvalue_gender_race, df, expected = chi2_contingency(observed)"
   ]
  }
 ],
 "metadata": {
  "kernelspec": {
   "display_name": "Python 3",
   "language": "python",
   "name": "python3"
  },
  "language_info": {
   "codemirror_mode": {
    "name": "ipython",
    "version": 3
   },
   "file_extension": ".py",
   "mimetype": "text/x-python",
   "name": "python",
   "nbconvert_exporter": "python",
   "pygments_lexer": "ipython3",
   "version": "3.5.1"
  }
 },
 "nbformat": 4,
 "nbformat_minor": 0
}
