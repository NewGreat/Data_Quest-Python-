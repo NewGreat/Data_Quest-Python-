{
 "cells": [
  {
   "cell_type": "markdown",
   "metadata": {},
   "source": [
    "# 1: Introduction To String Manipulation"
   ]
  },
  {
   "cell_type": "code",
   "execution_count": 2,
   "metadata": {
    "collapsed": false
   },
   "outputs": [
    {
     "name": "stdout",
     "output_type": "stream",
     "text": [
      "string\n"
     ]
    }
   ],
   "source": [
    "hello = \"hello world\"[0:5]\n",
    "foo = \"some string\"\n",
    "password = \"password\"\n",
    "print(foo[5:11])"
   ]
  },
  {
   "cell_type": "code",
   "execution_count": 4,
   "metadata": {
    "collapsed": false
   },
   "outputs": [
    {
     "name": "stdout",
     "output_type": "stream",
     "text": [
      "w\n"
     ]
    }
   ],
   "source": [
    "fifth = password[4]\n",
    "print(fifth)"
   ]
  },
  {
   "cell_type": "code",
   "execution_count": 5,
   "metadata": {
    "collapsed": false
   },
   "outputs": [
    {
     "name": "stdout",
     "output_type": "stream",
     "text": [
      "word\n"
     ]
    }
   ],
   "source": [
    "last_four = password[4:]\n",
    "print(last_four)"
   ]
  },
  {
   "cell_type": "markdown",
   "metadata": {
    "collapsed": true
   },
   "source": [
    "# 2: Omitting Starting Or Ending Indices"
   ]
  },
  {
   "cell_type": "markdown",
   "metadata": {},
   "source": [
    "# Instructions\n",
    "Select the first nine characters of \"string slicing is fun!\", and store the result in first_nine.\n",
    "Select the substring from the 10th character to the end of the string, and store the result in remainder.\n",
    "Hint\n",
    "Remember that the tenth character is at index 9 because strings are 0-indexed."
   ]
  },
  {
   "cell_type": "code",
   "execution_count": 6,
   "metadata": {
    "collapsed": false
   },
   "outputs": [
    {
     "name": "stdout",
     "output_type": "stream",
     "text": [
      "string\n"
     ]
    }
   ],
   "source": [
    "hello = \"hello world\"[:5]\n",
    "foo = \"some string\"\n",
    "print(foo[5:])"
   ]
  },
  {
   "cell_type": "code",
   "execution_count": 7,
   "metadata": {
    "collapsed": true
   },
   "outputs": [],
   "source": [
    "my_string = \"string slicing is fun!\""
   ]
  },
  {
   "cell_type": "code",
   "execution_count": 11,
   "metadata": {
    "collapsed": false
   },
   "outputs": [
    {
     "name": "stdout",
     "output_type": "stream",
     "text": [
      "string sl\n"
     ]
    }
   ],
   "source": [
    "first_nine = my_string[:9]\n",
    "print(first_nine)"
   ]
  },
  {
   "cell_type": "code",
   "execution_count": 10,
   "metadata": {
    "collapsed": false
   },
   "outputs": [
    {
     "name": "stdout",
     "output_type": "stream",
     "text": [
      "icing is fun!\n"
     ]
    }
   ],
   "source": [
    "remainder = my_string[9:]\n",
    "print(remainder)"
   ]
  },
  {
   "cell_type": "markdown",
   "metadata": {},
   "source": [
    "# 3: Skipping Indices In A Slice With Steps"
   ]
  },
  {
   "cell_type": "markdown",
   "metadata": {},
   "source": [
    "# Instructions\n",
    "Slice \"string slicing is fun!\". Extract every character in the string that has an even index, beginning at index 0.\n",
    "Store the result in gibberish.\n",
    "Slice \"string slicing is fun!\" again. Extract every third character, starting at the first character of \"slicing\".\n",
    "Store the result in worse_gibberish.\n",
    "Hint\n",
    "\"slicing\" starts at index 7."
   ]
  },
  {
   "cell_type": "code",
   "execution_count": null,
   "metadata": {
    "collapsed": true
   },
   "outputs": [],
   "source": [
    "hlo = \"hello world\"[:5:2]\n",
    "my_string = \"string slicing is fun!\""
   ]
  },
  {
   "cell_type": "code",
   "execution_count": 36,
   "metadata": {
    "collapsed": false
   },
   "outputs": [
    {
     "name": "stdout",
     "output_type": "stream",
     "text": [
      "22\n",
      "srn lcn sfn\n"
     ]
    }
   ],
   "source": [
    "print(len(my_string))\n",
    "gibberish = my_string[::2]\n",
    "print(gibberish)"
   ]
  },
  {
   "cell_type": "code",
   "execution_count": 35,
   "metadata": {
    "collapsed": false
   },
   "outputs": [
    {
     "name": "stdout",
     "output_type": "stream",
     "text": [
      "scgsu\n"
     ]
    }
   ],
   "source": [
    "worse_gibberish = my_string[7::3]\n",
    "print(worse_gibberish)"
   ]
  },
  {
   "cell_type": "markdown",
   "metadata": {},
   "source": [
    "# 4: Negative Indexing"
   ]
  },
  {
   "cell_type": "markdown",
   "metadata": {},
   "source": [
    "# Instructions\n",
    "A palindrome is a word or string that's spelled the same way forwards and backwards. \"racecar\" is a palindrome because reading it from left to right gives you the same result as reading it from right to left.\n",
    "Write a function named is_palindrome() that takes my_string as an argument and returns True if my_string is a palindrome, and False if it isn't.\n",
    "Store the result of calling is_palindrome() on \"able was I ere I saw elba\" in phrase_palindrome.\n",
    "Hint\n",
    "Slice the string to produce a reversed substring, and then compare it with the original string. my_string[::-1] will reverse the string (-1 specifies we move right to left, and omitting the ending and starting indices specifies that we want to cover the entire string)."
   ]
  },
  {
   "cell_type": "code",
   "execution_count": 43,
   "metadata": {
    "collapsed": false
   },
   "outputs": [
    {
     "name": "stdout",
     "output_type": "stream",
     "text": [
      "able was I ere I saw elba\n"
     ]
    }
   ],
   "source": [
    "olleh = \"hello world\"[4::-1]\n",
    "able_string = \"able was I ere I saw elba\"\n",
    "\n",
    "def is_palindrome(my_string):\n",
    "    return my_string == my_string[::-1]\n",
    "\n",
    "phrase_palindrome = is_palindrome(able_string)\n",
    "print(able_string)"
   ]
  },
  {
   "cell_type": "markdown",
   "metadata": {},
   "source": [
    "# 5: Searching For Substrings"
   ]
  },
  {
   "cell_type": "markdown",
   "metadata": {},
   "source": [
    "# Instructions\n",
    "Write a function called easy_patterns() that takes a string argument corresponding to a pattern.\n",
    "The function should count the number of passwords in passwords that contain that pattern as a substring, and return that count.\n",
    "After you've written the function, call easy_patterns() with the argument \"1234\", and store the result as countup_passwords.\n",
    "Hint\n",
    "Iterate through our passwords list using for password in passwords:."
   ]
  },
  {
   "cell_type": "code",
   "execution_count": 45,
   "metadata": {
    "collapsed": false
   },
   "outputs": [
    {
     "name": "stdout",
     "output_type": "stream",
     "text": [
      "False\n"
     ]
    }
   ],
   "source": [
    "theres_no = \"I\" in \"team\"\n",
    "print(theres_no)"
   ]
  },
  {
   "cell_type": "code",
   "execution_count": 49,
   "metadata": {
    "collapsed": false
   },
   "outputs": [
    {
     "name": "stdout",
     "output_type": "stream",
     "text": [
      "14\n"
     ]
    }
   ],
   "source": [
    "passwords = ['07606374520',\n",
    " 'piontekendre',\n",
    " 'rambo144',\n",
    " 'primoz123',\n",
    " 'sal1387',\n",
    " 'EVASLRDG',\n",
    " 'Detroit84',\n",
    " 'dlbd090505',\n",
    " 'snoesje12',\n",
    " '056412197',\n",
    " 'pottompanni',\n",
    " 'xyjk2288',\n",
    " 'thinhtr123',\n",
    " 'mymail513',\n",
    " 'scratch3',\n",
    " 'g0ewcx',\n",
    " '5200zhaoling',\n",
    " 'pipiczek2',\n",
    " '81mena32',\n",
    " '055s4ve0',\n",
    " 'london13',\n",
    " 'zamjie1221',\n",
    " '541104wysh',\n",
    " '13972353354',\n",
    " 'lyp00544!!',\n",
    " '972001',\n",
    " '45406908',\n",
    " 'monastere',\n",
    " '280883',\n",
    " 'pi730521',\n",
    " 'excal1ber',\n",
    " 'hombresg10',\n",
    " 'shao1987yu1103je',\n",
    " '1105230945',\n",
    " 'dmf121',\n",
    " 'ccccti',\n",
    " 'NaJT5UCH',\n",
    " 'nezura4701',\n",
    " 'playstation',\n",
    " '44theman',\n",
    " 'rolboul',\n",
    " '8159520',\n",
    " '19871012520',\n",
    " 'shufajiazs105118',\n",
    " 'rock4261302',\n",
    " 'sitges',\n",
    " 'clojoli',\n",
    " 'shadeangel',\n",
    " 'fnx9ff2j',\n",
    " 'helper123',\n",
    " 'axa200',\n",
    " 'e4belly98',\n",
    " '0127936062',\n",
    " 'xutao123',\n",
    " 'snuttan3',\n",
    " '77senz4u8',\n",
    " 'gandrus',\n",
    " 'liuxujim',\n",
    " '0767232519',\n",
    " 'hbys0510',\n",
    " '62340ysw',\n",
    " 'amg123',\n",
    " '740822zzl',\n",
    " 'fenglulu',\n",
    " 'ropr190',\n",
    " 'qdig7cod',\n",
    " '012486',\n",
    " 'acer16477',\n",
    " '15demayode1995',\n",
    " '8383871016',\n",
    " 'segredo1',\n",
    " 'guineas4',\n",
    " 'owner2010',\n",
    " 'prapti',\n",
    " '2681147141',\n",
    " 'ho0wh0co',\n",
    " 'mordor808',\n",
    " 'joyce5325',\n",
    " 'mzgnjust860607',\n",
    " 'singa141',\n",
    " 'samarth05',\n",
    " 'amarah',\n",
    " 'vw1958',\n",
    " 'ok443001',\n",
    " 'huhufa21',\n",
    " '6dmarketing',\n",
    " '1999980140',\n",
    " 'lashomb',\n",
    " 'kupopo',\n",
    " 'tioeratir',\n",
    " 'ab205460',\n",
    " '8131331',\n",
    " 'vbc571936wqs',\n",
    " 'UlMtTX',\n",
    " 'cairan',\n",
    " 'd8kx90h6',\n",
    " 'ferencztihamer',\n",
    " 'ce#ebc.dk',\n",
    " 'goddess5',\n",
    " '20071002',\n",
    " '271075711',\n",
    " 'zs3cu7za',\n",
    " 'scoopn',\n",
    " 'frygas1411',\n",
    " 'SL123456sl',\n",
    " '12345687ee123',\n",
    " 'xuexi2010',\n",
    " 'daigoro',\n",
    " '12345614',\n",
    " 'DICK4080',\n",
    " '567891234',\n",
    " 'tilg80',\n",
    " '6z08c861',\n",
    " ':zark:',\n",
    " 'ravishsneha',\n",
    " '150571611369',\n",
    " '661189',\n",
    " 'passme',\n",
    " 'trolovinasveta',\n",
    " 'kew28056',\n",
    " 'lyc;145773',\n",
    " 'morgan18',\n",
    " 'd678f',\n",
    " 'amine93',\n",
    " 'shenlan00',\n",
    " '66962388',\n",
    " 'abdulkhaleque',\n",
    " '007816',\n",
    " 'xLDSX',\n",
    " 'Florida2011',\n",
    " '037037',\n",
    " 'WestC0untry',\n",
    " 'hitsugaiya',\n",
    " '955998126',\n",
    " '3n3rmax',\n",
    " 'hasann',\n",
    " 'rtfgvb12',\n",
    " 'H161178',\n",
    " 'wglg6970101',\n",
    " 'emsdesk',\n",
    " 'paprotna11',\n",
    " 'molanc@1',\n",
    " '1120100051593',\n",
    " 'supra273',\n",
    " 'bravosport1',\n",
    " 'mbarber17',\n",
    " 'gumis20',\n",
    " '3268',\n",
    " 'zaybaby478',\n",
    " 'alinku',\n",
    " '583858',\n",
    " 'ANKEN',\n",
    " '52370266',\n",
    " '924919',\n",
    " 'Martha1a',\n",
    " 'fuvuce83',\n",
    " 'xo4452g6',\n",
    " 'ware19821927',\n",
    " 'friend*',\n",
    " '5201314yalun',\n",
    " 'lenfeispa',\n",
    " '(1owz9qu',\n",
    " 'rotenidioten',\n",
    " 'goddles',\n",
    " 'dylangrey',\n",
    " 'huanglily',\n",
    " '100126',\n",
    " '89jenna123',\n",
    " 'ctaxbv2j',\n",
    " 'shane_520',\n",
    " '125.166.102.113',\n",
    " 'Shuripa1980',\n",
    " '061022061022',\n",
    " 'bmule',\n",
    " 'dozer6199',\n",
    " 'm6qr3jcy',\n",
    " 'witold14',\n",
    " '85627018562266',\n",
    " '0302771901',\n",
    " 'okokook',\n",
    " '452213452213',\n",
    " 'wsnd886',\n",
    " 'lions2',\n",
    " 'tatype',\n",
    " 'jghs1969',\n",
    " 'brumibaby',\n",
    " '016716126',\n",
    " 'zengfu19831202',\n",
    " 'ae12345',\n",
    " 'ninda',\n",
    " 'aveyron',\n",
    " 'bullheadman',\n",
    " '4l3j4ndr0',\n",
    " '2904_shina',\n",
    " '17matthew',\n",
    " 'hong#vinh',\n",
    " 'ndemagge',\n",
    " '75fa50te',\n",
    " 'evileva',\n",
    " '7219881183',\n",
    " 'dreamchaser@gmail.com',\n",
    " 't0pman2',\n",
    " 'lilinqing',\n",
    " 'rojero',\n",
    " 'penecito',\n",
    " '520520chen',\n",
    " 'helpat1',\n",
    " 'kg240',\n",
    " '15243632839',\n",
    " '19Cat82',\n",
    " '312560redstone',\n",
    " 'pocomc123',\n",
    " 'art17041980',\n",
    " '15278864',\n",
    " 'Rock1under',\n",
    " 'Bigwheel18',\n",
    " 'iriscash19790919',\n",
    " 'naja12',\n",
    " 'akamunna',\n",
    " '572414',\n",
    " 'winterdove',\n",
    " '7995662',\n",
    " 'cidoku77',\n",
    " '_CECILE',\n",
    " '98765421',\n",
    " '0167622216',\n",
    " 'd8dOSoQ',\n",
    " 'legends09',\n",
    " 'kels28',\n",
    " 'nismopower',\n",
    " 'remek1',\n",
    " 'morten123456',\n",
    " 'csilla1818',\n",
    " 'koda25',\n",
    " '063103139n',\n",
    " 'matrixx05',\n",
    " 'a312305469',\n",
    " '1350a',\n",
    " 'jovane',\n",
    " '89595321',\n",
    " 'kdskdskds2',\n",
    " 'N5335161',\n",
    " '62866908',\n",
    " 'gcysdsn365500',\n",
    " 'Ir166211',\n",
    " 'VITORIA68',\n",
    " '10160128',\n",
    " '0143841889',\n",
    " 'Wgvue3tj',\n",
    " '240724',\n",
    " '4g6dBs',\n",
    " '051895',\n",
    " 'Sina1403',\n",
    " 'cz8587318',\n",
    " 'lenovo5588',\n",
    " 'tao5201314',\n",
    " 'hip61ven',\n",
    " 'lolage12',\n",
    " 'doch16',\n",
    " 'PITBIKE',\n",
    " 'pellepelle1',\n",
    " 'tkay313',\n",
    " '8c21d8ac',\n",
    " 'l6683823',\n",
    " 'siewjie',\n",
    " 'sholawat',\n",
    " 'fruskamanga',\n",
    " '11add911',\n",
    " 'sfsnet',\n",
    " 'malink93',\n",
    " 'spark1982',\n",
    " 'csfexxe',\n",
    " '080745',\n",
    " 'Jyh62',\n",
    " '270484',\n",
    " 'acceber',\n",
    " 'bikesR4me',\n",
    " 'khs2010',\n",
    " '17mj23',\n",
    " 'papetarie',\n",
    " 'Rcalma',\n",
    " 'yolandasisi',\n",
    " 'sotsot',\n",
    " '26818861',\n",
    " 'culo1985',\n",
    " 'ALLOHUAKBAR!',\n",
    " '1nVJg54E',\n",
    " '602092607791',\n",
    " 'alicia89',\n",
    " 'wang@gaoyibo123',\n",
    " 'd3R8yqYD',\n",
    " 'CJE@2009',\n",
    " 'guimin0421',\n",
    " '51d05d4d',\n",
    " 'aljalj',\n",
    " 'or1306by',\n",
    " '740828721',\n",
    " '52184586sr',\n",
    " 'gdw745dpw',\n",
    " 'Tivadar1',\n",
    " 'star411817',\n",
    " 'MLCMCX',\n",
    " 'szesztilalom',\n",
    " '86719167',\n",
    " '019904',\n",
    " '538750531',\n",
    " '9861264423',\n",
    " '9dad117d',\n",
    " 'brumle',\n",
    " 'a123cos456',\n",
    " '1512121232',\n",
    " '1967mustang',\n",
    " '4766047660',\n",
    " '781012',\n",
    " 'piskor',\n",
    " '2021',\n",
    " '11101329',\n",
    " 'Redsk1ns',\n",
    " 'nopq838',\n",
    " 'efgh792',\n",
    " 'mlplet311',\n",
    " 'sim044',\n",
    " 'zuoyuzuo',\n",
    " '1234571234',\n",
    " 'jiawei1314',\n",
    " 'qinaideleer1590',\n",
    " 'zyld1234',\n",
    " 'Jes',\n",
    " 'praca123',\n",
    " 'jhb316--',\n",
    " 'verpeide',\n",
    " '840203005',\n",
    " 'living4him',\n",
    " 'xujieshuai',\n",
    " '5400520',\n",
    " 'shiwenhao@shiwenyu',\n",
    " '198962abc',\n",
    " '1984712512',\n",
    " 'jimmyeatworld1',\n",
    " 'lty10071998',\n",
    " 'AMYTRACE',\n",
    " '90624863',\n",
    " 'azlan10',\n",
    " 'ecjJa9B2',\n",
    " '157159789a',\n",
    " '1987814zwt',\n",
    " 'latinoloco1',\n",
    " 'pernilla1',\n",
    " 'friend1314',\n",
    " 'b7tigger',\n",
    " 'gchabot',\n",
    " 'niggurath',\n",
    " 'blo',\n",
    " 'lisanotoli',\n",
    " 'ullah638',\n",
    " '8552ak',\n",
    " 'yuki820815',\n",
    " 'tito12',\n",
    " 'ludovic130490',\n",
    " 'TecKer',\n",
    " 'eleven1314',\n",
    " 'rach011684',\n",
    " 'bad2bone',\n",
    " 'REDROOSTER',\n",
    " 'n11533r',\n",
    " '4828060',\n",
    " 'qq010120',\n",
    " 'maeelza',\n",
    " 'sah53663',\n",
    " 'rangas',\n",
    " 'parolaliveh',\n",
    " 'xiaoyaoao',\n",
    " 'timmyy',\n",
    " 'toppyra',\n",
    " 'p3morska',\n",
    " 'logineris',\n",
    " 'mail@2000',\n",
    " 'Rsz04eles',\n",
    " 'LOSEEZEKIEL',\n",
    " 'rosmah5003',\n",
    " '9341181805',\n",
    " '10779',\n",
    " 'MH1uiotn',\n",
    " 'mythtime',\n",
    " 'jitebo96',\n",
    " 'infamous',\n",
    " 'tattershall',\n",
    " 'chimie',\n",
    " '77424044',\n",
    " '7csmokey',\n",
    " 'GSSCD01',\n",
    " 'mh15165257992',\n",
    " '2301248520',\n",
    " '5514460',\n",
    " '350642',\n",
    " 'gfhjkm1998',\n",
    " 'zys3652976',\n",
    " 'zhaozhicai2008',\n",
    " 'hkmescom',\n",
    " 'manga12345',\n",
    " 'PLOUTO',\n",
    " 'maz4you',\n",
    " 'ziggag',\n",
    " 'weavilespeed',\n",
    " 'points003625',\n",
    " 'hsg456852',\n",
    " 'iamabigguy',\n",
    " 'yldngj',\n",
    " 'bentrue123',\n",
    " 'baller3',\n",
    " 'delta741',\n",
    " '563380',\n",
    " 'djdean123',\n",
    " 'b0g1710d',\n",
    " 'dewiqu73',\n",
    " 'pexawi96',\n",
    " '311202',\n",
    " 'z6ftjjd3',\n",
    " 'dawidek80210',\n",
    " 'q74dwzr5',\n",
    " 'betuska',\n",
    " '12345@54321',\n",
    " 'ulNrEnUX',\n",
    " '174819485',\n",
    " 'sontensea23',\n",
    " '194448',\n",
    " 'summi830801',\n",
    " 'pongo1',\n",
    " '81888871',\n",
    " '20vivid',\n",
    " 'ryotalevan',\n",
    " '7eagles',\n",
    " 'afil',\n",
    " 'jack20ya',\n",
    " 'xxlYYz',\n",
    " 'dieahk',\n",
    " 'shizi11',\n",
    " 'kunumunu',\n",
    " '19876289',\n",
    " '552500',\n",
    " 'oscarv52j',\n",
    " 'halloichbins1',\n",
    " '2pac',\n",
    " 'john1019',\n",
    " '2130',\n",
    " '9773290',\n",
    " 'JC3811',\n",
    " 'CANEIGE2',\n",
    " '96409640',\n",
    " 'const215',\n",
    " 'sabbat2002',\n",
    " '7758258ll',\n",
    " 'd92c96m98',\n",
    " 'inly95',\n",
    " 'aces32',\n",
    " 'bm765muy',\n",
    " '77858',\n",
    " 'physiker',\n",
    " 'Dinamo2100',\n",
    " 'bruce85',\n",
    " 'bethere',\n",
    " '19960819',\n",
    " 'sr3125199',\n",
    " 'hflj@520',\n",
    " 'a141169',\n",
    " 'beb3559',\n",
    " 'zzdlfq',\n",
    " 'vartamarta',\n",
    " 'ahojtye',\n",
    " '87340087',\n",
    " 'varverev',\n",
    " 'negona',\n",
    " '883986',\n",
    " 'amalti',\n",
    " '4300516',\n",
    " 'cody',\n",
    " 'tor12345',\n",
    " 'duziqinggao',\n",
    " 'ltymrub',\n",
    " '85958595',\n",
    " 'tillet',\n",
    " '471f9xoz',\n",
    " 'vemeklis',\n",
    " 'liuyupu',\n",
    " '33333ccccc',\n",
    " 'illj',\n",
    " 'pataleta',\n",
    " '144618',\n",
    " 'alain82',\n",
    " 'c0y6504l',\n",
    " 'carrie1960',\n",
    " 'tfh12345678',\n",
    " 'eroplv95',\n",
    " '5220082008',\n",
    " '8771419',\n",
    " '16088227',\n",
    " '4637324',\n",
    " 'bugger825',\n",
    " 'marmaris',\n",
    " 'jinjin111',\n",
    " '170383gp',\n",
    " '3484427',\n",
    " 'fl33321',\n",
    " 'zwqrfg',\n",
    " '67070857',\n",
    " '432106969',\n",
    " '6856',\n",
    " '704870704870',\n",
    " 'pv041886',\n",
    " '20060814',\n",
    " '512881535',\n",
    " 'milanimilani',\n",
    " '472619',\n",
    " 'dbyxw888',\n",
    " '85717221',\n",
    " 'cc841215',\n",
    " 'ariana19321',\n",
    " 'bbbnnn',\n",
    " 'ang34hehiu',\n",
    " '83794612',\n",
    " 'sousou16',\n",
    " 'mengmengsky',\n",
    " '2006Fxst',\n",
    " 'wj112358',\n",
    " '33460358',\n",
    " 'HCPADJ24',\n",
    " 'kaelcisan',\n",
    " 'Brenda85',\n",
    " '786525pb',\n",
    " 'shi461988',\n",
    " 'machinegun',\n",
    " 'pingu',\n",
    " 'yeybozip',\n",
    " '71477nak',\n",
    " 'stokurew',\n",
    " '881981',\n",
    " '16121992',\n",
    " '9461112672',\n",
    " 'tgl3838338',\n",
    " 'kopaszbarack1',\n",
    " '0177469089',\n",
    " 'ehealth01',\n",
    " '678985',\n",
    " 'Everyday!',\n",
    " '26724209',\n",
    " '197081500544',\n",
    " '856492oo',\n",
    " 'ysu067658',\n",
    " '147zaq258',\n",
    " 'greedy55',\n",
    " 'admindxsp',\n",
    " 'popelkacke48',\n",
    " 'instance8g',\n",
    " '370000',\n",
    " 'aion',\n",
    " 'wareham3',\n",
    " 'k196364',\n",
    " 'snowboarder',\n",
    " 'ic26072097',\n",
    " '512107913',\n",
    " 'Defdec12',\n",
    " 'sam_2000',\n",
    " 'thereisnotry',\n",
    " 'krimskrams',\n",
    " '7545314',\n",
    " 'ascom123',\n",
    " 'a6485468',\n",
    " '150435',\n",
    " '43KCw:',\n",
    " 'zadrack',\n",
    " 'Auti2Good',\n",
    " 'admin59',\n",
    " '896896896',\n",
    " 'zax5566',\n",
    " '1085930a',\n",
    " 'ennaanne',\n",
    " '65772605Ms',\n",
    " '5744',\n",
    " '13915544305',\n",
    " 'haha2010',\n",
    " 'omosetan',\n",
    " 'blondie119',\n",
    " 'hoihallo',\n",
    " 'pwwb8ber',\n",
    " 'westy1',\n",
    " 'azalee',\n",
    " '03324472560',\n",
    " 'pernalonga31',\n",
    " 'lu1605go',\n",
    " '229271',\n",
    " 'LxS3hPj954',\n",
    " 'cclarke',\n",
    " '113891',\n",
    " 'K3ynArK726',\n",
    " 'Solg682',\n",
    " 'TVsur.',\n",
    " '774648571',\n",
    " 'trabzon10',\n",
    " 'argoitz12',\n",
    " 'AMekrdKcf',\n",
    " '13453315868',\n",
    " 'unicorp',\n",
    " '173950guh',\n",
    " '!1tomate#',\n",
    " '272492198w',\n",
    " 'keedar',\n",
    " '381381484848',\n",
    " 'a9n0k768',\n",
    " 'nvjdsakl79',\n",
    " '221766',\n",
    " 'tirvpqky',\n",
    " 'kaisebene',\n",
    " 'yasminyoung',\n",
    " '12341234q',\n",
    " '2002040720',\n",
    " '1645193374',\n",
    " 'godofneo',\n",
    " 'l78j7777',\n",
    " '06012008Vita',\n",
    " 'martii6474',\n",
    " 'xx000008',\n",
    " '07300120146',\n",
    " 'galaxy',\n",
    " 'nuy252020',\n",
    " 'woshixiayu',\n",
    " 'cncu0903',\n",
    " 'kobe2525.',\n",
    " 'Bigamu1',\n",
    " 'rottanburg2463',\n",
    " '710405wyq',\n",
    " 'm4h3sh',\n",
    " 'lijian1234',\n",
    " 'runer9216',\n",
    " 'detonator',\n",
    " '81jediknight',\n",
    " '198928',\n",
    " 'GERALD1975',\n",
    " 'alpineme',\n",
    " 'jgb5717',\n",
    " 'udbfulbabbxa',\n",
    " 'marengo',\n",
    " '26558',\n",
    " '3394mjy',\n",
    " 'moritz7776',\n",
    " '87288728',\n",
    " 'bejaszian',\n",
    " 'Hello123',\n",
    " '01715020238',\n",
    " '2008yoyo',\n",
    " 'tpy5574',\n",
    " 'arakasi',\n",
    " 'dejvid',\n",
    " 'oilwell',\n",
    " '59886420',\n",
    " '9775519',\n",
    " '5520763',\n",
    " 'zhll@310230',\n",
    " 'cletos',\n",
    " 'mastodon1',\n",
    " '1cvieira',\n",
    " '19940507',\n",
    " 'banten',\n",
    " '6raspelen',\n",
    " '545405499',\n",
    " '4271188',\n",
    " '14468914',\n",
    " '911012015347',\n",
    " 'intel@123',\n",
    " 'hvulj1uz',\n",
    " 'jiangmin',\n",
    " '870622lsh',\n",
    " '1cylb780612',\n",
    " '15bojomoreno',\n",
    " 'rtoip1',\n",
    " 'sxs19881210',\n",
    " '09071994',\n",
    " 'mecky-89',\n",
    " 'agape222',\n",
    " '7tn17tno',\n",
    " 'respect333',\n",
    " 'beana1129',\n",
    " 'slimtime',\n",
    " '626322000abc',\n",
    " 'csl2681156',\n",
    " '124712',\n",
    " 'ALX2005',\n",
    " '25240000',\n",
    " '2ixxxaux',\n",
    " 'oswxENY4',\n",
    " '8135066',\n",
    " 'chentaoxxf',\n",
    " 'enuresie',\n",
    " '97799779',\n",
    " '2454448',\n",
    " 'intelatom',\n",
    " 'ilovezhang',\n",
    " 'ottera',\n",
    " 'easyshit',\n",
    " '4uk39q9w',\n",
    " 'fforganic22',\n",
    " 'liping5201314',\n",
    " 'patsy1',\n",
    " 'qKOrNDDx',\n",
    " '563222',\n",
    " 'wilgen41hof',\n",
    " '09Bingo',\n",
    " 'pecunianonolet',\n",
    " '6bJH8kI',\n",
    " '19741031',\n",
    " 'aguengui',\n",
    " 'cyu05200056',\n",
    " 'rememberr',\n",
    " '404723',\n",
    " '865536',\n",
    " 'kampala1958',\n",
    " '304011',\n",
    " 'd3x45xg2',\n",
    " '05088989l',\n",
    " 'elberttiti',\n",
    " '444333zl',\n",
    " 'ching3399',\n",
    " 'skipfish',\n",
    " 'korenaar',\n",
    " '0167563108',\n",
    " 'j9p7ty95',\n",
    " 'oleoleole',\n",
    " '02201980',\n",
    " 'DOUDOU92600',\n",
    " 'shifty5552',\n",
    " '27405122',\n",
    " 'schoolhouse',\n",
    " 'h81526947p',\n",
    " 'grasdouble',\n",
    " 'tp1971%',\n",
    " '9725',\n",
    " 'hannar123',\n",
    " 'hopphopp',\n",
    " 'dirtwtjegah',\n",
    " 'SFP685980',\n",
    " '4301229103',\n",
    " 'badboyfamily']\n",
    "\n",
    "\n",
    "\n",
    "def easy_patterns(pattern):\n",
    "    count = 0\n",
    "    for password in passwords:\n",
    "        if pattern in password:\n",
    "            count += 1\n",
    "    return count\n",
    "\n",
    "countup_passwords = easy_patterns(\"1234\")\n",
    "print(countup_passwords)"
   ]
  },
  {
   "cell_type": "markdown",
   "metadata": {},
   "source": [
    "# 6: First-Class Functions"
   ]
  },
  {
   "cell_type": "markdown",
   "metadata": {},
   "source": [
    "# Instructions\n",
    "The variable not_floats contains a list of string objects that represent floating point numbers (e.g. \"12.0\").\n",
    "Use Python's map() function to convert every string in the list into a floating point number, and store the result in floats.\n",
    "Hint\n",
    "Pass float in as the first argument to map(), and not_floats as the second."
   ]
  },
  {
   "cell_type": "code",
   "execution_count": 50,
   "metadata": {
    "collapsed": false
   },
   "outputs": [
    {
     "name": "stdout",
     "output_type": "stream",
     "text": [
      "[1, 2, 199, 56]\n"
     ]
    }
   ],
   "source": [
    "ints = list(map(int, [1.5, 2.4, 199.7, 56.0]))\n",
    "print(ints)"
   ]
  },
  {
   "cell_type": "code",
   "execution_count": 56,
   "metadata": {
    "collapsed": false
   },
   "outputs": [
    {
     "name": "stdout",
     "output_type": "stream",
     "text": [
      "[1.4, 71.833, 0.1, 109.2, 77.7, 618.44, 12.004]\n"
     ]
    }
   ],
   "source": [
    "not_floats = ['1.4', '71.833', '0.1', '109.2', '77.7', '618.44', '12.004']\n",
    "\n",
    "floats = list(map(float, not_floats))\n",
    "print(floats)"
   ]
  },
  {
   "cell_type": "markdown",
   "metadata": {},
   "source": [
    "# 7: Average Password Length"
   ]
  },
  {
   "cell_type": "markdown",
   "metadata": {},
   "source": [
    "# Instructions\n",
    "Use the map() function to perform a length calculation for each element in our passwords list.\n",
    "Cast the result as a list object (containing the lengths of every password).\n",
    "Store the result in password_lengths.\n",
    "Then, calculate the average password length with help from the sum() function, which takes a list as the argument.\n",
    "Store the result in avg_password_length.\n",
    "Hint\n",
    "Pass in len as the first argument to our map() function. Don't forget to cast the result to a list using the list() function. To calculate the average, divide the sum of the lengths by the total number of passwords."
   ]
  },
  {
   "cell_type": "code",
   "execution_count": 60,
   "metadata": {
    "collapsed": false
   },
   "outputs": [
    {
     "data": {
      "text/html": [
       "<div>\n",
       "<table border=\"1\" class=\"dataframe\">\n",
       "  <thead>\n",
       "    <tr style=\"text-align: right;\">\n",
       "      <th></th>\n",
       "      <th>07606374520</th>\n",
       "    </tr>\n",
       "  </thead>\n",
       "  <tbody>\n",
       "    <tr>\n",
       "      <th>0</th>\n",
       "      <td>piontekendre</td>\n",
       "    </tr>\n",
       "    <tr>\n",
       "      <th>1</th>\n",
       "      <td>rambo144</td>\n",
       "    </tr>\n",
       "    <tr>\n",
       "      <th>2</th>\n",
       "      <td>primoz123</td>\n",
       "    </tr>\n",
       "  </tbody>\n",
       "</table>\n",
       "</div>"
      ],
      "text/plain": [
       "    07606374520\n",
       "0  piontekendre\n",
       "1      rambo144\n",
       "2     primoz123"
      ]
     },
     "execution_count": 60,
     "metadata": {},
     "output_type": "execute_result"
    }
   ],
   "source": [
    "import pandas as pd\n",
    "passwords = pd.read_table('passwords.txt')\n",
    "passwords.head(3)"
   ]
  },
  {
   "cell_type": "code",
   "execution_count": 70,
   "metadata": {
    "collapsed": false
   },
   "outputs": [
    {
     "name": "stdout",
     "output_type": "stream",
     "text": [
      "[11]\n",
      "0.00733822548365577\n"
     ]
    }
   ],
   "source": [
    "password_lengths = list(map(len, passwords))\n",
    "print(password_lengths)\n",
    "\n",
    "avg_password_length = sum(password_lengths) / len(passwords)\n",
    "print(avg_password_length)"
   ]
  },
  {
   "cell_type": "markdown",
   "metadata": {},
   "source": [
    "# 8: More Uses For First-Class Functions"
   ]
  },
  {
   "cell_type": "code",
   "execution_count": 76,
   "metadata": {
    "collapsed": false
   },
   "outputs": [
    {
     "name": "stdout",
     "output_type": "stream",
     "text": [
      "[]\n"
     ]
    }
   ],
   "source": [
    "def is_palindrome(my_string):\n",
    "    return my_string == my_string[::-1]\n",
    "\n",
    "palindrome_passwords = list(filter(is_palindrome, passwords))\n",
    "print(palindrome_passwords)"
   ]
  },
  {
   "cell_type": "markdown",
   "metadata": {},
   "source": [
    "# 9: Lambda Functions"
   ]
  },
  {
   "cell_type": "markdown",
   "metadata": {},
   "source": [
    "# Instructions\n",
    "Use a lambda function to filter through the passwords list and produce a list of palindrome passwords.\n",
    "Store this list in palindrome_passwords.\n",
    "Hint\n",
    "Use filter() with a lambda function as the first argument. The lambda function should take one argument, and return True if that argument is a palindrome."
   ]
  },
  {
   "cell_type": "code",
   "execution_count": 84,
   "metadata": {
    "collapsed": false
   },
   "outputs": [
    {
     "name": "stdout",
     "output_type": "stream",
     "text": [
      "[]\n"
     ]
    }
   ],
   "source": [
    "palindrome_passwords = list(filter(lambda my_string : my_string[::-1] == my_string, passwords))\n",
    "print(palindrome_passwords)"
   ]
  },
  {
   "cell_type": "markdown",
   "metadata": {},
   "source": [
    "# 10: Password Strengths"
   ]
  },
  {
   "cell_type": "markdown",
   "metadata": {},
   "source": [
    "# Instructions\n",
    "Using only one line of code each, calculate and store:\n",
    "The list of all weak passwords in the weak_passwords variable\n",
    "The list of all medium passwords in the medium_passwords variable\n",
    "The list of all strong passwords in the strong_passwords variable\n",
    "Hint\n",
    "Use filter with lambda functions.\n",
    "Each lambda function should include conditional statements that use comparison operators."
   ]
  },
  {
   "cell_type": "code",
   "execution_count": 91,
   "metadata": {
    "collapsed": false
   },
   "outputs": [],
   "source": [
    "weak_passwords = list(filter(lambda x : len(x) <  6, passwords))\n",
    "medium_passwords = list(filter(lambda x : len(x) >=  6 and len(x) <= 10, passwords))\n",
    "strong_passwords = list(filter(lambda x : len(x) > 10, passwords))"
   ]
  }
 ],
 "metadata": {
  "kernelspec": {
   "display_name": "Python 3",
   "language": "python",
   "name": "python3"
  },
  "language_info": {
   "codemirror_mode": {
    "name": "ipython",
    "version": 3
   },
   "file_extension": ".py",
   "mimetype": "text/x-python",
   "name": "python",
   "nbconvert_exporter": "python",
   "pygments_lexer": "ipython3",
   "version": "3.5.1"
  }
 },
 "nbformat": 4,
 "nbformat_minor": 0
}
