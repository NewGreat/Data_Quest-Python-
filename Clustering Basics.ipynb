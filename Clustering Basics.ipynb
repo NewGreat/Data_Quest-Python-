{
 "cells": [
  {
   "cell_type": "markdown",
   "metadata": {
    "collapsed": true
   },
   "source": [
    "# 1. The Dataset\n",
    "Instructions\n",
    "Import the Pandas library.\n",
    "Use the read_csv() method in Pandas to read 114_congress.csv into the variable votes.\n",
    "Hint\n",
    "You'll have to pass the string 114_congress.csv into the read_csv() method."
   ]
  },
  {
   "cell_type": "code",
   "execution_count": 33,
   "metadata": {
    "collapsed": false
   },
   "outputs": [
    {
     "data": {
      "text/html": [
       "<div>\n",
       "<table border=\"1\" class=\"dataframe\">\n",
       "  <thead>\n",
       "    <tr style=\"text-align: right;\">\n",
       "      <th></th>\n",
       "      <th>name</th>\n",
       "      <th>party</th>\n",
       "      <th>state</th>\n",
       "      <th>00001</th>\n",
       "      <th>00004</th>\n",
       "      <th>00005</th>\n",
       "      <th>00006</th>\n",
       "      <th>00007</th>\n",
       "      <th>00008</th>\n",
       "      <th>00009</th>\n",
       "      <th>00010</th>\n",
       "      <th>00020</th>\n",
       "      <th>00026</th>\n",
       "      <th>00032</th>\n",
       "      <th>00038</th>\n",
       "      <th>00039</th>\n",
       "      <th>00044</th>\n",
       "      <th>00047</th>\n",
       "    </tr>\n",
       "  </thead>\n",
       "  <tbody>\n",
       "    <tr>\n",
       "      <th>0</th>\n",
       "      <td>Alexander</td>\n",
       "      <td>R</td>\n",
       "      <td>TN</td>\n",
       "      <td>0</td>\n",
       "      <td>1</td>\n",
       "      <td>1</td>\n",
       "      <td>1</td>\n",
       "      <td>1</td>\n",
       "      <td>0</td>\n",
       "      <td>0</td>\n",
       "      <td>1</td>\n",
       "      <td>1</td>\n",
       "      <td>1</td>\n",
       "      <td>0</td>\n",
       "      <td>0</td>\n",
       "      <td>0</td>\n",
       "      <td>0</td>\n",
       "      <td>0</td>\n",
       "    </tr>\n",
       "    <tr>\n",
       "      <th>1</th>\n",
       "      <td>Ayotte</td>\n",
       "      <td>R</td>\n",
       "      <td>NH</td>\n",
       "      <td>0</td>\n",
       "      <td>1</td>\n",
       "      <td>1</td>\n",
       "      <td>1</td>\n",
       "      <td>1</td>\n",
       "      <td>0</td>\n",
       "      <td>0</td>\n",
       "      <td>1</td>\n",
       "      <td>0</td>\n",
       "      <td>1</td>\n",
       "      <td>0</td>\n",
       "      <td>1</td>\n",
       "      <td>0</td>\n",
       "      <td>1</td>\n",
       "      <td>0</td>\n",
       "    </tr>\n",
       "    <tr>\n",
       "      <th>2</th>\n",
       "      <td>Baldwin</td>\n",
       "      <td>D</td>\n",
       "      <td>WI</td>\n",
       "      <td>1</td>\n",
       "      <td>0</td>\n",
       "      <td>0</td>\n",
       "      <td>1</td>\n",
       "      <td>0</td>\n",
       "      <td>1</td>\n",
       "      <td>0</td>\n",
       "      <td>1</td>\n",
       "      <td>0</td>\n",
       "      <td>0</td>\n",
       "      <td>1</td>\n",
       "      <td>1</td>\n",
       "      <td>0</td>\n",
       "      <td>1</td>\n",
       "      <td>1</td>\n",
       "    </tr>\n",
       "    <tr>\n",
       "      <th>3</th>\n",
       "      <td>Barrasso</td>\n",
       "      <td>R</td>\n",
       "      <td>WY</td>\n",
       "      <td>0</td>\n",
       "      <td>1</td>\n",
       "      <td>1</td>\n",
       "      <td>1</td>\n",
       "      <td>1</td>\n",
       "      <td>0</td>\n",
       "      <td>1</td>\n",
       "      <td>1</td>\n",
       "      <td>1</td>\n",
       "      <td>1</td>\n",
       "      <td>0</td>\n",
       "      <td>0</td>\n",
       "      <td>1</td>\n",
       "      <td>0</td>\n",
       "      <td>0</td>\n",
       "    </tr>\n",
       "    <tr>\n",
       "      <th>4</th>\n",
       "      <td>Bennet</td>\n",
       "      <td>D</td>\n",
       "      <td>CO</td>\n",
       "      <td>0</td>\n",
       "      <td>0</td>\n",
       "      <td>0</td>\n",
       "      <td>1</td>\n",
       "      <td>0</td>\n",
       "      <td>1</td>\n",
       "      <td>0</td>\n",
       "      <td>1</td>\n",
       "      <td>0</td>\n",
       "      <td>0</td>\n",
       "      <td>0</td>\n",
       "      <td>1</td>\n",
       "      <td>0</td>\n",
       "      <td>1</td>\n",
       "      <td>0</td>\n",
       "    </tr>\n",
       "  </tbody>\n",
       "</table>\n",
       "</div>"
      ],
      "text/plain": [
       "        name party state  00001  00004  00005  00006  00007  00008  00009  \\\n",
       "0  Alexander     R    TN      0      1      1      1      1      0      0   \n",
       "1     Ayotte     R    NH      0      1      1      1      1      0      0   \n",
       "2    Baldwin     D    WI      1      0      0      1      0      1      0   \n",
       "3   Barrasso     R    WY      0      1      1      1      1      0      1   \n",
       "4     Bennet     D    CO      0      0      0      1      0      1      0   \n",
       "\n",
       "   00010  00020  00026  00032  00038  00039  00044  00047  \n",
       "0      1      1      1      0      0      0      0      0  \n",
       "1      1      0      1      0      1      0      1      0  \n",
       "2      1      0      0      1      1      0      1      1  \n",
       "3      1      1      1      0      0      1      0      0  \n",
       "4      1      0      0      0      1      0      1      0  "
      ]
     },
     "execution_count": 33,
     "metadata": {},
     "output_type": "execute_result"
    }
   ],
   "source": [
    "import pandas as pd\n",
    "votes = pd.read_csv(\"114_congress.csv\")\n",
    "votes.head()"
   ]
  },
  {
   "cell_type": "markdown",
   "metadata": {},
   "source": [
    "# 2. Exploring the Data\n",
    "Instructions\n",
    "Find how many Senators are in each party.\n",
    "Use the value_counts() method on the party column of votes. Print the results.\n",
    "Find what the \"average\" vote for each bill was.\n",
    "Use the mean() method on the votes Dataframe. If the mean for a column is less than .5, more Senators voted against the bill, and vice versa if it's over .5. Print the results.\n",
    "Hint\n",
    "Remember to print out both results."
   ]
  },
  {
   "cell_type": "code",
   "execution_count": 34,
   "metadata": {
    "collapsed": false
   },
   "outputs": [
    {
     "name": "stdout",
     "output_type": "stream",
     "text": [
      "R    54\n",
      "D    44\n",
      "I     2\n",
      "Name: party, dtype: int64\n"
     ]
    }
   ],
   "source": [
    "print(votes[\"party\"].value_counts())"
   ]
  },
  {
   "cell_type": "code",
   "execution_count": 35,
   "metadata": {
    "collapsed": false
   },
   "outputs": [
    {
     "name": "stdout",
     "output_type": "stream",
     "text": [
      "00001    0.325\n",
      "00004    0.575\n",
      "00005    0.535\n",
      "00006    0.945\n",
      "00007    0.545\n",
      "00008    0.415\n",
      "00009    0.545\n",
      "00010    0.985\n",
      "00020    0.525\n",
      "00026    0.545\n",
      "00032    0.410\n",
      "00038    0.480\n",
      "00039    0.510\n",
      "00044    0.460\n",
      "00047    0.370\n",
      "dtype: float64\n"
     ]
    }
   ],
   "source": [
    "print(votes.mean())"
   ]
  },
  {
   "cell_type": "code",
   "execution_count": null,
   "metadata": {
    "collapsed": false
   },
   "outputs": [],
   "source": []
  },
  {
   "cell_type": "markdown",
   "metadata": {},
   "source": [
    "# 3.Distance Between Senators\n",
    "Instructions Compute the Euclidean distance between the first row and the third row.\n",
    "Assign the result to distance.\n",
    "Hint\n",
    "You'll have to use the euclidean_distances method."
   ]
  },
  {
   "cell_type": "code",
   "execution_count": 36,
   "metadata": {
    "collapsed": false
   },
   "outputs": [
    {
     "name": "stdout",
     "output_type": "stream",
     "text": [
      "[[ 1.73205081]]\n"
     ]
    }
   ],
   "source": [
    "from sklearn.metrics.pairwise import euclidean_distances\n",
    "\n",
    "print(euclidean_distances(votes.iloc[0,3:].reshape(1, -1), votes.iloc[1, 3:].reshape(1, -1)))"
   ]
  },
  {
   "cell_type": "code",
   "execution_count": 37,
   "metadata": {
    "collapsed": false
   },
   "outputs": [
    {
     "name": "stdout",
     "output_type": "stream",
     "text": [
      "[[ 3.31662479]]\n"
     ]
    }
   ],
   "source": [
    "distance = euclidean_distances(votes.iloc[0,3:].reshape(1, -1), votes.iloc[2, 3:].reshape(1, -1))\n",
    "print(distance)"
   ]
  },
  {
   "cell_type": "markdown",
   "metadata": {},
   "source": [
    "# 4. Initial Clustering\n",
    "Instructions Use the fit_transform() method to fit kmeans_model on the votes DataFrame. Only select columns after the first 3 from votes when fitting.\n",
    "Assign the result to senator_distances.\n",
    "Hint\n",
    "Remember to pass in a : to the iloc method indicating that you want to select all of the rows."
   ]
  },
  {
   "cell_type": "code",
   "execution_count": 38,
   "metadata": {
    "collapsed": false
   },
   "outputs": [
    {
     "name": "stdout",
     "output_type": "stream",
     "text": [
      "[[ 3.12141628  1.3134775 ]\n",
      " [ 2.6146248   2.05339992]\n",
      " [ 0.33960656  3.41651746]\n",
      " [ 3.42004795  0.24198446]\n",
      " [ 1.43833966  2.96866004]\n",
      " [ 0.33960656  3.41651746]\n",
      " [ 3.42004795  0.24198446]\n",
      " [ 0.33960656  3.41651746]\n",
      " [ 3.42004795  0.24198446]\n",
      " [ 0.31287498  3.30758755]]\n"
     ]
    }
   ],
   "source": [
    "from sklearn.cluster import KMeans\n",
    "kmeans_model = KMeans(n_clusters=2,random_state=1)\n",
    "sentator_distances = kmeans_model.fit_transform(votes.iloc[:,3:])\n",
    "print(sentator_distances[0:10])"
   ]
  },
  {
   "cell_type": "markdown",
   "metadata": {
    "collapsed": true
   },
   "source": [
    "# 5. Exploring The Clusters\n",
    "Instructions Use the labels_ attribute to extract the labels from kmeans_model. Assign the result to the variable labels.\n",
    "Use the crosstab() method to print out a table comparing labels to votes[\"party\"], in that order.\n",
    "Hint\n",
    "Remember to call print() in the last step."
   ]
  },
  {
   "cell_type": "code",
   "execution_count": 39,
   "metadata": {
    "collapsed": false
   },
   "outputs": [
    {
     "name": "stdout",
     "output_type": "stream",
     "text": [
      "party   D  I   R\n",
      "row_0           \n",
      "0      41  2   0\n",
      "1       3  0  54\n"
     ]
    }
   ],
   "source": [
    "labels = kmeans_model.labels_\n",
    "crosstabulate = pd.crosstab(labels, votes[\"party\"])\n",
    "print(crosstabulate)"
   ]
  },
  {
   "cell_type": "markdown",
   "metadata": {},
   "source": [
    "# 6. Exploring Senators In The Wrong Cluster\n",
    "Instructions Select all senators who were assigned to the second cluster that were Democrats. Assign the subset to democratic_outliers.\n",
    "Print out democratic_outliers.\n",
    "Hint\n",
    "Remember to use parentheses and the & character when subsetting."
   ]
  },
  {
   "cell_type": "code",
   "execution_count": 40,
   "metadata": {
    "collapsed": false
   },
   "outputs": [
    {
     "name": "stdout",
     "output_type": "stream",
     "text": [
      "        name party state  00001  00004  00005  00006  00007  00008  00009  \\\n",
      "42  Heitkamp     D    ND    0.0    1.0    0.0    1.0    0.0    0.0    1.0   \n",
      "56   Manchin     D    WV    0.0    1.0    0.0    1.0    0.0    0.0    1.0   \n",
      "74      Reid     D    NV    0.5    0.5    0.5    0.5    0.5    0.5    0.5   \n",
      "\n",
      "    00010  00020  00026  00032  00038  00039  00044  00047  \n",
      "42    1.0    0.0    0.0    0.0    1.0    0.0    0.0    0.0  \n",
      "56    1.0    1.0    0.0    0.0    1.0    1.0    0.0    0.0  \n",
      "74    0.5    0.5    0.5    0.5    0.5    0.5    0.5    0.5  \n"
     ]
    }
   ],
   "source": [
    "democratic_outliers = votes[(labels == 1) & (votes[\"party\"] ==\"D\")]\n",
    "print(democratic_outliers)"
   ]
  },
  {
   "cell_type": "markdown",
   "metadata": {},
   "source": [
    "# 7. Plotting Out The Clusters\n",
    "Instructions Make a scatterplot using plt.scatter(). Pass in the following keyword arguments:\n",
    "x should be the first column of senator_distances.\n",
    "y should be the second column of senator_distances.\n",
    "c should be labels. This will shade the points according to label.\n",
    "Use plt.show() to show the plot.\n",
    "Hint\n",
    "Make sure to pass keyword arguments directly into the plt.scatter function call. Remember that senator_distances is a NumPy array. You can select the first column with senator_distances[:,0]."
   ]
  },
  {
   "cell_type": "code",
   "execution_count": 41,
   "metadata": {
    "collapsed": false
   },
   "outputs": [],
   "source": [
    "import matplotlib.pyplot as plt\n",
    "plt.scatter(x=sentator_distances[:,0], y=sentator_distances[:,1], c=labels)\n",
    "plt.show()"
   ]
  },
  {
   "cell_type": "markdown",
   "metadata": {},
   "source": [
    "# 8. Finding The Most Extreme\n",
    "Instructions Compute an extremism rating by cubing every value in senator_distances, then finding the sum across each row. Assign the result to extremism.\n",
    "Assign the extremism variable to the extremism column of votes.\n",
    "Sort votes on the extremism column, in descending order, using the sort_values() method on DataFrames.\n",
    "Print the top 10 most extreme Senators.\n",
    "Hint\n",
    "You can use the print function and the head() method in the last step."
   ]
  },
  {
   "cell_type": "code",
   "execution_count": 62,
   "metadata": {
    "collapsed": false
   },
   "outputs": [],
   "source": [
    "votes.insert(3, column=\"extremism\", value=extremism)"
   ]
  },
  {
   "cell_type": "code",
   "execution_count": 74,
   "metadata": {
    "collapsed": false
   },
   "outputs": [
    {
     "name": "stdout",
     "output_type": "stream",
     "text": [
      "         name party state  extremism  00001  00004  00005  00006  00007  \\\n",
      "98     Wicker     R    MS  46.250476      0      1      1      1      1   \n",
      "53   Lankford     R    OK  46.046873      0      1      1      0      1   \n",
      "69       Paul     R    KY  46.046873      0      1      1      0      1   \n",
      "80      Sasse     R    NE  46.046873      0      1      1      0      1   \n",
      "26       Cruz     R    TX  46.046873      0      1      1      0      1   \n",
      "48    Johnson     R    WI  40.017540      0      1      1      1      1   \n",
      "47    Isakson     R    GA  40.017540      0      1      1      1      1   \n",
      "65  Murkowski     R    AK  40.017540      0      1      1      1      1   \n",
      "64      Moran     R    KS  40.017540      0      1      1      1      1   \n",
      "30       Enzi     R    WY  40.017540      0      1      1      1      1   \n",
      "\n",
      "    00008  00009  00010  00020  00026  00032  00038  00039  00044  00047  \n",
      "98      0      1      0      1      1      0      0      1      0      0  \n",
      "53      0      1      1      1      1      0      0      1      0      0  \n",
      "69      0      1      1      1      1      0      0      1      0      0  \n",
      "80      0      1      1      1      1      0      0      1      0      0  \n",
      "26      0      1      1      1      1      0      0      1      0      0  \n",
      "48      0      1      1      1      1      0      0      1      0      0  \n",
      "47      0      1      1      1      1      0      0      1      0      0  \n",
      "65      0      1      1      1      1      0      0      1      0      0  \n",
      "64      0      1      1      1      1      0      0      1      0      0  \n",
      "30      0      1      1      1      1      0      0      1      0      0  \n"
     ]
    }
   ],
   "source": [
    "extremism = (sentator_distances ** 3).sum(axis=1)\n",
    "votes.insert(3, column=\"extremism\", value=extremism)\n",
    "votes.sort_values(\"extremism\", inplace=True, ascending=False)\n",
    "print(votes.head(10))"
   ]
  }
 ],
 "metadata": {
  "kernelspec": {
   "display_name": "Python 3",
   "language": "python",
   "name": "python3"
  },
  "language_info": {
   "codemirror_mode": {
    "name": "ipython",
    "version": 3
   },
   "file_extension": ".py",
   "mimetype": "text/x-python",
   "name": "python",
   "nbconvert_exporter": "python",
   "pygments_lexer": "ipython3",
   "version": "3.5.1"
  }
 },
 "nbformat": 4,
 "nbformat_minor": 0
}
