{
 "cells": [
  {
   "cell_type": "markdown",
   "metadata": {},
   "source": [
    "# 1: Parsing The File"
   ]
  },
  {
   "cell_type": "markdown",
   "metadata": {},
   "source": [
    "# Instructions\n",
    "Open and read in la_weather.csv.\n",
    "Split the data on the newline character to convert it to a list of rows.\n",
    "Split each row on the comma and append each list to weather_data.\n",
    "Hint\n",
    "Remember to split each row on the comma (,) to get two values.\n",
    "\n"
   ]
  },
  {
   "cell_type": "code",
   "execution_count": 10,
   "metadata": {},
   "outputs": [
    {
     "name": "stdout",
     "output_type": "stream",
     "text": [
      "['Day,Type of Weather', '1,Sunny', '2,Sunny', '3,Sunny', '4,Sunny']\n",
      "[['Day', 'Type of Weather'], ['1', 'Sunny'], ['2', 'Sunny'], ['3', 'Sunny'], ['4', 'Sunny']]\n"
     ]
    }
   ],
   "source": [
    "weather_data = []\n",
    "\n",
    "f = open('la_weather.csv', 'r', encoding='utf-8')\n",
    "data = f.read()\n",
    "rows = data.split('\\n')\n",
    "print(rows[0:5])\n",
    "\n",
    "for row in rows:\n",
    "    split_row = row.split(\",\")\n",
    "    weather_data.append(split_row)\n",
    "print(weather_data[0:5])   "
   ]
  },
  {
   "cell_type": "markdown",
   "metadata": {},
   "source": [
    "# 2: Getting A Single Column From The Data"
   ]
  },
  {
   "cell_type": "markdown",
   "metadata": {},
   "source": [
    "# Instructions\n",
    "Loop over each row in weather_data.\n",
    "Append the second item in each row to the weather list.\n",
    "When complete, weather should contain each value from the Type of Weather column.\n",
    "Hint\n",
    "Use the append() method to add to a list."
   ]
  },
  {
   "cell_type": "code",
   "execution_count": 17,
   "metadata": {},
   "outputs": [
    {
     "name": "stdout",
     "output_type": "stream",
     "text": [
      "['Type of Weather', 'Sunny', 'Sunny', 'Sunny', 'Sunny', 'Sunny', 'Rain', 'Sunny', 'Sunny', 'Fog']\n"
     ]
    }
   ],
   "source": [
    "weather = []\n",
    "\n",
    "for wd in weather_data:\n",
    "    value = wd[0]\n",
    "    weather.append(wd[1])\n",
    "print(weather[0:10])"
   ]
  },
  {
   "cell_type": "markdown",
   "metadata": {},
   "source": [
    "# 3: Counting The Items In A List"
   ]
  },
  {
   "cell_type": "markdown",
   "metadata": {},
   "source": [
    "# Instructions\n",
    "Count the number of items in weather. You can accomplish this by:\n",
    "Looping over each element in weather.\n",
    "Adding 1 to count for each element.\n",
    "When finished, count should equal the number of items in weather.\n",
    "Hint\n",
    "Use a for loop to iterate over weather."
   ]
  },
  {
   "cell_type": "code",
   "execution_count": 19,
   "metadata": {},
   "outputs": [
    {
     "name": "stdout",
     "output_type": "stream",
     "text": [
      "366\n"
     ]
    }
   ],
   "source": [
    "count = 0\n",
    "\n",
    "for w in weather:\n",
    "    count += 1\n",
    "    \n",
    "print(count)"
   ]
  },
  {
   "cell_type": "markdown",
   "metadata": {},
   "source": [
    "# 4: Removing The Header"
   ]
  },
  {
   "cell_type": "markdown",
   "metadata": {},
   "source": [
    "# Instructions\n",
    "Slice the weather list to remove the header.\n",
    "The slice should only remove the first element in the list.\n",
    "Assign the slice to new_weather.\n",
    "Hint\n",
    "Slice from index 1 to index 366. Remember that the second index we specify needs to be greater than the maximum index in the list.\n",
    "\n"
   ]
  },
  {
   "cell_type": "code",
   "execution_count": 36,
   "metadata": {},
   "outputs": [
    {
     "name": "stdout",
     "output_type": "stream",
     "text": [
      "366\n",
      "['Sunny', 'Sunny', 'Sunny', 'Sunny', 'Sunny', 'Rain', 'Sunny', 'Sunny', 'Fog', 'Rain']\n"
     ]
    }
   ],
   "source": [
    "end = len(weather) \n",
    "print(end)\n",
    "new_weather = weather[1:end]\n",
    "print(new_weather[0:10])"
   ]
  },
  {
   "cell_type": "markdown",
   "metadata": {},
   "source": [
    "# 5: The In Statement"
   ]
  },
  {
   "cell_type": "markdown",
   "metadata": {},
   "source": [
    "# Instructions\n",
    "Use the in statement to check whether the value cat is in the list animals, and assign the result to cat_found.\n",
    "Use the in statement to check whether the value space_monster is in the list animals, and assign the result to space_monster_found.\n",
    "Hint\n",
    "10 in animals will check whether the value 10 is in the list animals. a = 10 in animals will assign the Boolean result to the variable a.\n"
   ]
  },
  {
   "cell_type": "code",
   "execution_count": 57,
   "metadata": {},
   "outputs": [],
   "source": [
    "animals = [\"cat\", \"dog\", \"rabbit\", \"horse\", \"giant_horrible_monster\"]"
   ]
  },
  {
   "cell_type": "code",
   "execution_count": 58,
   "metadata": {},
   "outputs": [
    {
     "name": "stdout",
     "output_type": "stream",
     "text": [
      "True\n"
     ]
    }
   ],
   "source": [
    "cat_found = \"cat\" in animals\n",
    "print(cat_found)"
   ]
  },
  {
   "cell_type": "code",
   "execution_count": 60,
   "metadata": {},
   "outputs": [
    {
     "name": "stdout",
     "output_type": "stream",
     "text": [
      "False\n"
     ]
    }
   ],
   "source": [
    "space_monster_found = \"space_monster\" in animals\n",
    "print(space_monster_found)"
   ]
  },
  {
   "cell_type": "code",
   "execution_count": 67,
   "metadata": {},
   "outputs": [
    {
     "name": "stdout",
     "output_type": "stream",
     "text": [
      "[True, True, True, True, True, False]\n"
     ]
    }
   ],
   "source": [
    "weather_types = [\"Rain\", \"Sunny\", \"Fog\", \"Fog-Rain\", \"Thunderstorm\", \"Type of Weather\"]\n",
    "weather_type_found = []\n",
    "\n",
    "for wt in weather_types:\n",
    "    type_found = wt in new_weather\n",
    "    weather_type_found.append(type_found)\n",
    "print(weather_type_found)"
   ]
  }
 ],
 "metadata": {
  "kernelspec": {
   "display_name": "Python 3",
   "language": "python",
   "name": "python3"
  },
  "language_info": {
   "codemirror_mode": {
    "name": "ipython",
    "version": 3
   },
   "file_extension": ".py",
   "mimetype": "text/x-python",
   "name": "python",
   "nbconvert_exporter": "python",
   "pygments_lexer": "ipython3",
   "version": "3.6.1"
  }
 },
 "nbformat": 4,
 "nbformat_minor": 2
}
