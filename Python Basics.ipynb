{
 "cells": [
  {
   "cell_type": "markdown",
   "metadata": {},
   "source": [
    "# 1: Introduction\n",
    "Instructions\n",
    "Add a line of code that assigns the value 123 to the variable china.\n",
    "Add a line of code that assigns the value 124 to the variable india.\n",
    "Add a line of code that assigns the value 134 to the variable united_states.\n",
    "Hint\n",
    "Each variable assignment should be on a separate line."
   ]
  },
  {
   "cell_type": "code",
   "execution_count": null,
   "metadata": {
    "collapsed": true
   },
   "outputs": [],
   "source": [
    "england = 135\n",
    "china = 123\n",
    "india = 124\n",
    "united_states = 134"
   ]
  },
  {
   "cell_type": "markdown",
   "metadata": {},
   "source": [
    "# 2: Display Values Using The Print Function\n",
    "Instructions\n",
    "Add a line of code that uses the print() function to display the value associated with china.\n",
    "Add a line of code that uses the print() function to display the value associated with india.\n",
    "Add a line of code that uses the print() function to display the value associated with united_states.\n",
    "Hint\n",
    "Add your 3 lines of code after the default code so that they're run after the variables have been assigned.\n",
    "To display the value associated with china, type print(china)."
   ]
  },
  {
   "cell_type": "code",
   "execution_count": 2,
   "metadata": {
    "collapsed": false
   },
   "outputs": [
    {
     "name": "stdout",
     "output_type": "stream",
     "text": [
      "123\n",
      "124\n",
      "134\n"
     ]
    }
   ],
   "source": [
    "china = 123\n",
    "india = 124\n",
    "united_states = 134\n",
    "china = 123\n",
    "india = 124\n",
    "united_states = 134\n",
    "print(china)\n",
    "print(india)\n",
    "print(united_states)"
   ]
  },
  {
   "cell_type": "markdown",
   "metadata": {},
   "source": [
    "# 3: Data Types\n",
    "Instructions\n",
    "Assign the string value \"China\" to china_name.\n",
    "Assign the integer value 123 to china_rounded. This is the rounded value for the hottest temperature) ever recorded in China.\n",
    "Assign the float value 122.5 to china_exact. This is the exact value for the hottest temperature ever recorded in China.\n",
    "Use the print() function to display china_name, china_rounded, and china_exact.\n",
    "Note that we're really asking you to display the values associated with these variables but we'll stick to ths shorter wording from now on.\n",
    "Hint\n",
    "Use either single quotes or double quotes when assigning the string \"China\" to the variable china_name."
   ]
  },
  {
   "cell_type": "code",
   "execution_count": 3,
   "metadata": {
    "collapsed": false
   },
   "outputs": [
    {
     "name": "stdout",
     "output_type": "stream",
     "text": [
      "China\n",
      "123\n",
      "122.5\n"
     ]
    }
   ],
   "source": [
    "china_name = \"China\"\n",
    "china_rounded = 123\n",
    "china_exact = 122.5\n",
    "\n",
    "print(china_name)\n",
    "print(china_rounded)\n",
    "print(china_exact)"
   ]
  },
  {
   "cell_type": "markdown",
   "metadata": {},
   "source": [
    "# 4: The Type Function\n",
    "Instructions\n",
    "Display the type for the value associated with china_exact.\n",
    "Hint\n",
    "Make sure you have two trailing parentheses ())) when chaining two functions."
   ]
  },
  {
   "cell_type": "code",
   "execution_count": 4,
   "metadata": {
    "collapsed": false
   },
   "outputs": [
    {
     "name": "stdout",
     "output_type": "stream",
     "text": [
      "<class 'float'>\n"
     ]
    }
   ],
   "source": [
    "china_name = \"China\"\n",
    "china_exact = 122.5\n",
    "print(type(china_exact))"
   ]
  },
  {
   "cell_type": "markdown",
   "metadata": {},
   "source": [
    "# 5: Converting Types\n",
    "Instructions\n",
    "Convert china_rounded to a string and assign to int_to_str.\n",
    "Then, convert int_to_str to an integer and assign the result to str_to_int.\n",
    "Hint\n",
    "Don't forget to convert china_rounded first to a string and assign to int_to_str before trying to convert int_to_str back to a string."
   ]
  },
  {
   "cell_type": "code",
   "execution_count": 7,
   "metadata": {
    "collapsed": false
   },
   "outputs": [],
   "source": [
    "china_rounded = 123\n",
    "int_to_str = str(china_rounded)\n",
    "str_to_int = int(int_to_str)"
   ]
  },
  {
   "cell_type": "code",
   "execution_count": 8,
   "metadata": {
    "collapsed": false
   },
   "outputs": [
    {
     "data": {
      "text/plain": [
       "123"
      ]
     },
     "execution_count": 8,
     "metadata": {},
     "output_type": "execute_result"
    }
   ],
   "source": [
    "str_to_int"
   ]
  },
  {
   "cell_type": "code",
   "execution_count": 9,
   "metadata": {
    "collapsed": false
   },
   "outputs": [
    {
     "data": {
      "text/plain": [
       "'123'"
      ]
     },
     "execution_count": 9,
     "metadata": {},
     "output_type": "execute_result"
    }
   ],
   "source": [
    "int_to_str"
   ]
  },
  {
   "cell_type": "markdown",
   "metadata": {},
   "source": [
    "# 6: Comments\n",
    "Instructions\n",
    "Before each assignment statement, add a single-line comment of your choosing.\n",
    "Hint\n",
    "In this step, we don't perform any strict answer checking and instead encourage you to explore adding comments to the code."
   ]
  },
  {
   "cell_type": "code",
   "execution_count": 11,
   "metadata": {
    "collapsed": true
   },
   "outputs": [],
   "source": [
    "china = 123\n",
    "india = 124\n",
    "united_states = 134\n",
    "# Number one in population\n",
    "china = 123\n",
    "# Number two in population\n",
    "india = 124\n",
    "# Number three in population\n",
    "united_states = 134"
   ]
  },
  {
   "cell_type": "markdown",
   "metadata": {},
   "source": [
    "# 7: Arithmetic Operators\n",
    "Instructions\n",
    "Add the integer value 10 to china and assign the resulting value to the new variable china_plus_10.\n",
    "Multiply united_states by 100 and assign the resulting value to the new variable us_times_100.\n",
    "Display the variables china_plus_10 and us_times_100 using the print() function.\n",
    "Hint\n",
    "Remember to add print() statements only after the assignment statements."
   ]
  },
  {
   "cell_type": "code",
   "execution_count": 12,
   "metadata": {
    "collapsed": false
   },
   "outputs": [
    {
     "name": "stdout",
     "output_type": "stream",
     "text": [
      "133\n",
      "13400\n"
     ]
    }
   ],
   "source": [
    "china_plus_10 = china + 10\n",
    "us_times_100 = united_states * 100\n",
    "print(china_plus_10)\n",
    "print(us_times_100)"
   ]
  },
  {
   "cell_type": "markdown",
   "metadata": {},
   "source": [
    "# 8: Order Of Operations\n",
    "Instructions\n",
    "Subtract 32 from china, multiply the result by the float 0.56, and assign the final result to china_celsius\n",
    "Subtract 32 from india, multiply the result by the float 0.56, and assign the final result to india_celsius.\n",
    "Subtract 32 from united_states, multiply the result by the float 0.56, and assign the final result to us_celsius.\n",
    "Hint\n",
    "Use parentheses when subtracting 32 from each variable."
   ]
  },
  {
   "cell_type": "code",
   "execution_count": 14,
   "metadata": {
    "collapsed": false
   },
   "outputs": [
    {
     "name": "stdout",
     "output_type": "stream",
     "text": [
      "50.96000000000001\n",
      "51.52\n",
      "57.120000000000005\n"
     ]
    }
   ],
   "source": [
    "china = 123\n",
    "india = 124\n",
    "united_states = 134\n",
    "china_celsius = (china - 32) * 0.56\n",
    "india_celsius = (india - 32) * 0.56\n",
    "us_celsius = (united_states - 32) * 0.56\n",
    "print(china_celsius)\n",
    "print(india_celsius)\n",
    "print(us_celsius)"
   ]
  },
  {
   "cell_type": "markdown",
   "metadata": {},
   "source": [
    "# 9: Using A List To Store Multiple Values\n",
    "Instructions\n",
    "Create two empty lists, countries and temperatures.\n",
    "Add the following strings to the list countries, in the following order:\n",
    "\"China\".\n",
    "\"India\".\n",
    "\"United States\".\n",
    "Add the following float values to the list temperatures, in the following order:\n",
    "122.5.\n",
    "124.0.\n",
    "134.1.\n",
    "Use the variables display or the print() function to display the lists.\n",
    "Hint\n",
    "Create both of the empty lists first before adding values to it."
   ]
  },
  {
   "cell_type": "code",
   "execution_count": 15,
   "metadata": {
    "collapsed": false
   },
   "outputs": [
    {
     "name": "stdout",
     "output_type": "stream",
     "text": [
      "['China', 'India', 'United States']\n",
      "[122.5, 124.0, 134.1]\n"
     ]
    }
   ],
   "source": [
    "countries = []\n",
    "temperatures = []\n",
    "countries.append(\"China\")\n",
    "countries.append(\"India\")\n",
    "countries.append(\"United States\")\n",
    "\n",
    "temperatures.append(122.5)\n",
    "temperatures.append(124.0)\n",
    "temperatures.append(134.1)\n",
    "\n",
    "print(countries)\n",
    "print(temperatures)"
   ]
  },
  {
   "cell_type": "markdown",
   "metadata": {},
   "source": [
    "# 10: Creating Lists With Values\n",
    "Instructions\n",
    "Create and populate the list temps with the following values in a single line of code, in the following order:\n",
    "\"China\".\n",
    "122.5.\n",
    "\"India\".\n",
    "124.0.\n",
    "\"United States\".\n",
    "134.1.\n",
    "Hint\n",
    "The order of the values you want the list to have should match the order of values passed into bracket notation."
   ]
  },
  {
   "cell_type": "code",
   "execution_count": 17,
   "metadata": {
    "collapsed": false
   },
   "outputs": [
    {
     "name": "stdout",
     "output_type": "stream",
     "text": [
      "['China', 122.5, 'India', 124.0, 'United States', 134.1]\n"
     ]
    }
   ],
   "source": [
    "temps = [\"China\", 122.5, \"India\", 124.0, \"United States\", 134.1]\n",
    "print(temps)"
   ]
  },
  {
   "cell_type": "markdown",
   "metadata": {},
   "source": [
    "# 11: Accessing Elements In A List\n",
    "Instructions\n",
    "Select the first element from the list countries and assign to the new variable china.\n",
    "Select the first element from the list temperatures and assign to the new variable china_temperature.\n",
    "Hint\n",
    "Because lists are zero-indexed, the first value in a list is at index 0."
   ]
  },
  {
   "cell_type": "code",
   "execution_count": 22,
   "metadata": {
    "collapsed": false
   },
   "outputs": [
    {
     "name": "stdout",
     "output_type": "stream",
     "text": [
      "['China', 'India', 'United States']\n",
      "[122.5, 124.0, 134.1]\n"
     ]
    }
   ],
   "source": [
    "countries = []\n",
    "temperatures = []\n",
    "\n",
    "countries.append(\"China\")\n",
    "countries.append(\"India\")\n",
    "countries.append(\"United States\")\n",
    "\n",
    "temperatures.append(122.5)\n",
    "temperatures.append(124.0)\n",
    "temperatures.append(134.1)\n",
    "\n",
    "countries = []\n",
    "temperatures = []\n",
    "\n",
    "countries.append(\"China\")\n",
    "countries.append(\"India\")\n",
    "countries.append(\"United States\")\n",
    "\n",
    "temperatures.append(122.5)\n",
    "temperatures.append(124.0)\n",
    "temperatures.append(134.1)\n",
    "\n",
    "china = countries[0]\n",
    "china_temperature = temperatures[0]\n",
    "print(countries)\n",
    "print(temperatures)"
   ]
  },
  {
   "cell_type": "markdown",
   "metadata": {},
   "source": [
    "# 12: Retrieving The Length Of A List\n",
    "Instructions\n",
    "Add the lengths of the countries and temperatures list objects and assign the sum to two_sum.\n",
    "Hint\n",
    "Because the len() function returns an integer value, you can add the results of two calls to this function to calculate the sum: len(list_one) + len(list_two)"
   ]
  },
  {
   "cell_type": "code",
   "execution_count": 25,
   "metadata": {
    "collapsed": false
   },
   "outputs": [
    {
     "name": "stdout",
     "output_type": "stream",
     "text": [
      "12\n"
     ]
    }
   ],
   "source": [
    "countries = [\"China\", \"India\", \"United States\", \"Indonesia\", \"Brazil\", \"Pakistan\"]\n",
    "temperatures = [122.5, 124.0, 134.1, 103.1, 112.5, 128.3]\n",
    "two_sum = len(countries) + len(temperatures)\n",
    "print(two_sum)"
   ]
  },
  {
   "cell_type": "markdown",
   "metadata": {},
   "source": [
    "# 13: Slicing Lists\n",
    "Instructions\n",
    "Select the second, third, and fourth elements from countries and assign the resulting list to countries_slice. \n",
    "Select the last three elements in temperatures and assign to temperatures_slice. \n",
    "Hint Because of zero-indexing, the second element is located at index 1 and the fifth element is located at the index 4. \n",
    "For the second task, recall that you can use the len() function to return the number of elements in a list as an integer. \n",
    "Subtract 3 from this integer and set as the starting slice, and the number of elements as the ending slice.\n",
    "\n",
    "\n"
   ]
  },
  {
   "cell_type": "code",
   "execution_count": 30,
   "metadata": {
    "collapsed": false
   },
   "outputs": [
    {
     "name": "stdout",
     "output_type": "stream",
     "text": [
      "[103.1, 112.5, 128.3]\n",
      "6\n"
     ]
    }
   ],
   "source": [
    "countries = [\"China\", \"India\", \"United States\", \"Indonesia\", \"Brazil\", \"Pakistan\"]\n",
    "temperatures = [122.5, 124.0, 134.1, 103.1, 112.5, 128.3]\n",
    "countries_slice = countries[1:4]\n",
    "temp_length = len(temperatures)\n",
    "temperatures_slice = temperatures[len(temperatures)-3:len(temperatures)]\n",
    "print(temperatures_slice)\n",
    "print(temp_length)"
   ]
  },
  {
   "cell_type": "code",
   "execution_count": null,
   "metadata": {
    "collapsed": true
   },
   "outputs": [],
   "source": []
  }
 ],
 "metadata": {
  "kernelspec": {
   "display_name": "Python 3",
   "language": "python",
   "name": "python3"
  },
  "language_info": {
   "codemirror_mode": {
    "name": "ipython",
    "version": 3
   },
   "file_extension": ".py",
   "mimetype": "text/x-python",
   "name": "python",
   "nbconvert_exporter": "python",
   "pygments_lexer": "ipython3",
   "version": "3.5.1"
  }
 },
 "nbformat": 4,
 "nbformat_minor": 0
}
