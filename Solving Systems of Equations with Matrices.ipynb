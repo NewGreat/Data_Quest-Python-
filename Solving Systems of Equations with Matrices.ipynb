{
 "cells": [
  {
   "cell_type": "markdown",
   "metadata": {},
   "source": [
    "# 1. Systems Of Equations As Matrices\n",
    "Instructions Multiply the first row of the matrix by 2.\n",
    "Subtract the second row from the first row.\n",
    "Subtract 3 times the first row from the second row.\n",
    "Finally, divide the second row by 2 to get rid of the coefficient.\n",
    "When you're finished, the first row should indicate that x\n",
    " equals 10\n",
    ", and the second row should indicate that y\n",
    " equals 5\n",
    ". We just solved our equation with matrices!\n",
    "Hint\n",
    "We can do mathematical operations on rows with NumPy. matrix[0] *= 2 multiplies the first row by 2."
   ]
  },
  {
   "cell_type": "code",
   "execution_count": 1,
   "metadata": {
    "collapsed": false
   },
   "outputs": [
    {
     "name": "stdout",
     "output_type": "stream",
     "text": [
      "[[  2.   1.  25.]\n",
      " [  3.   2.  40.]]\n",
      "[[  1.   0.  10.]\n",
      " [  0.   1.   5.]]\n"
     ]
    }
   ],
   "source": [
    "import numpy as np\n",
    "\n",
    "matrix = np.asarray([\n",
    "        [2, 1, 25],\n",
    "        [3, 2, 40]\n",
    "    ], dtype=np.float32)\n",
    "\n",
    "print(matrix)\n",
    "\n",
    "matrix[0] *= 2\n",
    "matrix[0] -= matrix[1]\n",
    "matrix[1] -= (3 * matrix[0])\n",
    "matrix[1] /= 2\n",
    "\n",
    "print(matrix)"
   ]
  },
  {
   "cell_type": "markdown",
   "metadata": {},
   "source": [
    "# 2. Solving More Complex Equations\n",
    "Instructions\n",
    "Solve for x\n",
    ", y\n",
    ", and z\n",
    " in matrix. When you're done, the matrix should look like this, but with the correct answers replacing the question marks\n",
    "You can use print(matrix) to print the matrix out as you solve it and assess your progress.\n",
    "Hint\n",
    "To get started, subtract the first row from the third row."
   ]
  },
  {
   "cell_type": "code",
   "execution_count": 2,
   "metadata": {
    "collapsed": false
   },
   "outputs": [
    {
     "name": "stdout",
     "output_type": "stream",
     "text": [
      "[[  1.   2.   0.   7.]\n",
      " [  0.   3.   3.  11.]\n",
      " [  1.   2.   2.  11.]]\n"
     ]
    }
   ],
   "source": [
    "matrix = np.array([\n",
    "        [1, 2, 0, 7],\n",
    "        [0, 3, 3, 11],\n",
    "        [1, 2, 2, 11]\n",
    "    ], dtype=np.float32)\n",
    "\n",
    "print(matrix)"
   ]
  },
  {
   "cell_type": "code",
   "execution_count": 3,
   "metadata": {
    "collapsed": false
   },
   "outputs": [
    {
     "name": "stdout",
     "output_type": "stream",
     "text": [
      "[[  1.   2.   0.   7.]\n",
      " [  0.   3.   3.  11.]\n",
      " [  0.   0.   2.   4.]]\n"
     ]
    }
   ],
   "source": [
    "matrix[2] -= matrix[0]\n",
    "print(matrix)"
   ]
  },
  {
   "cell_type": "code",
   "execution_count": 4,
   "metadata": {
    "collapsed": false
   },
   "outputs": [
    {
     "name": "stdout",
     "output_type": "stream",
     "text": [
      "[[  1.   2.   0.   7.]\n",
      " [  0.   3.   3.  11.]\n",
      " [  0.   0.   1.   2.]]\n"
     ]
    }
   ],
   "source": [
    "matrix[2] /= 2\n",
    "print(matrix)"
   ]
  },
  {
   "cell_type": "code",
   "execution_count": 5,
   "metadata": {
    "collapsed": false
   },
   "outputs": [
    {
     "name": "stdout",
     "output_type": "stream",
     "text": [
      "[[ 1.  2.  0.  7.]\n",
      " [ 0.  3.  0.  5.]\n",
      " [ 0.  0.  1.  2.]]\n"
     ]
    }
   ],
   "source": [
    "matrix[1] -= (matrix[2] * 3)\n",
    "print(matrix)"
   ]
  },
  {
   "cell_type": "code",
   "execution_count": 6,
   "metadata": {
    "collapsed": false
   },
   "outputs": [
    {
     "name": "stdout",
     "output_type": "stream",
     "text": [
      "[[ 1.          2.          0.          7.        ]\n",
      " [ 0.          1.          0.          1.66666663]\n",
      " [ 0.          0.          1.          2.        ]]\n"
     ]
    }
   ],
   "source": [
    "matrix[1] /= 3\n",
    "print(matrix)"
   ]
  },
  {
   "cell_type": "code",
   "execution_count": 7,
   "metadata": {
    "collapsed": false
   },
   "outputs": [
    {
     "name": "stdout",
     "output_type": "stream",
     "text": [
      "[[ 1.          1.          0.          5.33333349]\n",
      " [ 0.          1.          0.          1.66666663]\n",
      " [ 0.          0.          1.          2.        ]]\n"
     ]
    }
   ],
   "source": [
    "matrix[0] -= matrix[1]\n",
    "print(matrix)"
   ]
  },
  {
   "cell_type": "markdown",
   "metadata": {},
   "source": [
    "# 3. Putting A Matrix Into Echelon Form\n",
    "Instructions Swap rows to get matrix into echelon form.\n",
    "matrix[[0,2]] = matrix[[2,0]] will exchange the first and third rows.\n",
    "Hint\n",
    "Remember that we subtract 1 from the row number to get the NumPy index for the row."
   ]
  },
  {
   "cell_type": "code",
   "execution_count": 8,
   "metadata": {
    "collapsed": false
   },
   "outputs": [
    {
     "name": "stdout",
     "output_type": "stream",
     "text": [
      "[[  0.   0.   0.   7.]\n",
      " [  0.   0.   1.  11.]\n",
      " [  1.   2.   2.  11.]\n",
      " [  0.   5.   5.   1.]]\n"
     ]
    }
   ],
   "source": [
    "matrix = np.array([\n",
    "        [0, 0, 0, 7],\n",
    "        [0, 0, 1, 11],\n",
    "        [1, 2, 2, 11],\n",
    "        [0, 5, 5, 1]\n",
    "    ], dtype=np.float32)\n",
    "\n",
    "print(matrix)"
   ]
  },
  {
   "cell_type": "code",
   "execution_count": 9,
   "metadata": {
    "collapsed": false
   },
   "outputs": [
    {
     "name": "stdout",
     "output_type": "stream",
     "text": [
      "[[  1.   2.   2.  11.]\n",
      " [  0.   0.   1.  11.]\n",
      " [  0.   0.   0.   7.]\n",
      " [  0.   5.   5.   1.]]\n"
     ]
    }
   ],
   "source": [
    "matrix[[0,2]] = matrix[[2,0]]\n",
    "print(matrix)"
   ]
  },
  {
   "cell_type": "code",
   "execution_count": 10,
   "metadata": {
    "collapsed": false
   },
   "outputs": [
    {
     "name": "stdout",
     "output_type": "stream",
     "text": [
      "[[  1.   2.   2.  11.]\n",
      " [  0.   5.   5.   1.]\n",
      " [  0.   0.   0.   7.]\n",
      " [  0.   0.   1.  11.]]\n"
     ]
    }
   ],
   "source": [
    "matrix[[1,3]] = matrix[[3,1]]\n",
    "print(matrix)"
   ]
  },
  {
   "cell_type": "code",
   "execution_count": 11,
   "metadata": {
    "collapsed": false
   },
   "outputs": [
    {
     "name": "stdout",
     "output_type": "stream",
     "text": [
      "[[  1.   2.   2.  11.]\n",
      " [  0.   5.   5.   1.]\n",
      " [  0.   0.   1.  11.]\n",
      " [  0.   0.   0.   7.]]\n"
     ]
    }
   ],
   "source": [
    "matrix[[2,3]] = matrix[[3,2]]\n",
    "print(matrix)"
   ]
  },
  {
   "cell_type": "markdown",
   "metadata": {},
   "source": [
    "# 4. Reduced Row Echelon Form(Demo)"
   ]
  },
  {
   "cell_type": "code",
   "execution_count": 12,
   "metadata": {
    "collapsed": false
   },
   "outputs": [
    {
     "name": "stdout",
     "output_type": "stream",
     "text": [
      "[[ 1.  0.  0.  3.]\n",
      " [ 0.  1.  0.  2.]\n",
      " [ 0.  0.  1.  1.]]\n"
     ]
    }
   ],
   "source": [
    "A = np.asarray([\n",
    "        [0, 2, 1, 5],\n",
    "        [1, 2, 1, 8],\n",
    "        [3, 0, 1, 10],\n",
    "        ], dtype=np.float32)\n",
    "\n",
    "# First, we'll swap the second row with the first to get a non-zero coefficient in the first column\n",
    "A[[0,1]] = A[[1,0]]\n",
    "\n",
    "# The leading coefficient is already 1, so we don't need to divide\n",
    "# Now, we need to make sure that our 1 coefficient is the only coefficient in its column\n",
    "# We have to subtract 3 times the first row from the third row\n",
    "A[2] -= 3 * A[0]\n",
    "\n",
    "# Now, we move to row two\n",
    "# We divide by 2 to get a 1 as the leading coefficient\n",
    "A[1] /= 2\n",
    "\n",
    "# We subtract 2 times the second row from the first to get rid of\n",
    "# the second column coefficient in the first row\n",
    "A[0] -= 2 * A[1]\n",
    "\n",
    "# And we'll add 6 times the second row to the third to eliminate the leading coefficient there\n",
    "A[2] += 6 * A[1]\n",
    "\n",
    "# Now we can move to the third row where the leading coefficient is already 1\n",
    "# We just need to subtract half of the third from the second\n",
    "A[1] -= 0.5 * A[2]\n",
    "\n",
    "# We've solved our system!\n",
    "print(A)"
   ]
  },
  {
   "cell_type": "markdown",
   "metadata": {},
   "source": [
    "# 5. Inconsistent Systems Are Unsolvable\n",
    "Instructions Find whether A is consistent by attempting to convert it to reduced row echelon form.\n",
    "Assign True to A_consistent if it is, and False if it isn't.\n",
    "Find whether B is consistent by attempting to convert it to reduced row echelon form.\n",
    "Assign True to B_consistent if it is, and False if it isn't.\n",
    "Hint\n",
    "You can simplify A and B by trying to make it so that each variable has a 1 in a single row, and a 0 in every other row."
   ]
  },
  {
   "cell_type": "code",
   "execution_count": 13,
   "metadata": {
    "collapsed": false
   },
   "outputs": [
    {
     "name": "stdout",
     "output_type": "stream",
     "text": [
      "[[ 10.   5.  20.  60.]\n",
      " [  3.   1.   0.  11.]\n",
      " [  8.   2.   2.  30.]\n",
      " [  0.   4.   5.  13.]]\n"
     ]
    }
   ],
   "source": [
    "A = np.array([\n",
    "        [10, 5, 20, 60],\n",
    "        [3, 1, 0, 11],\n",
    "        [8, 2, 2, 30],\n",
    "        [0, 4, 5, 13]\n",
    "    ], dtype=np.float32)\n",
    "\n",
    "print(A)"
   ]
  },
  {
   "cell_type": "code",
   "execution_count": 14,
   "metadata": {
    "collapsed": false
   },
   "outputs": [
    {
     "name": "stdout",
     "output_type": "stream",
     "text": [
      "[[  2.   1.   4.  12.]\n",
      " [  3.   1.   0.  11.]\n",
      " [  8.   2.   2.  30.]\n",
      " [  0.   4.   5.  13.]]\n"
     ]
    }
   ],
   "source": [
    "A[0] /= 5\n",
    "\n",
    "print(A)"
   ]
  },
  {
   "cell_type": "code",
   "execution_count": 15,
   "metadata": {
    "collapsed": false
   },
   "outputs": [
    {
     "name": "stdout",
     "output_type": "stream",
     "text": [
      "[[ -1.   0.   4.   1.]\n",
      " [  3.   1.   0.  11.]\n",
      " [  8.   2.   2.  30.]\n",
      " [  0.   4.   5.  13.]]\n"
     ]
    }
   ],
   "source": [
    "A[0] -= A[1]\n",
    "\n",
    "print(A)"
   ]
  },
  {
   "cell_type": "code",
   "execution_count": 16,
   "metadata": {
    "collapsed": false
   },
   "outputs": [
    {
     "name": "stdout",
     "output_type": "stream",
     "text": [
      "[[ -1.   0.   4.   1.]\n",
      " [  6.   2.   0.  22.]\n",
      " [  8.   2.   2.  30.]\n",
      " [  0.   4.   5.  13.]]\n"
     ]
    }
   ],
   "source": [
    "A[1] = (2*A[1])\n",
    "\n",
    "print(A)"
   ]
  },
  {
   "cell_type": "code",
   "execution_count": 17,
   "metadata": {
    "collapsed": false
   },
   "outputs": [
    {
     "name": "stdout",
     "output_type": "stream",
     "text": [
      "[[ -1.   0.   4.   1.]\n",
      " [  6.   2.   0.  22.]\n",
      " [  2.   0.   2.   8.]\n",
      " [  0.   4.   5.  13.]]\n"
     ]
    }
   ],
   "source": [
    "A[2] -= A[1]\n",
    "\n",
    "print(A)"
   ]
  },
  {
   "cell_type": "code",
   "execution_count": 18,
   "metadata": {
    "collapsed": false
   },
   "outputs": [
    {
     "name": "stdout",
     "output_type": "stream",
     "text": [
      "[[ -1.   0.   4.   1.]\n",
      " [  6.   2.   0.  22.]\n",
      " [  4.   0.   4.  16.]\n",
      " [  0.   4.   5.  13.]]\n"
     ]
    }
   ],
   "source": [
    "A[2] = (2*A[2])\n",
    "\n",
    "print(A)"
   ]
  },
  {
   "cell_type": "code",
   "execution_count": 19,
   "metadata": {
    "collapsed": false
   },
   "outputs": [
    {
     "name": "stdout",
     "output_type": "stream",
     "text": [
      "[[ -5.   0.   0. -15.]\n",
      " [  6.   2.   0.  22.]\n",
      " [  4.   0.   4.  16.]\n",
      " [  0.   4.   5.  13.]]\n"
     ]
    }
   ],
   "source": [
    "A[0] -= A[2]\n",
    "\n",
    "print(A)"
   ]
  },
  {
   "cell_type": "code",
   "execution_count": 20,
   "metadata": {
    "collapsed": false
   },
   "outputs": [
    {
     "name": "stdout",
     "output_type": "stream",
     "text": [
      "[[  1.  -0.  -0.   3.]\n",
      " [  6.   2.   0.  22.]\n",
      " [  4.   0.   4.  16.]\n",
      " [  0.   4.   5.  13.]]\n"
     ]
    }
   ],
   "source": [
    "A[0] /= -5\n",
    "\n",
    "print(A)"
   ]
  },
  {
   "cell_type": "code",
   "execution_count": 21,
   "metadata": {
    "collapsed": false
   },
   "outputs": [
    {
     "name": "stdout",
     "output_type": "stream",
     "text": [
      "[[  1.  -0.  -0.   3.]\n",
      " [  6.   2.   0.  22.]\n",
      " [  1.   0.   1.   4.]\n",
      " [  0.   4.   5.  13.]]\n"
     ]
    }
   ],
   "source": [
    "A[2] /= 4\n",
    "\n",
    "print(A)"
   ]
  },
  {
   "cell_type": "code",
   "execution_count": 22,
   "metadata": {
    "collapsed": false
   },
   "outputs": [
    {
     "name": "stdout",
     "output_type": "stream",
     "text": [
      "[[  1.  -0.  -0.   3.]\n",
      " [  6.   2.   0.  22.]\n",
      " [  0.   0.   1.   1.]\n",
      " [  0.   4.   5.  13.]]\n"
     ]
    }
   ],
   "source": [
    "A[2] -= A[0]\n",
    "\n",
    "print(A)"
   ]
  },
  {
   "cell_type": "code",
   "execution_count": 23,
   "metadata": {
    "collapsed": false
   },
   "outputs": [
    {
     "name": "stdout",
     "output_type": "stream",
     "text": [
      "[[  1.  -0.  -0.   3.]\n",
      " [  3.   1.   0.  11.]\n",
      " [  0.   0.   1.   1.]\n",
      " [  0.   4.   5.  13.]]\n"
     ]
    }
   ],
   "source": [
    "A[1] /= 2\n",
    "\n",
    "print(A)"
   ]
  },
  {
   "cell_type": "code",
   "execution_count": 24,
   "metadata": {
    "collapsed": false
   },
   "outputs": [
    {
     "name": "stdout",
     "output_type": "stream",
     "text": [
      "[[  1.  -0.  -0.   3.]\n",
      " [  0.   1.   0.   2.]\n",
      " [  0.   0.   1.   1.]\n",
      " [  0.   4.   5.  13.]]\n"
     ]
    }
   ],
   "source": [
    "A[1] -= (3*A[0])\n",
    "\n",
    "print(A)"
   ]
  },
  {
   "cell_type": "code",
   "execution_count": 25,
   "metadata": {
    "collapsed": false
   },
   "outputs": [
    {
     "name": "stdout",
     "output_type": "stream",
     "text": [
      "[[ 1. -0. -0.  3.]\n",
      " [ 0.  1.  0.  2.]\n",
      " [ 0.  0.  1.  1.]\n",
      " [ 0.  0.  5.  5.]]\n"
     ]
    }
   ],
   "source": [
    "A[3] -= (4*A[1])\n",
    "\n",
    "print(A)"
   ]
  },
  {
   "cell_type": "code",
   "execution_count": 26,
   "metadata": {
    "collapsed": false
   },
   "outputs": [
    {
     "name": "stdout",
     "output_type": "stream",
     "text": [
      "[[ 1. -0. -0.  3.]\n",
      " [ 0.  1.  0.  2.]\n",
      " [ 0.  0.  1.  1.]\n",
      " [ 0.  0.  0.  0.]]\n"
     ]
    }
   ],
   "source": [
    "A[3] -= (5*A[2])\n",
    "\n",
    "print(A)"
   ]
  },
  {
   "cell_type": "code",
   "execution_count": 27,
   "metadata": {
    "collapsed": false
   },
   "outputs": [
    {
     "name": "stdout",
     "output_type": "stream",
     "text": [
      "[[ 1.  1.  0.  5.]\n",
      " [ 0.  1.  0.  2.]\n",
      " [ 0.  0.  1.  1.]\n",
      " [ 0.  0.  0.  0.]]\n"
     ]
    }
   ],
   "source": [
    "A[0] += A[1]\n",
    "\n",
    "print(A)"
   ]
  },
  {
   "cell_type": "code",
   "execution_count": 28,
   "metadata": {
    "collapsed": false
   },
   "outputs": [
    {
     "name": "stdout",
     "output_type": "stream",
     "text": [
      "[[ 1.  0.  0.  3.]\n",
      " [ 0.  1.  0.  2.]\n",
      " [ 0.  0.  1.  1.]\n",
      " [ 0.  0.  0.  0.]]\n"
     ]
    }
   ],
   "source": [
    "A[0] -= A[1]\n",
    "\n",
    "print(A)"
   ]
  },
  {
   "cell_type": "code",
   "execution_count": 29,
   "metadata": {
    "collapsed": true
   },
   "outputs": [],
   "source": [
    "A_consistent = True"
   ]
  },
  {
   "cell_type": "code",
   "execution_count": 30,
   "metadata": {
    "collapsed": false
   },
   "outputs": [
    {
     "name": "stdout",
     "output_type": "stream",
     "text": [
      "[[  5.  -1.   3.  14.]\n",
      " [  0.   1.   2.   8.]\n",
      " [  0.  -2.   5.   1.]\n",
      " [  0.   0.   6.   6.]]\n"
     ]
    }
   ],
   "source": [
    "B = np.array([\n",
    "        [5, -1, 3, 14],\n",
    "        [0, 1, 2, 8],\n",
    "        [0, -2, 5, 1],\n",
    "        [0, 0, 6, 6]\n",
    "    ], dtype=np.float32)\n",
    "\n",
    "print(B)"
   ]
  },
  {
   "cell_type": "code",
   "execution_count": 31,
   "metadata": {
    "collapsed": false
   },
   "outputs": [
    {
     "name": "stdout",
     "output_type": "stream",
     "text": [
      "[[  5.   0.   5.  22.]\n",
      " [  0.   1.   2.   8.]\n",
      " [  0.  -2.   5.   1.]\n",
      " [  0.   0.   6.   6.]]\n"
     ]
    }
   ],
   "source": [
    "B[0] += B[1]\n",
    "\n",
    "print(B)"
   ]
  },
  {
   "cell_type": "code",
   "execution_count": 32,
   "metadata": {
    "collapsed": false
   },
   "outputs": [
    {
     "name": "stdout",
     "output_type": "stream",
     "text": [
      "[[ 1.         0.         1.         4.4000001]\n",
      " [ 0.         1.         2.         8.       ]\n",
      " [ 0.        -2.         5.         1.       ]\n",
      " [ 0.         0.         6.         6.       ]]\n"
     ]
    }
   ],
   "source": [
    "B[0] /= 5\n",
    "\n",
    "print(B)"
   ]
  },
  {
   "cell_type": "code",
   "execution_count": 33,
   "metadata": {
    "collapsed": false
   },
   "outputs": [
    {
     "name": "stdout",
     "output_type": "stream",
     "text": [
      "[[  1.          0.          1.          4.4000001]\n",
      " [  0.          2.          4.         16.       ]\n",
      " [  0.         -2.          5.          1.       ]\n",
      " [  0.          0.          6.          6.       ]]\n"
     ]
    }
   ],
   "source": [
    "B[1] = (2*B[1])\n",
    "\n",
    "print(B)"
   ]
  },
  {
   "cell_type": "code",
   "execution_count": 34,
   "metadata": {
    "collapsed": false
   },
   "outputs": [
    {
     "name": "stdout",
     "output_type": "stream",
     "text": [
      "[[  1.          0.          1.          4.4000001]\n",
      " [  0.          2.          4.         16.       ]\n",
      " [  0.          0.          9.         17.       ]\n",
      " [  0.          0.          6.          6.       ]]\n"
     ]
    }
   ],
   "source": [
    "B[2] += B[1]\n",
    "\n",
    "print(B)"
   ]
  },
  {
   "cell_type": "code",
   "execution_count": 35,
   "metadata": {
    "collapsed": false
   },
   "outputs": [
    {
     "name": "stdout",
     "output_type": "stream",
     "text": [
      "[[  1.          0.          1.          4.4000001]\n",
      " [  0.          1.          2.          8.       ]\n",
      " [  0.          0.          9.         17.       ]\n",
      " [  0.          0.          6.          6.       ]]\n"
     ]
    }
   ],
   "source": [
    "B[1] /= 2\n",
    "\n",
    "print(B)"
   ]
  },
  {
   "cell_type": "code",
   "execution_count": 36,
   "metadata": {
    "collapsed": false
   },
   "outputs": [
    {
     "name": "stdout",
     "output_type": "stream",
     "text": [
      "[[  1.          0.          1.          4.4000001]\n",
      " [  0.          1.          2.          8.       ]\n",
      " [  0.          0.          9.         17.       ]\n",
      " [  0.          0.          1.          1.       ]]\n"
     ]
    }
   ],
   "source": [
    "B[3] /= 6\n",
    "\n",
    "print(B)"
   ]
  },
  {
   "cell_type": "code",
   "execution_count": 37,
   "metadata": {
    "collapsed": false
   },
   "outputs": [
    {
     "name": "stdout",
     "output_type": "stream",
     "text": [
      "[[  1.          0.          0.          3.4000001]\n",
      " [  0.          1.          2.          8.       ]\n",
      " [  0.          0.          9.         17.       ]\n",
      " [  0.          0.          1.          1.       ]]\n"
     ]
    }
   ],
   "source": [
    "B[0] -= B[3]\n",
    "\n",
    "print(B)"
   ]
  },
  {
   "cell_type": "code",
   "execution_count": 38,
   "metadata": {
    "collapsed": false
   },
   "outputs": [
    {
     "name": "stdout",
     "output_type": "stream",
     "text": [
      "[[  1.          0.          0.          3.4000001]\n",
      " [  0.          0.          2.          2.       ]\n",
      " [  0.          0.          9.         17.       ]\n",
      " [  0.          0.          1.          1.       ]]\n"
     ]
    }
   ],
   "source": [
    "B[1] = (2*B[3])\n",
    "\n",
    "print(B)"
   ]
  },
  {
   "cell_type": "code",
   "execution_count": 39,
   "metadata": {
    "collapsed": true
   },
   "outputs": [],
   "source": [
    "B_consistent = False"
   ]
  },
  {
   "cell_type": "markdown",
   "metadata": {
    "collapsed": true
   },
   "source": [
    "# 6. Complex Systems Can Have Infinite Solutions\n",
    "Instructions\n",
    "Check whether A has infinite solutions.\n",
    "If it does, assign True to A_infinite.\n",
    "If it doesn't, False to A_infinite.\n",
    "Check whether B has infinite solutions.\n",
    "If it does, assign True to B_infinite\n",
    "If it doesn't, assign False to B_infinite.\n",
    "Hint\n",
    "You can simplify A and B by trying to make it so that each variable has a 1 in a single row, and a 0 in every other row."
   ]
  },
  {
   "cell_type": "code",
   "execution_count": 86,
   "metadata": {
    "collapsed": false
   },
   "outputs": [],
   "source": [
    "A = np.array([\n",
    "        [2, 4, 8, 20],\n",
    "        [4, 8, 16, 40],\n",
    "        [20, 5, 5, 10]\n",
    "    ], dtype=np.float32)\n",
    "\n"
   ]
  },
  {
   "cell_type": "code",
   "execution_count": 87,
   "metadata": {
    "collapsed": false
   },
   "outputs": [
    {
     "name": "stdout",
     "output_type": "stream",
     "text": [
      "[[  1.   2.   4.  10.]\n",
      " [  4.   8.  16.  40.]\n",
      " [ 20.   5.   5.  10.]]\n"
     ]
    }
   ],
   "source": [
    "A[0] /= 2\n",
    "print(A)"
   ]
  },
  {
   "cell_type": "code",
   "execution_count": 88,
   "metadata": {
    "collapsed": false
   },
   "outputs": [
    {
     "name": "stdout",
     "output_type": "stream",
     "text": [
      "[[  1.   2.   4.  10.]\n",
      " [  1.   2.   4.  10.]\n",
      " [ 20.   5.   5.  10.]]\n"
     ]
    }
   ],
   "source": [
    "A[1] /= 4\n",
    "print(A)"
   ]
  },
  {
   "cell_type": "code",
   "execution_count": 89,
   "metadata": {
    "collapsed": false
   },
   "outputs": [
    {
     "name": "stdout",
     "output_type": "stream",
     "text": [
      "[[  1.   2.   4.  10.]\n",
      " [  1.   2.   4.  10.]\n",
      " [  4.   1.   1.   2.]]\n"
     ]
    }
   ],
   "source": [
    "A[2] /= 5\n",
    "print(A)"
   ]
  },
  {
   "cell_type": "code",
   "execution_count": 90,
   "metadata": {
    "collapsed": false
   },
   "outputs": [
    {
     "name": "stdout",
     "output_type": "stream",
     "text": [
      "[[  1.   2.   4.  10.]\n",
      " [  1.   2.   4.  10.]\n",
      " [  0.  -7. -15. -38.]]\n"
     ]
    }
   ],
   "source": [
    "A[2] -= (4*A[0])\n",
    "print(A)"
   ]
  },
  {
   "cell_type": "code",
   "execution_count": 91,
   "metadata": {
    "collapsed": false
   },
   "outputs": [
    {
     "name": "stdout",
     "output_type": "stream",
     "text": [
      "[[  1.   2.   4.  10.]\n",
      " [  0.   0.   0.   0.]\n",
      " [  0.  -7. -15. -38.]]\n"
     ]
    }
   ],
   "source": [
    "A[1] -= A[0]\n",
    "print(A)"
   ]
  }
 ],
 "metadata": {
  "kernelspec": {
   "display_name": "Python 3",
   "language": "python",
   "name": "python3"
  },
  "language_info": {
   "codemirror_mode": {
    "name": "ipython",
    "version": 3
   },
   "file_extension": ".py",
   "mimetype": "text/x-python",
   "name": "python",
   "nbconvert_exporter": "python",
   "pygments_lexer": "ipython3",
   "version": "3.5.1"
  }
 },
 "nbformat": 4,
 "nbformat_minor": 0
}
