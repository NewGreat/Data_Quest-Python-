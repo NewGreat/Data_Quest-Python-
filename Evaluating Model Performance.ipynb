{
 "cells": [
  {
   "cell_type": "markdown",
   "metadata": {},
   "source": [
    "# 1: Testing Quality Of Predictions"
   ]
  },
  {
   "cell_type": "markdown",
   "metadata": {},
   "source": [
    "# Instructions\n",
    "Within the predict_price function, change the Dataframe that temp_df is assigned to. Change it from dc_listings to train_df, so only the training set is used.\n",
    "Use the Series method apply to pass all of the values in the accommodates column from test_df through the predict_price function.\n",
    "Assign the resulting Series object to the predicted_price column in test_df.\n",
    "Hint\n",
    "Here's how you use the apply method to pass all of the values in the accommodates column through the function: test_df['accommodates'].apply(lambda x: predict_price(x))"
   ]
  },
  {
   "cell_type": "code",
   "execution_count": null,
   "metadata": {},
   "outputs": [],
   "source": [
    "import pandas as pd\n",
    "import numpy as np\n",
    "\n",
    "dc_listings = pd.read_csv('dc_airbnb.csv')\n",
    "stripped_commas = dc_listings['price'].str.replace(',', '')\n",
    "stripped_dollars = dc_listings['price'].str.replace('$', '')\n",
    "dc_listings['price'] = stripped_dollars.astype('float')\n",
    "train_df = dc_listings.iloc[0:2792]\n",
    "test_df = dc_listings.iloc[2792:]\n",
    "\n",
    "def predict_price(new_listings):\n",
    "    temp_df = train_df\n",
    "    temp_df['distance'] = df_test['accommodates'].apply(lambda x : np.abs(x-new_listings))\n",
    "    temp_df = test_df.sort_values('distance')\n",
    "    nearest_neighbours_prices = test_df.iloc[0:5]['price']\n",
    "    predicted_price = nearest_neighbours_prices.mean()\n",
    "    return(predict_price)\n",
    "\n",
    "test_df['predicted_price'] = dc_listings['accommodates'].apply(lambda x : predict_price(x))   "
   ]
  },
  {
   "cell_type": "markdown",
   "metadata": {},
   "source": [
    "# 2: Error Metrics"
   ]
  },
  {
   "cell_type": "markdown",
   "metadata": {},
   "source": [
    "# Instructions\n",
    "Use numpy.absolute() to calculate the mean absolute error between predicted_price and price.\n",
    "Assign the MAE to mae.\n",
    "Hint\n",
    "Subtract the predicted_price column from the price column.\n",
    "Pass in the resulting Series object to the numpy.absolute() function.\n",
    "Use Series.mean() to calculate the mean of the resulting Series object and assign to mae."
   ]
  },
  {
   "cell_type": "code",
   "execution_count": null,
   "metadata": {},
   "outputs": [],
   "source": [
    "test_df['squared_difference'] = np.absolute(test_df['price'] - test_df['predicted_price'])\n",
    "mae = test_df['squared_difference'].mean()\n",
    "print(mae)"
   ]
  },
  {
   "cell_type": "markdown",
   "metadata": {},
   "source": [
    "# 3: Mean Squared Error"
   ]
  },
  {
   "cell_type": "markdown",
   "metadata": {},
   "source": [
    "# Instructions\n",
    "Calculate the MSE value between the predicted_price and price columns and assign to mse.\n",
    "Hint\n",
    "You can use the Series method mean() to calculate the average of the values in a column.\n",
    "\n"
   ]
  },
  {
   "cell_type": "code",
   "execution_count": null,
   "metadata": {
    "collapsed": true
   },
   "outputs": [],
   "source": [
    "mse = np.mean((test_df['predicted_price'] - test_df['price'])**2)"
   ]
  },
  {
   "cell_type": "markdown",
   "metadata": {},
   "source": [
    "# 4: Training Another Model"
   ]
  },
  {
   "cell_type": "markdown",
   "metadata": {},
   "source": [
    "# Instructions\n",
    "Modify the predict_price function below to use the bathrooms column instead of the accommodates column to make predictions.\n",
    "Apply the function to test_df and assign the resulting Series object containing the predicted price values to the predicted_price column in test_df.\n",
    "Calculate the squared error between the price and predicted_price columns in test_df and assign the resulting Series object to the squared_error column in test_df.\n",
    "Calculate the mean of the squared_error column in test_df and assign to mse.\n",
    "Use the print function or the variables inspector to display the MSE value.\n",
    "Hint\n",
    "The only aspect of the function that changes is the logic used to generate the values in the distance column.\n",
    "\n"
   ]
  },
  {
   "cell_type": "code",
   "execution_count": null,
   "metadata": {
    "collapsed": true
   },
   "outputs": [],
   "source": [
    "train_df = dc_listings.iloc[0:2792]\n",
    "test_df = dc_listings.iloc[2792:]\n",
    "\n",
    "def predict_price(new_listing):\n",
    "    temp_df = train_df\n",
    "    temp_df['distance'] = test_df['bathrooms'].apply(lambda x : np.abs(x-new_listing))\n",
    "    temp_df = temp_df.sort_values('distance')\n",
    "    nearest_neighbors_prices = temp_df.iloc[0:5]['price']\n",
    "    predicted_price = nearest_neighbors_prices.mean()\n",
    "    return(predicted_price)\n",
    "\n",
    "test_df['predicted_price'] = test_df['bathrooms'].apply(lambda x : predict_price(x))\n",
    "test_df['squared_error'] = (test_df['predicted_prices'] - test_df['prices'])**(2)\n",
    "mse = test_df['squared_error'].mean()\n",
    "print(mse)"
   ]
  },
  {
   "cell_type": "markdown",
   "metadata": {},
   "source": [
    "# 5: Root Mean Squared Error"
   ]
  },
  {
   "cell_type": "markdown",
   "metadata": {},
   "source": [
    "# Instructions\n",
    "Calculate the RMSE value of the model we trained using the bathrooms column and assign it to rmse.\n",
    "Hint\n",
    "You can either use the NumPy sqrt function or raise the mse value to the 1/2 power using the exponent operator (**)."
   ]
  },
  {
   "cell_type": "code",
   "execution_count": null,
   "metadata": {
    "collapsed": true
   },
   "outputs": [],
   "source": [
    "train_df = dc_listings.iloc[0:2792]\n",
    "test_df = dc_listings.iloc[2792:]\n",
    "\n",
    "def predict_price(new_listing):\n",
    "    temp_df = train_df\n",
    "    temp_df['distance'] = temp_df['bathrooms'].apply(lambda x : np.abs(x - new_listing))\n",
    "    temp_df = temp_df.sort_values('distance')\n",
    "    nearest_neighbors_prices = temp_df.iloc[0:5]['price']\n",
    "    predicted_price = nearest_neighbors_prices.mean()\n",
    "    return(predicted_prices)\n",
    "\n",
    "test_df['predicted_price'] = test_df['bathrooms'].apply(lambda x : predict_price(x))\n",
    "test_df['squared_error'] = (test_df['predicted_price'] - test_df['price']**(2))\n",
    "mse = test_df['squared_error'].mean()\n",
    "rmse = (mse)**(1/2)\n",
    "print(mse)\n",
    "print(rmse)                    "
   ]
  },
  {
   "cell_type": "markdown",
   "metadata": {},
   "source": [
    "# 5: Comparing MAE And RMSE"
   ]
  },
  {
   "cell_type": "code",
   "execution_count": 13,
   "metadata": {
    "collapsed": true
   },
   "outputs": [],
   "source": [
    "errors_one = pd.Series([5, 10, 5, 10, 5, 10, 5, 10, 5, 10, 5, 10, 5, 10, 5, 10, 5, 10])\n",
    "errors_two = pd.Series([5, 10, 5, 10, 5, 10, 5, 10, 5, 10, 5, 10, 5, 10, 5, 10, 5, 1000])"
   ]
  },
  {
   "cell_type": "code",
   "execution_count": 18,
   "metadata": {
    "collapsed": true
   },
   "outputs": [
    {
     "name": "stdout",
     "output_type": "stream",
     "text": [
      "7.5\n",
      "0     0.277778\n",
      "1     0.555556\n",
      "2     0.277778\n",
      "3     0.555556\n",
      "4     0.277778\n",
      "5     0.555556\n",
      "6     0.277778\n",
      "7     0.555556\n",
      "8     0.277778\n",
      "9     0.555556\n",
      "10    0.277778\n",
      "11    0.555556\n",
      "12    0.277778\n",
      "13    0.555556\n",
      "14    0.277778\n",
      "15    0.555556\n",
      "16    0.277778\n",
      "17    0.555556\n",
      "dtype: float64\n"
     ]
    }
   ],
   "source": [
    "mae_one = np.sum(errors_one)/len(errors_one)\n",
    "rmse_one = np.sqrt(errors_one**2)/len(errors_one)\n",
    "print(mae_one)\n",
    "print(rmse_one)"
   ]
  },
  {
   "cell_type": "code",
   "execution_count": 19,
   "metadata": {
    "collapsed": true
   },
   "outputs": [
    {
     "name": "stdout",
     "output_type": "stream",
     "text": [
      "62.5\n",
      "0      0.277778\n",
      "1      0.555556\n",
      "2      0.277778\n",
      "3      0.555556\n",
      "4      0.277778\n",
      "5      0.555556\n",
      "6      0.277778\n",
      "7      0.555556\n",
      "8      0.277778\n",
      "9      0.555556\n",
      "10     0.277778\n",
      "11     0.555556\n",
      "12     0.277778\n",
      "13     0.555556\n",
      "14     0.277778\n",
      "15     0.555556\n",
      "16     0.277778\n",
      "17    55.555556\n",
      "dtype: float64\n"
     ]
    }
   ],
   "source": [
    "mae_two = np.sum(errors_two)/len(errors_two)\n",
    "rmse_two = np.sqrt(errors_two**2)/len(errors_two)\n",
    "print(mae_two)\n",
    "print(rmse_two)"
   ]
  }
 ],
 "metadata": {
  "kernelspec": {
   "display_name": "Python 3",
   "language": "python",
   "name": "python3"
  },
  "language_info": {
   "codemirror_mode": {
    "name": "ipython",
    "version": 3
   },
   "file_extension": ".py",
   "mimetype": "text/x-python",
   "name": "python",
   "nbconvert_exporter": "python",
   "pygments_lexer": "ipython3",
   "version": "3.6.1"
  }
 },
 "nbformat": 4,
 "nbformat_minor": 2
}
