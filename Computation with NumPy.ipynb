{
 "cells": [
  {
   "cell_type": "code",
   "execution_count": 1,
   "metadata": {},
   "outputs": [
    {
     "data": {
      "text/plain": [
       "array([['1986', 'Western Pacific', 'Viet Nam', 'Wine', '0'],\n",
       "       ['1986', 'Americas', 'Uruguay', 'Other', '0.5'],\n",
       "       ['1985', 'Africa', \"Cte d'Ivoire\", 'Wine', '1.62'],\n",
       "       ..., \n",
       "       ['1986', 'Europe', 'Switzerland', 'Spirits', '2.54'],\n",
       "       ['1987', 'Western Pacific', 'Papua New Guinea', 'Other', '0'],\n",
       "       ['1986', 'Africa', 'Swaziland', 'Other', '5.15']], \n",
       "      dtype='<U75')"
      ]
     },
     "execution_count": 1,
     "metadata": {},
     "output_type": "execute_result"
    }
   ],
   "source": [
    "import numpy as np \n",
    "\n",
    "world_alcohol = np.genfromtxt('world_alcohol.csv',dtype=\"U75\", skip_header=1, delimiter=\",\")\n",
    "world_alcohol "
   ]
  },
  {
   "cell_type": "markdown",
   "metadata": {},
   "source": [
    "# 1. Array Comparisons"
   ]
  },
  {
   "cell_type": "markdown",
   "metadata": {},
   "source": [
    "## Instructions\n",
    "The variable world_alcohol already contains the data set we're working with.\n",
    "Extract the third column in world_alcohol, and compare it to the string Canada. Assign the result to countries_canada.\n",
    "Extract the first column in world_alcohol, and compare it to the string 1984. Assign the result to years_1984."
   ]
  },
  {
   "cell_type": "code",
   "execution_count": 2,
   "metadata": {},
   "outputs": [
    {
     "data": {
      "text/plain": [
       "array([False, False, False, ..., False, False, False], dtype=bool)"
      ]
     },
     "execution_count": 2,
     "metadata": {},
     "output_type": "execute_result"
    }
   ],
   "source": [
    "countries_canada = (world_alcohol[:,2] == 'Canada')\n",
    "countries_canada"
   ]
  },
  {
   "cell_type": "code",
   "execution_count": 3,
   "metadata": {},
   "outputs": [
    {
     "data": {
      "text/plain": [
       "array([False, False, False, ..., False, False, False], dtype=bool)"
      ]
     },
     "execution_count": 3,
     "metadata": {},
     "output_type": "execute_result"
    }
   ],
   "source": [
    "years_1984 = (world_alcohol[:, 0] == '1984')\n",
    "years_1984 "
   ]
  },
  {
   "cell_type": "markdown",
   "metadata": {},
   "source": [
    "# 2. Selecting Elements"
   ]
  },
  {
   "cell_type": "markdown",
   "metadata": {},
   "source": [
    "## Instructions\n",
    "Compare the third column of world_alcohol to the string Algeria.\n",
    "Assign the result to country_is_algeria.\n",
    "Select only the rows in world_alcohol where country_is_algeria is True.\n",
    "Assign the result to country_algeria."
   ]
  },
  {
   "cell_type": "code",
   "execution_count": 4,
   "metadata": {},
   "outputs": [
    {
     "name": "stdout",
     "output_type": "stream",
     "text": [
      "[['1984' 'Africa' 'Algeria' 'Spirits' '0.01']\n",
      " ['1987' 'Africa' 'Algeria' 'Beer' '0.17']\n",
      " ['1987' 'Africa' 'Algeria' 'Spirits' '0.01']\n",
      " ['1986' 'Africa' 'Algeria' 'Wine' '0.1']\n",
      " ['1984' 'Africa' 'Algeria' 'Other' '0']\n",
      " ['1989' 'Africa' 'Algeria' 'Beer' '0.16']\n",
      " ['1989' 'Africa' 'Algeria' 'Spirits' '0.01']\n",
      " ['1989' 'Africa' 'Algeria' 'Wine' '0.23']\n",
      " ['1986' 'Africa' 'Algeria' 'Spirits' '0.01']\n",
      " ['1984' 'Africa' 'Algeria' 'Wine' '0.12']\n",
      " ['1985' 'Africa' 'Algeria' 'Beer' '0.19']\n",
      " ['1985' 'Africa' 'Algeria' 'Other' '0']\n",
      " ['1986' 'Africa' 'Algeria' 'Beer' '0.18']\n",
      " ['1985' 'Africa' 'Algeria' 'Wine' '0.11']\n",
      " ['1986' 'Africa' 'Algeria' 'Other' '0']\n",
      " ['1989' 'Africa' 'Algeria' 'Other' '0']\n",
      " ['1987' 'Africa' 'Algeria' 'Other' '0']\n",
      " ['1984' 'Africa' 'Algeria' 'Beer' '0.2']\n",
      " ['1985' 'Africa' 'Algeria' 'Spirits' '0.01']\n",
      " ['1987' 'Africa' 'Algeria' 'Wine' '0.1']]\n"
     ]
    }
   ],
   "source": [
    "country_is_algeria = (world_alcohol[:, 2] == 'Algeria')\n",
    "country_algeria = (world_alcohol[country_is_algeria, :])\n",
    "print(country_algeria)"
   ]
  },
  {
   "cell_type": "markdown",
   "metadata": {},
   "source": [
    "# 3. Comparisons with Multiple Conditions"
   ]
  },
  {
   "cell_type": "markdown",
   "metadata": {},
   "source": [
    "## Instructions\n",
    "Perform a comparison with multiple conditions, and join the conditions with &.\n",
    "Compare the first column of world_alcohol to the string 1986.\n",
    "Compare the third column of world_alcohol to the string Algeria.\n",
    "Enclose each condition in parentheses, and join the conditions with &.\n",
    "Assign the result to is_algeria_and_1986.\n",
    "Use is_algeria_and_1986 to select rows from world_alcohol.\n",
    "Assign the rows that is_algeria_and_1986 selects to rows_with_algeria_and_1986."
   ]
  },
  {
   "cell_type": "code",
   "execution_count": 5,
   "metadata": {},
   "outputs": [
    {
     "name": "stdout",
     "output_type": "stream",
     "text": [
      "[['1986' 'Africa' 'Algeria' 'Wine' '0.1']\n",
      " ['1986' 'Africa' 'Algeria' 'Spirits' '0.01']\n",
      " ['1986' 'Africa' 'Algeria' 'Beer' '0.18']\n",
      " ['1986' 'Africa' 'Algeria' 'Other' '0']]\n"
     ]
    }
   ],
   "source": [
    "is_algeria_and_1986 = (world_alcohol[:,2] == 'Algeria') & (world_alcohol[:,0] == '1986')\n",
    "rows_with_algeria_and_1986 = (world_alcohol[is_algeria_and_1986,:])\n",
    "print(rows_with_algeria_and_1986)"
   ]
  },
  {
   "cell_type": "markdown",
   "metadata": {},
   "source": [
    "# 4. Replacing Values"
   ]
  },
  {
   "cell_type": "markdown",
   "metadata": {},
   "source": [
    "## Instructions\n",
    "Replace all instances of the string 1986 in the first column of world_alcohol with the string 2014.\n",
    "Replace all instances of the string Wine in the fourth column of world_alcohol with the string Grog."
   ]
  },
  {
   "cell_type": "code",
   "execution_count": 6,
   "metadata": {},
   "outputs": [
    {
     "name": "stdout",
     "output_type": "stream",
     "text": [
      "[['2014' 'Western Pacific' 'Viet Nam' 'Wine' '0']\n",
      " ['2014' 'Americas' 'Uruguay' 'Other' '0.5']\n",
      " ['1985' 'Africa' \"Cte d'Ivoire\" 'Wine' '1.62']\n",
      " ..., \n",
      " ['2014' 'Europe' 'Switzerland' 'Spirits' '2.54']\n",
      " ['1987' 'Western Pacific' 'Papua New Guinea' 'Other' '0']\n",
      " ['2014' 'Africa' 'Swaziland' 'Other' '5.15']]\n"
     ]
    }
   ],
   "source": [
    "world_alcohol_1986 = world_alcohol[:, 0] == '1986'\n",
    "world_alcohol[world_alcohol_1986, 0] = '2014'\n",
    "print(world_alcohol)"
   ]
  },
  {
   "cell_type": "code",
   "execution_count": 7,
   "metadata": {},
   "outputs": [
    {
     "name": "stdout",
     "output_type": "stream",
     "text": [
      "[['2014' 'Western Pacific' 'Viet Nam' 'Grog' '0']\n",
      " ['2014' 'Americas' 'Uruguay' 'Other' '0.5']\n",
      " ['1985' 'Africa' \"Cte d'Ivoire\" 'Grog' '1.62']\n",
      " ..., \n",
      " ['2014' 'Europe' 'Switzerland' 'Spirits' '2.54']\n",
      " ['1987' 'Western Pacific' 'Papua New Guinea' 'Other' '0']\n",
      " ['2014' 'Africa' 'Swaziland' 'Other' '5.15']]\n"
     ]
    }
   ],
   "source": [
    "world_alcohol_wine = world_alcohol[:, 3] == 'Wine'\n",
    "world_alcohol[world_alcohol_wine, 3] = 'Grog'\n",
    "print(world_alcohol)"
   ]
  },
  {
   "cell_type": "markdown",
   "metadata": {},
   "source": [
    "# 5. Replacing Empty Strings"
   ]
  },
  {
   "cell_type": "code",
   "execution_count": 8,
   "metadata": {},
   "outputs": [
    {
     "name": "stdout",
     "output_type": "stream",
     "text": [
      "[['2014' 'Western Pacific' 'Viet Nam' 'Grog' '0']\n",
      " ['2014' 'Americas' 'Uruguay' 'Other' '0.5']\n",
      " ['1985' 'Africa' \"Cte d'Ivoire\" 'Grog' '1.62']\n",
      " ..., \n",
      " ['2014' 'Europe' 'Switzerland' 'Spirits' '2.54']\n",
      " ['1987' 'Western Pacific' 'Papua New Guinea' 'Other' '0']\n",
      " ['2014' 'Africa' 'Swaziland' 'Other' '5.15']]\n"
     ]
    }
   ],
   "source": [
    "is_value_empty = world_alcohol[:, 4] == ''\n",
    "world_alcohol[is_value_empty, 4] = '0'\n",
    "print(world_alcohol)"
   ]
  },
  {
   "cell_type": "markdown",
   "metadata": {},
   "source": [
    "# 6. Converting Data Types"
   ]
  },
  {
   "cell_type": "markdown",
   "metadata": {},
   "source": [
    "## Instructions\n",
    "Extract the fifth column from world_alcohol, and assign it to the variable alcohol_consumption.\n",
    "Use the astype() method to convert alcohol_consumption to the float data type."
   ]
  },
  {
   "cell_type": "code",
   "execution_count": 9,
   "metadata": {
    "collapsed": true
   },
   "outputs": [],
   "source": [
    "alcohol_consumption_grog = world_alcohol[:, 4] == 'Grog'\n",
    "world_alcohol[alcohol_consumption_grog, 4] = '0'"
   ]
  },
  {
   "cell_type": "code",
   "execution_count": 10,
   "metadata": {},
   "outputs": [
    {
     "name": "stdout",
     "output_type": "stream",
     "text": [
      "[ 0.    0.5   1.62 ...,  2.54  0.    5.15]\n"
     ]
    }
   ],
   "source": [
    "alcohol_consumption = world_alcohol[:, 4]\n",
    "alcohol_consumption = alcohol_consumption.astype('float')\n",
    "print(alcohol_consumption)"
   ]
  },
  {
   "cell_type": "markdown",
   "metadata": {},
   "source": [
    "# 7. Computing with NumPy"
   ]
  },
  {
   "cell_type": "markdown",
   "metadata": {},
   "source": [
    "## Instructions\n",
    "Use the sum() method to calculate the sum of the values in alcohol_consumption. Assign the result to total_alcohol.\n",
    "Use the mean() method to calculate the average of the values in alcohol_consumption. Assign the result to average_alcohol."
   ]
  },
  {
   "cell_type": "code",
   "execution_count": 11,
   "metadata": {},
   "outputs": [
    {
     "name": "stdout",
     "output_type": "stream",
     "text": [
      "3908.96\n",
      "1.20017193737\n"
     ]
    }
   ],
   "source": [
    "total_alcohol = alcohol_consumption.sum(axis=0)\n",
    "print(total_alcohol)\n",
    "\n",
    "average_alcohol = alcohol_consumption.mean(axis=0)\n",
    "print(average_alcohol)"
   ]
  },
  {
   "cell_type": "markdown",
   "metadata": {},
   "source": [
    "# 8. Total Annual Alcohol Consumption"
   ]
  },
  {
   "cell_type": "markdown",
   "metadata": {},
   "source": [
    "## Instructions\n",
    "Create a matrix called canada_1986 that only contains the rows in world_alcohol where the first column is the string 1986 and the third column is the string Canada.\n",
    "Extract the fifth column of canada_1986, replace any empty strings ('') with the string 0, and convert the column to the float data type. Assign the result to canada_alcohol.\n",
    "Compute the sum of canada_alcohol. Assign the result to total_canadian_drinking."
   ]
  },
  {
   "cell_type": "code",
   "execution_count": 17,
   "metadata": {},
   "outputs": [],
   "source": [
    "is_canada_1986 = (world_alcohol[:,0]=='1986') & (world_alcohol[:,2]=='Canada')\n",
    "canada_1986 = world_alcohol[is_canada_1986,:]\n",
    "\n",
    "canada_alcohol = canada_1986[:, 4] \n",
    "empty_string = canada_alcohol == ''\n",
    "canada_alcohol[empty_string] = '0'\n",
    "canada_alcohol = canada_alcohol.astype(float)\n",
    "\n",
    "total_canadian_drinking = canada_alcohol.sum()"
   ]
  },
  {
   "cell_type": "markdown",
   "metadata": {},
   "source": [
    "# 9. Calculating Consumption for Each Country"
   ]
  },
  {
   "cell_type": "markdown",
   "metadata": {},
   "source": [
    "## Instructions\n",
    "We've assigned the list of all countries to the variable countries.\n",
    "Find the total consumption for each country in countries for the year 1989.\n",
    "Refer to the steps outlined above for help.\n",
    "When you're finished, totals should contain all of the country names as keys, with the corresponding alcohol consumption totals for 1989 as values."
   ]
  },
  {
   "cell_type": "code",
   "execution_count": 18,
   "metadata": {},
   "outputs": [
    {
     "data": {
      "text/plain": [
       "array(['Viet Nam', 'Uruguay', \"Cte d'Ivoire\", ..., 'Switzerland',\n",
       "       'Papua New Guinea', 'Swaziland'], \n",
       "      dtype='<U75')"
      ]
     },
     "execution_count": 18,
     "metadata": {},
     "output_type": "execute_result"
    }
   ],
   "source": [
    "countries = world_alcohol[:, 2]\n",
    "countries "
   ]
  },
  {
   "cell_type": "code",
   "execution_count": 40,
   "metadata": {},
   "outputs": [
    {
     "name": "stdout",
     "output_type": "stream",
     "text": [
      "{'Viet Nam': 2.0999999999999996, 'Uruguay': 0.19, \"Cte d'Ivoire\": 1.02, 'Colombia': 4.7000000000000002, 'Saint Kitts and Nevis': 2.73, 'Guatemala': 4.3600000000000003, 'Mauritius': 5.2799999999999994, 'Angola': 6.6699999999999999, 'Antigua and Barbuda': 7.5300000000000002, 'Nigeria': 5.1999999999999993, 'Botswana': 2.9900000000000002, \"Lao People's Democratic Republic\": 10.91, 'Afghanistan': 1.0700000000000001, 'Guinea-Bissau': 2.6099999999999999, 'Costa Rica': 1.6200000000000001, 'Seychelles': 2.7400000000000002, 'Norway': 8.4900000000000002, 'Kenya': 10.9, 'Myanmar': 1.01, 'Romania': 0.62000000000000011, 'Turkey': 2.1399999999999997, 'Comoros': 6.75, 'Tunisia': 1.6399999999999999, 'United Kingdom of Great Britain and Northern Ireland': 10.34, 'Bahrain': 1.97, 'Italy': 6.9799999999999995, 'Sierra Leone': 3.9999999999999996, 'Micronesia (Federated States of)': 0.83000000000000007, 'Mauritania': 2.4399999999999999, 'Russian Federation': 1.55, 'Egypt': 3.3300000000000001, 'Sweden': 3.6899999999999999, 'Qatar': 6.6299999999999999, 'Burkina Faso': 9.3399999999999999, 'Austria': 6.9299999999999997, 'Czech Republic': 0.92000000000000004, 'Ukraine': 5.8700000000000001, 'China': 2.1499999999999999, 'Lithuania': 7.2400000000000002, 'Zimbabwe': 3.1000000000000001, 'Trinidad and Tobago': 7.04, 'Mexico': 1.21, 'Nicaragua': 10.84, 'Malta': 10.77, 'Switzerland': 4.2000000000000002, 'Finland': 0.45000000000000001, 'Saudi Arabia': 3.04, 'Kuwait': 3.6200000000000001, 'El Salvador': 9.0199999999999996, 'Suriname': 8.2400000000000002, 'Croatia': 1.3300000000000001, 'Somalia': 13.220000000000001, 'Syrian Arab Republic': 0.39000000000000001, 'Iran (Islamic Republic of)': 1.3100000000000001, 'Papua New Guinea': 6.25, 'Libya': 8.8599999999999994, 'Bolivia (Plurinational State of)': 3.8100000000000001, 'Iraq': 2.5899999999999999, 'Namibia': 7.6200000000000001, 'Uganda': 10.91, 'Togo': 6.5399999999999991, 'Madagascar': 3.5499999999999998, 'Mali': 8.3000000000000007, 'Pakistan': 1.3999999999999999, 'Cameroon': 4.1600000000000001, 'Jamaica': 1.1000000000000001, 'Malawi': 1.8700000000000001, 'Netherlands': 4.9499999999999993, 'Ireland': 7.5800000000000001, 'Sri Lanka': 5.3499999999999996, 'Democratic Republic of the Congo': 1.05, 'Bahamas': 6.0, 'Lebanon': 3.9100000000000001, 'Bulgaria': 3.4900000000000002, 'Eritrea': 2.9700000000000002, 'Niger': 6.4199999999999999, 'Luxembourg': 1.5, 'Indonesia': 0.33999999999999997, 'Equatorial Guinea': 3.7500000000000004, \"Democratic People's Republic of Korea\": 8.1899999999999995, 'Chile': 3.4700000000000002, 'Central African Republic': 1.0800000000000001, 'Spain': 12.800000000000001, 'Gambia': 8.1300000000000008, 'Ghana': 0.79000000000000004, 'Brazil': 13.359999999999999, 'Portugal': 2.3399999999999999, 'Burundi': 8.0500000000000007, 'Belgium': 7.4399999999999995, 'Paraguay': 9.3500000000000014, 'Hungary': 6.4799999999999995, 'Greece': 2.71, 'India': 1.46, 'Kyrgyzstan': 2.9500000000000002, 'France': 8.7100000000000009, 'Zambia': 0.01, 'Israel': 2.48, 'Swaziland': 7.0899999999999999, 'Canada': 0.60999999999999999, 'Cambodia': 2.7000000000000002, 'Cabo Verde': 7.4500000000000002, 'United Arab Emirates': 5.2300000000000004, 'Peru': 11.49, 'Solomon Islands': 17.41, 'United Republic of Tanzania': 2.8299999999999996, 'Chad': 10.09, 'Cuba': 5.3799999999999999, 'Guyana': 4.6299999999999999, 'Mongolia': 1.78, 'Australia': 11.94, 'Sao Tome and Principe': 2.0299999999999998, 'Slovenia': 2.1799999999999997, 'Benin': 3.7199999999999998, 'Algeria': 5.6800000000000006, 'Venezuela (Bolivarian Republic of)': 8.4000000000000004, 'Ecuador': 10.850000000000001, 'Iceland': 1.1299999999999999, 'Liberia': 6.2400000000000002, 'Yemen': 2.4899999999999998, 'Sudan': 6.1099999999999994, 'Belarus': 5.2599999999999998, 'Cyprus': 0.0, 'United States of America': 7.1299999999999999, 'Vanuatu': 0.34000000000000002, 'Bangladesh': 1.1200000000000001, 'Philippines': 5.0799999999999992, 'Slovakia': 14.23, 'Poland': 1.9399999999999999, 'Senegal': 13.25, 'Honduras': 2.0899999999999999, 'Bhutan': 4.1499999999999995, 'Fiji': 1.48, 'Belize': 10.920000000000002, 'Lesotho': 4.2399999999999993, 'Singapore': 0.71999999999999997, 'Guinea': 6.3300000000000001, 'Brunei Darussalam': 2.04, 'Congo': 0.0, 'Thailand': 7.1199999999999992, 'Djibouti': 2.96, 'Gabon': 1.5800000000000001, 'Dominican Republic': 8.75, 'Morocco': 3.6299999999999999, 'New Zealand': 3.71, 'Denmark': 1.51, 'Samoa': 5.46, 'Argentina': 2.6299999999999999, 'Oman': 3.9100000000000001, 'Kiribati': 1.7200000000000002, 'Albania': 8.6500000000000004, 'Nepal': 3.0199999999999996, 'Malaysia': 10.859999999999999, 'Latvia': 7.2600000000000007, 'Haiti': 2.0999999999999996, 'South Africa': 2.5699999999999998, 'Republic of Korea': 0.32000000000000001, 'Japan': 1.3400000000000001, 'Mozambique': 5.0999999999999996, 'Ethiopia': 2.02, 'Panama': 1.8899999999999999, 'Germany': 0.0, 'Saint Lucia': 7.8100000000000005, 'Rwanda': 0.65000000000000002, 'Jordan': 2.8600000000000003}\n"
     ]
    },
    {
     "name": "stderr",
     "output_type": "stream",
     "text": [
      "/Users/martinhewing/anaconda/lib/python3.6/site-packages/ipykernel_launcher.py:8: VisibleDeprecationWarning: boolean index did not match indexed array along dimension 0; dimension is 3257 but corresponding boolean dimension is 655\n",
      "  \n"
     ]
    }
   ],
   "source": [
    "totals = {}\n",
    "\n",
    "is_year = world_alcohol[:, 0] == '1989'\n",
    "year = world_alcohol[is_year, :]\n",
    "\n",
    "for country in countries:\n",
    "    is_country = year[:,2] == country\n",
    "    country_consumption = world_alcohol[is_country, :]\n",
    "    alcohol_column = country_consumption[:, 4]\n",
    "    empty_string = alcohol_column == ''\n",
    "    alcohol_column[empty_string] = '0'\n",
    "    alcohol_column = alcohol_column.astype(float)\n",
    "    totals[country] = alcohol_column.sum()\n",
    "print(totals)"
   ]
  },
  {
   "cell_type": "markdown",
   "metadata": {
    "collapsed": true
   },
   "source": [
    "# 10. Finding the Country that Drinks the Most"
   ]
  },
  {
   "cell_type": "code",
   "execution_count": 48,
   "metadata": {},
   "outputs": [
    {
     "name": "stdout",
     "output_type": "stream",
     "text": [
      "Solomon Islands\n"
     ]
    }
   ],
   "source": [
    "highest_value = 0\n",
    "highest_key = None\n",
    "\n",
    "for country in totals:\n",
    "    consumption = totals[country]\n",
    "    if highest_value < consumption:\n",
    "        highest_value = consumption\n",
    "        highest_key = country\n",
    "print(highest_key)       "
   ]
  },
  {
   "cell_type": "code",
   "execution_count": null,
   "metadata": {
    "collapsed": true
   },
   "outputs": [],
   "source": []
  }
 ],
 "metadata": {
  "kernelspec": {
   "display_name": "Python 3",
   "language": "python",
   "name": "python3"
  },
  "language_info": {
   "codemirror_mode": {
    "name": "ipython",
    "version": 3
   },
   "file_extension": ".py",
   "mimetype": "text/x-python",
   "name": "python",
   "nbconvert_exporter": "python",
   "pygments_lexer": "ipython3",
   "version": "3.6.1"
  }
 },
 "nbformat": 4,
 "nbformat_minor": 2
}
